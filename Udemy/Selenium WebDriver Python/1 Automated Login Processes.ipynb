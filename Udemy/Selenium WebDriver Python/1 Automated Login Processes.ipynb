{
 "cells": [
  {
   "attachments": {},
   "cell_type": "markdown",
   "metadata": {},
   "source": [
    "Web For Test: [Test login](https://practicetestautomation.com/practice-test-login/)"
   ]
  },
  {
   "attachments": {},
   "cell_type": "markdown",
   "metadata": {},
   "source": [
    "## Test case 1: Positive LogIn test\n",
    "1. Open page\n",
    "2.  Type username **student** into Username field\n",
    "3.  Type password **Password123** into Password field\n",
    "4.  Hit **Submit** button\n",
    "5.  Verify new page URL contains ***practicetestautomation.com/logged-in-successfully/***\n",
    "6. Verify new page contains expected text (*'Congratulations' or 'successfully logged in'*)\n",
    "7. Verify button **Log out** is displayed on the new page"
   ]
  },
  {
   "attachments": {},
   "cell_type": "markdown",
   "metadata": {},
   "source": [
    "## Test case 2: Negative username test\n",
    "1. Open page\n",
    "2. Type username ***incorrectUser*** into Username field\n",
    "3. Type password ***Password123*** into Password field\n",
    "4. Hit ***Submit*** button\n",
    "5. Verify error message is displayed\n",
    "6. Verify error message text is ***Your username is invalid!***"
   ]
  },
  {
   "attachments": {},
   "cell_type": "markdown",
   "metadata": {},
   "source": [
    "## Test case 3: Negative password test\n",
    "1. Open page\n",
    "2. Type username ***student*** into Username field\n",
    "3. Type password ***incorrectpass*** into Password field\n",
    "4. Hit ***Submit*** button\n",
    "5. Verify error message is displayed\n",
    "6. Verify error message text is ***Your password is invalid!***"
   ]
  }
 ],
 "metadata": {
  "language_info": {
   "name": "python"
  },
  "orig_nbformat": 4
 },
 "nbformat": 4,
 "nbformat_minor": 2
}
