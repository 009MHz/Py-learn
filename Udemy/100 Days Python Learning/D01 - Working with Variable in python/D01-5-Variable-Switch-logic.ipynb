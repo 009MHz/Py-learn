{
 "cells": [
  {
   "cell_type": "markdown",
   "id": "b8502317-2536-4a07-9905-162c9a85c84c",
   "metadata": {},
   "source": [
    "## Concept:\n",
    "- a adalah segelas teh\n",
    "- b adalah secangkir kopi\n",
    "*Bagaimanakah cara menukar isi nya dengan alat yang sama?*"
   ]
  },
  {
   "cell_type": "code",
   "execution_count": 1,
   "id": "5d12db88-3dec-4395-b4c3-a874df522a8d",
   "metadata": {},
   "outputs": [
    {
     "name": "stdin",
     "output_type": "stream",
     "text": [
      "a:  tea\n",
      "b:  coffe\n"
     ]
    }
   ],
   "source": [
    "a = input(\"a: \") # segelas teh\n",
    "b = input(\"b: \") # secangkir kopi"
   ]
  },
  {
   "cell_type": "markdown",
   "id": "b98bb8e1-029e-4579-9f71-4ce90b8644a5",
   "metadata": {},
   "source": [
    "Untuk menukarnya, kita perlu wadah sementara supaya bisa menampung item yg dipindah dulu\n",
    "*(dalam hal ini, item 'c')*"
   ]
  },
  {
   "cell_type": "code",
   "execution_count": 2,
   "id": "3bd978fc-a578-4aff-bbef-e2bce98d7c7c",
   "metadata": {},
   "outputs": [],
   "source": [
    "c = a # item 'c' akan mengambil isi dari gelas teh 'a'\n",
    "a = b # gelas a yang kosong akan mengambil isi dari cangkir kopi 'b'\n",
    "b = c #cangkir 'b' akan mengambil kembali isi teh yang dipindah ke tempat 'c'"
   ]
  },
  {
   "cell_type": "code",
   "execution_count": 3,
   "id": "76def386-33b7-4a7d-93b3-cbe1caaf2039",
   "metadata": {},
   "outputs": [
    {
     "name": "stdout",
     "output_type": "stream",
     "text": [
      "a: coffe\n",
      "b: tea\n"
     ]
    }
   ],
   "source": [
    "print(\"a: \" + a)\n",
    "print(\"b: \" + b)"
   ]
  }
 ],
 "metadata": {
  "kernelspec": {
   "display_name": "Python 3 (ipykernel)",
   "language": "python",
   "name": "python3"
  },
  "language_info": {
   "codemirror_mode": {
    "name": "ipython",
    "version": 3
   },
   "file_extension": ".py",
   "mimetype": "text/x-python",
   "name": "python",
   "nbconvert_exporter": "python",
   "pygments_lexer": "ipython3",
   "version": "3.9.7"
  }
 },
 "nbformat": 4,
 "nbformat_minor": 5
}
