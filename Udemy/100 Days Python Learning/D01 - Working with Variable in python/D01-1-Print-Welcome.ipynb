{
 "cells": [
  {
   "cell_type": "markdown",
   "id": "3556b1f7-86dd-4094-a83b-9fc438466af9",
   "metadata": {},
   "source": [
    "- comand yang digunakan adalah <font color = violet>***print()*** </font> function\n",
    "- print-> untuk menuliskan string [teks yang berada di antara quotations (\" \" atau ' ') di dalam parenthesis()]\n"
   ]
  },
  {
   "cell_type": "code",
   "execution_count": null,
   "id": "a084e551-4d34-4085-906a-398b6f5adb6d",
   "metadata": {},
   "outputs": [],
   "source": [
    "# Write your code below this line 👇\n",
    "\n",
    "\n",
    "print(\"This is the lesson day 1, yang keluar di console adalah teks dalam kurung ini!!\")"
   ]
  },
  {
   "cell_type": "markdown",
   "id": "c685fe72-03eb-4950-81f9-4c348d33d962",
   "metadata": {},
   "source": [
    "- jika ada kesalahan akan keluar text merah pada console\n",
    "- Cukup di google pada line error nya, e.g: #SyntaxError: EOL while scanning string literal\n",
    "- di table ini perhatikan warna text di atas, string->orange, tutup kurung -> putih"
   ]
  }
 ],
 "metadata": {
  "kernelspec": {
   "display_name": "Python 3 (ipykernel)",
   "language": "python",
   "name": "python3"
  },
  "language_info": {
   "codemirror_mode": {
    "name": "ipython",
    "version": 3
   },
   "file_extension": ".py",
   "mimetype": "text/x-python",
   "name": "python",
   "nbconvert_exporter": "python",
   "pygments_lexer": "ipython3",
   "version": "3.9.7"
  }
 },
 "nbformat": 4,
 "nbformat_minor": 5
}
