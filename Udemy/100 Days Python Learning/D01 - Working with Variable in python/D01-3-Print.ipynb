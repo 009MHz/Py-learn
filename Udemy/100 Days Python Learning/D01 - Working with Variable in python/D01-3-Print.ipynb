{
 "cells": [
  {
   "cell_type": "code",
   "execution_count": null,
   "id": "896cdea9-9b39-4f98-921b-20d02092a37b",
   "metadata": {},
   "outputs": [],
   "source": [
    "print(\"What is your name?\")\n",
    "input(\"What is your name?\")"
   ]
  },
  {
   "cell_type": "markdown",
   "id": "11e6e517-5823-4a87-8c23-9349e007638c",
   "metadata": {},
   "source": [
    "### Beda dari kedua command adalah adanya teks highlight di bagian console\n",
    "- ***input*** memberikan teks highlight yang membuat kita bisa memberikan respnse di bagian console\n",
    "    - function -> input(\"Prompt for user\")"
   ]
  },
  {
   "cell_type": "code",
   "execution_count": null,
   "id": "02b5c055-cbbf-4a8c-86cd-bea97bc506b0",
   "metadata": {},
   "outputs": [],
   "source": [
    "print(\"Hello \"+ input(\"What is your name? \"))"
   ]
  },
  {
   "cell_type": "markdown",
   "id": "40b65fca-9ae0-4a5f-b584-cc6923dbce0f",
   "metadata": {},
   "source": [
    "Urutan yang akan diexecute adalah command kanan dulu setelah di enter akan ada respon lanjutan berupa Hello di command print + nama yang sudah diberikan setelah prompt di console"
   ]
  }
 ],
 "metadata": {
  "kernelspec": {
   "display_name": "Python 3 (ipykernel)",
   "language": "python",
   "name": "python3"
  },
  "language_info": {
   "codemirror_mode": {
    "name": "ipython",
    "version": 3
   },
   "file_extension": ".py",
   "mimetype": "text/x-python",
   "name": "python",
   "nbconvert_exporter": "python",
   "pygments_lexer": "ipython3",
   "version": "3.9.7"
  }
 },
 "nbformat": 4,
 "nbformat_minor": 5
}
