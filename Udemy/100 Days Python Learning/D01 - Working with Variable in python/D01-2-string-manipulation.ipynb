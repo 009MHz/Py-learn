{
 "cells": [
  {
   "cell_type": "markdown",
   "id": "e784d111-e480-405f-b98a-6ddb64d1d66d",
   "metadata": {},
   "source": [
    "### Fix the code below 👇"
   ]
  },
  {
   "cell_type": "code",
   "execution_count": null,
   "id": "ca04b394-a1de-45c4-8c20-3bc2ab4c991a",
   "metadata": {},
   "outputs": [],
   "source": [
    "print(Day 1 - String Manipulation\")\n",
    "  print('e.g. print(\"Hello \" + \"world\")')\n",
    "print((\"New lines can be created with a backslash and n.\")\n",
    "print(\"String Concatenation is done with the \"+\" sign.\")"
   ]
  },
  {
   "cell_type": "markdown",
   "id": "98b6f676-1b0c-4bc6-b13f-502edd3b966f",
   "metadata": {},
   "source": [
    "- case 1: <font color = crimson>*SyntaxError:*</font> *invalid syntax* -> tidak ada \" (quote) di string sebelum Day 1\n",
    "- case 2: <font color = crimson>*IndentationError:*</font> *unexpected indent* -> ada spasi / tab sebelum command print\n",
    "- case 3: <font color = crimson>*SyntaxError:*</font> *unexpected EOF while parsing -> ada double open parenthesis setelah print command\n",
    "- case 4: tidak ada error tapi setelah di run, \"+\" nya tidak muncul di console karena quotation nya harus berbeda antara text yg di highlight dan pengubah string (setelah parenthesis)"
   ]
  }
 ],
 "metadata": {
  "kernelspec": {
   "display_name": "Python 3 (ipykernel)",
   "language": "python",
   "name": "python3"
  },
  "language_info": {
   "codemirror_mode": {
    "name": "ipython",
    "version": 3
   },
   "file_extension": ".py",
   "mimetype": "text/x-python",
   "name": "python",
   "nbconvert_exporter": "python",
   "pygments_lexer": "ipython3",
   "version": "3.9.7"
  }
 },
 "nbformat": 4,
 "nbformat_minor": 5
}
