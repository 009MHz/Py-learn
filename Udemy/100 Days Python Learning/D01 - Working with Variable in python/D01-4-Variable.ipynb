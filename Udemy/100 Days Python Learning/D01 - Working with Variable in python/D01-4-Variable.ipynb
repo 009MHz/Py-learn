{
 "cells": [
  {
   "cell_type": "code",
   "execution_count": null,
   "id": "e6f0a871-114d-4cbd-9f21-1cd8c7e87611",
   "metadata": {},
   "outputs": [],
   "source": [
    "input(\"What is your name?\")\n",
    "name = input(\"What is your name? \") \"name\" digunakan sebagai variable A\n",
    "print(name) # command dipakai untuk mengambil data dari variable A (hasil dari line 2)dan tidak perlu melakukan penulisan satu per satu"
   ]
  },
  {
   "cell_type": "code",
   "execution_count": null,
   "id": "40d99e4c-7422-43a2-a72a-0fd807f3ff3b",
   "metadata": {},
   "outputs": [],
   "source": [
    "name = \"Hazeya\"\n",
    "print(name)"
   ]
  },
  {
   "cell_type": "code",
   "execution_count": null,
   "id": "e24f87c5-f25f-420c-8323-900ccb9557bc",
   "metadata": {},
   "outputs": [],
   "source": [
    "name = \"Renata\"\n",
    "print(name)"
   ]
  },
  {
   "cell_type": "code",
   "execution_count": null,
   "id": "780d8034-0f1a-45cd-8204-e66f87183123",
   "metadata": {},
   "outputs": [],
   "source": [
    "print(len(input(\"What is your name? \")))"
   ]
  },
  {
   "cell_type": "code",
   "execution_count": null,
   "id": "fd49c1ae-a9e9-4aad-96af-0afcad1adcfc",
   "metadata": {},
   "outputs": [],
   "source": [
    "name = \"Jack\"\n",
    "print(name)"
   ]
  },
  {
   "cell_type": "code",
   "execution_count": null,
   "id": "7c52ffb4-e0d1-4b2c-a957-9b85611e30a7",
   "metadata": {},
   "outputs": [],
   "source": [
    "name = \"Angela\"\n",
    "print(name)"
   ]
  },
  {
   "cell_type": "markdown",
   "id": "d52eceae-6bb5-44a3-8287-ae18d056b5c7",
   "metadata": {},
   "source": [
    "Dari function ini "
   ]
  },
  {
   "cell_type": "code",
   "execution_count": null,
   "id": "61f626f7-a9bf-46a5-b28a-ad04f3ab91ad",
   "metadata": {},
   "outputs": [],
   "source": [
    "print(len(input(\"What is your name? \")))"
   ]
  },
  {
   "cell_type": "markdown",
   "id": "736a5c46-1bf4-443a-8ee5-d2a2285a746c",
   "metadata": {},
   "source": [
    "bisa dipersingkat menjadi beberapa variable seperti di bawah"
   ]
  },
  {
   "cell_type": "code",
   "execution_count": null,
   "id": "a1b912eb-da43-4515-be74-ebcad53471b7",
   "metadata": {},
   "outputs": [],
   "source": [
    "name = input(\"What is your name?\") # name: variable A\n",
    "length = len(name)\n",
    "# length: variable B\n",
    "# command len menghitung jumlah dari (variable A)\n",
    "print(length)"
   ]
  },
  {
   "cell_type": "markdown",
   "id": "b8f1d304-85a6-4867-8cf0-49fcccd5ba53",
   "metadata": {},
   "source": [
    "- dan yang terakhir akan menulis result dari variable B *(hasil perhitungan isi dari variable A)*\n",
    "- berbeda dari code yang dijejer sekaligus, code type ini akan mengeksekusi order dari atas ke bawah bisa digunakan ketika code yang ditulis terlalu banyak"
   ]
  }
 ],
 "metadata": {
  "kernelspec": {
   "display_name": "Python 3 (ipykernel)",
   "language": "python",
   "name": "python3"
  },
  "language_info": {
   "codemirror_mode": {
    "name": "ipython",
    "version": 3
   },
   "file_extension": ".py",
   "mimetype": "text/x-python",
   "name": "python",
   "nbconvert_exporter": "python",
   "pygments_lexer": "ipython3",
   "version": "3.9.7"
  }
 },
 "nbformat": 4,
 "nbformat_minor": 5
}
