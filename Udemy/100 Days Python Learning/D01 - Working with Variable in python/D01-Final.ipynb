{
 "cells": [
  {
   "cell_type": "markdown",
   "id": "3a74ec9a-e707-42b9-a215-967a88c42924",
   "metadata": {},
   "source": [
    "1. Create a greeting for your program."
   ]
  },
  {
   "cell_type": "code",
   "execution_count": null,
   "id": "647f37f4-2e5d-4d2f-8b28-366154950e2b",
   "metadata": {},
   "outputs": [],
   "source": [
    "print(\"Hi, this is the Band Generator.\")"
   ]
  },
  {
   "cell_type": "markdown",
   "id": "cc1e6a8b-b8d7-48dd-bcb2-0fae627f6cd0",
   "metadata": {},
   "source": [
    "2. Ask the user for the city that they grew up in."
   ]
  },
  {
   "cell_type": "code",
   "execution_count": null,
   "id": "05f87835-4727-4528-a326-e67682222695",
   "metadata": {},
   "outputs": [],
   "source": [
    "city = input(\"Where are you at?\\n\")"
   ]
  },
  {
   "cell_type": "markdown",
   "id": "2e065825-6910-4d7e-878d-e1d7fbec00bd",
   "metadata": {},
   "source": [
    "3. Ask the user for the name of a pet."
   ]
  },
  {
   "cell_type": "code",
   "execution_count": null,
   "id": "79c5f1bf-7746-43dd-bcc9-69a304ce34b6",
   "metadata": {},
   "outputs": [],
   "source": [
    "pet = input(\"What is your pet name?\\n\")"
   ]
  },
  {
   "cell_type": "markdown",
   "id": "12d527a5-fe02-4f7f-b168-4391cfc6c7f5",
   "metadata": {},
   "source": [
    "4. Combine the name of their city and pet and show them their band name."
   ]
  },
  {
   "cell_type": "code",
   "execution_count": null,
   "id": "0a3de9b7-7f09-4535-b403-a94c24561906",
   "metadata": {},
   "outputs": [],
   "source": [
    "print(\"Your band would be called as \" + city + \" \" + pet)"
   ]
  },
  {
   "cell_type": "markdown",
   "id": "161b18fc-0ea6-4745-812f-a30019953dbe",
   "metadata": {},
   "source": [
    "source: https://replit.com/@appbrewery/band-name-generator-end"
   ]
  }
 ],
 "metadata": {
  "kernelspec": {
   "display_name": "Python 3 (ipykernel)",
   "language": "python",
   "name": "python3"
  },
  "language_info": {
   "codemirror_mode": {
    "name": "ipython",
    "version": 3
   },
   "file_extension": ".py",
   "mimetype": "text/x-python",
   "name": "python",
   "nbconvert_exporter": "python",
   "pygments_lexer": "ipython3",
   "version": "3.9.7"
  }
 },
 "nbformat": 4,
 "nbformat_minor": 5
}
