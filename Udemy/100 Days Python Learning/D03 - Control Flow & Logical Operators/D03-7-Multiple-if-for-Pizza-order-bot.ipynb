{
 "cells": [
  {
   "cell_type": "markdown",
   "id": "b74dd18e-0606-471d-81b1-21496abddbeb",
   "metadata": {},
   "source": [
    "### Concept:\n",
    "- Implementing multiple prompt\n",
    "- Implementing nested if to check the user order based on prompt"
   ]
  },
  {
   "cell_type": "code",
   "execution_count": null,
   "id": "1d95fbfa-25f2-4a6d-a202-da8506d72da8",
   "metadata": {},
   "outputs": [],
   "source": [
    "# Don't change the code below on this cell\n",
    "print(\"Welcome to Python Pizza Deliveries!\")\n",
    "size = input(\"What size pizza do you want? S, M, or L? \")\n",
    "add_pepperoni = input(\"Do you want pepperoni? Y or N? \")\n",
    "extra_cheese = input(\"Do you want extra cheese? Y or N? \")"
   ]
  },
  {
   "cell_type": "markdown",
   "id": "911b105f-d636-4e7b-afd6-7349b4762a96",
   "metadata": {},
   "source": [
    "Approaches:"
   ]
  },
  {
   "cell_type": "code",
   "execution_count": null,
   "id": "2851b57b-1507-4db9-b7b7-045ecc9298c3",
   "metadata": {},
   "outputs": [],
   "source": [
    "bill = 0\n",
    "if size == \"S\":\n",
    "    bill = 15\n",
    "    if add_pepperoni == \"Y\":\n",
    "    bill += 2\n",
    "\n",
    "    elif size == \"M\":\n",
    "        bill = 20\n",
    "        if add_pepperoni == \"Y\":\n",
    "            bill += 3\n",
    "\n",
    "    elif size == \"L\":\n",
    "        bill = 25\n",
    "        if add_pepperoni == \"Y\":\n",
    "            bill += 3\n",
    "\n",
    "    if extra_cheese == \"Y\":\n",
    "        bill += 1\n",
    "\n",
    "print(f\"Your final bill is $ {bill}.\")"
   ]
  },
  {
   "cell_type": "markdown",
   "id": "d08db48d-7fc4-47bd-ab73-3fe7c0230ae7",
   "metadata": {},
   "source": [
    "Course Approaches:"
   ]
  },
  {
   "cell_type": "code",
   "execution_count": null,
   "id": "d4701440-4199-4a37-87cf-5ce69eb1e5e1",
   "metadata": {},
   "outputs": [],
   "source": [
    "if size == \"S\":\n",
    "    bill += 15\n",
    "elif size == \"M\":\n",
    "    bill += 20\n",
    "else:\n",
    "    bill += 25\n",
    "\n",
    "if add_pepperoni == \"Y\":\n",
    "    if size == \"S\":\n",
    "        bill += 2\n",
    "    else:\n",
    "        bill += 3\n",
    "\n",
    "if extra_cheese == \"Y\":\n",
    "    bill += 1\n",
    "\n",
    "print(f\"Your final bill is: ${bill}.\")"
   ]
  }
 ],
 "metadata": {
  "kernelspec": {
   "display_name": "Python 3 (ipykernel)",
   "language": "python",
   "name": "python3"
  },
  "language_info": {
   "codemirror_mode": {
    "name": "ipython",
    "version": 3
   },
   "file_extension": ".py",
   "mimetype": "text/x-python",
   "name": "python",
   "nbconvert_exporter": "python",
   "pygments_lexer": "ipython3",
   "version": "3.9.7"
  }
 },
 "nbformat": 4,
 "nbformat_minor": 5
}
