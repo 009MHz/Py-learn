{
 "cells": [
  {
   "cell_type": "markdown",
   "id": "6c8cc8c3-dd78-459c-966d-fe8e93a589e9",
   "metadata": {},
   "source": [
    "### Concept:\n",
    "Penggunaan nested if untuk memberikan respond dalam menggunakan roler coaster\n"
   ]
  },
  {
   "cell_type": "code",
   "execution_count": null,
   "id": "1d5ed391-db38-4512-807e-9cc4cd480073",
   "metadata": {},
   "outputs": [],
   "source": [
    "print(\"Welcome to the rollercoaster!\")\n",
    "height = int(input(\"What is your height in cm? \"))"
   ]
  },
  {
   "cell_type": "code",
   "execution_count": null,
   "id": "8e2c046e-7a1d-4d77-8973-2db2ac01e453",
   "metadata": {},
   "outputs": [],
   "source": [
    "bill = 0\n",
    "if height >= 120:\n",
    "    print(\"You can ride the rollercoaster!\")\n",
    "    age = int(input(\"What is your age? \"))\n",
    "    if age < 12:\n",
    "        bill = 5\n",
    "        print(\"Child tickets are $5.\")\n",
    "    elif age <= 18:\n",
    "        bill = 7\n",
    "        print(\"Youth tickets are $7.\")\n",
    "    else:\n",
    "        bill = 12\n",
    "        print(\"Adult tickets are $12.\")\n",
    "\n",
    "    wants_photo = input(\"Do you want a photo taken? Y or N. \")\n",
    "    if wants_photo == \"Y\":\n",
    "        bill += 3\n",
    "\n",
    "        \n",
    "    print(f\"Your final bill is ${bill}\")\n",
    "\n",
    "else:\n",
    "    print(\"Sorry, you have to grow taller before you can ride.\")"
   ]
  }
 ],
 "metadata": {
  "kernelspec": {
   "display_name": "Python 3 (ipykernel)",
   "language": "python",
   "name": "python3"
  },
  "language_info": {
   "codemirror_mode": {
    "name": "ipython",
    "version": 3
   },
   "file_extension": ".py",
   "mimetype": "text/x-python",
   "name": "python",
   "nbconvert_exporter": "python",
   "pygments_lexer": "ipython3",
   "version": "3.9.7"
  }
 },
 "nbformat": 4,
 "nbformat_minor": 5
}
