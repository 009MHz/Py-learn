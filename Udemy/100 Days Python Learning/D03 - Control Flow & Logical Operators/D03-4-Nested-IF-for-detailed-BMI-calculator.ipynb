{
 "cells": [
  {
   "cell_type": "markdown",
   "id": "52a7763c-57aa-490b-9b04-41bd09ec0a73",
   "metadata": {},
   "source": [
    "#### Concept\n",
    "Memberikan output text pada tiap kategori yg berbeda pada BMI"
   ]
  },
  {
   "cell_type": "code",
   "execution_count": null,
   "id": "b7941048-5d77-4f67-9537-ef42df0ce5b7",
   "metadata": {},
   "outputs": [],
   "source": [
    "# Don't change the code below on this cell\n",
    "height = float(input(\"enter your height in m: \"))\n",
    "weight = float(input(\"enter your weight in kg: \"))"
   ]
  },
  {
   "cell_type": "markdown",
   "id": "4e58aecf-377a-4877-97c3-d3f1ec437767",
   "metadata": {},
   "source": [
    "Approach"
   ]
  },
  {
   "cell_type": "code",
   "execution_count": null,
   "id": "ebcd1d0d-a109-4485-a02a-cf1aa2406717",
   "metadata": {},
   "outputs": [],
   "source": [
    "BMI = round(weight / (height * height))\n",
    "if BMI < 18.5:\n",
    "    print(f\"Your BMI is {BMI}, you are underweight.\")\n",
    "elif BMI < 25:\n",
    "    print(f\"Your BMI is {BMI}, you have a normal weight.\")\n",
    "elif BMI < 30:\n",
    "    print(f\"Your BMI is {BMI}, you are slighly overweight\")\n",
    "elif BMI < 35:\n",
    "    print(f\"Your BMI is {BMI}, you are obese\")\n",
    "else:\n",
    "    print(f\"Your BMI is {BMI}, you are clinically obese\")"
   ]
  }
 ],
 "metadata": {
  "kernelspec": {
   "display_name": "Python 3 (ipykernel)",
   "language": "python",
   "name": "python3"
  },
  "language_info": {
   "codemirror_mode": {
    "name": "ipython",
    "version": 3
   },
   "file_extension": ".py",
   "mimetype": "text/x-python",
   "name": "python",
   "nbconvert_exporter": "python",
   "pygments_lexer": "ipython3",
   "version": "3.9.7"
  }
 },
 "nbformat": 4,
 "nbformat_minor": 5
}
