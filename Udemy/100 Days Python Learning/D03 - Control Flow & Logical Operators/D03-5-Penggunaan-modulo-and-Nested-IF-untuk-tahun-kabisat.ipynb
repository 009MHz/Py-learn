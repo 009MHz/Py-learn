{
 "cells": [
  {
   "cell_type": "markdown",
   "id": "9a6090d0-022e-4f54-81a4-2ec1219f54f5",
   "metadata": {},
   "source": [
    "#### Concept:\n",
    "Mengaplikasikan nested if untuk mengembalikan return pada text dalam penghitungan tahun kabisat"
   ]
  },
  {
   "cell_type": "code",
   "execution_count": null,
   "id": "7203dd7a-c900-4d3e-bbe1-cf9c04e50d51",
   "metadata": {},
   "outputs": [],
   "source": [
    "# Don't change the code on this cell\n",
    "year = int(input(\"Which year do you want to check? \"))"
   ]
  },
  {
   "cell_type": "markdown",
   "id": "baf4fe34-bf29-4423-ad62-605f8ec6781d",
   "metadata": {},
   "source": [
    "Approach:"
   ]
  },
  {
   "cell_type": "code",
   "execution_count": null,
   "id": "8214abd7-c3b1-47dc-8211-e313dde1d810",
   "metadata": {},
   "outputs": [],
   "source": [
    "mod4 = year % 4\n",
    "mod100 = year % 100\n",
    "mod400 = year % 400\n",
    "if mod4 == 0:\n",
    "    print(\"This is Leap year\")\n",
    "elif mod100 == 0:\n",
    "    print(\"This is Leap year\")\n",
    "elif mod400 == 0:\n",
    "    print(\"This is Leap year\")\n",
    "else:\n",
    "    print(\"This is not Leap year\")"
   ]
  },
  {
   "cell_type": "markdown",
   "id": "4907cd66-9dc6-42a7-9c1c-256783fc986e",
   "metadata": {},
   "source": [
    "Course approach"
   ]
  },
  {
   "cell_type": "code",
   "execution_count": null,
   "id": "a8f63542-146b-4381-b991-fae9ca44d81c",
   "metadata": {},
   "outputs": [],
   "source": [
    "if year % 4 == 0:\n",
    "    if year % 100 == 0:\n",
    "        if year % 400 == 0:\n",
    "            print(\"Tahun Kabisat\")\n",
    "        else:\n",
    "            print(\"Bukan Kabisat\")\n",
    "    else:\n",
    "        print: (\"Tahun Kabisat\")\n",
    "else:\n",
    "    print(\"Bukan Kabisat\")"
   ]
  },
  {
   "cell_type": "code",
   "execution_count": null,
   "id": "ee06f27e-cc34-4775-91c3-cfa27460d5ee",
   "metadata": {},
   "outputs": [],
   "source": []
  }
 ],
 "metadata": {
  "kernelspec": {
   "display_name": "Python 3 (ipykernel)",
   "language": "python",
   "name": "python3"
  },
  "language_info": {
   "codemirror_mode": {
    "name": "ipython",
    "version": 3
   },
   "file_extension": ".py",
   "mimetype": "text/x-python",
   "name": "python",
   "nbconvert_exporter": "python",
   "pygments_lexer": "ipython3",
   "version": "3.9.7"
  }
 },
 "nbformat": 4,
 "nbformat_minor": 5
}
