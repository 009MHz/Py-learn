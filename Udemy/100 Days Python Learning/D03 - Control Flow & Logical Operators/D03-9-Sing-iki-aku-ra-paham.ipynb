{
 "cells": [
  {
   "cell_type": "code",
   "execution_count": null,
   "id": "5b05a543-9516-45a9-8456-fcfd4b1d7638",
   "metadata": {},
   "outputs": [],
   "source": [
    "# Don't change the code on this cell\n",
    "print(\"Welcome to the Love Calculator!\")\n",
    "name1 = input(\"What is your name? \\n\")\n",
    "name2 = input(\"What is their name? \\n\")"
   ]
  },
  {
   "cell_type": "code",
   "execution_count": null,
   "id": "b4c35499-8c10-4147-865f-4d5120bd6c01",
   "metadata": {},
   "outputs": [],
   "source": [
    "mix_name = name1 + name2\n",
    "lower_case_string = mix_name.lower()"
   ]
  },
  {
   "cell_type": "code",
   "execution_count": null,
   "id": "24f01318-6da6-4ac0-a75c-4ff514b660d5",
   "metadata": {},
   "outputs": [],
   "source": [
    "t = lower_case_string.count(\"t\")\n",
    "r = lower_case_string.count(\"r\")\n",
    "u = lower_case_string.count(\"u\")\n",
    "e = lower_case_string.count(\"e\")\n",
    "\n",
    "true = t + r + u + e"
   ]
  },
  {
   "cell_type": "code",
   "execution_count": null,
   "id": "6bdc58e3-bbdd-4689-9dee-d7604536f1f2",
   "metadata": {},
   "outputs": [],
   "source": [
    "l = lower_case_string.count(\"l\")\n",
    "o = lower_case_string.count(\"o\")\n",
    "v = lower_case_string.count(\"v\")\n",
    "e = lower_case_string.count(\"e\")\n",
    "\n",
    "love = l + o + v + e"
   ]
  },
  {
   "cell_type": "code",
   "execution_count": null,
   "id": "ba82e312-55c0-446a-8f08-b7c6c48e4808",
   "metadata": {},
   "outputs": [],
   "source": [
    "love_score = int(str(true) + str(love))"
   ]
  },
  {
   "cell_type": "code",
   "execution_count": null,
   "id": "b1ab069e-de1d-4e1a-8f70-f38c3c757110",
   "metadata": {},
   "outputs": [],
   "source": [
    "if (love_score < 10) or (love_score > 90):\n",
    "    print(f\"Your score is {love_score}, you go together like coke and mentos\")\n",
    "elif (love_score >=40) and (love_score <= 50):\n",
    "    print(f\"Your score is {love_score}, you are alright together\")\n",
    "else:\n",
    "    print(f\"Your score is {love_score}\")"
   ]
  }
 ],
 "metadata": {
  "kernelspec": {
   "display_name": "Python 3 (ipykernel)",
   "language": "python",
   "name": "python3"
  },
  "language_info": {
   "codemirror_mode": {
    "name": "ipython",
    "version": 3
   },
   "file_extension": ".py",
   "mimetype": "text/x-python",
   "name": "python",
   "nbconvert_exporter": "python",
   "pygments_lexer": "ipython3",
   "version": "3.9.7"
  }
 },
 "nbformat": 4,
 "nbformat_minor": 5
}
