{
 "cells": [
  {
   "cell_type": "markdown",
   "id": "5c46996c-eb58-4114-a8e8-459d74bdb505",
   "metadata": {},
   "source": [
    "### Final project\n",
    "Implementing nested if using your own fantasy"
   ]
  },
  {
   "cell_type": "code",
   "execution_count": null,
   "id": "2366598e-a2af-47f9-b687-52d78e45c5df",
   "metadata": {},
   "outputs": [],
   "source": [
    "print(\"Welcome to Treasure Island.\")\n",
    "print(\"Your mission is to find the treasure.\") "
   ]
  },
  {
   "cell_type": "code",
   "execution_count": null,
   "id": "0a039223-5c79-47a6-be69-01ceb7b1ff49",
   "metadata": {},
   "outputs": [],
   "source": [
    "first = input(\"\\nWhich path will you choose? \\\"Left\\\" or \\\"Right\\\"? \\n\" ).lower()\n",
    "if first == \"left\":\n",
    "    print(\"You have sharp eye, stay safe on your journey.\")\n",
    "    print(\"\\nThere's a dark forest up ahead!\")\n",
    "    forest = input('What will you do about it? \"Circle\" around or \"Cross\"? \\n').lower()\n",
    "    if forest == \"cross\":\n",
    "        print(\"Good Job Adventurer, you may proceed\")\n",
    "\n",
    "        print(\"\\nYou arrive at red boiling lake, and the destination is lies beyond it.\")\n",
    "        lake = input('What will you choose for this matter? \"Wait\", \"Swim\", or \"Create\" a Boat to cross? \\n').lower()\n",
    "        if lake == \"swim\":\n",
    "            print(\"You're look exhausting but you managed it due your Vitality status.\")\n",
    "\n",
    "            print(\"\\nNow you're at the main castle. Choose wisely about what will you do!\")\n",
    "            room = input('Which room you will enter? \"black\", \"gold\", \"blue\", \"red\"? \\n').lower()\n",
    "            if room == \"red\":\n",
    "                print(\"Congratulations, here's your reward\")\n",
    "            elif room == \"black\":\n",
    "                print(\"This is the room of torture, you will dead slaughtered by the room master\")\n",
    "            elif room == \"gold\":\n",
    "                print(\"This is the fake treasure room, you'll died slowly by the poison trap from this room\")\n",
    "            else:\n",
    "                print(\"I don't know why you choose this, but you have to try again from the start.\")\n",
    "        elif lake == \"wait\":\n",
    "            print(\"There's a monster slaughter you because you're at their nest\")\n",
    "        else:\n",
    "            print(\"Time's up you need to decide quickly next time\")\n",
    "    else:\n",
    "        print(\"Only the true Adventurer may cross the path. Thank you for your participation.\")\n",
    "else:\n",
    "    print(\"You can start again next time\")"
   ]
  }
 ],
 "metadata": {
  "kernelspec": {
   "display_name": "Python 3 (ipykernel)",
   "language": "python",
   "name": "python3"
  },
  "language_info": {
   "codemirror_mode": {
    "name": "ipython",
    "version": 3
   },
   "file_extension": ".py",
   "mimetype": "text/x-python",
   "name": "python",
   "nbconvert_exporter": "python",
   "pygments_lexer": "ipython3",
   "version": "3.9.7"
  }
 },
 "nbformat": 4,
 "nbformat_minor": 5
}
