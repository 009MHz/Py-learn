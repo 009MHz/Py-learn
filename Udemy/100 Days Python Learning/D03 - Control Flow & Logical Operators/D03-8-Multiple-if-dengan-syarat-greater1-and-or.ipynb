{
 "cells": [
  {
   "cell_type": "markdown",
   "id": "34a13dfd-c722-44b8-b526-5b2bb9f963d1",
   "metadata": {},
   "source": [
    "### Concept:\n",
    "Penggunaan nested if untuk memberikan respond dalam menggunakan roler coaster advance mode"
   ]
  },
  {
   "cell_type": "code",
   "execution_count": null,
   "id": "ec968421-9c95-4d5c-8489-1a700043b3f3",
   "metadata": {},
   "outputs": [],
   "source": [
    "print(\"Welcome to the rollercoaster!\")\n",
    "height = int(input(\"What is your height in cm? \"))\n",
    "bill = 0"
   ]
  },
  {
   "cell_type": "code",
   "execution_count": null,
   "id": "b5dfb416-55cc-43fa-b66d-951b1fab812d",
   "metadata": {},
   "outputs": [],
   "source": [
    "if height >= 120:\n",
    "    print(\"You can ride the rollercoaster!\")\n",
    "    age = int(input(\"What is your age? \"))\n",
    "    if age < 12:\n",
    "        bill = 5\n",
    "        print(\"Child tickets are $5.\")\n",
    "    elif age <= 18:\n",
    "        bill = 7\n",
    "        print(\"Youth tickets are $7.\")\n",
    "    elif age >= 45 and age <= 55:\n",
    "        print(\"Everything is going to be ok. Have a free ride on us!\")\n",
    "    else:\n",
    "        bill = 12\n",
    "        print(\"Adult tickets are $12.\")\n",
    "\n",
    "    wants_photo = input(\"Do you want a photo taken? Y or N. \")\n",
    "    if wants_photo == \"Y\":\n",
    "        bill += 3\n",
    "\n",
    "    print(f\"Your final bill is ${bill}\")\n",
    "\n",
    "else:\n",
    "    print(\"Sorry, you have to grow taller before you can ride.\")"
   ]
  }
 ],
 "metadata": {
  "kernelspec": {
   "display_name": "Python 3 (ipykernel)",
   "language": "python",
   "name": "python3"
  },
  "language_info": {
   "codemirror_mode": {
    "name": "ipython",
    "version": 3
   },
   "file_extension": ".py",
   "mimetype": "text/x-python",
   "name": "python",
   "nbconvert_exporter": "python",
   "pygments_lexer": "ipython3",
   "version": "3.9.7"
  }
 },
 "nbformat": 4,
 "nbformat_minor": 5
}
