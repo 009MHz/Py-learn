{
 "cells": [
  {
   "cell_type": "code",
   "execution_count": null,
   "id": "292e678a-1a1e-4a3b-ba68-4d94203d55b5",
   "metadata": {},
   "outputs": [],
   "source": [
    "# Don't change the code on this cell\n",
    "number = int(input(\"Which number do you want to check? \"))"
   ]
  },
  {
   "cell_type": "markdown",
   "id": "2c4d0fb1-5cc5-4c64-8589-ff800cbea696",
   "metadata": {},
   "source": [
    "Approach 1:"
   ]
  },
  {
   "cell_type": "code",
   "execution_count": null,
   "id": "95c93f34-4b0c-4e1d-ab87-28a579d986ce",
   "metadata": {},
   "outputs": [],
   "source": [
    "modulo = number % 2\n",
    "if modulo == 0:\n",
    "    print(\"This is an even number\")\n",
    "else :\n",
    "    print(\"This is an odd number\")"
   ]
  },
  {
   "cell_type": "markdown",
   "id": "0ca748e4-ead1-400d-bbb8-d6a153b4edec",
   "metadata": {},
   "source": [
    "Approach 2:"
   ]
  },
  {
   "cell_type": "code",
   "execution_count": null,
   "id": "6cdaf54a-62e6-4a8e-ab8c-5c016ba199a6",
   "metadata": {},
   "outputs": [],
   "source": [
    "if number % 2 == 0:\n",
    "    print(\"This is an even number\")\n",
    "else:\n",
    "    print (\"This is an odd number\")"
   ]
  }
 ],
 "metadata": {
  "kernelspec": {
   "display_name": "Python 3 (ipykernel)",
   "language": "python",
   "name": "python3"
  },
  "language_info": {
   "codemirror_mode": {
    "name": "ipython",
    "version": 3
   },
   "file_extension": ".py",
   "mimetype": "text/x-python",
   "name": "python",
   "nbconvert_exporter": "python",
   "pygments_lexer": "ipython3",
   "version": "3.9.7"
  }
 },
 "nbformat": 4,
 "nbformat_minor": 5
}
