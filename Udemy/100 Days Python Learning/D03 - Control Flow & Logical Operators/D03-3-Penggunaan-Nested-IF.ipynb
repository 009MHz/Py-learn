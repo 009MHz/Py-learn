{
 "cells": [
  {
   "cell_type": "markdown",
   "id": "3945645a-e940-4ad0-8982-57f3a9c2f313",
   "metadata": {},
   "source": [
    "# Nested if / else\n",
    "merupakan chain link atau koneksi berurutan yang tidak hanya memakai 2 syarat ya dan tidak, namun bisa ada beberapa opsi setelah ya dan tidak, jika ***if*** adalah command untuk 2 opsi ya dan tidak ***elif*** *(else if)* merupakan opsi untuk ya1 & ya2 sebelum dieksekusi sebagai tidak"
   ]
  },
  {
   "cell_type": "code",
   "execution_count": 2,
   "id": "dda56850-f30c-4291-8c8f-5142189fc7d8",
   "metadata": {},
   "outputs": [
    {
     "name": "stdout",
     "output_type": "stream",
     "text": [
      "Welcome to the rollercoaster!\n"
     ]
    },
    {
     "name": "stdin",
     "output_type": "stream",
     "text": [
      "What is your height in cm?  177\n"
     ]
    }
   ],
   "source": [
    "print(\"Welcome to the rollercoaster!\")\n",
    "height = int(input(\"What is your height in cm? \"))"
   ]
  },
  {
   "cell_type": "code",
   "execution_count": 3,
   "id": "b3702137-74f4-40fc-a25e-c1f6b0cbf41f",
   "metadata": {},
   "outputs": [
    {
     "name": "stdout",
     "output_type": "stream",
     "text": [
      "You can get in!\n"
     ]
    },
    {
     "name": "stdin",
     "output_type": "stream",
     "text": [
      "How old are you?  12\n"
     ]
    },
    {
     "name": "stdout",
     "output_type": "stream",
     "text": [
      "You're a kid, you need $7 to get in\n"
     ]
    }
   ],
   "source": [
    "if height >= 120:\n",
    "    print(\"You can get in!\")\n",
    "    age = int(input(\"How old are you? \"))\n",
    "    if age < 12:\n",
    "        print(\"You need $5 kid\")\n",
    "    if age <= 18:\n",
    "        print(\"You're a kid, you need $7 to get in\")\n",
    "    else:\n",
    "        print(\"$12 should be OK\")\n",
    "else:\n",
    "    print(\"Go back next time Kid!\")"
   ]
  }
 ],
 "metadata": {
  "kernelspec": {
   "display_name": "Python 3 (ipykernel)",
   "language": "python",
   "name": "python3"
  },
  "language_info": {
   "codemirror_mode": {
    "name": "ipython",
    "version": 3
   },
   "file_extension": ".py",
   "mimetype": "text/x-python",
   "name": "python",
   "nbconvert_exporter": "python",
   "pygments_lexer": "ipython3",
   "version": "3.9.7"
  }
 },
 "nbformat": 4,
 "nbformat_minor": 5
}
