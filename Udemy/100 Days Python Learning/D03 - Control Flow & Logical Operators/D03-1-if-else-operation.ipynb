{
 "cells": [
  {
   "cell_type": "markdown",
   "id": "89dffe36-b485-4bb8-9dd2-4ff727d49e7d",
   "metadata": {},
   "source": [
    "# IF / ELSE operation"
   ]
  },
  {
   "cell_type": "code",
   "execution_count": null,
   "id": "9c98c5f5-bca6-415b-9bfb-346ef76b864f",
   "metadata": {},
   "outputs": [],
   "source": [
    "print(\"Welcome to the rollercoaster!\")\n",
    "height = int(input(\"What is your height in cm? \"))"
   ]
  },
  {
   "cell_type": "code",
   "execution_count": null,
   "id": "cc13df16-4604-43af-8e3d-861e903a4b00",
   "metadata": {},
   "outputs": [],
   "source": [
    "if height >= 120:\n",
    "    print(\"You can get in!\")\n",
    "else:\n",
    "    print(\"Go back next time Kid!\")"
   ]
  },
  {
   "cell_type": "markdown",
   "id": "a1cb74b5-8ffe-49f4-8f03-be4b88058778",
   "metadata": {},
   "source": [
    "# Explanation\n",
    "- command if / else adalah merupakan pasangan\n",
    "- if \"syarat dari variable yang ada\":\n",
    "    - perintah selanjutnya jika memenuhi kriteria, pada line ini (setelah if) maka indent akan maju satu tab sebagai tanda bahwa line tsb merupakan koneksi dari if\n",
    "- else: [jika syarat tidak terpenuhi] dan tidak boleh maju satu tab karena ini merupakan command kebalikan meskipun salah satu koneksi dari if\n",
    "    - perintah jika tidak memenuhi kriteria, format dan keterangan sama dengan line setelah if\n",
    "- operation yang dipakai: \n",
    "    - \">=\" greater than or equal to, \n",
    "    - \"==\" equal to \n",
    "    - \"!=\" not equal to"
   ]
  }
 ],
 "metadata": {
  "kernelspec": {
   "display_name": "Python 3 (ipykernel)",
   "language": "python",
   "name": "python3"
  },
  "language_info": {
   "codemirror_mode": {
    "name": "ipython",
    "version": 3
   },
   "file_extension": ".py",
   "mimetype": "text/x-python",
   "name": "python",
   "nbconvert_exporter": "python",
   "pygments_lexer": "ipython3",
   "version": "3.9.7"
  }
 },
 "nbformat": 4,
 "nbformat_minor": 5
}
