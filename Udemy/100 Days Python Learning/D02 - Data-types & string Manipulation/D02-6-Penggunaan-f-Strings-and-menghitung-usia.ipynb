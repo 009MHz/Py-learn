{
 "cells": [
  {
   "cell_type": "markdown",
   "id": "20668910-da49-4778-9fea-e62ebd002cf7",
   "metadata": {},
   "source": [
    "#### Todo\n",
    "Menghitung sisa usia yg dikonversi menjadi hari, minggu, dan bulan dengan parameter, usia max = 90 tahun"
   ]
  },
  {
   "cell_type": "code",
   "execution_count": null,
   "id": "6c3ae561-29ec-45d9-a9fc-76031f8159e8",
   "metadata": {},
   "outputs": [],
   "source": [
    "# Don't the code on this cell\n",
    "age = input(\"What is your current age?\")\n",
    "max_age = 90"
   ]
  },
  {
   "cell_type": "markdown",
   "id": "8bbab098-ed39-4672-8fe1-4e9dc840bb47",
   "metadata": {},
   "source": [
    "Solutions"
   ]
  },
  {
   "cell_type": "code",
   "execution_count": null,
   "id": "54f7134e-659f-486f-9b13-a3a328ac79b1",
   "metadata": {},
   "outputs": [],
   "source": [
    "years = max_age - int(age)\n",
    "day_age = round(years * 365)\n",
    "week_age = round(years * 52)\n",
    "month_age = round(years * 12)\n",
    "print(f\"You have {day_age} days, {week_age} weeks, {month_age} months\")"
   ]
  }
 ],
 "metadata": {
  "kernelspec": {
   "display_name": "Python 3 (ipykernel)",
   "language": "python",
   "name": "python3"
  },
  "language_info": {
   "codemirror_mode": {
    "name": "ipython",
    "version": 3
   },
   "file_extension": ".py",
   "mimetype": "text/x-python",
   "name": "python",
   "nbconvert_exporter": "python",
   "pygments_lexer": "ipython3",
   "version": "3.9.7"
  }
 },
 "nbformat": 4,
 "nbformat_minor": 5
}
