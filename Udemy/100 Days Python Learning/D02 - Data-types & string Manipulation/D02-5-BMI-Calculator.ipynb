{
 "cells": [
  {
   "cell_type": "markdown",
   "id": "cd878668-26dd-4b97-b1cb-137cb11bbdbd",
   "metadata": {},
   "source": [
    "## Concept\n",
    "Melakukan penghitungan BMI"
   ]
  },
  {
   "cell_type": "code",
   "execution_count": null,
   "id": "8c915fda-d02f-48dc-a7aa-93631703d515",
   "metadata": {},
   "outputs": [],
   "source": [
    "# Don't change the code on this cell\n",
    "height = input(\"enter your height in m: \")\n",
    "weight = input(\"enter your weight in kg: \")"
   ]
  },
  {
   "cell_type": "markdown",
   "id": "39c6a087-b99d-4a33-b963-e6e0f95d657c",
   "metadata": {},
   "source": [
    "My approach"
   ]
  },
  {
   "cell_type": "code",
   "execution_count": null,
   "id": "92c0d14c-128e-4778-810a-e48647d462b0",
   "metadata": {},
   "outputs": [],
   "source": [
    "conv_height = float(height)\n",
    "conv_weight = float(weight)\n",
    "\n",
    "BMI = float(weight) / float(height) ** 2\n",
    "print(BMI)"
   ]
  },
  {
   "cell_type": "markdown",
   "id": "cfbf51fc-5a9c-4f38-8faf-2e2446a27c58",
   "metadata": {},
   "source": [
    "Course approach"
   ]
  },
  {
   "cell_type": "code",
   "execution_count": null,
   "id": "30684cb2-14d4-465e-92c3-f937db0699d3",
   "metadata": {},
   "outputs": [],
   "source": [
    "weight_as_int = int(weight)\n",
    "height_as_float = float(height)\n",
    "\n",
    "# Using the exponent operator **\n",
    "bmi = weight_as_int / height_as_float ** 2\n",
    "# or using multiplication and PEMDAS\n",
    "bmi = weight_as_int / (height_as_float * height_as_float)\n",
    "\n",
    "bmi_as_int = int(bmi)\n",
    "\n",
    "print(bmi_as_int)"
   ]
  }
 ],
 "metadata": {
  "kernelspec": {
   "display_name": "Python 3 (ipykernel)",
   "language": "python",
   "name": "python3"
  },
  "language_info": {
   "codemirror_mode": {
    "name": "ipython",
    "version": 3
   },
   "file_extension": ".py",
   "mimetype": "text/x-python",
   "name": "python",
   "nbconvert_exporter": "python",
   "pygments_lexer": "ipython3",
   "version": "3.9.7"
  }
 },
 "nbformat": 4,
 "nbformat_minor": 5
}
