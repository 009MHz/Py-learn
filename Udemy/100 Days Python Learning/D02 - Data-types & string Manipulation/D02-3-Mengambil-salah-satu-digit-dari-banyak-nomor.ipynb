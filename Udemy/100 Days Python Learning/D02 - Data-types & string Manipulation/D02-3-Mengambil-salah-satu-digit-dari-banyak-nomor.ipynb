{
 "cells": [
  {
   "cell_type": "code",
   "execution_count": null,
   "id": "fb037316-8dba-46d6-b01a-1df637a6f2e4",
   "metadata": {},
   "outputs": [],
   "source": [
    "# Don't change the code on this cell\n",
    "two_digit_number = input(\"Type a two digit number: \")"
   ]
  },
  {
   "cell_type": "code",
   "execution_count": null,
   "id": "2dbc5f43-ba5c-43ff-99f3-f501bb291dd5",
   "metadata": {},
   "outputs": [],
   "source": [
    "a = two_digit_number[0]\n",
    "b = two_digit_number[1]\n",
    "anum = int(a)\n",
    "bnum = int(b)"
   ]
  },
  {
   "cell_type": "code",
   "execution_count": null,
   "id": "3ad761f9-cae5-49dd-bf32-4b9f0b813756",
   "metadata": {},
   "outputs": [],
   "source": [
    "print(anum + bnum)"
   ]
  },
  {
   "cell_type": "markdown",
   "id": "16a8a711-1e4c-4301-8962-35ac6092b6e0",
   "metadata": {},
   "source": [
    "atau bisa juga dengan one line code seperti ini"
   ]
  },
  {
   "cell_type": "code",
   "execution_count": null,
   "id": "0d7ce38a-2e1b-4f72-9c90-e1b3104e998f",
   "metadata": {},
   "outputs": [],
   "source": [
    "print(int(two_digit_number[0]) + int(two_digit_number[1]))"
   ]
  }
 ],
 "metadata": {
  "kernelspec": {
   "display_name": "Python 3 (ipykernel)",
   "language": "python",
   "name": "python3"
  },
  "language_info": {
   "codemirror_mode": {
    "name": "ipython",
    "version": 3
   },
   "file_extension": ".py",
   "mimetype": "text/x-python",
   "name": "python",
   "nbconvert_exporter": "python",
   "pygments_lexer": "ipython3",
   "version": "3.9.7"
  }
 },
 "nbformat": 4,
 "nbformat_minor": 5
}
