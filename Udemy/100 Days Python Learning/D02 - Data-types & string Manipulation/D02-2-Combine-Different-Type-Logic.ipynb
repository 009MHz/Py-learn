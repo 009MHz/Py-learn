{
 "cells": [
  {
   "cell_type": "code",
   "execution_count": 1,
   "id": "73808a54-9227-41fd-afd0-340076d8b9ec",
   "metadata": {},
   "outputs": [
    {
     "name": "stdin",
     "output_type": "stream",
     "text": [
      "What is your name?  me\n"
     ]
    },
    {
     "ename": "TypeError",
     "evalue": "can only concatenate str (not \"int\") to str",
     "output_type": "error",
     "traceback": [
      "\u001b[0;31m---------------------------------------------------------------------------\u001b[0m",
      "\u001b[0;31mTypeError\u001b[0m                                 Traceback (most recent call last)",
      "\u001b[0;32m/var/folders/0c/b7z3hc2x1hb7654rty_kkg4w0000gn/T/ipykernel_8777/14307278.py\u001b[0m in \u001b[0;36m<module>\u001b[0;34m\u001b[0m\n\u001b[1;32m      1\u001b[0m \u001b[0mchar_num\u001b[0m \u001b[0;34m=\u001b[0m \u001b[0mlen\u001b[0m\u001b[0;34m(\u001b[0m\u001b[0minput\u001b[0m\u001b[0;34m(\u001b[0m\u001b[0;34m\"What is your name? \"\u001b[0m\u001b[0;34m)\u001b[0m\u001b[0;34m)\u001b[0m\u001b[0;34m\u001b[0m\u001b[0;34m\u001b[0m\u001b[0m\n\u001b[0;32m----> 2\u001b[0;31m \u001b[0mprint\u001b[0m\u001b[0;34m(\u001b[0m\u001b[0;34m\"Your name has \"\u001b[0m \u001b[0;34m+\u001b[0m \u001b[0mchar_num\u001b[0m \u001b[0;34m+\u001b[0m \u001b[0;34m\"characters.\"\u001b[0m\u001b[0;34m)\u001b[0m\u001b[0;34m\u001b[0m\u001b[0;34m\u001b[0m\u001b[0m\n\u001b[0m\u001b[1;32m      3\u001b[0m \u001b[0mprint\u001b[0m\u001b[0;34m(\u001b[0m\u001b[0mtype\u001b[0m\u001b[0;34m(\u001b[0m\u001b[0mchar_num\u001b[0m\u001b[0;34m)\u001b[0m\u001b[0;34m)\u001b[0m\u001b[0;34m\u001b[0m\u001b[0;34m\u001b[0m\u001b[0m\n",
      "\u001b[0;31mTypeError\u001b[0m: can only concatenate str (not \"int\") to str"
     ]
    }
   ],
   "source": [
    "char_num = len(input(\"What is your name? \"))\n",
    "print(\"Your name has \" + char_num + \"characters.\")\n",
    "print(type(char_num))"
   ]
  },
  {
   "cell_type": "markdown",
   "id": "59182bd4-fdb0-4da2-833b-1e49179e7b1b",
   "metadata": {},
   "source": [
    "- command ***\"<font color = violet>type</font>()\"*** digunakan untuk mengetahui jenis data apa yang dipakai dalam variable yang dipanggil\n",
    "- script pada line 3 akan mengalamai error result karena tipe data bukan string melainkan integer"
   ]
  },
  {
   "cell_type": "code",
   "execution_count": 2,
   "id": "e42f7016-4dcf-45e9-bf39-cc51184cea89",
   "metadata": {},
   "outputs": [
    {
     "name": "stdout",
     "output_type": "stream",
     "text": [
      "Your name has 2 characters.\n"
     ]
    }
   ],
   "source": [
    "char_num_upd = str(char_num)\n",
    "print(\"Your name has \" + char_num_upd + \" characters.\")"
   ]
  },
  {
   "cell_type": "markdown",
   "id": "161cd1ee-171f-4b41-8f13-d0af91706df1",
   "metadata": {},
   "source": [
    "- untuk mengatasi error tersebut bisa menggunakan cara di line 6, yaitu:\n",
    "    - buat variable table baru -> char_num_upd yang mengambil data dari char_num setelah dikonversi ke string -> str(char_num)"
   ]
  },
  {
   "cell_type": "markdown",
   "id": "8a95b5df-7a61-48d6-85cf-6d7d1bba6821",
   "metadata": {},
   "source": [
    "## F-Strings\n",
    "digunakan untuk menyatukan semua jenis data (boolean, integer, float, string) dengan format seperti ini"
   ]
  },
  {
   "cell_type": "raw",
   "id": "b9758ca6-4b59-4f94-9cdc-4f6e7b86543a",
   "metadata": {},
   "source": [
    "command(f\"diikuti string, kemudian call data yang akan diinput dengan {} tutup dengan\")"
   ]
  },
  {
   "cell_type": "code",
   "execution_count": 3,
   "id": "28ba09f3-a173-4d28-bd33-ef5f406d2271",
   "metadata": {},
   "outputs": [
    {
     "name": "stdout",
     "output_type": "stream",
     "text": [
      "your score is 0, your height is 1.71, you are the True victorious\n"
     ]
    }
   ],
   "source": [
    "score = 0 # integer\n",
    "height = 1.71 # float\n",
    "isWinning = True # boolean\n",
    "print(f\"your score is {score}, your height is {height}, you are the {isWinning} victorious\")"
   ]
  }
 ],
 "metadata": {
  "kernelspec": {
   "display_name": "Python 3 (ipykernel)",
   "language": "python",
   "name": "python3"
  },
  "language_info": {
   "codemirror_mode": {
    "name": "ipython",
    "version": 3
   },
   "file_extension": ".py",
   "mimetype": "text/x-python",
   "name": "python",
   "nbconvert_exporter": "python",
   "pygments_lexer": "ipython3",
   "version": "3.9.7"
  }
 },
 "nbformat": 4,
 "nbformat_minor": 5
}
