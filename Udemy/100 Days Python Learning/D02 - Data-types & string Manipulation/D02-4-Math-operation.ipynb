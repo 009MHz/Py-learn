{
 "cells": [
  {
   "cell_type": "code",
   "execution_count": 1,
   "id": "874febcb-9e20-42a9-9572-f0112cd9b814",
   "metadata": {},
   "outputs": [
    {
     "data": {
      "text/plain": [
       "8"
      ]
     },
     "execution_count": 1,
     "metadata": {},
     "output_type": "execute_result"
    }
   ],
   "source": [
    "3 + 5 # result in integer"
   ]
  },
  {
   "cell_type": "code",
   "execution_count": 2,
   "id": "6d3b0f39-3c5c-4a47-978a-06843339a34d",
   "metadata": {},
   "outputs": [
    {
     "data": {
      "text/plain": [
       "5.0"
      ]
     },
     "execution_count": 2,
     "metadata": {},
     "output_type": "execute_result"
    }
   ],
   "source": [
    "10 / 2 # result will be float"
   ]
  },
  {
   "cell_type": "code",
   "execution_count": null,
   "id": "1347af18-d28f-405b-8bb9-9825bd63a917",
   "metadata": {},
   "outputs": [],
   "source": [
    "5 * 4  # integer"
   ]
  },
  {
   "cell_type": "code",
   "execution_count": 3,
   "id": "e02a3ac4-4d6c-4385-b3e2-59e287680549",
   "metadata": {},
   "outputs": [
    {
     "data": {
      "text/plain": [
       "27"
      ]
     },
     "execution_count": 3,
     "metadata": {},
     "output_type": "execute_result"
    }
   ],
   "source": [
    "3 ** 3 # bintang 2 dipakai untuk menggantikan kuadrat"
   ]
  },
  {
   "cell_type": "markdown",
   "id": "ef396f6e-b658-46eb-b8ac-17a52a2e1053",
   "metadata": {},
   "source": [
    "### Urutan aljabar dalam phyton\n",
    "1. **(  )**  -> dalam kurung\n",
    "2. <**> (kuadrat)\n",
    "3. < * > atau / (perkalian atau pembagian)\n",
    "4. < + >  atau - (penjumlahan atau pengurangan)"
   ]
  },
  {
   "cell_type": "code",
   "execution_count": null,
   "id": "15e9e8ca-c1d5-4562-a586-51fc4278db4e",
   "metadata": {},
   "outputs": [],
   "source": [
    "print(3 * 3 + 3 / 3 - 3)"
   ]
  },
  {
   "cell_type": "code",
   "execution_count": null,
   "id": "08a36377-813c-4b20-bf54-6826a83bf2ea",
   "metadata": {},
   "outputs": [],
   "source": [
    "print(3 * (3 + 3) / 3 - 3)"
   ]
  },
  {
   "cell_type": "code",
   "execution_count": null,
   "id": "6788b836-11f5-4b62-8fe0-f41e52571ff1",
   "metadata": {},
   "outputs": [],
   "source": [
    "print(22 / 7) # akan menghasilkan 3.142857142857143"
   ]
  },
  {
   "cell_type": "code",
   "execution_count": null,
   "id": "0d68cac8-26c8-4a83-a2d5-ddf16640bf53",
   "metadata": {},
   "outputs": [],
   "source": [
    "print(round(22 / 7, 3)) # akan menghasilkan 3 decimal di belakang koma, dan merubah format menjadi float"
   ]
  },
  {
   "cell_type": "code",
   "execution_count": null,
   "id": "747fce79-8b55-4b97-af05-0c9846434c89",
   "metadata": {},
   "outputs": [],
   "source": [
    "print(round(2.788755776, 2)) #akan menghasilkan 2 decimal di belakang koma merubah format menjadi float"
   ]
  },
  {
   "cell_type": "code",
   "execution_count": null,
   "id": "1eb4385e-6a4e-4a7d-a033-00da5879ac45",
   "metadata": {},
   "outputs": [],
   "source": [
    "print(9 // 4) # akan membulatkan angka dari 4.5 ke 4, dan merubah type menjadi Integer"
   ]
  },
  {
   "cell_type": "markdown",
   "id": "a255ed79-8a94-4bf4-80ba-1f47c3970abf",
   "metadata": {},
   "source": [
    "Algoritma seperti berikut bisa dipakai jika menemukan variable yang sama akan digunakan berturut turut"
   ]
  },
  {
   "cell_type": "code",
   "execution_count": null,
   "id": "d1a89c5c-c3b0-4f39-b9f6-21cca347d9ec",
   "metadata": {},
   "outputs": [],
   "source": [
    "score = 0"
   ]
  },
  {
   "cell_type": "markdown",
   "id": "f7191b62-6ff7-427b-9a51-a6da5dfd8a39",
   "metadata": {},
   "source": [
    "     User scores a point"
   ]
  },
  {
   "cell_type": "code",
   "execution_count": null,
   "id": "a54608fe-ae5d-48f2-8dcc-cd8cfce422ac",
   "metadata": {},
   "outputs": [],
   "source": [
    "score +=1\n",
    "score +=1 #setelah di run score akan menjadi 2, karena penggunaan += 2 kali"
   ]
  }
 ],
 "metadata": {
  "kernelspec": {
   "display_name": "Python 3 (ipykernel)",
   "language": "python",
   "name": "python3"
  },
  "language_info": {
   "codemirror_mode": {
    "name": "ipython",
    "version": 3
   },
   "file_extension": ".py",
   "mimetype": "text/x-python",
   "name": "python",
   "nbconvert_exporter": "python",
   "pygments_lexer": "ipython3",
   "version": "3.9.7"
  }
 },
 "nbformat": 4,
 "nbformat_minor": 5
}
