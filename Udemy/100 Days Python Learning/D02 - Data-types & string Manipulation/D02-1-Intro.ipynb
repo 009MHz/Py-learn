{
 "cells": [
  {
   "cell_type": "markdown",
   "id": "5d04080c-b491-4b17-b5a7-1a4f138953a0",
   "metadata": {},
   "source": [
    "# Data types"
   ]
  },
  {
   "cell_type": "markdown",
   "id": "8e193824-9ff4-4574-a3db-df18c9f6050a",
   "metadata": {},
   "source": [
    "### Strings"
   ]
  },
  {
   "cell_type": "code",
   "execution_count": null,
   "id": "655d618e-48bc-4886-b8da-3428061cbf6e",
   "metadata": {},
   "outputs": [],
   "source": [
    "print(\"Hello\"[0])"
   ]
  },
  {
   "cell_type": "markdown",
   "id": "c7477e15-f84c-4a5a-8701-86e25c36db92",
   "metadata": {},
   "source": [
    "- akan muncul H pada console karena ***[0]*** akan memanggil object pertama pada *Hello*\n",
    "- Dalam programming angka <font color = lime>tidak dimulai dari 1</font>,melainkan 0"
   ]
  },
  {
   "cell_type": "code",
   "execution_count": null,
   "id": "dd01798b-38c0-4dca-86b8-f505482ca61b",
   "metadata": {},
   "outputs": [],
   "source": [
    "print(\"Hello\"[4])"
   ]
  },
  {
   "cell_type": "markdown",
   "id": "4a7e6c99-bd5c-4112-af03-6dea71ecf271",
   "metadata": {},
   "source": [
    "- akan memanggil object ke-5 karena object python dimulai dari 0 (0,1,2,3,4)\n",
    "- penulisan angka yang disertai \" \" tidak akan dianggap sebagai number format oleh python melainkan dianggap string biasa"
   ]
  },
  {
   "cell_type": "code",
   "execution_count": null,
   "id": "3b6049c7-a8be-4c59-b1d7-8bc22a6c9d28",
   "metadata": {},
   "outputs": [],
   "source": [
    "print(\"123\" + \"345\")"
   ]
  },
  {
   "cell_type": "markdown",
   "id": "4fcb537d-b265-45ac-9d36-fb11c181c282",
   "metadata": {},
   "source": [
    "- akan menghasilkan text 123345 instead penambahan biasa karena angka disertai quotes (\"\") dan python akan menganggapnya sebagai text (string)"
   ]
  },
  {
   "cell_type": "markdown",
   "id": "99e48b7f-a07b-4350-bedf-5a3dcfb19b0e",
   "metadata": {},
   "source": [
    "### Integer\n",
    "adalah tipe data untuk menyatakan format yang kita pakai adalah \"number\" tanpa decimal "
   ]
  },
  {
   "cell_type": "code",
   "execution_count": null,
   "id": "437e8dc8-c148-45c1-8f16-39ccee327ea0",
   "metadata": {},
   "outputs": [],
   "source": [
    "print(123 + 345)"
   ]
  },
  {
   "cell_type": "markdown",
   "id": "35ca91b1-06ea-4a14-af28-8009170fd91d",
   "metadata": {},
   "source": [
    "- akan menghasilkan penjumlahan dari kedua angka tersebut\n",
    "- dalam python large integer / koma dalam angka besar bisa menggunakan underscore \"_\""
   ]
  },
  {
   "cell_type": "code",
   "execution_count": null,
   "id": "a5cc8576-b86f-4a4d-bd09-77d8e34f30ef",
   "metadata": {},
   "outputs": [],
   "source": [
    "1_200_000 # untuk menggantikan angka 1,200,000"
   ]
  },
  {
   "cell_type": "markdown",
   "id": "4453b25e-95d6-481b-8cbd-7999b1d8bc3c",
   "metadata": {},
   "source": [
    "### Float\n",
    "adalah tipe data untuk menyatakan angka desimal\n",
    "\n",
    "Dalam python kita bisa memakai titik \".\" sebagai pengganti koma"
   ]
  },
  {
   "cell_type": "code",
   "execution_count": null,
   "id": "2c303f30-5f85-42cc-bdb6-71776d2303dd",
   "metadata": {},
   "outputs": [],
   "source": [
    "3.1456"
   ]
  },
  {
   "cell_type": "markdown",
   "id": "3def18f9-92da-4229-a9cb-1551efbcfde7",
   "metadata": {},
   "source": [
    "### Boolean\n",
    "Hanya ada dua data dalam stype ini"
   ]
  },
  {
   "cell_type": "code",
   "execution_count": null,
   "id": "4fc0502e-9225-4d45-ad90-4c460e914a24",
   "metadata": {},
   "outputs": [],
   "source": [
    "True\n",
    "False"
   ]
  }
 ],
 "metadata": {
  "kernelspec": {
   "display_name": "Python 3 (ipykernel)",
   "language": "python",
   "name": "python3"
  },
  "language_info": {
   "codemirror_mode": {
    "name": "ipython",
    "version": 3
   },
   "file_extension": ".py",
   "mimetype": "text/x-python",
   "name": "python",
   "nbconvert_exporter": "python",
   "pygments_lexer": "ipython3",
   "version": "3.9.7"
  }
 },
 "nbformat": 4,
 "nbformat_minor": 5
}
