{
 "cells": [
  {
   "cell_type": "markdown",
   "id": "077a8379-1ded-4729-9fa3-261453288e81",
   "metadata": {},
   "source": [
    "# Phase 1\n",
    "- Generate the random word\n",
    "- Validate user input vs given word"
   ]
  },
  {
   "cell_type": "code",
   "execution_count": 1,
   "id": "682e0e67-d408-4731-ac2c-5004258e95bb",
   "metadata": {},
   "outputs": [],
   "source": [
    "word_list = [\"aardvark\", \"baboon\", \"camel\"]"
   ]
  },
  {
   "cell_type": "markdown",
   "id": "c23dd169-fffb-4522-b5bd-21fb4bbfe4e1",
   "metadata": {},
   "source": [
    "TODO-1: Randomly choose a word from the word_list and assign it to a variable called chosen_word."
   ]
  },
  {
   "cell_type": "code",
   "execution_count": 2,
   "id": "348b6bcb-0ea8-470e-b063-b912df9b8774",
   "metadata": {},
   "outputs": [],
   "source": [
    "import random\n",
    "pilihan = random.choice(word_list)"
   ]
  },
  {
   "cell_type": "markdown",
   "id": "2fd19799-867a-4268-936d-37573d3d195e",
   "metadata": {},
   "source": [
    "TODO-2: Ask the user to guess a letter and assign their answer to a variable called guess. Make guess lowercase."
   ]
  },
  {
   "cell_type": "code",
   "execution_count": 3,
   "id": "6a052dd5-f8d5-4834-b29d-8d7a7025f22d",
   "metadata": {},
   "outputs": [
    {
     "name": "stdin",
     "output_type": "stream",
     "text": [
      "Guess the letter:  s\n"
     ]
    }
   ],
   "source": [
    "clue = input(\"Guess the letter: \").lower()"
   ]
  },
  {
   "cell_type": "markdown",
   "id": "bce5a79f-cf88-449f-90e2-df30754f54b4",
   "metadata": {},
   "source": [
    "TODO-3: Check if the letter the user guessed (guess) is one of the letters in the chosen_word."
   ]
  },
  {
   "cell_type": "code",
   "execution_count": 4,
   "id": "df92fe39-de93-445f-a191-576410a0ab9c",
   "metadata": {},
   "outputs": [
    {
     "name": "stdout",
     "output_type": "stream",
     "text": [
      "No\n",
      "No\n",
      "No\n",
      "No\n",
      "No\n"
     ]
    }
   ],
   "source": [
    "for letter in (pilihan): #looping huruf di pilihan kalimat\n",
    "    if letter == (clue): \n",
    "        #condition apabila tebakan huruf benar / salah seperti yg tercantum di pilihan kalimat\n",
    "        print(\"Yes\")\n",
    "    else:\n",
    "        print(\"No\")"
   ]
  }
 ],
 "metadata": {
  "kernelspec": {
   "display_name": "Python 3 (ipykernel)",
   "language": "python",
   "name": "python3"
  },
  "language_info": {
   "codemirror_mode": {
    "name": "ipython",
    "version": 3
   },
   "file_extension": ".py",
   "mimetype": "text/x-python",
   "name": "python",
   "nbconvert_exporter": "python",
   "pygments_lexer": "ipython3",
   "version": "3.9.7"
  }
 },
 "nbformat": 4,
 "nbformat_minor": 5
}
