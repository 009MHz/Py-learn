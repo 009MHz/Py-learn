{
 "cells": [
  {
   "cell_type": "markdown",
   "id": "573e5473-5133-44c6-9986-4818186b9ea0",
   "metadata": {},
   "source": [
    "# Phase 4\n",
    "- Shorten the ASCII \n",
    "- Calling the object from another files \n",
    "- randoming the word from another files"
   ]
  },
  {
   "cell_type": "markdown",
   "id": "186f7621-8d0e-476a-afbf-1540a2df2421",
   "metadata": {
    "tags": []
   },
   "source": [
    "### Todo 0\n",
    "- Importing the values from another files\n",
    "- Importing the modules\n",
    "- Set the condition"
   ]
  },
  {
   "cell_type": "code",
   "execution_count": 1,
   "id": "75fe6763-10be-4e79-b0ae-57bd4db45a73",
   "metadata": {},
   "outputs": [],
   "source": [
    "import random\n",
    "from hangman_words import word_list\n",
    "from hangman_art import stages, logo\n",
    "\n",
    "end_of_game = False\n",
    "lives = 6"
   ]
  },
  {
   "cell_type": "markdown",
   "id": "8053b880-0ee5-4da6-a69f-91545c004b67",
   "metadata": {},
   "source": [
    "### Todo 1: Randoming the hidden word"
   ]
  },
  {
   "cell_type": "code",
   "execution_count": 2,
   "id": "5c4fc96c-a6da-4c59-896a-5fdf2bf09354",
   "metadata": {},
   "outputs": [],
   "source": [
    "chosen_word = random.choice(word_list)\n",
    "word_length = len(chosen_word)"
   ]
  },
  {
   "cell_type": "markdown",
   "id": "4f39d94e-cdf2-4649-b26b-bab79ec0467f",
   "metadata": {},
   "source": [
    "    Testing hidden word for debugging"
   ]
  },
  {
   "cell_type": "code",
   "execution_count": 3,
   "id": "d533732c-b5d9-432e-8b14-e48e493e803f",
   "metadata": {},
   "outputs": [
    {
     "name": "stdout",
     "output_type": "stream",
     "text": [
      "Pssst, the solution is twelfths.\n"
     ]
    }
   ],
   "source": [
    "print(f'Pssst, the solution is {chosen_word}.')"
   ]
  },
  {
   "cell_type": "markdown",
   "id": "d7bb02fc-9e3f-4fa6-b543-565fbb0c950a",
   "metadata": {},
   "source": [
    "### Todo 2: Converting jumlah text menjadi stripes"
   ]
  },
  {
   "cell_type": "code",
   "execution_count": 4,
   "id": "2d038ce0-bed0-4b32-befb-9f575a4b5280",
   "metadata": {},
   "outputs": [],
   "source": [
    "display = []\n",
    "for stripes in chosen_word:\n",
    "    display.append(\"_\")"
   ]
  },
  {
   "cell_type": "markdown",
   "id": "812f402e-47c2-45fe-9655-af32ee8b96d8",
   "metadata": {},
   "source": [
    "### Todo 3: Check the guess vs randomed word\n",
    "### Todo 4: Looping the prompt until there's no more stripes\n",
    "Use a while loop to let the user guess again. The loop should only stop once the user has guessed all the letters in the chosen_word and 'display' has no more blanks (\"_\"). Then you can tell the user they've won.\n",
    "\n",
    "### Todo 5: \n",
    "- If guess is not a letter in the chosen_word, Then reduce 'lives' by 1. \n",
    "- If lives goes down to 0 then the game should stop and it should print \"You lose.\"\n",
    "\n",
    "### Todo 6: \n",
    "- print the ASCII art from 'stages' that corresponds to the current number of 'lives' the user has remaining.\n",
    "\n",
    "### Todo 7: \n",
    "Handling duplicate input from previous guess"
   ]
  },
  {
   "cell_type": "code",
   "execution_count": 5,
   "id": "4a03c4fd-0ead-4bb5-9e52-826a97af059a",
   "metadata": {},
   "outputs": [
    {
     "name": "stdin",
     "output_type": "stream",
     "text": [
      "Guess a letter:  a\n"
     ]
    },
    {
     "name": "stdout",
     "output_type": "stream",
     "text": [
      "['_', '_', '_', '_', '_', '_', '_', '_']\n",
      " You have 5 attempts remaining\n",
      "\n",
      "  +---+\n",
      "  |   |\n",
      "  O   |\n",
      "      |\n",
      "      |\n",
      "      |\n",
      "=========\n",
      "\n"
     ]
    },
    {
     "name": "stdin",
     "output_type": "stream",
     "text": [
      "Guess a letter:  s\n"
     ]
    },
    {
     "name": "stdout",
     "output_type": "stream",
     "text": [
      "['_', '_', '_', '_', '_', '_', '_', 's']\n",
      "\n",
      "  +---+\n",
      "  |   |\n",
      "  O   |\n",
      "      |\n",
      "      |\n",
      "      |\n",
      "=========\n",
      "\n"
     ]
    },
    {
     "name": "stdin",
     "output_type": "stream",
     "text": [
      "Guess a letter:  e\n"
     ]
    },
    {
     "name": "stdout",
     "output_type": "stream",
     "text": [
      "['_', '_', 'e', '_', '_', '_', '_', 's']\n",
      "\n",
      "  +---+\n",
      "  |   |\n",
      "  O   |\n",
      "      |\n",
      "      |\n",
      "      |\n",
      "=========\n",
      "\n"
     ]
    },
    {
     "name": "stdin",
     "output_type": "stream",
     "text": [
      "Guess a letter:  e\n"
     ]
    },
    {
     "name": "stdout",
     "output_type": "stream",
     "text": [
      "You already guessed \"e\" before, try another\n",
      "['_', '_', 'e', '_', '_', '_', '_', 's']\n",
      "\n",
      "  +---+\n",
      "  |   |\n",
      "  O   |\n",
      "      |\n",
      "      |\n",
      "      |\n",
      "=========\n",
      "\n"
     ]
    },
    {
     "name": "stdin",
     "output_type": "stream",
     "text": [
      "Guess a letter:  w\n"
     ]
    },
    {
     "name": "stdout",
     "output_type": "stream",
     "text": [
      "['_', 'w', 'e', '_', '_', '_', '_', 's']\n",
      "\n",
      "  +---+\n",
      "  |   |\n",
      "  O   |\n",
      "      |\n",
      "      |\n",
      "      |\n",
      "=========\n",
      "\n"
     ]
    },
    {
     "name": "stdin",
     "output_type": "stream",
     "text": [
      "Guess a letter:  w\n"
     ]
    },
    {
     "name": "stdout",
     "output_type": "stream",
     "text": [
      "You already guessed \"w\" before, try another\n",
      "['_', 'w', 'e', '_', '_', '_', '_', 's']\n",
      "\n",
      "  +---+\n",
      "  |   |\n",
      "  O   |\n",
      "      |\n",
      "      |\n",
      "      |\n",
      "=========\n",
      "\n"
     ]
    },
    {
     "name": "stdin",
     "output_type": "stream",
     "text": [
      "Guess a letter:  t\n"
     ]
    },
    {
     "name": "stdout",
     "output_type": "stream",
     "text": [
      "You already guessed \"t\" before, try another\n",
      "['t', 'w', 'e', '_', '_', 't', '_', 's']\n",
      "\n",
      "  +---+\n",
      "  |   |\n",
      "  O   |\n",
      "      |\n",
      "      |\n",
      "      |\n",
      "=========\n",
      "\n"
     ]
    },
    {
     "name": "stdin",
     "output_type": "stream",
     "text": [
      "Guess a letter:  t\n"
     ]
    },
    {
     "name": "stdout",
     "output_type": "stream",
     "text": [
      "You already guessed \"t\" before, try another\n",
      "You already guessed \"t\" before, try another\n",
      "['t', 'w', 'e', '_', '_', 't', '_', 's']\n",
      "\n",
      "  +---+\n",
      "  |   |\n",
      "  O   |\n",
      "      |\n",
      "      |\n",
      "      |\n",
      "=========\n",
      "\n"
     ]
    },
    {
     "name": "stdin",
     "output_type": "stream",
     "text": [
      "Guess a letter:  l\n"
     ]
    },
    {
     "name": "stdout",
     "output_type": "stream",
     "text": [
      "['t', 'w', 'e', 'l', '_', 't', '_', 's']\n",
      "\n",
      "  +---+\n",
      "  |   |\n",
      "  O   |\n",
      "      |\n",
      "      |\n",
      "      |\n",
      "=========\n",
      "\n"
     ]
    },
    {
     "name": "stdin",
     "output_type": "stream",
     "text": [
      "Guess a letter:  g\n"
     ]
    },
    {
     "name": "stdout",
     "output_type": "stream",
     "text": [
      "['t', 'w', 'e', 'l', '_', 't', '_', 's']\n",
      " You have 4 attempts remaining\n",
      "\n",
      "  +---+\n",
      "  |   |\n",
      "  O   |\n",
      "  |   |\n",
      "      |\n",
      "      |\n",
      "=========\n",
      "\n"
     ]
    },
    {
     "name": "stdin",
     "output_type": "stream",
     "text": [
      "Guess a letter:  h\n"
     ]
    },
    {
     "name": "stdout",
     "output_type": "stream",
     "text": [
      "['t', 'w', 'e', 'l', '_', 't', 'h', 's']\n",
      "\n",
      "  +---+\n",
      "  |   |\n",
      "  O   |\n",
      "  |   |\n",
      "      |\n",
      "      |\n",
      "=========\n",
      "\n"
     ]
    },
    {
     "name": "stdin",
     "output_type": "stream",
     "text": [
      "Guess a letter:  h\n"
     ]
    },
    {
     "name": "stdout",
     "output_type": "stream",
     "text": [
      "You already guessed \"h\" before, try another\n",
      "['t', 'w', 'e', 'l', '_', 't', 'h', 's']\n",
      "\n",
      "  +---+\n",
      "  |   |\n",
      "  O   |\n",
      "  |   |\n",
      "      |\n",
      "      |\n",
      "=========\n",
      "\n"
     ]
    },
    {
     "name": "stdin",
     "output_type": "stream",
     "text": [
      "Guess a letter:  v\n"
     ]
    },
    {
     "name": "stdout",
     "output_type": "stream",
     "text": [
      "['t', 'w', 'e', 'l', '_', 't', 'h', 's']\n",
      " You have 3 attempts remaining\n",
      "\n",
      "  +---+\n",
      "  |   |\n",
      "  O   |\n",
      " /|   |\n",
      "      |\n",
      "      |\n",
      "=========\n"
     ]
    },
    {
     "name": "stdin",
     "output_type": "stream",
     "text": [
      "Guess a letter:  f\n"
     ]
    },
    {
     "name": "stdout",
     "output_type": "stream",
     "text": [
      "['t', 'w', 'e', 'l', 'f', 't', 'h', 's']\n",
      "You Win\n",
      "\n",
      "  +---+\n",
      "  |   |\n",
      "  O   |\n",
      " /|   |\n",
      "      |\n",
      "      |\n",
      "=========\n"
     ]
    }
   ],
   "source": [
    "# Todo 4: looping the prompt\n",
    "while not end_of_game:\n",
    "    guess = input(\"Guess a letter: \").lower()\n",
    "    \n",
    "    # Todo 3: Check the guess vs randomed word\n",
    "    for x in range(word_length):\n",
    "        letter = chosen_word[x]\n",
    "        #print(f\"Current position: {position}\\n Current letter: {letter}\\n Guessed letter: {guess}\")\n",
    "        if letter == guess:\n",
    "            # Todo 7: Handling duplicate input from previous guess\n",
    "            if guess in display:\n",
    "                print(f'You already guessed \"{guess}\" before, try another')\n",
    "            display[x] = letter\n",
    "    print(display)\n",
    "\n",
    "    # Todo 5a: reducing the lives\n",
    "    if guess not in chosen_word: \n",
    "        # indent level code ini harus sejajar dengan line 83 agar tidak nge run berkali kali sejumlah huruf pada kata yang diambil\n",
    "        lives -= 1\n",
    "        print(f\" You have {lives} attempts remaining\")\n",
    "    \n",
    "        # Todo 5b: ending the game using second exit point\n",
    "        if lives == 0:  # syarat untuk mengakhiri game\n",
    "            end_of_game = True # kondisi spesifik untuk mengakhiri looping\n",
    "            print (f'\"Game Over\"\\nThe Correct Word is \"{chosen_word}\"')\n",
    "\n",
    "    if \"_\" not in display:\n",
    "        end_of_game = True # exit condition pertama\n",
    "        print(\"You Win\")\n",
    "\n",
    "    # Todo 6: print out the stages that represent to user's attempt\n",
    "    print(stages[lives])"
   ]
  },
  {
   "cell_type": "code",
   "execution_count": null,
   "id": "b0966f9f-ba82-4c92-8bd9-77686c8f883d",
   "metadata": {},
   "outputs": [],
   "source": []
  }
 ],
 "metadata": {
  "kernelspec": {
   "display_name": "Python 3 (ipykernel)",
   "language": "python",
   "name": "python3"
  },
  "language_info": {
   "codemirror_mode": {
    "name": "ipython",
    "version": 3
   },
   "file_extension": ".py",
   "mimetype": "text/x-python",
   "name": "python",
   "nbconvert_exporter": "python",
   "pygments_lexer": "ipython3",
   "version": "3.9.7"
  }
 },
 "nbformat": 4,
 "nbformat_minor": 5
}
