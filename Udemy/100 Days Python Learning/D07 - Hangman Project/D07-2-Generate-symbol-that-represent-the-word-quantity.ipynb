{
 "cells": [
  {
   "cell_type": "markdown",
   "id": "f9000a6a-af5a-4c43-8beb-99f3af91545e",
   "metadata": {},
   "source": [
    "# Phase 1 - Advance"
   ]
  },
  {
   "cell_type": "code",
   "execution_count": 1,
   "id": "a47cd9de-300f-4da1-a310-8431a6c9f6f5",
   "metadata": {},
   "outputs": [],
   "source": [
    "import random\n",
    "word_list = [\"aardvark\", \"baboon\", \"camel\"]\n",
    "chosen_word = random.choice(word_list)"
   ]
  },
  {
   "cell_type": "code",
   "execution_count": 2,
   "id": "52c169ba-f56c-4b1d-9f18-255352db5563",
   "metadata": {},
   "outputs": [
    {
     "name": "stdout",
     "output_type": "stream",
     "text": [
      "Solution is \"baboon\".\n"
     ]
    }
   ],
   "source": [
    "print(f'Solution is \"{chosen_word}\".')  # help for check the generated word"
   ]
  },
  {
   "cell_type": "markdown",
   "id": "749186f2-dbf6-4882-b4a9-2c11a77bb758",
   "metadata": {},
   "source": [
    "Converting the randomized text into underscore"
   ]
  },
  {
   "cell_type": "code",
   "execution_count": 3,
   "id": "0b57967b-8d7c-4502-a196-aec51189aeff",
   "metadata": {},
   "outputs": [
    {
     "name": "stdout",
     "output_type": "stream",
     "text": [
      "['_', '_', '_', '_', '_', '_']\n"
     ]
    }
   ],
   "source": [
    "display = [] #key untuk membuat list kosong sebelum diconvert menjadi jumlah strip\n",
    " \n",
    "for x in chosen_word:\n",
    "    # iterating the text\n",
    "    display.append(\"_\")  \n",
    "    # adding '_' into list sebanyak passed word\n",
    "print(display)"
   ]
  },
  {
   "cell_type": "markdown",
   "id": "ba0a7a1c-2876-4892-954b-afca9d86186a",
   "metadata": {},
   "source": [
    "Check if the letter the user guessed is one of the letters in the chosen_word."
   ]
  },
  {
   "cell_type": "code",
   "execution_count": 4,
   "id": "62f3432c-83fc-4c69-8283-3d2fd421bbba",
   "metadata": {},
   "outputs": [
    {
     "name": "stdin",
     "output_type": "stream",
     "text": [
      "Guess a letter:  a\n"
     ]
    },
    {
     "name": "stdout",
     "output_type": "stream",
     "text": [
      "['_', 'a', '_', '_', '_', '_']\n"
     ]
    }
   ],
   "source": [
    "guess = input(\"Guess a letter: \").lower()\n",
    "for text_position in range(len(chosen_word)): \n",
    "    # converting choosen word menjadi range (sejumlah text yg diberikan)\n",
    "    # iterating text menjadi urutan index pada substring\n",
    "    if guess == chosen_word[text_position]: \n",
    "        # calling text yg terandom menggunakan substring iteration\n",
    "        # verify passed character based on substring iteration\n",
    "        display[text_position] = guess \n",
    "        # converting strip menjadi text jika guess user ada dalam substring iteration\n",
    "print(display)"
   ]
  }
 ],
 "metadata": {
  "kernelspec": {
   "display_name": "Python 3 (ipykernel)",
   "language": "python",
   "name": "python3"
  },
  "language_info": {
   "codemirror_mode": {
    "name": "ipython",
    "version": 3
   },
   "file_extension": ".py",
   "mimetype": "text/x-python",
   "name": "python",
   "nbconvert_exporter": "python",
   "pygments_lexer": "ipython3",
   "version": "3.9.7"
  }
 },
 "nbformat": 4,
 "nbformat_minor": 5
}
