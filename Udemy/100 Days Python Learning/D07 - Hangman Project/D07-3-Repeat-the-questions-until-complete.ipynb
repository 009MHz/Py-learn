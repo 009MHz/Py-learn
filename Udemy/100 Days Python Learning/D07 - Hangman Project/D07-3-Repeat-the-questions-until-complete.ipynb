{
 "cells": [
  {
   "cell_type": "markdown",
   "id": "573e5473-5133-44c6-9986-4818186b9ea0",
   "metadata": {},
   "source": [
    "# Phase 2\n",
    "- Set the looping condition until the hidden word is revealed"
   ]
  },
  {
   "cell_type": "markdown",
   "id": "8053b880-0ee5-4da6-a69f-91545c004b67",
   "metadata": {},
   "source": [
    "Todo 1: Randoming the hidden word"
   ]
  },
  {
   "cell_type": "code",
   "execution_count": 1,
   "id": "5c4fc96c-a6da-4c59-896a-5fdf2bf09354",
   "metadata": {},
   "outputs": [],
   "source": [
    "import random\n",
    "word_list = [\"aardvark\", \"baboon\", \"camel\"]\n",
    "chosen_word = random.choice(word_list)\n",
    "word_length = len(chosen_word)"
   ]
  },
  {
   "cell_type": "code",
   "execution_count": 2,
   "id": "d533732c-b5d9-432e-8b14-e48e493e803f",
   "metadata": {},
   "outputs": [
    {
     "name": "stdout",
     "output_type": "stream",
     "text": [
      "Pssst, the solution is aardvark.\n"
     ]
    }
   ],
   "source": [
    "# Testing code for debugging\n",
    "print(f'Pssst, the solution is {chosen_word}.')"
   ]
  },
  {
   "cell_type": "markdown",
   "id": "d7bb02fc-9e3f-4fa6-b543-565fbb0c950a",
   "metadata": {},
   "source": [
    "Todo 2: Converting jumlah text menjadi stripes"
   ]
  },
  {
   "cell_type": "code",
   "execution_count": 3,
   "id": "2d038ce0-bed0-4b32-befb-9f575a4b5280",
   "metadata": {},
   "outputs": [],
   "source": [
    "display = []\n",
    "for stripes in chosen_word:\n",
    "    display.append(\"_\")"
   ]
  },
  {
   "cell_type": "markdown",
   "id": "0220f7e7-8d03-4bcb-9cdd-3580650b8f73",
   "metadata": {},
   "source": [
    "Todo 4: Looping the prompt until there's no more stripes\n",
    "\n",
    "Use a while loop to let the user guess again. The loop should only stop once the user has guessed all the letters in the chosen_word and 'display' has no more blanks (\"_\"). Then you can tell the user they've won."
   ]
  },
  {
   "cell_type": "code",
   "execution_count": 4,
   "id": "4a03c4fd-0ead-4bb5-9e52-826a97af059a",
   "metadata": {},
   "outputs": [
    {
     "name": "stdin",
     "output_type": "stream",
     "text": [
      "Guess a letter:  a\n"
     ]
    },
    {
     "name": "stdout",
     "output_type": "stream",
     "text": [
      "['a', 'a', '_', '_', '_', 'a', '_', '_']\n"
     ]
    },
    {
     "name": "stdin",
     "output_type": "stream",
     "text": [
      "Guess a letter:  r\n"
     ]
    },
    {
     "name": "stdout",
     "output_type": "stream",
     "text": [
      "['a', 'a', 'r', '_', '_', 'a', 'r', '_']\n"
     ]
    },
    {
     "name": "stdin",
     "output_type": "stream",
     "text": [
      "Guess a letter:  d\n"
     ]
    },
    {
     "name": "stdout",
     "output_type": "stream",
     "text": [
      "['a', 'a', 'r', 'd', '_', 'a', 'r', '_']\n"
     ]
    },
    {
     "name": "stdin",
     "output_type": "stream",
     "text": [
      "Guess a letter:  v\n"
     ]
    },
    {
     "name": "stdout",
     "output_type": "stream",
     "text": [
      "['a', 'a', 'r', 'd', 'v', 'a', 'r', '_']\n"
     ]
    },
    {
     "name": "stdin",
     "output_type": "stream",
     "text": [
      "Guess a letter:  k\n"
     ]
    },
    {
     "name": "stdout",
     "output_type": "stream",
     "text": [
      "['a', 'a', 'r', 'd', 'v', 'a', 'r', 'k']\n",
      "Game Over\n"
     ]
    }
   ],
   "source": [
    "game_over = False # condition yg diberi jika scenario belum selesai\n",
    "while not game_over:\n",
    "    guess = input(\"Guess a letter: \").lower()\n",
    "    \n",
    "    #Todo 3: Check the guess vs randomed word\n",
    "    for position in range(word_length):\n",
    "        letter = chosen_word[position]\n",
    "        #print(f\"Current position: {position}\\n Current letter: {letter}\\n Guessed letter: {guess}\")\n",
    "        if letter == guess:\n",
    "            display[position] = letter\n",
    "    \n",
    "    print(display)\n",
    "    if \"_\" not in display:\n",
    "        game_over = True #condition yang diminta untuk mengakhiri looping\n",
    "        print(\"Game Over\")"
   ]
  },
  {
   "cell_type": "markdown",
   "id": "6c1eafc7-c219-4484-b8f4-d8a5854a9363",
   "metadata": {},
   "source": [
    "### Course Approach handling Todo 4"
   ]
  },
  {
   "cell_type": "code",
   "execution_count": null,
   "id": "22f4ca97-3254-4b1e-b75c-5119dc8973a0",
   "metadata": {},
   "outputs": [],
   "source": [
    "while \"_\" in display: \n",
    "    # kondisi untuk looping jika masih ada stripes (teks kosong) pada kalimat yang diminta\n",
    "    guess = input(\"Guess a letter: \").lower()\n",
    "     \n",
    "    for text_position in range(len(chosen_word)): \n",
    "        if guess == chosen_word[text_position]: \n",
    "            display[text_position] = guess \n",
    "    print(display)\n",
    "    if \"_\" not in display: #kondisi jika semua teks kosong (strip) sudah tidak ada lagi\n",
    "        print (\"game Over\")"
   ]
  }
 ],
 "metadata": {
  "kernelspec": {
   "display_name": "Python 3 (ipykernel)",
   "language": "python",
   "name": "python3"
  },
  "language_info": {
   "codemirror_mode": {
    "name": "ipython",
    "version": 3
   },
   "file_extension": ".py",
   "mimetype": "text/x-python",
   "name": "python",
   "nbconvert_exporter": "python",
   "pygments_lexer": "ipython3",
   "version": "3.9.7"
  }
 },
 "nbformat": 4,
 "nbformat_minor": 5
}
