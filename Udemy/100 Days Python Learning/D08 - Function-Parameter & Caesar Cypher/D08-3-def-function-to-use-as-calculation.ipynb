{
 "cells": [
  {
   "cell_type": "markdown",
   "id": "5f81bf93-e7a4-4116-9a50-00f98698664f",
   "metadata": {},
   "source": [
    "## Concept:\n",
    "Menghitung jumlah kalng cat yang dibutuhkan pada luas bidang yang di masukkan dengan metode 'multiple keyword arguments'"
   ]
  },
  {
   "cell_type": "code",
   "execution_count": null,
   "id": "5651e0f7-f797-47ca-823a-8ce21d154d93",
   "metadata": {},
   "outputs": [],
   "source": [
    "import math #code untuk menambah formula supaya semua deciamal selalu ROUNDUP"
   ]
  },
  {
   "cell_type": "code",
   "execution_count": null,
   "id": "1c622714-6edb-459d-a7a1-0293b22e01eb",
   "metadata": {},
   "outputs": [],
   "source": [
    "def paint_calc(height,width,cover):\n",
    "    cans_number = test_h*test_w / cover\n",
    "    cans = math.ceil(cans_number) #ROUNDUP angka desimal dari hasil yg didaapat\n",
    "    print(cans_number)\n",
    "    print(cans)\n",
    "    print(f\"You'll need {cans} of paint\")"
   ]
  },
  {
   "cell_type": "code",
   "execution_count": null,
   "id": "6a99f8b2-22ce-4c8e-994a-033a314337f6",
   "metadata": {},
   "outputs": [],
   "source": [
    "# Don't change the code on this cell\n",
    "test_h = int(input(\"Height of wall: \"))\n",
    "test_w = int(input(\"Width of wall: \"))\n",
    "coverage = 5\n",
    "paint_calc(height=test_h, width=test_w, cover=coverage)"
   ]
  }
 ],
 "metadata": {
  "kernelspec": {
   "display_name": "Python 3 (ipykernel)",
   "language": "python",
   "name": "python3"
  },
  "language_info": {
   "codemirror_mode": {
    "name": "ipython",
    "version": 3
   },
   "file_extension": ".py",
   "mimetype": "text/x-python",
   "name": "python",
   "nbconvert_exporter": "python",
   "pygments_lexer": "ipython3",
   "version": "3.9.7"
  }
 },
 "nbformat": 4,
 "nbformat_minor": 5
}
