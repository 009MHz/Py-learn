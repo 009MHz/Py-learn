{
 "cells": [
  {
   "cell_type": "markdown",
   "id": "fa565e33-f942-4997-b47f-855e39aeaad6",
   "metadata": {},
   "source": [
    "### Phase 2: Decrypting\n",
    "Concept: mengkonversi text yang ter-enkripsi menjadi readable words"
   ]
  },
  {
   "cell_type": "code",
   "execution_count": 1,
   "id": "08ce9b15-3855-4573-bb65-0a65dd1d0100",
   "metadata": {},
   "outputs": [],
   "source": [
    "alphabet = ['a', 'b', 'c', 'd', 'e', 'f', 'g', 'h', 'i', 'j', 'k', 'l', 'm', 'n', 'o', 'p', 'q', 'r', 's', 't', 'u', 'v', 'w', 'x', 'y', 'z']"
   ]
  },
  {
   "cell_type": "code",
   "execution_count": 2,
   "id": "17e56058-dc7b-4e84-9681-ccfcc76cfe04",
   "metadata": {},
   "outputs": [
    {
     "name": "stdin",
     "output_type": "stream",
     "text": [
      "Type 'encode' to encrypt, type 'decode' to decrypt:\n",
      " decode\n",
      "Type your message:\n",
      " jwdtdhnbb\n",
      "Type the shift number:\n",
      " 9\n"
     ]
    }
   ],
   "source": [
    "direction = input(\"Type 'encode' to encrypt, type 'decode' to decrypt:\\n\")\n",
    "text = input(\"Type your message:\\n\").lower()\n",
    "shift = int(input(\"Type the shift number:\\n\"))"
   ]
  },
  {
   "cell_type": "code",
   "execution_count": 3,
   "id": "d0239142-c10d-48f1-bda3-26cc29af7a94",
   "metadata": {},
   "outputs": [],
   "source": [
    "alphabet.extend(alphabet) \n",
    "# code untuk mengulang list jika user berusaha input huruf yang berada diakhir list yg menyebabkan hasil yg baru di luar jangkauan list"
   ]
  },
  {
   "cell_type": "markdown",
   "id": "7ec78757-5952-41cf-8521-9704fae3679f",
   "metadata": {},
   "source": [
    "**Todo 1:** Create a different function called 'decrypt' that takes the 'text' and 'shift' as inputs."
   ]
  },
  {
   "cell_type": "markdown",
   "id": "3876a662-f95b-4529-9272-b319cdfde884",
   "metadata": {},
   "source": [
    "**Todo 2:** Inside the 'decrypt' function, shift each letter of the 'text' *backwards* in the alphabet by the shift amount and print the decrypted text.\n",
    "\n",
    "Example:"
   ]
  },
  {
   "cell_type": "raw",
   "id": "593da36a-a40f-4630-b6ca-135c30164634",
   "metadata": {},
   "source": [
    "cipher_text = \"mjqqt\"\n",
    "shift = 5\n",
    "plain_text = \"hello\"\n",
    "print output: \"The decoded text is hello\""
   ]
  },
  {
   "cell_type": "code",
   "execution_count": 4,
   "id": "3f14f9b8-31ab-41b0-b058-799f0a5a4ea5",
   "metadata": {},
   "outputs": [],
   "source": [
    "# Todo 1\n",
    "def decrypt(plain_text,shift_amount):\n",
    "    decr_text =\"\"\n",
    "    # Todo 2\n",
    "    for letter in plain_text:\n",
    "        position = alphabet.index(letter)\n",
    "        new_pos = position - shift_amount\n",
    "        decr_text += alphabet[new_pos]\n",
    "    print(f\"The decoded text is '{decr_text}'\")"
   ]
  },
  {
   "cell_type": "markdown",
   "id": "1d6ed42d-8fc8-4a18-abec-65ec80501a9e",
   "metadata": {},
   "source": [
    "**Todo 3:** Check the decrypt result based on user input"
   ]
  },
  {
   "cell_type": "code",
   "execution_count": 7,
   "id": "d955c012-ab17-4ca2-b5cf-5273ef5a888b",
   "metadata": {},
   "outputs": [
    {
     "name": "stdout",
     "output_type": "stream",
     "text": [
      "The decoded text is 'anukuyess'\n"
     ]
    }
   ],
   "source": [
    "# Todo 3\n",
    "decrypt(plain_text = text,shift_amount = shift)"
   ]
  }
 ],
 "metadata": {
  "kernelspec": {
   "display_name": "Python 3 (ipykernel)",
   "language": "python",
   "name": "python3"
  },
  "language_info": {
   "codemirror_mode": {
    "name": "ipython",
    "version": 3
   },
   "file_extension": ".py",
   "mimetype": "text/x-python",
   "name": "python",
   "nbconvert_exporter": "python",
   "pygments_lexer": "ipython3",
   "version": "3.9.7"
  }
 },
 "nbformat": 4,
 "nbformat_minor": 5
}
