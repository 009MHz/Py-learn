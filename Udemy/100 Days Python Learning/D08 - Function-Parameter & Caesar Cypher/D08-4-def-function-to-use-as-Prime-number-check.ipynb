{
 "cells": [
  {
   "cell_type": "markdown",
   "id": "ba58094d-d661-48f2-aedb-c17f534f7c3f",
   "metadata": {},
   "source": [
    "# Prime number function\n",
    "### Concept:\n",
    "Membuat fungsi untuk me return semua bilangan ganjil dari user input"
   ]
  },
  {
   "cell_type": "code",
   "execution_count": 1,
   "id": "17c8aa43-dddc-4987-97cf-344cdf43593a",
   "metadata": {},
   "outputs": [],
   "source": [
    "def prime_checker(number):\n",
    "    prime = True #variable untuk menentukan apakah angka yang dicari prime or not\n",
    "    for check in range(2,number): \n",
    "        # looping angka yang dicari dengan start 2 (i.e: 97), karena prime number pasti bisa dibagi 1\n",
    "        if number % check == 0 : \n",
    "            '''nomor yang diinput / looping nomor yang dicari (97%2, 97%3,...97%97) \n",
    "            dan tidak mengikutkan bilangan itu sendiri'''\n",
    "            prime = False \n",
    "            '''kondisi yang dikembalikan adalah \"Bukan bilangan prima\",\n",
    "            karena semua bilangan prima harus sisa 1 jika menggunakan modulo'''\n",
    "    if prime:\n",
    "        print (\"It's a prime number.\") \n",
    "        # kondisi ditarik satu indent supaya outputnya adalah hasil akhirnya\n",
    "    else:\n",
    "        print(\"It's not a prime number.\")"
   ]
  },
  {
   "cell_type": "code",
   "execution_count": 3,
   "id": "9f50438c-5555-4780-baa9-9e0d0f560197",
   "metadata": {},
   "outputs": [
    {
     "name": "stdin",
     "output_type": "stream",
     "text": [
      "Check this number:  23\n"
     ]
    },
    {
     "name": "stdout",
     "output_type": "stream",
     "text": [
      "It's a prime number.\n"
     ]
    }
   ],
   "source": [
    "# Do NOT change any of the code on this cell\n",
    "n = int(input(\"Check this number: \"))\n",
    "prime_checker(number=n)"
   ]
  }
 ],
 "metadata": {
  "kernelspec": {
   "display_name": "Python 3 (ipykernel)",
   "language": "python",
   "name": "python3"
  },
  "language_info": {
   "codemirror_mode": {
    "name": "ipython",
    "version": 3
   },
   "file_extension": ".py",
   "mimetype": "text/x-python",
   "name": "python",
   "nbconvert_exporter": "python",
   "pygments_lexer": "ipython3",
   "version": "3.9.7"
  }
 },
 "nbformat": 4,
 "nbformat_minor": 5
}
