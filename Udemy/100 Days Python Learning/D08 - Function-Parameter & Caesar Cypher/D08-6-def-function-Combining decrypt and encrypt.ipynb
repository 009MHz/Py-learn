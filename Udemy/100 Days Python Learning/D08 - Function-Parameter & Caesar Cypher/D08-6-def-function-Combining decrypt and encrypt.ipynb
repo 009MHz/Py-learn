{
 "cells": [
  {
   "cell_type": "markdown",
   "id": "876d3098-596b-47e9-b80f-3940d688b3df",
   "metadata": {},
   "source": [
    "### Phase 3: Encrypting & Decrypting\n",
    "Concept: merubah input text menjadi alfabet dengan posisi yang ditentukan by input user"
   ]
  },
  {
   "cell_type": "code",
   "execution_count": 1,
   "id": "74f51ccb-5662-44d0-bb39-ea808807a2f4",
   "metadata": {},
   "outputs": [],
   "source": [
    "alphabet = ['a', 'b', 'c', 'd', 'e', 'f', 'g', 'h', 'i', 'j', 'k', 'l', 'm', 'n', 'o', 'p', 'q', 'r', 's', 't', 'u', 'v', 'w', 'x', 'y', 'z', 'a', 'b', 'c', 'd', 'e', 'f', 'g', 'h', 'i', 'j', 'k', 'l', 'm', 'n', 'o', 'p', 'q', 'r', 's', 't', 'u', 'v', 'w', 'x', 'y', 'z']"
   ]
  },
  {
   "cell_type": "code",
   "execution_count": 2,
   "id": "7c1b89aa-29d6-4976-8384-df8acd1742e5",
   "metadata": {},
   "outputs": [
    {
     "name": "stdin",
     "output_type": "stream",
     "text": [
      "Type 'encode' to encrypt, type 'decode' to decrypt:\n",
      " decode\n",
      "Type your message:\n",
      " mjqqt\n",
      "Type the shift number:\n",
      " 5\n"
     ]
    }
   ],
   "source": [
    "direction = input(\"Type 'encode' to encrypt, type 'decode' to decrypt:\\n\")\n",
    "text = input(\"Type your message:\\n\").lower()\n",
    "shift = int(input(\"Type the shift number:\\n\"))"
   ]
  },
  {
   "cell_type": "markdown",
   "id": "1abb9278-7612-4e11-a733-04ad7c1b23aa",
   "metadata": {},
   "source": [
    "**Todo 1:** Combine the encrypt() and decrypt() functions into a single function called caesar(). "
   ]
  },
  {
   "cell_type": "markdown",
   "id": "ffdb28df-cfe8-4a7f-a4a0-f05dfc6cb010",
   "metadata": {},
   "source": [
    "    My Approaches"
   ]
  },
  {
   "cell_type": "code",
   "execution_count": 3,
   "id": "3fb1179a-674c-40c0-9399-e8694788ece2",
   "metadata": {},
   "outputs": [],
   "source": [
    "def caesar(texting, shifting, directioning):\n",
    "    crypt_text = \"\"\n",
    "    for letter in texting:\n",
    "        pos = alphabet.index(letter)\n",
    "        if direction == \"encode\":\n",
    "            new_pos = pos + shifting\n",
    "        elif direction == \"decode\":\n",
    "            new_pos = pos - shifting\n",
    "        crypt_text += alphabet[new_pos]\n",
    "    print(f'The {direction}d text is \"{crypt_text}\"')"
   ]
  },
  {
   "cell_type": "markdown",
   "id": "1fca62c5-bed3-4c55-9eac-490396c7d1e4",
   "metadata": {},
   "source": [
    "**Todo 2:** Call the caesar() function, passing over the 'text', 'shift' and 'direction' values."
   ]
  },
  {
   "cell_type": "code",
   "execution_count": 4,
   "id": "264376b0-d2f3-4694-b333-bd01e300c54d",
   "metadata": {},
   "outputs": [
    {
     "name": "stdout",
     "output_type": "stream",
     "text": [
      "The decoded text is \"hello\"\n"
     ]
    }
   ],
   "source": [
    "caesar(texting = text, shifting = shift, directioning = direction)"
   ]
  },
  {
   "cell_type": "markdown",
   "id": "6a6126a9-e260-4609-be4c-54cc262f2f76",
   "metadata": {},
   "source": [
    "    Course approaches"
   ]
  },
  {
   "cell_type": "code",
   "execution_count": null,
   "id": "bbe096b4-d089-43c9-a39c-a1b75bae6c8e",
   "metadata": {},
   "outputs": [],
   "source": [
    "def caesar(start_text, shift_amount, cipher_direction):\n",
    "    end_text = \"\"\n",
    "    if cipher_direction == \"decode\": \n",
    "        #statement untuk mengganti arah ketika user meminta decode, karena encode logic nya normal (positif)\n",
    "        shift_amount *= -1 \n",
    "        #logic ketika decode, untuk encode shift nya tetap memakai angka normal\n",
    "    for letter in start_text:\n",
    "        position = alphabet.index(letter)\n",
    "        new_position = position + shift_amount\n",
    "        end_text += alphabet[new_position]\n",
    "    print(f\"Here's the {direction}d result: {end_text}\")"
   ]
  },
  {
   "cell_type": "code",
   "execution_count": null,
   "id": "fa2d42ec-22f1-45be-ab27-3c9dcf56c314",
   "metadata": {},
   "outputs": [],
   "source": [
    "caesar(start_text=text, shift_amount=shift, cipher_direction=direction)"
   ]
  }
 ],
 "metadata": {
  "kernelspec": {
   "display_name": "Python 3 (ipykernel)",
   "language": "python",
   "name": "python3"
  },
  "language_info": {
   "codemirror_mode": {
    "name": "ipython",
    "version": 3
   },
   "file_extension": ".py",
   "mimetype": "text/x-python",
   "name": "python",
   "nbconvert_exporter": "python",
   "pygments_lexer": "ipython3",
   "version": "3.9.7"
  }
 },
 "nbformat": 4,
 "nbformat_minor": 5
}
