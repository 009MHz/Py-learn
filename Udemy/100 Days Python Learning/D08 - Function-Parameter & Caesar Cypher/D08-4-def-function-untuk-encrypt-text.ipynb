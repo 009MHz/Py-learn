{
 "cells": [
  {
   "cell_type": "markdown",
   "id": "fa565e33-f942-4997-b47f-855e39aeaad6",
   "metadata": {},
   "source": [
    "### Phase 1: Encrypting\n",
    "Concept: merubah input text menjadi alfabet dengan posisi yang ditentukan by input user"
   ]
  },
  {
   "cell_type": "code",
   "execution_count": 1,
   "id": "08ce9b15-3855-4573-bb65-0a65dd1d0100",
   "metadata": {},
   "outputs": [],
   "source": [
    "alphabet = ['a', 'b', 'c', 'd', 'e', 'f', 'g', 'h', 'i', 'j', 'k', 'l', 'm', 'n', 'o', 'p', 'q', 'r', 's', 't', 'u', 'v', 'w', 'x', 'y', 'z']"
   ]
  },
  {
   "cell_type": "code",
   "execution_count": 2,
   "id": "17e56058-dc7b-4e84-9681-ccfcc76cfe04",
   "metadata": {},
   "outputs": [
    {
     "name": "stdin",
     "output_type": "stream",
     "text": [
      "Type 'encode' to encrypt, type 'decode' to decrypt:\n",
      " encrypt\n",
      "Type your message:\n",
      " anukuyess\n",
      "Type the shift number:\n",
      " 9\n"
     ]
    }
   ],
   "source": [
    "direction = input(\"Type 'encode' to encrypt, type 'decode' to decrypt:\\n\")\n",
    "text = input(\"Type your message:\\n\").lower()\n",
    "shift = int(input(\"Type the shift number:\\n\"))"
   ]
  },
  {
   "cell_type": "markdown",
   "id": "71ec1910-c71a-4973-b149-38136921d7c5",
   "metadata": {},
   "source": [
    "**Todo 1:** Create a function called 'encrypt' that takes the 'text' and 'shift' as inputs."
   ]
  },
  {
   "cell_type": "code",
   "execution_count": 3,
   "id": "d0239142-c10d-48f1-bda3-26cc29af7a94",
   "metadata": {},
   "outputs": [],
   "source": [
    "alphabet.extend(alphabet) \n",
    "# code untuk mengulang list jika user berusaha input huruf yang berada diakhir list yg menyebabkan hasil yg baru di luar jangkauan list"
   ]
  },
  {
   "cell_type": "markdown",
   "id": "95635fe2-4c48-426a-b38f-63a2e3286677",
   "metadata": {},
   "source": [
    "**Todo 2:** Inside the 'encrypt' function, shift each letter of the 'text' forwards in the alphabet by the shift amount and print the encrypted text.\n",
    "\n",
    "example:"
   ]
  },
  {
   "cell_type": "raw",
   "id": "300fd513-1055-4656-bf07-a4a3e4671177",
   "metadata": {},
   "source": [
    "plain_text = \"hello\"\n",
    "shift = 5\n",
    "cipher_text = \"mjqqt\"\n",
    "print output: \"The encoded text is mjqqt\""
   ]
  },
  {
   "cell_type": "code",
   "execution_count": 4,
   "id": "21ab9b56-7ed1-4424-a933-a9b8441f6842",
   "metadata": {},
   "outputs": [],
   "source": [
    "# Todo 1: define the function\n",
    "def encrypt(text_new,shift_new): #usahakan jangan pakai \"text\" & \"shift\" untuk memisahkan antara parameter & argument\n",
    "    cypher_text =\"\"  # key untuk membuat string kosong\n",
    "    for text_check in text_new: #looping text one by one pada word yg diinput user\n",
    "        # Todo 2: shifting the position\n",
    "        text_pos = alphabet.index(text_check) # konversi huruf menjadi angka urutan afabet dalam list\n",
    "        new_pos = text_pos + shift_new  # merubah urutan alfabet setalah di shifting\n",
    "        new_text = alphabet[new_pos]  # konversi urutan baru ke menjadi alfabet baru\n",
    "        cypher_text += new_text #menggabungkan huruf yang dipanggil menjadi string baru\n",
    "    print(f'The endoded text is \"{cypher_text}\".')"
   ]
  },
  {
   "cell_type": "markdown",
   "id": "fb53fcaa-dd37-4df0-80d8-a2602e84324c",
   "metadata": {},
   "source": [
    "**TODO-3:** Call the encrypt function and pass in the user inputs. You should be able to test the code and encrypt a message. "
   ]
  },
  {
   "cell_type": "code",
   "execution_count": 5,
   "id": "acede342-d45c-4265-a31e-d46c0ca22996",
   "metadata": {},
   "outputs": [
    {
     "name": "stdout",
     "output_type": "stream",
     "text": [
      "The endoded text is \"jwdtdhnbb\".\n"
     ]
    }
   ],
   "source": [
    "encrypt(text_new=text,shift_new = shift)"
   ]
  }
 ],
 "metadata": {
  "kernelspec": {
   "display_name": "Python 3 (ipykernel)",
   "language": "python",
   "name": "python3"
  },
  "language_info": {
   "codemirror_mode": {
    "name": "ipython",
    "version": 3
   },
   "file_extension": ".py",
   "mimetype": "text/x-python",
   "name": "python",
   "nbconvert_exporter": "python",
   "pygments_lexer": "ipython3",
   "version": "3.9.7"
  }
 },
 "nbformat": 4,
 "nbformat_minor": 5
}
