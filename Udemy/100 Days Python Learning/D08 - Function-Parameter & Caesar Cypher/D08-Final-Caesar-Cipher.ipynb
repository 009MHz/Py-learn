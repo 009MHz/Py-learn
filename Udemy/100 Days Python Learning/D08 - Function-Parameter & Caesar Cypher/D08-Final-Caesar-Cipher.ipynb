{
 "cells": [
  {
   "cell_type": "markdown",
   "id": "f8f76a68-b167-43ad-be58-ef0693016356",
   "metadata": {},
   "source": [
    "### Phase 4: Debugging & re styling"
   ]
  },
  {
   "cell_type": "markdown",
   "id": "d7852d1a-18a5-470f-a24e-69a821492b31",
   "metadata": {},
   "source": [
    "***Todo 0***: Import and print the logo from art.py when the program starts."
   ]
  },
  {
   "cell_type": "code",
   "execution_count": null,
   "id": "567d45b4-8243-4b1d-941e-9f807b34b48b",
   "metadata": {},
   "outputs": [],
   "source": [
    "from art import logo"
   ]
  },
  {
   "cell_type": "code",
   "execution_count": null,
   "id": "65cca756-56b2-487a-8dba-6a4591cc93f8",
   "metadata": {},
   "outputs": [],
   "source": [
    "alphabet = ['a', 'b', 'c', 'd', 'e', 'f', 'g', 'h', 'i', 'j', 'k', 'l', 'm', 'n', 'o', 'p', 'q', 'r', 's', 't', 'u', 'v', 'w', 'x', 'y', 'z']"
   ]
  },
  {
   "cell_type": "markdown",
   "id": "882b5f44-ee88-4680-bb25-6bc0d9997b65",
   "metadata": {},
   "source": [
    "***Todo 1:*** Handling the code when user input any letters that outside the list range\n",
    "\n",
    "***Todo 2:*** Debugging the code when user input is number or symbol"
   ]
  },
  {
   "cell_type": "code",
   "execution_count": null,
   "id": "7ded78c8-308a-420e-8881-a510f6a59237",
   "metadata": {},
   "outputs": [],
   "source": [
    "def caesar(texting, shifting, directioning):\n",
    "    crypt_text = \"\"\n",
    "    for letter in texting:\n",
    "        if letter in alphabet:  # cek user input apakah berada dalam list range atau tidak\n",
    "            pos = alphabet.index(letter)\n",
    "            if direction == \"encode\":\n",
    "                new_pos = pos + shifting\n",
    "                while new_pos >= 26:  # Converting the index jika changed text berada di luar jangkauan\n",
    "                    new_pos -= 26\n",
    "            elif direction == \"decode\":\n",
    "                new_pos = pos - shifting\n",
    "                while new_pos <0:  # Converting the index jika changed text berada di luar jangkauan\n",
    "                    new_pos += 26\n",
    "                    crypt_text += alphabet[new_pos]\n",
    "            else: # returning semua input (symbol / angka) jika bukan teks\n",
    "                crypt_text += letter\n",
    "    print(f'The {direction}d result: \"{crypt_text}\"\\n')"
   ]
  },
  {
   "cell_type": "markdown",
   "id": "ff4381d0-9461-4f7d-8480-1546df8c0d4b",
   "metadata": {},
   "source": [
    "***Todo 3:*** Checking the output"
   ]
  },
  {
   "cell_type": "markdown",
   "id": "63e27b9e-fd22-4545-bf44-5c24b60ef993",
   "metadata": {},
   "source": [
    "***Todo 4:*** Looping the code based on user prompt to use or ending the programs"
   ]
  },
  {
   "cell_type": "code",
   "execution_count": null,
   "id": "f371383b-49ee-4282-b509-0a52469c4ff3",
   "metadata": {},
   "outputs": [],
   "source": [
    "print(logo)\n",
    "stop = False"
   ]
  },
  {
   "cell_type": "code",
   "execution_count": null,
   "id": "b261c7ff-fd24-43f1-a05d-b27960a58465",
   "metadata": {},
   "outputs": [],
   "source": [
    "while not stop: \n",
    "    direction = input(\"\\nType 'encode' to encrypt, type 'decode' to decrypt:\\n\")\n",
    "    text = input(\"Type your message:\\n\").lower()\n",
    "    shift = int(input(\"Type the shift number:\\n\"))\n",
    "    caesar(texting = text, shifting = shift, directioning = direction)\n",
    "    restart = input('Type \"Yes\" if you want to run again, type \"No\" if you decide to stop?\\n').lower()\n",
    "\n",
    "    if restart == \"no\":\n",
    "        stop = True #key  untuk mengakhiri looping command input\n",
    "        print(\"\\nI'll see you next time\")"
   ]
  }
 ],
 "metadata": {
  "kernelspec": {
   "display_name": "Python 3 (ipykernel)",
   "language": "python",
   "name": "python3"
  },
  "language_info": {
   "codemirror_mode": {
    "name": "ipython",
    "version": 3
   },
   "file_extension": ".py",
   "mimetype": "text/x-python",
   "name": "python",
   "nbconvert_exporter": "python",
   "pygments_lexer": "ipython3",
   "version": "3.9.7"
  }
 },
 "nbformat": 4,
 "nbformat_minor": 5
}
