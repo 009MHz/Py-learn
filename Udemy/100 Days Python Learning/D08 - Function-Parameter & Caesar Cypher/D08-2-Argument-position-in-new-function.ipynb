{
 "cells": [
  {
   "cell_type": "markdown",
   "id": "c176d39f-64e7-47c7-8e8e-855910a36deb",
   "metadata": {},
   "source": [
    "## Creating a function with multiple parameter (passable values)"
   ]
  },
  {
   "cell_type": "markdown",
   "id": "2113f678-7ea2-47eb-a78c-b24337eec8fe",
   "metadata": {},
   "source": [
    "### <font color = lime>*Simple</font> Function*"
   ]
  },
  {
   "cell_type": "code",
   "execution_count": 1,
   "id": "144c91cd-d35b-4885-aadb-952f7aa4bc12",
   "metadata": {},
   "outputs": [],
   "source": [
    "def greet():\n",
    "    print(\"Hello Angela\")\n",
    "    print(\"How do you do Jack Bauer?\")\n",
    "    print(\"Isn't the weather nice today?\")"
   ]
  },
  {
   "cell_type": "code",
   "execution_count": 2,
   "id": "99704bbf-3e9e-4d9a-b592-c7c3fb84eb2c",
   "metadata": {},
   "outputs": [
    {
     "name": "stdout",
     "output_type": "stream",
     "text": [
      "Hello Angela\n",
      "How do you do Jack Bauer?\n",
      "Isn't the weather nice today?\n"
     ]
    }
   ],
   "source": [
    "greet()"
   ]
  },
  {
   "cell_type": "markdown",
   "id": "5ba42dd3-6fe0-483d-8269-e3a34c8aeaf2",
   "metadata": {},
   "source": [
    "### *Function that <font color = cyan>allows for input*</font>\n"
   ]
  },
  {
   "cell_type": "code",
   "execution_count": 1,
   "id": "5412a3f9-8172-4cd6-ba6f-9390733c1822",
   "metadata": {},
   "outputs": [
    {
     "name": "stdout",
     "output_type": "stream",
     "text": [
      "Hi, there \"Hazeya\"\n",
      "I told ya \"Hazeya\",This is just lesson for days 8\n",
      "Once, again Have a nice day \"Hazeya\"\n"
     ]
    }
   ],
   "source": [
    "def input_greet(name):# def \"nama function\" (\"parameter\")\n",
    "    print(f'Hi, there \"{name}\"')\n",
    "    print(f'I told ya \"{name}\",This is just lesson for days 8')\n",
    "    print(f'Once, again Have a nice day \"{name}\"')\n",
    "    \n",
    "    \n",
    "input_greet(\"Hazeya\")"
   ]
  },
  {
   "cell_type": "markdown",
   "id": "7b7dc987-c6d3-4ca0-b062-46907823e5a0",
   "metadata": {},
   "source": [
    "### *Functions with <font color = orange>multiple input*</font>"
   ]
  },
  {
   "cell_type": "code",
   "execution_count": 2,
   "id": "0604df09-e5a7-4387-9a52-26e143e859dd",
   "metadata": {},
   "outputs": [],
   "source": [
    "def mix_greet(name, location): \n",
    "    # cukup menambahkan \",\" pada parameter yg diminta supaya ada >1 parameter fungsi yg diminta\n",
    "    print(f'Holla \"{name}\"') # statement untuk memanggil parameter pertama => \"name\"\n",
    "    print(f\"You are in '{location}' right?\\n\") # fungsi untuk memanggil parameter kedua => \"location\""
   ]
  },
  {
   "cell_type": "markdown",
   "id": "2c201246-69c0-4909-ae3f-788623579c78",
   "metadata": {},
   "source": [
    "    - Calling greet_with() with Positional Arguments"
   ]
  },
  {
   "cell_type": "code",
   "execution_count": 3,
   "id": "226b36ae-6ee3-4f75-9fb1-5c776fc5dfff",
   "metadata": {},
   "outputs": [
    {
     "name": "stdout",
     "output_type": "stream",
     "text": [
      "Holla \"Hazeya\"\n",
      "You are in 'Yogyakarta' right?\n",
      "\n",
      "Holla \"Yogyakarta\"\n",
      "You are in 'Hazeya' right?\n",
      "\n"
     ]
    }
   ],
   "source": [
    "mix_greet(\"Hazeya\",\"Yogyakarta\")\n",
    "mix_greet(\"Yogyakarta\",\"Hazeya\")"
   ]
  },
  {
   "cell_type": "markdown",
   "id": "baf7916d-33e8-4d22-9e61-14ff2966c40c",
   "metadata": {},
   "source": [
    "- jika kedua argument di atas dibalik, maka \"name\" yang terpanggil akan menggunakan argument pertama[name = Yogyakarta] karena python sudah men-define argument 1 = \"name\", argument 2 = \"location\", be sure & recheck urutannya jika menggunakan pattern di atas"
   ]
  },
  {
   "cell_type": "markdown",
   "id": "e03a4973-34cd-4558-9e31-7803f1f4dd26",
   "metadata": {},
   "source": [
    "    - Calling function with Keyword Arguments"
   ]
  },
  {
   "cell_type": "code",
   "execution_count": 5,
   "id": "f2eb7343-25db-447e-80f9-6731f3e156f8",
   "metadata": {},
   "outputs": [
    {
     "name": "stdout",
     "output_type": "stream",
     "text": [
      "Holla \"Hazeya\"\n",
      "You are in 'Yogyakarta' right?\n",
      "\n",
      "Holla \"Hazeya\"\n",
      "You are in 'Yogyakarta' right?\n",
      "\n"
     ]
    }
   ],
   "source": [
    "mix_greet(location=\"Yogyakarta\", name = \"Hazeya\")\n",
    "\n",
    "mix_greet(name = \"Hazeya\", location=\"Yogyakarta\")"
   ]
  },
  {
   "cell_type": "markdown",
   "id": "47ee158b-9d15-4eeb-8a93-4ee33807b207",
   "metadata": {},
   "source": [
    "- metode di atas merupakan metode paling aman namun lebih panjang karena kita harus men-define argumen yang diminta, tapi mengurangi miss karena kita bisa menaruh urutannya dimanapun yg kita suka"
   ]
  }
 ],
 "metadata": {
  "kernelspec": {
   "display_name": "Python 3 (ipykernel)",
   "language": "python",
   "name": "python3"
  },
  "language_info": {
   "codemirror_mode": {
    "name": "ipython",
    "version": 3
   },
   "file_extension": ".py",
   "mimetype": "text/x-python",
   "name": "python",
   "nbconvert_exporter": "python",
   "pygments_lexer": "ipython3",
   "version": "3.9.7"
  }
 },
 "nbformat": 4,
 "nbformat_minor": 5
}
