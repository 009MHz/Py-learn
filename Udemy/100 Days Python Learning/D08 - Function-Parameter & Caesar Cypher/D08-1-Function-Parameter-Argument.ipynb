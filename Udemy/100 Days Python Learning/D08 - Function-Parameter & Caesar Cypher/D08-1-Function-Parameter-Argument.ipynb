{
 "cells": [
  {
   "cell_type": "markdown",
   "id": "177693fc-e10b-4448-b5d8-a7cb92ddf6c8",
   "metadata": {},
   "source": [
    "# Review: \n",
    "1. Create a function called <font color = yellow>***greet()***</font>. \n",
    "2. Write 3 print statements inside the function.\n",
    "3. Call the <font color = yellow>***greet()***</font> function and run your code."
   ]
  },
  {
   "cell_type": "code",
   "execution_count": null,
   "id": "65b269cc-1879-43c7-ae25-93eb1eed32e5",
   "metadata": {},
   "outputs": [],
   "source": [
    "def greet(): #normal function tanpa permintaan adanya kondisi tambahan\n",
    "    print(\"Hi there\")\n",
    "    print(\"This is just lesson for days 8\")\n",
    "    print(\"So yeah, I need 3 statements for that\")\n",
    "greet()"
   ]
  },
  {
   "cell_type": "markdown",
   "id": "36c01a20-740d-47a1-8eb4-720fbad41bdb",
   "metadata": {},
   "source": [
    "#### Creating a function with passable value"
   ]
  },
  {
   "cell_type": "code",
   "execution_count": 2,
   "id": "e4d34d5f-5a46-4932-a965-4cc4b2aee89e",
   "metadata": {},
   "outputs": [
    {
     "name": "stdout",
     "output_type": "stream",
     "text": [
      "Hi, there \"Me\"\n",
      "I told ya \"Me\",This is just lesson for days 8\n",
      "Once, again Have a nice day \"Me\"\n"
     ]
    }
   ],
   "source": [
    "def input_greet(name):  # def \"nama function\" (\"parameter\")\n",
    "    print(f'Hi, there \"{name}\"')\n",
    "    print(f'I told ya \"{name}\",This is just lesson for days 8')\n",
    "    print(f'Once, again Have a nice day \"{name}\"')\n",
    "input_greet(\"Me\") # \"nama function\" (\"argumen\")"
   ]
  },
  {
   "cell_type": "markdown",
   "id": "e7c7a15a-a198-45e3-ab47-3d33b2742e2a",
   "metadata": {},
   "source": [
    "<font color = scarlet>***argumen***</font> merupakan suatu field yg harus diisi supaya semua perintah dalam function bisa di-run, karena pada line ini => *def input_greet(<font color = magenta>**name**</font>)* kita sudah mengatur nya pada parameter yang ditetapkan sebelum mendefinisikan perrintah pada fungsinya (line 12 - 15) yang mengambil data dari **{name}** atau parameter yang kita setup"
   ]
  },
  {
   "cell_type": "markdown",
   "id": "61bd78be-199f-48df-891b-6d548f2c7e15",
   "metadata": {},
   "source": [
    "## Summary:\n",
    "- <font color = scarlet>***Parameter***</font> adalah keyword yg diberikan ketika kita membuat suatu fungsi, yang nantinya kita bisa melakukan banyak hal dalam parameter tersebut\n",
    "\n",
    "Pada contoh diatas, parameter adalah teks <font color = orange>***name***</font> yang berada setelah fungsi <font color = lime>def</font> <font color = cyan>input_name</font>(   ) di buat\n",
    "\n",
    "- <font color = scarlet>***argumen***</font> merupakan suatu field yg harus diisi supaya semua perintah dalam function yg kita buat bisa di-run\n",
    "\n",
    "Pada contoh diatas, argumen adalah teks <font color = orange>***\"Me\"***</font> yang berada setelah fungsi <font color = cyan>*input_name</font>(  )* dipanggil"
   ]
  }
 ],
 "metadata": {
  "kernelspec": {
   "display_name": "Python 3 (ipykernel)",
   "language": "python",
   "name": "python3"
  },
  "language_info": {
   "codemirror_mode": {
    "name": "ipython",
    "version": 3
   },
   "file_extension": ".py",
   "mimetype": "text/x-python",
   "name": "python",
   "nbconvert_exporter": "python",
   "pygments_lexer": "ipython3",
   "version": "3.9.12"
  }
 },
 "nbformat": 4,
 "nbformat_minor": 5
}
