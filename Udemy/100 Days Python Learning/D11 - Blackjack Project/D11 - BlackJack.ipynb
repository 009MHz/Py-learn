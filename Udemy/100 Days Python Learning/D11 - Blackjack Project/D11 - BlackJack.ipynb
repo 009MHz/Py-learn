{
 "cells": [
  {
   "cell_type": "markdown",
   "id": "14618920-3812-4eca-91d1-9d2f570f8969",
   "metadata": {},
   "source": [
    "# Todo 0: importing random, importing logo, creating global scope from cards deck"
   ]
  },
  {
   "cell_type": "code",
   "execution_count": 1,
   "id": "f6571967-6f08-49f7-bacf-2eb579330840",
   "metadata": {},
   "outputs": [],
   "source": [
    "from art import logo\n",
    "import random\n",
    "\n",
    "deck = [11, 2, 3, 4, 5, 6, 7, 8, 9, 10, 10, 10, 10]"
   ]
  },
  {
   "cell_type": "markdown",
   "id": "e6ccced3-35ff-44ff-b114-9032bbfd2130",
   "metadata": {},
   "source": [
    "# Todo 1:  Create function to drawing single random cards"
   ]
  },
  {
   "cell_type": "code",
   "execution_count": 2,
   "id": "9d7ba4b9-15cb-45eb-bf1b-6cdfbdb97176",
   "metadata": {},
   "outputs": [],
   "source": [
    "def draw():\n",
    "    return random.choice(deck)"
   ]
  },
  {
   "cell_type": "markdown",
   "id": "3876e1f9-d9cf-4114-9f09-bd50f4e14ffb",
   "metadata": {},
   "source": [
    "# Todo 2: drawing 2 cards in the first round"
   ]
  },
  {
   "cell_type": "code",
   "execution_count": 3,
   "id": "7ef6e089-b840-4cc4-b491-ced8bea02a29",
   "metadata": {},
   "outputs": [],
   "source": [
    "bot_card = []\n",
    "player_card = []\n",
    "\n",
    "for x in range (2):\n",
    "    bot_card.append(draw())\n",
    "    player_card.append(draw())"
   ]
  },
  {
   "cell_type": "markdown",
   "id": "56d0819c-ea6e-4f58-8325-d74d188b05ba",
   "metadata": {},
   "source": [
    "# Todo 3: creating sum function\n",
    "- sum function untuk menjumlahkan kartu di tangan\n",
    "- returning zero values to replace the blackjack condition\n",
    "- checking the sum to replace the ace value from 11 -> 1 when the total is >21"
   ]
  },
  {
   "cell_type": "code",
   "execution_count": 4,
   "id": "86a183b9-4dcb-4369-8c32-32cd187f21b8",
   "metadata": {},
   "outputs": [],
   "source": [
    "def cardculation(cards):\n",
    "    x = sum(cards)\n",
    "    if x == 21:\n",
    "        return 0\n",
    "    elif x <21:\n",
    "        return x\n",
    "    elif x > 21 and len(cards) >=3 :\n",
    "        deck[0] = 1\n",
    "        return x"
   ]
  },
  {
   "cell_type": "code",
   "execution_count": 5,
   "id": "9fd5e23d-694f-4e5f-90e0-dac1c6df9c50",
   "metadata": {},
   "outputs": [],
   "source": [
    "def stat(user):\n",
    "    if user == \"player\":\n",
    "        return f\"Your cards: {player_card}, your score is {cardculation(player_card)}\"\n",
    "    elif user == \"bot\":\n",
    "        return f\"Bot cards: {bot_card}, BOT score is {cardculation(bot_card)}\""
   ]
  },
  {
   "cell_type": "markdown",
   "id": "c6868e1c-46e4-44dd-adf6-3e727be08e6c",
   "metadata": {},
   "source": [
    "# Todo 5: Create function to comparing the score from both player and display the result\n",
    "- win or lose condition and returning as output"
   ]
  },
  {
   "cell_type": "markdown",
   "id": "d4f40379-46db-4ea9-8df4-59e8b79eb89e",
   "metadata": {},
   "source": [
    "# Todo 6: Define END message\n",
    "- calling the score comparator\n",
    "- calling the last card function\n",
    "- calling the last score function"
   ]
  },
  {
   "cell_type": "code",
   "execution_count": 6,
   "id": "c16eff13-6dea-42f7-977c-a34ace2487b1",
   "metadata": {},
   "outputs": [],
   "source": [
    "def validate():\n",
    "    print(f\"\"\"\\n- | Final Result | - \n",
    "BOT Cards: {bot_card}, bot score = {cardculation(bot_card)}\n",
    "Your Cards: {player_card}, your score: {cardculation(player_card)}\"\"\")\n",
    "\n",
    "    if player_score == 0 or bot_score == 0:\n",
    "        if player_score == 0 and bot_score ==0 :\n",
    "            return \"\\nBLACKJACK PARTY, both user obtain the blackjack\"\n",
    "        elif player_score == 0 and bot_score !=0 :\n",
    "            return \"\\nIt's Your blackjack YOU WIN THIS GAME\"\n",
    "        elif player_score != 0 and bot_score ==0 :\n",
    "            return \"\\nAI got Blackjack, YOU LOSE\"\n",
    "        \n",
    "    elif player_score > 21 or bot_score > 21:\n",
    "        if player_score > 21 and bot_score >21:\n",
    "            return \"\\n'BUSTED PARTY' no winner on this turn\"\n",
    "        elif player_score > 21:\n",
    "            return \"\\nYou're \\\"BUSTED\\\", YOU LOSE\"\n",
    "        elif bot_score > 21:\n",
    "            return \"\\nAI got \\\"BUSTED\\\", YOU WIN\"\n",
    "    else:\n",
    "        if player_score > bot_score:\n",
    "            return '\\n\"YOU WIN\" congratulations for beating the AI'\n",
    "        elif player_score < bot_score:\n",
    "            return '\\n\"YOU LOSE\" try again next time'\n",
    "        else:\n",
    "            return \"\\nuh-oh, it's a DRAW\""
   ]
  },
  {
   "cell_type": "markdown",
   "id": "f2112b7d-1b08-4b09-b9b0-07f3eebdce5b",
   "metadata": {},
   "source": [
    "# Todo 4: creating the game continuation\n",
    "- printing the logo import    \n",
    "- set default variable to start the games with boolean\n",
    "- calling the sum function to check the current cards\n",
    "- set condition to drawing new cards\n",
    "- prompt to draw new cards\n",
    "- define the exit criteria\n",
    "- set the same criteria to bot without prompt"
   ]
  },
  {
   "cell_type": "code",
   "execution_count": 7,
   "id": "36744d2e-86d7-4fe5-8eac-0be4d7f4185c",
   "metadata": {},
   "outputs": [],
   "source": [
    "#print(logo)"
   ]
  },
  {
   "cell_type": "code",
   "execution_count": 8,
   "id": "d7bff55e-a9bf-48c4-9ee2-dd69c689c623",
   "metadata": {},
   "outputs": [
    {
     "name": "stdout",
     "output_type": "stream",
     "text": [
      "Bot cards: [3, 10, 3], BOT score is 16\n",
      "Bot cards: [3, 10, 3, 10], BOT score is 26\n",
      "Your cards: [10, 10], your score is 20\n"
     ]
    },
    {
     "name": "stdin",
     "output_type": "stream",
     "text": [
      "Type 'y' to draw next card, type 'n' to withdrawn\n",
      " n\n"
     ]
    },
    {
     "name": "stdout",
     "output_type": "stream",
     "text": [
      "\n",
      "- | Final Result | - \n",
      "BOT Cards: [3, 10, 3, 10], bot score = 26\n",
      "Your Cards: [10, 10], your score: 20\n",
      "\n",
      "AI got \"BUSTED\", YOU WIN\n"
     ]
    }
   ],
   "source": [
    "blackjack = False\n",
    "while not blackjack:\n",
    "    player_score = cardculation(player_card)\n",
    "    bot_score = cardculation(bot_card)\n",
    "    if player_score == 0 or bot_score == 0:\n",
    "        print(validate())\n",
    "        blackjack = True\n",
    "    elif player_score <21 or bot_score <18:\n",
    "        if bot_score <18:\n",
    "            bot_card.append(draw())\n",
    "            print(stat(\"bot\"))  # used for debugging only\n",
    "        elif player_score <21:\n",
    "            print(stat(\"player\"))\n",
    "            if input(\"Type 'y' to draw next card, type 'n' to withdrawn\\n\") == 'y':\n",
    "                player_card.append(draw())\n",
    "            else:\n",
    "                print(validate())\n",
    "                break  \n",
    "    else:\n",
    "        print(validate())\n",
    "        break"
   ]
  },
  {
   "cell_type": "markdown",
   "id": "1cb88ae1-bdcf-4b35-988a-a7c7df9c6358",
   "metadata": {},
   "source": [
    "# Todo 7: Creating game restart using prompt"
   ]
  },
  {
   "cell_type": "code",
   "execution_count": 9,
   "id": "db920fc7-a2f5-4c1b-8c77-c0928df66c6b",
   "metadata": {},
   "outputs": [],
   "source": [
    "# while input(\"Type 'Y' if you want to play Blackjack, or type 'N' to skip? \").upper() == \"Y\":\n",
    "#     blackjack()\n",
    "# else:\n",
    "#     print(\"See you Next time\")"
   ]
  }
 ],
 "metadata": {
  "kernelspec": {
   "display_name": "Python 3 (ipykernel)",
   "language": "python",
   "name": "python3"
  },
  "language_info": {
   "codemirror_mode": {
    "name": "ipython",
    "version": 3
   },
   "file_extension": ".py",
   "mimetype": "text/x-python",
   "name": "python",
   "nbconvert_exporter": "python",
   "pygments_lexer": "ipython3",
   "version": "3.10.8"
  },
  "vscode": {
   "interpreter": {
    "hash": "c19755229f92828ed9983117e2a7f8a1cac6c8656c17c4590448400be61caf74"
   }
  }
 },
 "nbformat": 4,
 "nbformat_minor": 5
}
