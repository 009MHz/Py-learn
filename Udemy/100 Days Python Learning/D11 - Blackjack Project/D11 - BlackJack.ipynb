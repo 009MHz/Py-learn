{
 "cells": [
  {
   "cell_type": "markdown",
   "id": "14618920-3812-4eca-91d1-9d2f570f8969",
   "metadata": {},
   "source": [
    "# Todo 0: importing random, importing logo, creating global scope from cards deck"
   ]
  },
  {
   "cell_type": "code",
   "execution_count": 1,
   "id": "f6571967-6f08-49f7-bacf-2eb579330840",
   "metadata": {},
   "outputs": [],
   "source": [
    "from art import logo\n",
    "import random\n",
    "\n",
    "deck = [11, 2, 3, 4, 5, 6, 7, 8, 9, 10, 10, 10, 10]"
   ]
  },
  {
   "cell_type": "markdown",
   "id": "e6ccced3-35ff-44ff-b114-9032bbfd2130",
   "metadata": {},
   "source": [
    "# Todo 1:  Create function to drawing single random cards"
   ]
  },
  {
   "cell_type": "code",
   "execution_count": 7,
   "id": "9d7ba4b9-15cb-45eb-bf1b-6cdfbdb97176",
   "metadata": {},
   "outputs": [],
   "source": [
    "def draw():\n",
    "    return random.choice(deck)"
   ]
  },
  {
   "cell_type": "markdown",
   "id": "3876e1f9-d9cf-4114-9f09-bd50f4e14ffb",
   "metadata": {},
   "source": [
    "# Todo 2: drawing 2 cards in the first round"
   ]
  },
  {
   "cell_type": "code",
   "execution_count": 10,
   "id": "7ef6e089-b840-4cc4-b491-ced8bea02a29",
   "metadata": {},
   "outputs": [],
   "source": [
    "bot_card = []\n",
    "player_card = []\n",
    "\n",
    "for x in range (0,2):\n",
    "    bot_card.append(draw())\n",
    "    player_card.append(draw())"
   ]
  },
  {
   "cell_type": "code",
   "execution_count": 11,
   "id": "c430fcc8-779a-4f2a-a84f-87b956b3ae78",
   "metadata": {},
   "outputs": [
    {
     "name": "stdout",
     "output_type": "stream",
     "text": [
      "bot card: [9, 3]\n",
      "your card: [11, 10]\n"
     ]
    }
   ],
   "source": [
    "print(f'bot card: {bot_card}')\n",
    "print(f'your card: {player_card}')"
   ]
  },
  {
   "cell_type": "markdown",
   "id": "56d0819c-ea6e-4f58-8325-d74d188b05ba",
   "metadata": {},
   "source": [
    "# Todo 3: creating sum function\n",
    "- sum function untuk menjumlahkan kartu di tangan\n",
    "- returning zero values to replace the blackjack condition\n",
    "- checking the sum to replace the ace value from 11 -> 1 when the total is >21"
   ]
  },
  {
   "cell_type": "code",
   "execution_count": null,
   "id": "86a183b9-4dcb-4369-8c32-32cd187f21b8",
   "metadata": {},
   "outputs": [],
   "source": []
  },
  {
   "cell_type": "markdown",
   "id": "f2112b7d-1b08-4b09-b9b0-07f3eebdce5b",
   "metadata": {},
   "source": [
    "# Todo 4: creating the game continuation\n",
    "- printing the logo import    \n",
    "- set default variable to start the games with boolean\n",
    "- calling the sum function to check the current cards\n",
    "- set condition to drawing new cards\n",
    "- prompt to draw new cards\n",
    "- define the exit criteria\n",
    "- set the same criteria to bot without prompt"
   ]
  },
  {
   "cell_type": "code",
   "execution_count": null,
   "id": "36744d2e-86d7-4fe5-8eac-0be4d7f4185c",
   "metadata": {},
   "outputs": [],
   "source": []
  },
  {
   "cell_type": "markdown",
   "id": "c6868e1c-46e4-44dd-adf6-3e727be08e6c",
   "metadata": {},
   "source": [
    "# Todo 5: Create function to comparing the score from both player and display the result\n",
    "- win or lose condition and returning as output"
   ]
  },
  {
   "cell_type": "code",
   "execution_count": null,
   "id": "c16eff13-6dea-42f7-977c-a34ace2487b1",
   "metadata": {},
   "outputs": [],
   "source": []
  },
  {
   "cell_type": "markdown",
   "id": "d4f40379-46db-4ea9-8df4-59e8b79eb89e",
   "metadata": {},
   "source": [
    "# Todo 6: Define END message\n",
    "- calling the score comparator\n",
    "- calling the last card function\n",
    "- calling the last score function"
   ]
  },
  {
   "cell_type": "markdown",
   "id": "1cb88ae1-bdcf-4b35-988a-a7c7df9c6358",
   "metadata": {},
   "source": [
    "# Todo 7: Creating game restart using prompt"
   ]
  },
  {
   "cell_type": "code",
   "execution_count": null,
   "id": "db920fc7-a2f5-4c1b-8c77-c0928df66c6b",
   "metadata": {},
   "outputs": [],
   "source": []
  }
 ],
 "metadata": {
  "kernelspec": {
   "display_name": "Python 3 (ipykernel)",
   "language": "python",
   "name": "python3"
  },
  "language_info": {
   "codemirror_mode": {
    "name": "ipython",
    "version": 3
   },
   "file_extension": ".py",
   "mimetype": "text/x-python",
   "name": "python",
   "nbconvert_exporter": "python",
   "pygments_lexer": "ipython3",
   "version": "3.10.8"
  },
  "vscode": {
   "interpreter": {
    "hash": "c19755229f92828ed9983117e2a7f8a1cac6c8656c17c4590448400be61caf74"
   }
  }
 },
 "nbformat": 4,
 "nbformat_minor": 5
}
