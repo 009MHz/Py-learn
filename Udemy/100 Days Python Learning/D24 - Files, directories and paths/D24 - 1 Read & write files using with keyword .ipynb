{
 "cells": [
  {
   "cell_type": "markdown",
   "id": "d135d55a-0ba8-44d8-98b4-e5ea3fd768c4",
   "metadata": {},
   "source": [
    "# Files"
   ]
  },
  {
   "cell_type": "code",
   "execution_count": 1,
   "id": "f6dbf465-9a94-447f-9846-67f58933963b",
   "metadata": {},
   "outputs": [
    {
     "name": "stdout",
     "output_type": "stream",
     "text": [
      "Hi python, thie is the test files for the course\n"
     ]
    }
   ],
   "source": [
    "file = open(\"D:\\\\Docs\\\\Python\\\\Jupyter\\\\Py-learn\\\\Udemy\\\\100 Days Python Learning\\\\D24 - Files, directories and paths\\\\test.txt\")\n",
    "content = file.read()\n",
    "print(content)\n",
    "file.close()"
   ]
  },
  {
   "cell_type": "markdown",
   "id": "8f3d4e02-b078-4985-bd5a-f86feb9f2ae3",
   "metadata": {
    "tags": []
   },
   "source": [
    "## Method 1: menggunakan `file close()`\n",
    "- line 1:\n",
    "    - assign variable dengan script `open` (untuk jupyter harus fullpath T_T)\n",
    "    - `variable = open(\"filenames\")`\n",
    "- line 2:\n",
    "    - assign variable baru untuk memberikan method setelah file diakses\n",
    "    - `var2 = variable.read()`\n",
    "- line 3: command untuk menampilkan file yg sudah dibaca sebelumnya\n",
    "- line 4:\n",
    "    - closing script\n",
    "    - hal ini dimaksudkan untuk mengurangi beban memory dan misoperation ketika file diakses, tanpa di closing, semua update dalam file tidak akan tersimpan\n",
    "    - `variable.close()`"
   ]
  },
  {
   "cell_type": "code",
   "execution_count": 5,
   "id": "46cc0f6c-824f-4fe1-ba76-e41e5c316f0a",
   "metadata": {},
   "outputs": [
    {
     "name": "stdout",
     "output_type": "stream",
     "text": [
      "Hi python, thie is the test files for the course\n"
     ]
    }
   ],
   "source": [
    "file_path = \"D:\\\\Docs\\\\Python\\\\Jupyter\\\\Py-learn\\\\Udemy\\\\100 Days Python Learning\\\\D24 - Files, directories and paths\\\\test.txt\"\n",
    "with open(file_path) as file:\n",
    "    contents = file.read()\n",
    "    print(contents)"
   ]
  },
  {
   "cell_type": "markdown",
   "id": "4838fd6b-b81d-4df0-8761-c5b3915d0631",
   "metadata": {},
   "source": [
    "## Method 2: menggunakan ***\"with\"*** keyword\n",
    "- Most developer are using this method, karena tidak perlu menutup dengan `xxx.close()` ketika melakukan perubahan pada file yg dikerjakan\n",
    "- format penggunaan:"
   ]
  },
  {
   "cell_type": "raw",
   "id": "cb347f1d-df1f-4454-ad1b-2153635a3b69",
   "metadata": {},
   "source": [
    "with open(\"file_name/file_path\") as \"var_1:\n",
    "    var_2 = var_1.read()\n",
    "    print(var_2)"
   ]
  }
 ],
 "metadata": {
  "kernelspec": {
   "display_name": "Python 3 (ipykernel)",
   "language": "python",
   "name": "python3"
  },
  "language_info": {
   "codemirror_mode": {
    "name": "ipython",
    "version": 3
   },
   "file_extension": ".py",
   "mimetype": "text/x-python",
   "name": "python",
   "nbconvert_exporter": "python",
   "pygments_lexer": "ipython3",
   "version": "3.10.8"
  }
 },
 "nbformat": 4,
 "nbformat_minor": 5
}
