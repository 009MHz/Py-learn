{
 "cells": [
  {
   "cell_type": "markdown",
   "id": "d135d55a-0ba8-44d8-98b4-e5ea3fd768c4",
   "metadata": {},
   "source": [
    "# Files"
   ]
  },
  {
   "cell_type": "markdown",
   "id": "8f3d4e02-b078-4985-bd5a-f86feb9f2ae3",
   "metadata": {
    "tags": []
   },
   "source": [
    "## Method 1: menggunakan `file close()`\n",
    "- line 1:\n",
    "    - assign variable dengan script `open` (untuk jupyter harus fullpath T_T)\n",
    "    - `variable = open(\"filenames\")`\n",
    "- line 2:\n",
    "    - assign variable baru untuk memberikan method setelah file diakses\n",
    "    - `var2 = variable.read()`\n",
    "- line 3: command untuk menampilkan file yg sudah dibaca sebelumnya\n",
    "- line 4:\n",
    "    - closing script\n",
    "    - hal ini dimaksudkan untuk mengurangi beban memory dan misoperation ketika file diakses, tanpa di closing, semua update dalam file tidak akan tersimpan\n",
    "    - `variable.close()`"
   ]
  },
  {
   "cell_type": "code",
   "execution_count": 1,
   "id": "f6dbf465-9a94-447f-9846-67f58933963b",
   "metadata": {},
   "outputs": [
    {
     "name": "stdout",
     "output_type": "stream",
     "text": [
      "Hi python, thie is the test files for the course\n"
     ]
    }
   ],
   "source": [
    "file = open(\"D:\\\\Docs\\\\Python\\\\Jupyter\\\\Py-learn\\\\Udemy\\\\100 Days Python Learning\\\\D24 - Files, directories and paths\\\\test.txt\")\n",
    "content = file.read()\n",
    "print(content)\n",
    "file.close()"
   ]
  },
  {
   "cell_type": "markdown",
   "id": "4838fd6b-b81d-4df0-8761-c5b3915d0631",
   "metadata": {},
   "source": [
    "## Method 2: menggunakan ***\"with\"*** keyword\n",
    "- Most developer are using this method, karena tidak perlu menutup dengan `xxx.close()` ketika melakukan perubahan pada file yg dikerjakan\n",
    "- format penggunaan:"
   ]
  },
  {
   "cell_type": "code",
   "execution_count": 5,
   "id": "46cc0f6c-824f-4fe1-ba76-e41e5c316f0a",
   "metadata": {},
   "outputs": [
    {
     "name": "stdout",
     "output_type": "stream",
     "text": [
      "Hi python, thie is the test files for the course\n"
     ]
    }
   ],
   "source": [
    "file_path = \"D:\\\\Docs\\\\Python\\\\Jupyter\\\\Py-learn\\\\Udemy\\\\100 Days Python Learning\\\\D24 - Files, directories and paths\\\\test.txt\"\n",
    "with open(file_path) as file:\n",
    "    contents = file.read()\n",
    "    print(contents)"
   ]
  },
  {
   "cell_type": "raw",
   "id": "cb347f1d-df1f-4454-ad1b-2153635a3b69",
   "metadata": {},
   "source": [
    "with open(\"file_name/file_path\") as \"var_1:\n",
    "    var_2 = var_1.read()\n",
    "    print(var_2)"
   ]
  },
  {
   "cell_type": "markdown",
   "id": "a07d3010-321a-4659-baf4-158fb68d558f",
   "metadata": {},
   "source": [
    "# Writing files"
   ]
  },
  {
   "cell_type": "markdown",
   "id": "ee48c0c7-db10-4f2d-8f40-0b48e147b38b",
   "metadata": {
    "tags": []
   },
   "source": [
    "## Writing Files with mode \"w\""
   ]
  },
  {
   "cell_type": "raw",
   "id": "270b129b-8ec2-436c-81be-dd88fcda62a6",
   "metadata": {},
   "source": [
    "with open(\"file_name/file_path\", mode = \"w\") as \"var_1:\n",
    "    var_1.write(\"Your text is written between these quotes\")"
   ]
  },
  {
   "cell_type": "markdown",
   "id": "05dbdc99-3ee1-45b6-b7b9-f01264088de5",
   "metadata": {},
   "source": [
    "- Tanpa menggunakan mode, akan terjadi error `UnsupportedOperation: not writable` ketika mencoba menambah value kepada file karena by default, file script operation adalah `\"r\"` (read) sedangkan method ini hanya berfungsi sebaai `read-only`"
   ]
  },
  {
   "cell_type": "code",
   "execution_count": 1,
   "id": "d4a16bdc-ec23-428b-b034-988693093511",
   "metadata": {},
   "outputs": [
    {
     "ename": "UnsupportedOperation",
     "evalue": "not writable",
     "output_type": "error",
     "traceback": [
      "\u001b[1;31m---------------------------------------------------------------------------\u001b[0m",
      "\u001b[1;31mUnsupportedOperation\u001b[0m                      Traceback (most recent call last)",
      "Cell \u001b[1;32mIn [1], line 3\u001b[0m\n\u001b[0;32m      1\u001b[0m file_path \u001b[38;5;241m=\u001b[39m \u001b[38;5;124m\"\u001b[39m\u001b[38;5;124mD:\u001b[39m\u001b[38;5;130;01m\\\\\u001b[39;00m\u001b[38;5;124mDocs\u001b[39m\u001b[38;5;130;01m\\\\\u001b[39;00m\u001b[38;5;124mPython\u001b[39m\u001b[38;5;130;01m\\\\\u001b[39;00m\u001b[38;5;124mJupyter\u001b[39m\u001b[38;5;130;01m\\\\\u001b[39;00m\u001b[38;5;124mPy-learn\u001b[39m\u001b[38;5;130;01m\\\\\u001b[39;00m\u001b[38;5;124mUdemy\u001b[39m\u001b[38;5;130;01m\\\\\u001b[39;00m\u001b[38;5;124m100 Days Python Learning\u001b[39m\u001b[38;5;130;01m\\\\\u001b[39;00m\u001b[38;5;124mD24 - Files, directories and paths\u001b[39m\u001b[38;5;130;01m\\\\\u001b[39;00m\u001b[38;5;124mtest.txt\u001b[39m\u001b[38;5;124m\"\u001b[39m\n\u001b[0;32m      2\u001b[0m \u001b[38;5;28;01mwith\u001b[39;00m \u001b[38;5;28mopen\u001b[39m(file_path) \u001b[38;5;28;01mas\u001b[39;00m file:\n\u001b[1;32m----> 3\u001b[0m     \u001b[43mfile\u001b[49m\u001b[38;5;241;43m.\u001b[39;49m\u001b[43mwrite\u001b[49m\u001b[43m(\u001b[49m\u001b[38;5;124;43m\"\u001b[39;49m\u001b[38;5;124;43mThis text is written from jupyter lab Windows 8\u001b[39;49m\u001b[38;5;124;43m\"\u001b[39;49m\u001b[43m)\u001b[49m\n",
      "\u001b[1;31mUnsupportedOperation\u001b[0m: not writable"
     ]
    }
   ],
   "source": [
    "file_path = \"D:\\\\Docs\\\\Python\\\\Jupyter\\\\Py-learn\\\\Udemy\\\\100 Days Python Learning\\\\D24 - Files, directories and paths\\\\test.txt\"\n",
    "with open(file_path) as file:\n",
    "    file.write(\"This text is written from jupyter lab Windows 8\")"
   ]
  },
  {
   "cell_type": "markdown",
   "id": "cc2ae459-81f6-425e-9cb4-64abe419fbd0",
   "metadata": {},
   "source": [
    "        Cell below is the proper mode"
   ]
  },
  {
   "cell_type": "code",
   "execution_count": 2,
   "id": "2900887c-bdc1-497e-bffa-29d625b6694f",
   "metadata": {},
   "outputs": [],
   "source": [
    "file_path = \"D:\\\\Docs\\\\Python\\\\Jupyter\\\\Py-learn\\\\Udemy\\\\100 Days Python Learning\\\\D24 - Files, directories and paths\\\\test.txt\"\n",
    "with open(file_path, \"w\") as file:\n",
    "    file.write(\"This text is written from jupyter lab Windows 8, and removing previous text\")"
   ]
  },
  {
   "cell_type": "markdown",
   "id": "2ec4f9a8-bec9-469f-b902-e7084718a7ae",
   "metadata": {},
   "source": [
    "## Writing non-existed files using `\"w\"` method\n",
    "- Metode writing juga bisa digunakan untuk membuat file baru\n",
    "- bedanya di path, kita memberikan `last directory name` tanpa memberikan filenames nya"
   ]
  },
  {
   "cell_type": "code",
   "execution_count": 5,
   "id": "805ec68d-f234-45c7-8632-1acdcbb47be2",
   "metadata": {},
   "outputs": [],
   "source": [
    "file_path = \"D:\\\\Docs\\\\Python\\\\Jupyter\\\\Py-learn\\\\Udemy\\\\100 Days Python Learning\\\\D24 - Files, directories and paths\\\\\"\n",
    "with open(\"new file using Jupyter.txt\", \"w\") as file:\n",
    "    file.write(\"This text & file is written from jupyter lab Windows 8\")"
   ]
  },
  {
   "cell_type": "markdown",
   "id": "9e03af13-0fdb-4888-bbef-4fdefced1e14",
   "metadata": {
    "jp-MarkdownHeadingCollapsed": true,
    "tags": []
   },
   "source": [
    "## Writing Files wih \"a\" mode"
   ]
  },
  {
   "cell_type": "raw",
   "id": "7cdce646-63f5-4023-a4ba-709fda6903b1",
   "metadata": {},
   "source": [
    "with open(\"file_name/file_path\", mode = \"a\") as \"var_1:\n",
    "    var_1.write(\"Your text is added between these quotes\")"
   ]
  },
  {
   "cell_type": "markdown",
   "id": "f26035b8-d0b2-4ca4-ab8d-609546fb7c22",
   "metadata": {},
   "source": [
    "- Mode `\"a\"` stands for <font color = \"magenta\">***\"append\"***</font>, adalah mode menuliskan value ke dalam file dan bersifat <font color = lime>\"menambahkan\"</font>\n",
    "- Jika mode `\"w\"` (write) adalah mode yg menghapus value lama dan menggantinya menjadi new value, append mode digunakan untuk adding new value ke dalam existing files"
   ]
  },
  {
   "cell_type": "code",
   "execution_count": 3,
   "id": "8c27c3b3-df43-4dd5-9491-b09ac10f5598",
   "metadata": {},
   "outputs": [],
   "source": [
    "file_path = \"D:\\\\Docs\\\\Python\\\\Jupyter\\\\Py-learn\\\\Udemy\\\\100 Days Python Learning\\\\D24 - Files, directories and paths\\\\test.txt\"\n",
    "with open(file_path, \"a\") as file:\n",
    "    file.write(\"\\nThis text is added from jupyter lab Windows 8, using append method\")"
   ]
  },
  {
   "cell_type": "code",
   "execution_count": null,
   "id": "a4187ed3-a6b3-4929-87f8-bcd344e8e468",
   "metadata": {},
   "outputs": [],
   "source": []
  }
 ],
 "metadata": {
  "kernelspec": {
   "display_name": "Python 3 (ipykernel)",
   "language": "python",
   "name": "python3"
  },
  "language_info": {
   "codemirror_mode": {
    "name": "ipython",
    "version": 3
   },
   "file_extension": ".py",
   "mimetype": "text/x-python",
   "name": "python",
   "nbconvert_exporter": "python",
   "pygments_lexer": "ipython3",
   "version": "3.10.8"
  }
 },
 "nbformat": 4,
 "nbformat_minor": 5
}
