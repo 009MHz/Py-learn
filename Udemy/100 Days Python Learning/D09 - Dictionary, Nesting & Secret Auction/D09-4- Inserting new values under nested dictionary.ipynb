{
 "cells": [
  {
   "cell_type": "markdown",
   "id": "73dee133-bed6-462a-b83a-6589c94a1d75",
   "metadata": {},
   "source": [
    "## Inserting new values under nested dictionary"
   ]
  },
  {
   "cell_type": "code",
   "execution_count": 1,
   "id": "8520f144-b326-4ff2-bde1-a36182505f8e",
   "metadata": {},
   "outputs": [],
   "source": [
    "# Don't change the code on this cell\n",
    "travel_log =[\n",
    "{\n",
    "    \"country\": \"France\",\n",
    "    \"visits\": 12,\n",
    "    \"cities\": [\"Paris\", \"Lille\", \"Dijon\"]\n",
    "},\n",
    "{\n",
    "    \"country\": \"Germany\",\n",
    "    \"visits\": 5,\n",
    "    \"cities\": [\"Berlin\", \"Hamburg\", \"Stuttgart\"]\n",
    "}\n",
    "]"
   ]
  },
  {
   "cell_type": "markdown",
   "id": "1e78858f-4dff-4068-8bea-74318976c739",
   "metadata": {},
   "source": [
    "*TODO*: Write the function that will allow new countries based on nested dictionary format"
   ]
  },
  {
   "cell_type": "code",
   "execution_count": 2,
   "id": "756b9773-d0ab-42fb-8b03-8eadc3ab34cc",
   "metadata": {},
   "outputs": [],
   "source": [
    "def add_new_country(add_country,add_visit, add_cities): # 1. Define the function untuk menambahkan argument based on the dict contents\n",
    "    # 2. define the passed argument as new values\n",
    "    new_keys = {\n",
    "        \"country\" : add_country,\n",
    "        \"visits\" : add_visit,\n",
    "        \"cities\" : add_cities\n",
    "    }\n",
    "    travel_log.append(new_keys)  # 3. Adding new input as list based on travel log format (dict under list)"
   ]
  },
  {
   "cell_type": "code",
   "execution_count": 3,
   "id": "ecee56ac-1c7e-4fc5-a1a4-032f3a469671",
   "metadata": {},
   "outputs": [
    {
     "name": "stdout",
     "output_type": "stream",
     "text": [
      "{'country': 'Russia', 'visits': 2, 'cities': ['Moscow', 'Saint Petersburg']}\n"
     ]
    }
   ],
   "source": [
    "# Don't change the code on this line\n",
    "add_new_country(\"Russia\", 2, [\"Moscow\", \"Saint Petersburg\"])  # using the function (add new city)\n",
    "print(travel_log[2])"
   ]
  },
  {
   "cell_type": "code",
   "execution_count": 4,
   "id": "c185e8de-21ea-460f-b410-d70099efdb3a",
   "metadata": {},
   "outputs": [
    {
     "data": {
      "text/plain": [
       "[{'country': 'France', 'visits': 12, 'cities': ['Paris', 'Lille', 'Dijon']},\n",
       " {'country': 'Germany',\n",
       "  'visits': 5,\n",
       "  'cities': ['Berlin', 'Hamburg', 'Stuttgart']},\n",
       " {'country': 'Russia', 'visits': 2, 'cities': ['Moscow', 'Saint Petersburg']}]"
      ]
     },
     "execution_count": 4,
     "metadata": {},
     "output_type": "execute_result"
    }
   ],
   "source": [
    "travel_log"
   ]
  }
 ],
 "metadata": {
  "kernelspec": {
   "display_name": "Python 3 (ipykernel)",
   "language": "python",
   "name": "python3"
  },
  "language_info": {
   "codemirror_mode": {
    "name": "ipython",
    "version": 3
   },
   "file_extension": ".py",
   "mimetype": "text/x-python",
   "name": "python",
   "nbconvert_exporter": "python",
   "pygments_lexer": "ipython3",
   "version": "3.9.7"
  }
 },
 "nbformat": 4,
 "nbformat_minor": 5
}
