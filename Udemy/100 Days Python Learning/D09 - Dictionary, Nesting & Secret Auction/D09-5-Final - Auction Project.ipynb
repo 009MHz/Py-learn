{
 "cells": [
  {
   "cell_type": "markdown",
   "id": "d0d0fae4-de0a-45f2-98a2-641cfbe3a27d",
   "metadata": {},
   "source": [
    "## Auction Project"
   ]
  },
  {
   "cell_type": "markdown",
   "id": "6b84a262-97f7-4f2e-af7b-53f5fb19ec85",
   "metadata": {},
   "source": [
    "Todo 0: Importing necessaries modules"
   ]
  },
  {
   "cell_type": "code",
   "execution_count": null,
   "id": "7cb63d5a-7a20-4095-b4b7-61704b92a447",
   "metadata": {},
   "outputs": [],
   "source": [
    "import os\n",
    "from art import logo"
   ]
  },
  {
   "cell_type": "markdown",
   "id": "a4022941-8605-4a3f-9b00-e4fee80f7d5b",
   "metadata": {},
   "source": [
    "    Creating clear function screen"
   ]
  },
  {
   "cell_type": "code",
   "execution_count": null,
   "id": "2336475f-60f8-4995-921d-d9b066a2a321",
   "metadata": {},
   "outputs": [],
   "source": [
    "def cls():\n",
    "    os.system('cls' if os.name =='nt' else 'clear')"
   ]
  },
  {
   "cell_type": "markdown",
   "id": "9473c05a-f01e-49d6-ad65-3e785ffd86c3",
   "metadata": {},
   "source": [
    "Todo 1: The auction processes"
   ]
  },
  {
   "cell_type": "code",
   "execution_count": null,
   "id": "bb403295-121d-47ad-90c9-203d99a7df80",
   "metadata": {},
   "outputs": [],
   "source": [
    "# define empty dict to store the auctioners data\n",
    "auctions = {}"
   ]
  },
  {
   "cell_type": "markdown",
   "id": "26970056-41ed-4ca6-a930-35c6311096bb",
   "metadata": {},
   "source": [
    "Todo 2: Validate the highest bid"
   ]
  },
  {
   "cell_type": "code",
   "execution_count": null,
   "id": "81ea2602-1abd-4ade-bb0c-6e75af902855",
   "metadata": {},
   "outputs": [],
   "source": [
    "def bid_winner(bid_records):\n",
    "    max_bid = 0\n",
    "    winner = \"\"\n",
    "    for x in bid_records:  # looping the dictionary contents\n",
    "        if bid_records[x] > max_bid:  # check the dict price(value) vs max bidding\n",
    "            bid = auctions[bidder]  # replacing the value jika ada harga baru yg leih tinggi\n",
    "            winner = bidder.title()  # taking the key(name) from the max bidding\n",
    "    print(f\"This auction is winning by {winner} with ${bid}.\")"
   ]
  },
  {
   "cell_type": "code",
   "execution_count": null,
   "id": "e75c15d6-653b-44e5-951a-f784684fde47",
   "metadata": {},
   "outputs": [],
   "source": [
    "print(logo)\n",
    "max_bid = False  # looping condition\n",
    "while not max_bid:\n",
    "    bidder = input('What is your name?')  # setup the name for the key\n",
    "    price = int(input(\"How much your offering?\"))  # setup price for the value\n",
    "    auctions[bidder] = price  # assigning the name & price into dictionary\n",
    "    next = input(\"Is there any higher bid? Type 'yes' or 'no'.\\n\").lower()\n",
    "    if next == 'no':\n",
    "        max_bid = True  # ending the loops when there's no challenger\n",
    "    else:  \n",
    "        cls()  # clearing previous logs\n",
    "        print(f\"Last bid is $ {price}\")  # showing the last bid price"
   ]
  }
 ],
 "metadata": {
  "kernelspec": {
   "display_name": "Python 3 (ipykernel)",
   "language": "python",
   "name": "python3"
  },
  "language_info": {
   "codemirror_mode": {
    "name": "ipython",
    "version": 3
   },
   "file_extension": ".py",
   "mimetype": "text/x-python",
   "name": "python",
   "nbconvert_exporter": "python",
   "pygments_lexer": "ipython3",
   "version": "3.9.7"
  }
 },
 "nbformat": 4,
 "nbformat_minor": 5
}
