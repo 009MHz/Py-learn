{
 "cells": [
  {
   "cell_type": "code",
   "execution_count": 1,
   "id": "9025f952-f3c4-4c56-8d44-1ca1f842c37b",
   "metadata": {},
   "outputs": [],
   "source": [
    "# Don't change the code on this cell\n",
    "student_scores = {\n",
    "    \"Harry\": 81,\n",
    "    \"Ron\": 78,\n",
    "    \"Hermione\": 99, \n",
    "    \"Draco\": 74,\n",
    "    \"Neville\": 62,\n",
    "}"
   ]
  },
  {
   "cell_type": "code",
   "execution_count": 2,
   "id": "94d988dd-83b1-4a5b-add1-5218f5416b90",
   "metadata": {},
   "outputs": [],
   "source": [
    "student_grades = {}  # key untuk mentimpan hasil convertion"
   ]
  },
  {
   "cell_type": "markdown",
   "id": "f7ede2f4-3a29-4605-893f-ce4d0c91b960",
   "metadata": {},
   "source": [
    "Iterating dictionary to get new value"
   ]
  },
  {
   "cell_type": "code",
   "execution_count": 3,
   "id": "999f0b4d-63a0-4db1-ab9f-516e32d98b35",
   "metadata": {},
   "outputs": [
    {
     "name": "stdout",
     "output_type": "stream",
     "text": [
      "81\n",
      "78\n",
      "99\n",
      "74\n",
      "62\n"
     ]
    }
   ],
   "source": [
    "for x in student_scores: #looping key dari kamus\n",
    "    scoring = student_scores[x] # loop assign untuk mendapatkan posisi value\n",
    "    print(scoring)  # printing dict values\n",
    "    if scoring > 90:\n",
    "        student_grades[x] = \"Outstanding\"\n",
    "        # format untuk menambahkan new value ke kamus\n",
    "        # empty_dict[loop_assignment] = 'new value'\n",
    "    elif scoring >80:\n",
    "        student_grades[x] = \"Exceeds Expectations\" ##format => kamus baru[key lama] = value baru\n",
    "    elif scoring >70:\n",
    "        student_grades[x] = \"Acceptable\"\n",
    "    else:\n",
    "        student_grades[x] = \"Fail\""
   ]
  },
  {
   "cell_type": "code",
   "execution_count": 4,
   "id": "d5e668ef-14f7-4eed-ba5b-a412393e6582",
   "metadata": {},
   "outputs": [
    {
     "name": "stdout",
     "output_type": "stream",
     "text": [
      "{'Harry': 'Exceeds Expectations', 'Ron': 'Acceptable', 'Hermione': 'Outstanding', 'Draco': 'Acceptable', 'Neville': 'Fail'}\n"
     ]
    }
   ],
   "source": [
    "print(student_grades)"
   ]
  }
 ],
 "metadata": {
  "kernelspec": {
   "display_name": "Python 3 (ipykernel)",
   "language": "python",
   "name": "python3"
  },
  "language_info": {
   "codemirror_mode": {
    "name": "ipython",
    "version": 3
   },
   "file_extension": ".py",
   "mimetype": "text/x-python",
   "name": "python",
   "nbconvert_exporter": "python",
   "pygments_lexer": "ipython3",
   "version": "3.9.7"
  }
 },
 "nbformat": 4,
 "nbformat_minor": 5
}
