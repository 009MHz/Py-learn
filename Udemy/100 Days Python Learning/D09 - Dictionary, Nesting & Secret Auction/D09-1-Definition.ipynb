{
 "cells": [
  {
   "cell_type": "markdown",
   "id": "9d464f83-b472-4802-8c17-2b54cc782c2c",
   "metadata": {},
   "source": [
    "# Dictionary\n",
    "- Suatu data type pada python yang berwujud seperti kamus pada aslinya. \n",
    "- Mampu Menyimpan beberapa informasi sekaligus, baik command, parameter ke dalam satu section / title\n",
    "- Menggunakan curly brackets {} dalam pengaplikasian nya\n",
    "\n",
    "### Format"
   ]
  },
  {
   "cell_type": "raw",
   "id": "5286e4d1-86b5-4eb5-a943-2ad0c5e1f4ff",
   "metadata": {},
   "source": [
    "{key: value}\n",
    "key: title / header dari variable dictionary yg kita inginkan\n",
    "value: definition / isi dari variable yg kita buat"
   ]
  },
  {
   "cell_type": "markdown",
   "id": "77969015-0297-496f-b4e3-eb2013f61200",
   "metadata": {},
   "source": [
    "Example"
   ]
  },
  {
   "cell_type": "code",
   "execution_count": 1,
   "id": "63330b36-0b68-415d-bd61-976a38530a32",
   "metadata": {},
   "outputs": [],
   "source": [
    "programming_dictionary = {\"Bug\": \"An error in a program that prevents the program from running as expected.\", \"Function\": \"A piece of code that you can easily call over and over again.\"}"
   ]
  },
  {
   "cell_type": "markdown",
   "id": "9486dbc4-5a5a-4d84-90ac-676a58ca797d",
   "metadata": {},
   "source": [
    "    Atau bisa juga ditulis dengan format seperti ini"
   ]
  },
  {
   "cell_type": "code",
   "execution_count": 2,
   "id": "f680c18a-3ed3-4616-97af-73a1303665f1",
   "metadata": {},
   "outputs": [],
   "source": [
    "programming_dictionary = { # open bracket lalu enter, untuk mempermudah membaca value yg kita berikan\n",
    "    \"Bug\": \"An error in a program that prevents the program from running as expected.\", # untuk misahinnya cukup tambah \",\" di akhir code kemudian hit enter\n",
    "    \"Function\": \"A piece of code that you can easily call over and over again.\",\n",
    "    \"Lorem\": \"Lorem ipsum dolor sit amet, consectetur adipiscing elit\"\n",
    "}  # closing bracket, PERLU DIPERHATIKAN, untuk closing bracket tidak boleh maju indentationnya (harus sejajar dengan title awalnya)"
   ]
  },
  {
   "cell_type": "markdown",
   "id": "bf4ea754-d51a-4055-ac4e-744034197522",
   "metadata": {
    "tags": []
   },
   "source": [
    "## How to use / call dictionary\n",
    "\n",
    "#### Memanggil Value\n",
    "- Hampir mirip dengan pemanggilan indexing list\n",
    "- Namun pada dictionary kita menggunakan key name nya instead of number"
   ]
  },
  {
   "cell_type": "raw",
   "id": "381db014-cdec-471f-a304-c6a5eebaa11a",
   "metadata": {},
   "source": [
    "list[1] => nama list[urutan data yang dipanggil]\n",
    "dict[key] => nama kamus [nama title / key yg akan dipanggil]"
   ]
  },
  {
   "cell_type": "code",
   "execution_count": null,
   "id": "025159f8-644a-4bfc-bad2-5a13e5f71859",
   "metadata": {},
   "outputs": [],
   "source": [
    "programming_dictionary['Bug']"
   ]
  },
  {
   "cell_type": "code",
   "execution_count": null,
   "id": "11a3545b-18c2-4f87-8938-f09b379f145f",
   "metadata": {},
   "outputs": [],
   "source": [
    "programming_dictionary['Lorem']"
   ]
  },
  {
   "cell_type": "markdown",
   "id": "64d802f7-b15e-456d-930a-ff92c38696e5",
   "metadata": {},
   "source": [
    "#### Menambah Dictionary Value"
   ]
  },
  {
   "cell_type": "raw",
   "id": "6abc5a1c-b612-449d-9e6b-abee9ab9ade6",
   "metadata": {},
   "source": [
    "nama kamus + [ key/title ] = value / isi yang akan diberikan"
   ]
  },
  {
   "cell_type": "code",
   "execution_count": null,
   "id": "5b3fc3b2-43e8-4039-b27b-cdaae35d952f",
   "metadata": {},
   "outputs": [],
   "source": [
    "programming_dictionary[\"True Love\"] = \"A hard thing to find\""
   ]
  },
  {
   "cell_type": "code",
   "execution_count": null,
   "id": "492204ef-4006-413c-89fd-f2858dd22f6d",
   "metadata": {},
   "outputs": [],
   "source": [
    "programming_dictionary"
   ]
  },
  {
   "cell_type": "markdown",
   "id": "53e66cfa-c7f4-4151-a151-2715b9cbc1cb",
   "metadata": {},
   "source": [
    "#### Mengganti Dictionary Value"
   ]
  },
  {
   "cell_type": "raw",
   "id": "79336261-e56d-4818-a2b0-65f720124ac0",
   "metadata": {},
   "source": [
    "nama kamus + [ key/title yg sudah ada ] = new value / updated value"
   ]
  },
  {
   "cell_type": "code",
   "execution_count": null,
   "id": "2613aee9-c640-4b4b-81a2-1ecaf1c496d4",
   "metadata": {},
   "outputs": [],
   "source": [
    "programming_dictionary['Lorem'] = 'sed do eiusmod tempor incididunt ut labore et dolore magna aliqua'"
   ]
  },
  {
   "cell_type": "code",
   "execution_count": null,
   "id": "5e602c56-2983-4427-ae8e-4c78860a93bb",
   "metadata": {},
   "outputs": [],
   "source": [
    "print(programming_dictionary)"
   ]
  },
  {
   "cell_type": "markdown",
   "id": "aacfa320-005a-4b4a-aa37-975c409575c6",
   "metadata": {
    "tags": []
   },
   "source": [
    "### Looping inside dictionary"
   ]
  },
  {
   "cell_type": "code",
   "execution_count": 4,
   "id": "1d7e38a7-b257-4ec4-8388-cd65c9daf3f6",
   "metadata": {},
   "outputs": [
    {
     "name": "stdout",
     "output_type": "stream",
     "text": [
      "Returning the key: Bug\n",
      "Returning the values: An error in a program that prevents the program from running as expected.\n",
      "Returning the key: Function\n",
      "Returning the values: A piece of code that you can easily call over and over again.\n",
      "Returning the key: Lorem\n",
      "Returning the values: Lorem ipsum dolor sit amet, consectetur adipiscing elit\n"
     ]
    }
   ],
   "source": [
    "for x in programming_dictionary:\n",
    "    # print (f\" 'x' result: {x}\")\n",
    "    print(f\"Returning the key: {x}\")\n",
    "    print(f\"Returning the values: {programming_dictionary[x]}\")"
   ]
  },
  {
   "cell_type": "markdown",
   "id": "6708989c-dd43-40a9-8e12-88b10d63dbe7",
   "metadata": {},
   "source": [
    "### Menghapus seluruh isi dictionary"
   ]
  },
  {
   "cell_type": "code",
   "execution_count": null,
   "id": "a17d8525-be9f-491b-809e-3a0ce6a339ba",
   "metadata": {},
   "outputs": [],
   "source": [
    "programming_dictionary = {}"
   ]
  },
  {
   "cell_type": "code",
   "execution_count": null,
   "id": "8b0d0150-d402-45f1-8374-c4a0d1e1e038",
   "metadata": {},
   "outputs": [],
   "source": [
    "print(programming_dictionary)"
   ]
  }
 ],
 "metadata": {
  "kernelspec": {
   "display_name": "Python 3 (ipykernel)",
   "language": "python",
   "name": "python3"
  },
  "language_info": {
   "codemirror_mode": {
    "name": "ipython",
    "version": 3
   },
   "file_extension": ".py",
   "mimetype": "text/x-python",
   "name": "python",
   "nbconvert_exporter": "python",
   "pygments_lexer": "ipython3",
   "version": "3.9.7"
  }
 },
 "nbformat": 4,
 "nbformat_minor": 5
}
