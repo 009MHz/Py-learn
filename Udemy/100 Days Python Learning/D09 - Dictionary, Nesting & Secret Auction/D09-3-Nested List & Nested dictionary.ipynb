{
 "cells": [
  {
   "cell_type": "markdown",
   "id": "13cc5ab0-0144-4f50-a9de-c12be8d25b1b",
   "metadata": {},
   "source": [
    "# Nested List & Nested dictionary"
   ]
  },
  {
   "cell_type": "markdown",
   "id": "f040fccf-1af4-418b-84b2-96dce3bea904",
   "metadata": {},
   "source": [
    "## Normal dictionary (no nested)"
   ]
  },
  {
   "cell_type": "raw",
   "id": "de34c507-e378-48e4-844e-ddd3caa8bbb3",
   "metadata": {},
   "source": [
    "kamus = {key1:value1, key2: value2}"
   ]
  },
  {
   "cell_type": "code",
   "execution_count": 1,
   "id": "86eb92a2-969d-465b-8641-8d76fa4b0dc9",
   "metadata": {},
   "outputs": [],
   "source": [
    "capitals = {\n",
    "    \"France\": \"Paris\",\n",
    "    \"Germany\": \"Berlin\",\n",
    "}"
   ]
  },
  {
   "cell_type": "markdown",
   "id": "271078d8-56b9-476a-884b-169317678dda",
   "metadata": {},
   "source": [
    "## Nesting a List in a Dictionary"
   ]
  },
  {
   "cell_type": "raw",
   "id": "c1f951ff-1a0c-4d89-8240-50e85268a50c",
   "metadata": {},
   "source": [
    "kamus = {\"KEY 1\": [value 1a,value 1b, value 1c], \"KEY 2\":[value 2a, value 2b, value 2c]}"
   ]
  },
  {
   "cell_type": "code",
   "execution_count": 2,
   "id": "31372084-217e-47c2-b6a9-8b3016efef62",
   "metadata": {},
   "outputs": [],
   "source": [
    "city_log = {\n",
    "    \"France\": [\"Paris\", \"Lille\", \"Dijon\"],\n",
    "    \"Germany\": [\"Berlin\", \"Hamburg\", \"Stuttgart\"],\n",
    "}"
   ]
  },
  {
   "cell_type": "markdown",
   "id": "5babe4ec-7aae-468c-a230-c7cd9b82af57",
   "metadata": {},
   "source": [
    "## Nesting Dictionary in a Dictionary"
   ]
  },
  {
   "cell_type": "raw",
   "id": "4f2d1834-d8b2-4cb2-b068-466140d27acc",
   "metadata": {},
   "source": [
    "kamus = {\n",
    "    KEY1: {SUB key1: [sub1a,sub1b,sub1c], SUB key2:[sub2a,sub2b,sub2c]}, \n",
    "    KEY2: {SUB key3: [sub3a,sub3b,sub3c]}, SUB key4: [sub4a,sub4b,sub4c]\n",
    "}"
   ]
  },
  {
   "cell_type": "code",
   "execution_count": 3,
   "id": "aa0fc6f4-3d4b-41da-ac31-adcb28254197",
   "metadata": {},
   "outputs": [],
   "source": [
    "travel_log = {\n",
    "    \"France\": {\"visited\": [\"Paris\", \"Lille\", \"Dijon\"],\"attempts\": 12},\n",
    "    \"Japan\": {\"visited\": [\"Tokyo\", \"Okinawa\", \"Hokaido\"], \"attempts\":5}\n",
    "}"
   ]
  },
  {
   "cell_type": "markdown",
   "id": "839da826-a9eb-4366-877e-a54e8dd3e504",
   "metadata": {},
   "source": [
    "## Nesting Dictionaries in Lists"
   ]
  },
  {
   "cell_type": "raw",
   "id": "2b570129-06b8-4631-ac37-e62415fc48a1",
   "metadata": {},
   "source": [
    "list = [\n",
    "    {KEY1: Value1, KEY2:[value2a,value2b,value2c], KEY3:Value3},\n",
    "    {KEY4: Value4, KEY5:[value5a,value5b,value5c], KEY6:Value6}\n",
    "]"
   ]
  },
  {
   "cell_type": "code",
   "execution_count": 4,
   "id": "bb66a52a-9faa-4874-900f-71b077eae9e7",
   "metadata": {},
   "outputs": [],
   "source": [
    "travel_log = [\n",
    "    {\n",
    "        \"country\": \"France\", \n",
    "        \"visited\": [\"Paris\", \"Lille\", \"Dijon\"],\n",
    "        \"attempts\": 12\n",
    "    },\n",
    "    {\n",
    "        \"country\":\"Japan\", \n",
    "        \"visited\":[\"Tokyo\", \"Okinawa\", \"Hokaido\"], \n",
    "        \"attempts\": 5\n",
    "    }\n",
    "]"
   ]
  },
  {
   "cell_type": "code",
   "execution_count": 5,
   "id": "ed2c8a01-8d8d-4a3c-b40c-07a8b537c5bf",
   "metadata": {},
   "outputs": [],
   "source": [
    "one = travel_log[1]['attempts']  # accessing the dictionary on the second list then calling the attempts value"
   ]
  },
  {
   "cell_type": "code",
   "execution_count": 6,
   "id": "6c7e66d4-8cdc-44fb-8707-10a0fa4eb761",
   "metadata": {},
   "outputs": [
    {
     "data": {
      "text/plain": [
       "5"
      ]
     },
     "execution_count": 6,
     "metadata": {},
     "output_type": "execute_result"
    }
   ],
   "source": [
    "one"
   ]
  }
 ],
 "metadata": {
  "kernelspec": {
   "display_name": "Python 3 (ipykernel)",
   "language": "python",
   "name": "python3"
  },
  "language_info": {
   "codemirror_mode": {
    "name": "ipython",
    "version": 3
   },
   "file_extension": ".py",
   "mimetype": "text/x-python",
   "name": "python",
   "nbconvert_exporter": "python",
   "pygments_lexer": "ipython3",
   "version": "3.9.7"
  }
 },
 "nbformat": 4,
 "nbformat_minor": 5
}
