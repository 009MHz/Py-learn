{
 "cells": [
  {
   "cell_type": "markdown",
   "id": "601178eb-a285-48de-9fe6-712509f5b651",
   "metadata": {},
   "source": [
    "### for loop\n",
    "- command ini bertujuan untuk mengulangi sebuah siklus secara terus menerus\n",
    "- command ini berisikan **\"for\"(*nama command*)** fruit (variable sementara untuk memanggil data yang akan dipanggil) **\"in\"** fruits (variable data yang akan dipanggil utk di loop)"
   ]
  },
  {
   "cell_type": "code",
   "execution_count": 1,
   "id": "2e69a365-9066-4161-a7d9-67bf0f931be5",
   "metadata": {},
   "outputs": [
    {
     "name": "stdout",
     "output_type": "stream",
     "text": [
      "Apple\n",
      "Apple Pie\n",
      "['Apple', 'Peach', 'Pear']\n",
      "Peach\n",
      "Peach Pie\n",
      "['Apple', 'Peach', 'Pear']\n",
      "Pear\n",
      "Pear Pie\n",
      "['Apple', 'Peach', 'Pear']\n"
     ]
    }
   ],
   "source": [
    "fruits = [\"Apple\", \"Peach\", \"Pear\"] #\n",
    "for fruit in fruits:\n",
    "    print(fruit) #akan menulis semua data yang di dalam bracket [ ]\n",
    "    print(fruit + \" Pie\") #akan menambah kata \"pie\" pada setiap data yang di loop\n",
    "    print(fruits) #akan menulis data di belakang \"=\" dan di loop secara mentah-mentah \n",
    "    #namun jika indent nya dimundurkan, dia hanya akan menulis 1x\n",
    "#semua data yang akan di loop akan menambah satu indent dibawah line for command"
   ]
  }
 ],
 "metadata": {
  "kernelspec": {
   "display_name": "Python 3 (ipykernel)",
   "language": "python",
   "name": "python3"
  },
  "language_info": {
   "codemirror_mode": {
    "name": "ipython",
    "version": 3
   },
   "file_extension": ".py",
   "mimetype": "text/x-python",
   "name": "python",
   "nbconvert_exporter": "python",
   "pygments_lexer": "ipython3",
   "version": "3.9.7"
  }
 },
 "nbformat": 4,
 "nbformat_minor": 5
}
