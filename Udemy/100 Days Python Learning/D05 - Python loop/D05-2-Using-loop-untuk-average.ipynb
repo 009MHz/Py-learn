{
 "cells": [
  {
   "cell_type": "markdown",
   "id": "d909de50-16be-4fa9-ae30-d6ddc48d4782",
   "metadata": {},
   "source": [
    "## For Loop untuk mendapatkan average scored dari 2 input"
   ]
  },
  {
   "cell_type": "code",
   "execution_count": null,
   "id": "06c06d16-69ea-4787-8b91-32ff5846b860",
   "metadata": {},
   "outputs": [],
   "source": [
    "# Don't change the code on this cell\n",
    "student_heights = input(\"Input a list of student heights \").split() \n",
    "#command supaya input bisa >1 & dipisahkan dengan spasi\n",
    "for n in range(0, len(student_heights)):\n",
    "    student_heights[n] = int(student_heights[n])"
   ]
  },
  {
   "cell_type": "markdown",
   "id": "577ece56-26bb-44ca-8212-b85ee6c5f831",
   "metadata": {},
   "source": [
    "**cara cepat**"
   ]
  },
  {
   "cell_type": "code",
   "execution_count": null,
   "id": "26a479c5-45df-475d-ac0f-0eaf7fce537d",
   "metadata": {},
   "outputs": [],
   "source": [
    "jumlah_tinggi = sum(student_heights) #penjumlahan langsung semua tinggi\n",
    "jumlah_orang = len(student_heights) #penghitungan langsung data\n",
    "average = round(jumlah_tinggi / jumlah_orang) #rumus rata-rata\n",
    "print(average) #munculkan hasilnya"
   ]
  },
  {
   "cell_type": "markdown",
   "id": "e624fefc-da13-4acc-a277-5f166c94a817",
   "metadata": {},
   "source": [
    "Learning approaches"
   ]
  },
  {
   "cell_type": "code",
   "execution_count": null,
   "id": "55056576-e66e-4ce7-a52f-5676a27b647b",
   "metadata": {},
   "outputs": [],
   "source": [
    "total_height = 0 \n",
    "# kunci variable untuk menjumlahkan semua data yang diinput (supaya bisa di loop satu-satu)"
   ]
  },
  {
   "cell_type": "code",
   "execution_count": null,
   "id": "982ace0e-6ef9-4098-91fc-4b668f13318e",
   "metadata": {},
   "outputs": [],
   "source": [
    "for height in student_heights: \n",
    "    '''habis command for boleh random, asal jelas supaya tidak ketuker, \n",
    "    yang ga boleh, data habis \"in\" nya'''\n",
    "    total_height = total_height + height \n",
    "    #command singkatnya total_height =+ height\n",
    "    #maksud command di atas adalah (0+ data ke 1) & (0+data ke 2) dst\n",
    "print(total_height) \n",
    "'''indent sengaja dimundurkan supaya mengambil hasil akhirnya saja\n",
    "jika tidak dimundurkan maka looping akan berjalan dan hasilnya akan menjumlahan secara \n",
    "fibonacci sampai semua data habis'''"
   ]
  },
  {
   "cell_type": "code",
   "execution_count": null,
   "id": "bd4c0b6e-9005-4a2b-814e-da01d9ad21a6",
   "metadata": {},
   "outputs": [],
   "source": [
    "number_of_students = 0\n",
    "for students in student_heights:\n",
    "    number_of_students += 1 \n",
    "    '''maksudnya adalah command ini akan mengeksekusi (0+1) & (1+1) sampe semua data \n",
    "    yg diinput habis'''\n",
    "print(number_of_students)\n",
    "\n",
    "# setelah ekstraksi coding selesai, nanti dicari average nya\n",
    "average = total_height / number_of_students \n",
    "print(round(average))"
   ]
  }
 ],
 "metadata": {
  "kernelspec": {
   "display_name": "Python 3 (ipykernel)",
   "language": "python",
   "name": "python3"
  },
  "language_info": {
   "codemirror_mode": {
    "name": "ipython",
    "version": 3
   },
   "file_extension": ".py",
   "mimetype": "text/x-python",
   "name": "python",
   "nbconvert_exporter": "python",
   "pygments_lexer": "ipython3",
   "version": "3.9.7"
  }
 },
 "nbformat": 4,
 "nbformat_minor": 5
}
