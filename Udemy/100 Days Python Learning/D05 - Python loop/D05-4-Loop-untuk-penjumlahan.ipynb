{
 "cells": [
  {
   "cell_type": "markdown",
   "id": "4f162330-6e7a-413a-b3d3-8627e41d39d9",
   "metadata": {},
   "source": [
    "## For loop untuk melakukan penjumlahan dari data yang diberikan"
   ]
  },
  {
   "cell_type": "markdown",
   "id": "4e085724-c00e-439b-9579-4fbeb6883bc3",
   "metadata": {},
   "source": [
    "Approaches:"
   ]
  },
  {
   "cell_type": "code",
   "execution_count": null,
   "id": "ec49f57a-d0c9-443a-9ca4-bd2976294c36",
   "metadata": {},
   "outputs": [],
   "source": [
    "summary = 0\n",
    "for number in range(0, 102, 2): \n",
    "    # memanggil semua data di antara 0 - 102 (kecuali 0 & 102) dengan kelipatan 2 angka\n",
    "    print(number)\n",
    "    summary += number # 0+angka dari line 4, ex: (0+2)+(0+4). . .(0+100)\n",
    "print(summary)"
   ]
  },
  {
   "cell_type": "markdown",
   "id": "8bb6a7da-f633-45e5-ba17-905ef1871bb7",
   "metadata": {},
   "source": [
    "Learning approaches:"
   ]
  },
  {
   "cell_type": "code",
   "execution_count": null,
   "id": "12a0f442-7582-4276-aa82-4cdb56cb6f2c",
   "metadata": {},
   "outputs": [],
   "source": [
    "alternative_sum = 0\n",
    "for number in range(1, 101):\n",
    "    # iterating angka dari 1 - 100\n",
    "    if number % 2 == 0:\n",
    "        # modulo ceking untuk mencari angka genap\n",
    "        # print(number)\n",
    "        alternative_sum += number\n",
    "        # memfilter angka yg tersaring oleh modulo sebelumnya (angka genap)\n",
    "        # menjumlahkan secara terus menerus ke dalam variable kunci hingga semua angka habis\n",
    "print(alternative_sum)"
   ]
  }
 ],
 "metadata": {
  "kernelspec": {
   "display_name": "Python 3 (ipykernel)",
   "language": "python",
   "name": "python3"
  },
  "language_info": {
   "codemirror_mode": {
    "name": "ipython",
    "version": 3
   },
   "file_extension": ".py",
   "mimetype": "text/x-python",
   "name": "python",
   "nbconvert_exporter": "python",
   "pygments_lexer": "ipython3",
   "version": "3.9.7"
  }
 },
 "nbformat": 4,
 "nbformat_minor": 5
}
