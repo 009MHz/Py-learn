{
 "cells": [
  {
   "cell_type": "markdown",
   "id": "781e2386-8d24-4765-9b87-69acb6242368",
   "metadata": {},
   "source": [
    "## For loop untuk mendapatkan maximum score pada input"
   ]
  },
  {
   "cell_type": "code",
   "execution_count": null,
   "id": "25a29d7e-9fe2-4c79-99ae-c31b645b922a",
   "metadata": {},
   "outputs": [],
   "source": [
    "# Don't change the code on this cell\n",
    "student_scores = input(\"Input a list of student scores \").split()\n",
    "for n in range(0, len(student_scores)):\n",
    "    student_scores[n] = int(student_scores[n])\n",
    "print(student_scores)"
   ]
  },
  {
   "cell_type": "markdown",
   "id": "a172e5f1-c5f2-4fff-b97d-09bc286d1d4d",
   "metadata": {},
   "source": [
    "*Cheat mode*"
   ]
  },
  {
   "cell_type": "code",
   "execution_count": null,
   "id": "07c49334-d19b-4e15-8126-549e1dcf4af2",
   "metadata": {},
   "outputs": [],
   "source": [
    "print(max(student_scores))"
   ]
  },
  {
   "cell_type": "markdown",
   "id": "343859c8-7abd-45f1-892d-164a89beb0ea",
   "metadata": {},
   "source": [
    "Learning Approaches"
   ]
  },
  {
   "cell_type": "code",
   "execution_count": null,
   "id": "14f893ab-883d-4236-a2f6-6ed26a59e90f",
   "metadata": {},
   "outputs": [],
   "source": [
    "max_numb = 0"
   ]
  },
  {
   "cell_type": "code",
   "execution_count": null,
   "id": "aee26741-bedf-447a-87eb-3e978b9a04cc",
   "metadata": {},
   "outputs": [],
   "source": [
    "for semua_nilai in student_scores: \n",
    "    #ngeloop yang ada di dalam data student_scores dan ditaruh jadi data semua_nilai\n",
    "    if semua_nilai > max_numb: \n",
    "    #jika data yang diambil dari di semua nilai > max_numb\n",
    "        max_numb = semua_nilai \n",
    "        '''maka max numb yang tadinya 0 akan digantikan oleh data yang di loop, dan \n",
    "        repeat lagi sampai semua data yg diberikan ke-loop, dan berakhir dengan max numb \n",
    "        jadi nomor paling gede'''\n",
    "print(f\"The highest score in the class is: {max_numb}\")"
   ]
  }
 ],
 "metadata": {
  "kernelspec": {
   "display_name": "Python 3 (ipykernel)",
   "language": "python",
   "name": "python3"
  },
  "language_info": {
   "codemirror_mode": {
    "name": "ipython",
    "version": 3
   },
   "file_extension": ".py",
   "mimetype": "text/x-python",
   "name": "python",
   "nbconvert_exporter": "python",
   "pygments_lexer": "ipython3",
   "version": "3.9.7"
  }
 },
 "nbformat": 4,
 "nbformat_minor": 5
}
