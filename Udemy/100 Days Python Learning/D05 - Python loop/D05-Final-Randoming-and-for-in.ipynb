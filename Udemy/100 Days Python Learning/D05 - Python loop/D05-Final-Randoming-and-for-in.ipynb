{
 "cells": [
  {
   "cell_type": "markdown",
   "id": "119a905b-28cc-42a2-a9de-1f6a401d616f",
   "metadata": {},
   "source": [
    "## Day 5 Final: Password Generator"
   ]
  },
  {
   "cell_type": "code",
   "execution_count": null,
   "id": "141f52a0-23e0-4921-b1ec-c89c326e5a43",
   "metadata": {},
   "outputs": [],
   "source": [
    "# Don't change the code on this cell\n",
    "import random\n",
    "letters = ['a', 'b', 'c', 'd', 'e', 'f', 'g', 'h', 'i', 'j', 'k', 'l', 'm', 'n', 'o', 'p', 'q', 'r', 's', 't', 'u', 'v', 'w', 'x', 'y', 'z', 'A', 'B', 'C', 'D', 'E', 'F', 'G', 'H', 'I', 'J', 'K', 'L', 'M', 'N', 'O', 'P', 'Q', 'R', 'S', 'T', 'U', 'V', 'W', 'X', 'Y', 'Z']\n",
    "numbers = ['0', '1', '2', '3', '4', '5', '6', '7', '8', '9']\n",
    "symbols = ['!', '#', '$', '%', '&', '(', ')', '*', '+']"
   ]
  },
  {
   "cell_type": "code",
   "execution_count": null,
   "id": "dadd632f-4f35-4a55-b284-120327156c61",
   "metadata": {},
   "outputs": [],
   "source": [
    "# Don't change the code on this cell\n",
    "print(\"Welcome to the PyPassword Generator!\")\n",
    "nr_letters= int(input(\"How many letters would you like in your password?\\n\")) \n",
    "nr_symbols = int(input(f\"How many symbols would you like?\\n\"))\n",
    "nr_numbers = int(input(f\"How many numbers would you like?\\n\"))"
   ]
  },
  {
   "cell_type": "markdown",
   "id": "bdebee78-1a35-4b58-90e1-e1dd9f289bf0",
   "metadata": {},
   "source": [
    "#### Eazy Level - Order not randomised:\n",
    "e.g. 4 letter, 2 symbol, 2 number = JduE&!91"
   ]
  },
  {
   "cell_type": "code",
   "execution_count": null,
   "id": "8b7c5c00-5986-4f55-a774-af3a640b2d61",
   "metadata": {},
   "outputs": [],
   "source": [
    "password = \"\" # parameter untuk key input menjadi empty string"
   ]
  },
  {
   "cell_type": "code",
   "execution_count": null,
   "id": "6aeed7ef-5ea9-44d7-bed6-ace5e597592a",
   "metadata": {},
   "outputs": [],
   "source": [
    "for x in range(1, nr_letters +1): \n",
    "    #semisal 4 angka maka akan diambil 1-4 instead 1-3\n",
    "    password += random.choice(letters)\n",
    "    '''password = kosong, makanya pakai += untuk menambahkan random input dari variable \n",
    "    letters supaya password = randoman letters'''"
   ]
  },
  {
   "cell_type": "code",
   "execution_count": null,
   "id": "aef28419-dc13-40dc-b425-fa1829a2e515",
   "metadata": {},
   "outputs": [],
   "source": [
    "for y in range(1, nr_symbols +1):\n",
    "    password += random.choice(symbols)"
   ]
  },
  {
   "cell_type": "code",
   "execution_count": null,
   "id": "545baa13-dc11-495d-a22a-f1d87180e499",
   "metadata": {},
   "outputs": [],
   "source": [
    "for z in range(1, nr_numbers +1):\n",
    "    password += random.choice(numbers)"
   ]
  },
  {
   "cell_type": "code",
   "execution_count": null,
   "id": "34c8b689-83e3-4e00-b2c2-52bd5279a054",
   "metadata": {},
   "outputs": [],
   "source": [
    "print(f\"Your password will be:\\n{password}\")"
   ]
  },
  {
   "cell_type": "markdown",
   "id": "44944034-b323-491e-9d7b-0c7e9b958dac",
   "metadata": {},
   "source": [
    "#### Hard Level - Order of characters randomised:\n",
    "e.g. 4 letter, 2 symbol, 2 number = g^2jk8&P"
   ]
  },
  {
   "cell_type": "code",
   "execution_count": null,
   "id": "0ee89872-1a67-4650-a10b-77b761cd3d87",
   "metadata": {},
   "outputs": [],
   "source": [
    "password_list = [] # parameter untuk key input menjadi empty list"
   ]
  },
  {
   "cell_type": "code",
   "execution_count": null,
   "id": "5572f06e-ee2a-4f30-b1bd-75b2068988e9",
   "metadata": {},
   "outputs": [],
   "source": [
    "for char in range(1, nr_letters + 1):\n",
    "    password_list.append(random.choice(letters)) \n",
    "    '''apppend digunakan karena tidak bisa memakai code yang sama dengan sebelumnya \n",
    "    (input adalah list instead of string)''' "
   ]
  },
  {
   "cell_type": "code",
   "execution_count": null,
   "id": "77d70e19-cb2c-41a2-9bda-143761dab34c",
   "metadata": {},
   "outputs": [],
   "source": [
    "for char in range(1, nr_symbols + 1):\n",
    "    password_list += random.choice(symbols)"
   ]
  },
  {
   "cell_type": "code",
   "execution_count": null,
   "id": "5f29a354-79bd-4e09-be44-dd2046cf7471",
   "metadata": {},
   "outputs": [],
   "source": [
    "for char in range(1, nr_numbers + 1):\n",
    "    password_list += random.choice(numbers)"
   ]
  },
  {
   "cell_type": "code",
   "execution_count": null,
   "id": "15f5964b-af1c-4282-9829-8d17f4004f5d",
   "metadata": {},
   "outputs": [],
   "source": [
    "print(password_list)\n",
    "random.shuffle(password_list)\n",
    "print(password_list) #output di dode ini masih berwujud list"
   ]
  },
  {
   "cell_type": "markdown",
   "id": "36becc20-1d54-498f-96c0-ddfcd63b38f9",
   "metadata": {},
   "source": [
    "    Converter dari list ke string"
   ]
  },
  {
   "cell_type": "code",
   "execution_count": null,
   "id": "3e97ed04-f427-4017-a91d-a69fbaa3223f",
   "metadata": {},
   "outputs": [],
   "source": [
    "password = \"\" \n",
    "for char in password_list:\n",
    "    password += char"
   ]
  },
  {
   "cell_type": "code",
   "execution_count": null,
   "id": "85205a1e-3b36-4b69-baf9-8abd286d271a",
   "metadata": {},
   "outputs": [],
   "source": [
    "print(f\"Your password is: {password}\")"
   ]
  }
 ],
 "metadata": {
  "kernelspec": {
   "display_name": "Python 3 (ipykernel)",
   "language": "python",
   "name": "python3"
  },
  "language_info": {
   "codemirror_mode": {
    "name": "ipython",
    "version": 3
   },
   "file_extension": ".py",
   "mimetype": "text/x-python",
   "name": "python",
   "nbconvert_exporter": "python",
   "pygments_lexer": "ipython3",
   "version": "3.9.7"
  }
 },
 "nbformat": 4,
 "nbformat_minor": 5
}
