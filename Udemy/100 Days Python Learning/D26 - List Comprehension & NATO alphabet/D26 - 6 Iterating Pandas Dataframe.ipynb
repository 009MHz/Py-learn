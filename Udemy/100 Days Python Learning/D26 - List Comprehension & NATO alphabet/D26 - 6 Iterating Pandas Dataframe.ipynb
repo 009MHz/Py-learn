{
 "cells": [
  {
   "cell_type": "markdown",
   "id": "b0375501-3054-4a05-95e1-4c92614598ad",
   "metadata": {
    "jp-MarkdownHeadingCollapsed": true,
    "tags": []
   },
   "source": [
    "# Iterating common Dictionary"
   ]
  },
  {
   "cell_type": "code",
   "execution_count": 1,
   "id": "356a4397-1af7-42b7-8566-89954dac0c73",
   "metadata": {},
   "outputs": [],
   "source": [
    "lewandowski = {\n",
    "    \"skills\" : [\"Pace\", \"Shooting\", \"Passing\", \"Dribbling\", \"Defense\", \"Physical\"],\n",
    "    \"score\": [77, 92, 81, 87, 45, 84]\n",
    "}"
   ]
  },
  {
   "cell_type": "markdown",
   "id": "558f4d48-f924-4493-b4b8-3905f04f1cdb",
   "metadata": {},
   "source": [
    "## Iterating the dictionary to get the key"
   ]
  },
  {
   "cell_type": "code",
   "execution_count": 2,
   "id": "6746d8b7-0e55-4e85-b303-7dbea922e5fe",
   "metadata": {},
   "outputs": [
    {
     "name": "stdout",
     "output_type": "stream",
     "text": [
      "skills\n",
      "score\n"
     ]
    }
   ],
   "source": [
    "for x in lewandowski:\n",
    "    print(x)"
   ]
  },
  {
   "cell_type": "code",
   "execution_count": 3,
   "id": "52f21671-4de1-49b4-8026-a478e7da23e5",
   "metadata": {},
   "outputs": [
    {
     "name": "stdout",
     "output_type": "stream",
     "text": [
      "skills\n",
      "score\n"
     ]
    }
   ],
   "source": [
    "for (x , y) in lewandowski.items():\n",
    "    print(x)"
   ]
  },
  {
   "cell_type": "markdown",
   "id": "160506bf-5556-4db8-aa48-310941dc0aa2",
   "metadata": {},
   "source": [
    "## Iterating the dictionary to get the values"
   ]
  },
  {
   "cell_type": "code",
   "execution_count": 4,
   "id": "508acdb5-07aa-47fe-ac5d-9d5e296ef5f7",
   "metadata": {},
   "outputs": [
    {
     "name": "stdout",
     "output_type": "stream",
     "text": [
      "['Pace', 'Shooting', 'Passing', 'Dribbling', 'Defense', 'Physical']\n",
      "[77, 92, 81, 87, 45, 84]\n"
     ]
    }
   ],
   "source": [
    "for x in lewandowski.values():\n",
    "    print(x)"
   ]
  },
  {
   "cell_type": "code",
   "execution_count": 5,
   "id": "450612df-0fd2-42bd-87b4-38a8b064a9a8",
   "metadata": {},
   "outputs": [
    {
     "name": "stdout",
     "output_type": "stream",
     "text": [
      "['Pace', 'Shooting', 'Passing', 'Dribbling', 'Defense', 'Physical']\n",
      "[77, 92, 81, 87, 45, 84]\n"
     ]
    }
   ],
   "source": [
    "for (x, y) in lewandowski.items():\n",
    "    print(y)"
   ]
  },
  {
   "cell_type": "markdown",
   "id": "d1d276f6-fe77-4ad2-9ef2-1304d8cccdf0",
   "metadata": {
    "tags": []
   },
   "source": [
    "# Iterating Pandas dataframe"
   ]
  },
  {
   "cell_type": "code",
   "execution_count": 6,
   "id": "7d5785bf-82ee-40c9-a991-814bc0cd74c6",
   "metadata": {},
   "outputs": [],
   "source": [
    "import pandas\n",
    "\n",
    "lew_dframe = pandas.DataFrame(lewandowski)"
   ]
  },
  {
   "cell_type": "code",
   "execution_count": 7,
   "id": "9cb998cf-0749-4c1c-96e0-3352fd408288",
   "metadata": {},
   "outputs": [
    {
     "data": {
      "text/html": [
       "<div>\n",
       "<style scoped>\n",
       "    .dataframe tbody tr th:only-of-type {\n",
       "        vertical-align: middle;\n",
       "    }\n",
       "\n",
       "    .dataframe tbody tr th {\n",
       "        vertical-align: top;\n",
       "    }\n",
       "\n",
       "    .dataframe thead th {\n",
       "        text-align: right;\n",
       "    }\n",
       "</style>\n",
       "<table border=\"1\" class=\"dataframe\">\n",
       "  <thead>\n",
       "    <tr style=\"text-align: right;\">\n",
       "      <th></th>\n",
       "      <th>skills</th>\n",
       "      <th>score</th>\n",
       "    </tr>\n",
       "  </thead>\n",
       "  <tbody>\n",
       "    <tr>\n",
       "      <th>0</th>\n",
       "      <td>Pace</td>\n",
       "      <td>77</td>\n",
       "    </tr>\n",
       "    <tr>\n",
       "      <th>1</th>\n",
       "      <td>Shooting</td>\n",
       "      <td>92</td>\n",
       "    </tr>\n",
       "    <tr>\n",
       "      <th>2</th>\n",
       "      <td>Passing</td>\n",
       "      <td>81</td>\n",
       "    </tr>\n",
       "    <tr>\n",
       "      <th>3</th>\n",
       "      <td>Dribbling</td>\n",
       "      <td>87</td>\n",
       "    </tr>\n",
       "    <tr>\n",
       "      <th>4</th>\n",
       "      <td>Defense</td>\n",
       "      <td>45</td>\n",
       "    </tr>\n",
       "    <tr>\n",
       "      <th>5</th>\n",
       "      <td>Physical</td>\n",
       "      <td>84</td>\n",
       "    </tr>\n",
       "  </tbody>\n",
       "</table>\n",
       "</div>"
      ],
      "text/plain": [
       "      skills  score\n",
       "0       Pace     77\n",
       "1   Shooting     92\n",
       "2    Passing     81\n",
       "3  Dribbling     87\n",
       "4    Defense     45\n",
       "5   Physical     84"
      ]
     },
     "execution_count": 7,
     "metadata": {},
     "output_type": "execute_result"
    }
   ],
   "source": [
    "lew_dframe"
   ]
  },
  {
   "cell_type": "markdown",
   "id": "ce7c5dc2-4b50-4d36-b1f4-d546bd13c4bf",
   "metadata": {
    "jp-MarkdownHeadingCollapsed": true,
    "tags": []
   },
   "source": [
    "## Iterating through dataframe"
   ]
  },
  {
   "cell_type": "code",
   "execution_count": 8,
   "id": "4e1417b5-9671-463e-bf0c-d6e0bfb330b9",
   "metadata": {},
   "outputs": [
    {
     "name": "stdout",
     "output_type": "stream",
     "text": [
      "skills\n",
      "score\n"
     ]
    }
   ],
   "source": [
    "for (x, y) in lew_dframe.items():\n",
    "    print(x)"
   ]
  },
  {
   "cell_type": "code",
   "execution_count": 9,
   "id": "af4ecb12-3885-41df-8400-0b039d59e3f3",
   "metadata": {},
   "outputs": [
    {
     "name": "stdout",
     "output_type": "stream",
     "text": [
      "0         Pace\n",
      "1     Shooting\n",
      "2      Passing\n",
      "3    Dribbling\n",
      "4      Defense\n",
      "5     Physical\n",
      "Name: skills, dtype: object\n",
      "0    77\n",
      "1    92\n",
      "2    81\n",
      "3    87\n",
      "4    45\n",
      "5    84\n",
      "Name: score, dtype: int64\n"
     ]
    }
   ],
   "source": [
    "for (x, y) in lew_dframe.items():\n",
    "    print(y)"
   ]
  },
  {
   "cell_type": "markdown",
   "id": "240d6a35-5465-42bb-b57e-878190138233",
   "metadata": {},
   "source": [
    "Explanation:\n",
    "- Using for loop pada dataframe akan memperlakukan proses nya seperti pada common dictionary\n",
    "- `in lew_dframe.items()`: checking the contents under the pandas dataframe\n",
    "- `for (x, y)` : iterating the key (x) and the values (y)\n",
    "- `print(x)`: collecting & print the keys only \n",
    "- `print(y)`: collecting & print the keys and values inside passable dataframe"
   ]
  },
  {
   "cell_type": "markdown",
   "id": "bb75f812-9003-4e82-aba9-b2c09fa04c43",
   "metadata": {},
   "source": [
    "## Iterating through the rows from the dataframe"
   ]
  },
  {
   "cell_type": "code",
   "execution_count": 10,
   "id": "f87bf2f0-c75d-41bd-8ad6-0d49db2ed097",
   "metadata": {},
   "outputs": [
    {
     "name": "stdout",
     "output_type": "stream",
     "text": [
      "skills    Pace\n",
      "score       77\n",
      "Name: 0, dtype: object\n",
      "skills    Shooting\n",
      "score           92\n",
      "Name: 1, dtype: object\n",
      "skills    Passing\n",
      "score          81\n",
      "Name: 2, dtype: object\n",
      "skills    Dribbling\n",
      "score            87\n",
      "Name: 3, dtype: object\n",
      "skills    Defense\n",
      "score          45\n",
      "Name: 4, dtype: object\n",
      "skills    Physical\n",
      "score           84\n",
      "Name: 5, dtype: object\n"
     ]
    }
   ],
   "source": [
    "for (a, b) in lew_dframe.iterrows():\n",
    "    print(b)"
   ]
  },
  {
   "cell_type": "markdown",
   "id": "d22483a0-ce33-4686-8e6b-a58434454065",
   "metadata": {},
   "source": [
    "Explanation:\n",
    "- `for (a, b)` : iterating the key (a) and values (b)\n",
    "- `in lew_dframe.iterrows()`: method generates an iterator object of the DataFrame, allowing us to [iterate each row in the DataFrame](https://www.w3schools.com/python/pandas/ref_df_iterrows.asp)\n",
    "- `print(a)`: collecting the result from iterated object and returning the index only (0,1,2...)\n",
    "- `print(b)`: collecting the result from iterated object and returning all the series content <br>\n",
    "`keys, values, index, & data types`"
   ]
  },
  {
   "cell_type": "markdown",
   "id": "cec0aaa7-8a1c-420b-a197-634500014e5d",
   "metadata": {},
   "source": [
    "### Accessing iterated rows from `dframe.iterrows()` methods"
   ]
  },
  {
   "cell_type": "code",
   "execution_count": 11,
   "id": "d05b2b57-e963-4080-a314-56e462dfd9cb",
   "metadata": {},
   "outputs": [
    {
     "name": "stdout",
     "output_type": "stream",
     "text": [
      "Pace\n",
      "Shooting\n",
      "Passing\n",
      "Dribbling\n",
      "Defense\n",
      "Physical\n"
     ]
    }
   ],
   "source": [
    "for (a, b) in lew_dframe.iterrows():\n",
    "    print(b.skills)"
   ]
  },
  {
   "cell_type": "code",
   "execution_count": 12,
   "id": "088374de-c675-48b1-9159-d3ff3c527118",
   "metadata": {},
   "outputs": [
    {
     "name": "stdout",
     "output_type": "stream",
     "text": [
      "77\n",
      "92\n",
      "81\n",
      "87\n",
      "45\n",
      "84\n"
     ]
    }
   ],
   "source": [
    "for (a, b) in lew_dframe.iterrows():\n",
    "    print(b.score)"
   ]
  },
  {
   "attachments": {
    "238a976b-cc5f-46a8-a585-bb7498fea2f4.png": {
     "image/png": "[encoded data removed]"
    },
    "b870ddaf-24a2-45c0-af36-28eea76dcf63.png": {
     "image/png": "[encoded data removed]"
    }
   },
   "cell_type": "markdown",
   "id": "db83939a-29a3-47b9-b75a-d754d1ea8305",
   "metadata": {},
   "source": [
    "Explanation:\n",
    "- `print(b.skills)`: collecting & printing the result from iterated object on the skills row <br>\n",
    "![image.png](attachment:b870ddaf-24a2-45c0-af36-28eea76dcf63.png) <br>\n",
    "- `print(b.score)`: collecting & printing the result from iterated object on the score row<br>\n",
    "![image.png](attachment:238a976b-cc5f-46a8-a585-bb7498fea2f4.png)"
   ]
  },
  {
   "cell_type": "code",
   "execution_count": null,
   "id": "7d3b559c-86d7-4b91-b3c7-1e11e4386aa2",
   "metadata": {},
   "outputs": [],
   "source": []
  }
 ],
 "metadata": {
  "kernelspec": {
   "display_name": "Python 3 (ipykernel)",
   "language": "python",
   "name": "python3"
  },
  "language_info": {
   "codemirror_mode": {
    "name": "ipython",
    "version": 3
   },
   "file_extension": ".py",
   "mimetype": "text/x-python",
   "name": "python",
   "nbconvert_exporter": "python",
   "pygments_lexer": "ipython3",
   "version": "3.10.9"
  }
 },
 "nbformat": 4,
 "nbformat_minor": 5
}
