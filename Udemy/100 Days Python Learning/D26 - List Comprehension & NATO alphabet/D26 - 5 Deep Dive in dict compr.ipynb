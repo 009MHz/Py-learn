{
 "cells": [
  {
   "cell_type": "markdown",
   "id": "b0979299-8ce9-4da6-aa17-bc8811af60f5",
   "metadata": {
    "tags": []
   },
   "source": [
    "# Scenario 1: Collecting the passed sentences into dictionary and calculate the letter from it's word"
   ]
  },
  {
   "attachments": {
    "ce76954a-db5a-4bf8-a860-e47532ad9b0f.png": {
     "image/png": "[encoded data removed]"
    }
   },
   "cell_type": "markdown",
   "id": "74458f1b-f9c7-451c-9ee6-c6ac9e7034f0",
   "metadata": {},
   "source": [
    "Instructions:\n",
    "- takes each word in the given sentence\n",
    "- calculates the number of letters in each word <br>\n",
    "\n",
    "***Do NOT Create a dictionary directly.*** <br>\n",
    "![image.png](attachment:ce76954a-db5a-4bf8-a860-e47532ad9b0f.png)"
   ]
  },
  {
   "cell_type": "code",
   "execution_count": 1,
   "id": "206bf82d-c764-4321-80af-a571fed8e40a",
   "metadata": {},
   "outputs": [],
   "source": [
    "sentence = \"What is the Airspeed Velocity of an Unladen Swallow?\""
   ]
  },
  {
   "cell_type": "code",
   "execution_count": 2,
   "id": "886f2fa3-139a-47aa-9494-2e84cb222aaf",
   "metadata": {},
   "outputs": [],
   "source": [
    "brk = sentence.split()\n",
    "result = { x : len(x) for x in brk}"
   ]
  },
  {
   "cell_type": "code",
   "execution_count": 3,
   "id": "f72d678a-0366-4920-9417-d9fbe600020a",
   "metadata": {},
   "outputs": [
    {
     "name": "stdout",
     "output_type": "stream",
     "text": [
      "{'What': 4, 'is': 2, 'the': 3, 'Airspeed': 8, 'Velocity': 8, 'of': 2, 'an': 2, 'Unladen': 7, 'Swallow?': 8}\n"
     ]
    }
   ],
   "source": [
    "print(result)"
   ]
  },
  {
   "cell_type": "markdown",
   "id": "6b5b3cd6-731f-4696-a926-48f1a796b77c",
   "metadata": {},
   "source": [
    "# Scenario 2: Updating the dictionary values with dictionary comprehension"
   ]
  },
  {
   "cell_type": "markdown",
   "id": "6630783f-7d54-40a5-9fc9-2262a3842d86",
   "metadata": {},
   "source": [
    "Instructions:\n",
    "- Collecting each temperature in degrees Celsius on the passed dictionary\n",
    "- Convert the collected value into farenheit\n",
    "- Formulas for the conversion: `(temp_c * 9/5) + 32 = temp_f`\n",
    "- Storing the converted value on the new variable"
   ]
  },
  {
   "cell_type": "raw",
   "id": "85bc2138-48b4-4b7f-8b86-33cc69624c55",
   "metadata": {},
   "source": [
    "Example Input:\n",
    "{\"Monday\": 12, \"Tuesday\": 14, \"Wednesday\": 15, \"Thursday\": 14, \"Friday\": 21, \"Saturday\": 22, \"Sunday\": 24,}\n",
    "\n",
    "Example Output:\n",
    "{'Monday': 53.6, 'Tuesday': 57.2, 'Wednesday': 59.0, 'Thursday': 57.2, 'Friday': 69.8, 'Saturday': 71.6, 'Sunday': 75.2}"
   ]
  },
  {
   "cell_type": "code",
   "execution_count": 4,
   "id": "3ed177f2-e899-4aae-8d3e-7e5a04bb112f",
   "metadata": {},
   "outputs": [],
   "source": [
    "weather_c = {\n",
    "    \"Monday\": 12,\n",
    "    \"Tuesday\": 14,\n",
    "    \"Wednesday\": 15,\n",
    "    \"Thursday\": 14,\n",
    "    \"Friday\": 21,\n",
    "    \"Saturday\": 22,\n",
    "    \"Sunday\": 24,\n",
    "}"
   ]
  },
  {
   "cell_type": "code",
   "execution_count": 5,
   "id": "e2da781f-207b-47c7-8ac5-a1e4a9bf6568",
   "metadata": {},
   "outputs": [],
   "source": [
    "weather_f = {x : (y * 9/5) + 32 for (x , y) in weather_c.items()}"
   ]
  },
  {
   "cell_type": "code",
   "execution_count": 6,
   "id": "24e9b64a-9408-4676-aa22-b3c3968543e2",
   "metadata": {},
   "outputs": [
    {
     "name": "stdout",
     "output_type": "stream",
     "text": [
      "{'Monday': 53.6, 'Tuesday': 57.2, 'Wednesday': 59.0, 'Thursday': 57.2, 'Friday': 69.8, 'Saturday': 71.6, 'Sunday': 75.2}\n"
     ]
    }
   ],
   "source": [
    "print(weather_f)"
   ]
  }
 ],
 "metadata": {
  "kernelspec": {
   "display_name": "Python 3 (ipykernel)",
   "language": "python",
   "name": "python3"
  },
  "language_info": {
   "codemirror_mode": {
    "name": "ipython",
    "version": 3
   },
   "file_extension": ".py",
   "mimetype": "text/x-python",
   "name": "python",
   "nbconvert_exporter": "python",
   "pygments_lexer": "ipython3",
   "version": "3.10.9"
  }
 },
 "nbformat": 4,
 "nbformat_minor": 5
}
