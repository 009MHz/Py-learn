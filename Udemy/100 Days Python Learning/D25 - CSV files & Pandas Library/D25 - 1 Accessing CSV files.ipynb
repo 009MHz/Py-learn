{
 "cells": [
  {
   "cell_type": "markdown",
   "id": "5663087f-6b54-40f4-a3b5-e78b57f58530",
   "metadata": {
    "tags": []
   },
   "source": [
    "# Accessing the RAW csv files"
   ]
  },
  {
   "cell_type": "code",
   "execution_count": 1,
   "id": "091b023c-a931-41a3-a8dc-aab674fbca24",
   "metadata": {},
   "outputs": [
    {
     "name": "stdout",
     "output_type": "stream",
     "text": [
      "['day,temp,condition\\n', 'Monday,12,Sunny\\n', 'Tuesday,14,Rain\\n', 'Wednesday,15,Rain\\n', 'Thursday,14,Cloudy\\n', 'Friday,21,Sunny\\n', 'Saturday,22,Sunny\\n', 'Sunday,24,Sunny']\n"
     ]
    }
   ],
   "source": [
    "with open(\"weather_data.csv\") as file:\n",
    "    data = file.readlines()\n",
    "    print(data)"
   ]
  },
  {
   "cell_type": "markdown",
   "id": "690c1d3d-fa8d-44bf-8954-a28bef1f04cc",
   "metadata": {
    "tags": []
   },
   "source": [
    "# Accessing CSV files with CSV modules"
   ]
  },
  {
   "cell_type": "code",
   "execution_count": 2,
   "id": "6213b3b6-c65f-4311-b882-39ac658a12c6",
   "metadata": {},
   "outputs": [],
   "source": [
    "import csv"
   ]
  },
  {
   "cell_type": "code",
   "execution_count": 3,
   "id": "61459f06-a0c8-4c1f-9ebd-8d188b7eaaca",
   "metadata": {},
   "outputs": [
    {
     "name": "stdout",
     "output_type": "stream",
     "text": [
      "<_csv.reader object at 0x000000FC6DC82500>\n"
     ]
    }
   ],
   "source": [
    "with open(\"weather_data.csv\") as file:\n",
    "    data = csv.reader(file)\n",
    "    print(data)"
   ]
  },
  {
   "cell_type": "markdown",
   "id": "04da899c-8386-47ff-93f2-4c5a652e6358",
   "metadata": {},
   "source": [
    "## Working with CSV files\n",
    "- iterating each CSV values as a single value row\n",
    "- Taking only the temperature values\n",
    "- Displaying the result"
   ]
  },
  {
   "cell_type": "code",
   "execution_count": 4,
   "id": "9d7fdbe5-c111-460d-824e-b7156605a1c2",
   "metadata": {},
   "outputs": [
    {
     "name": "stdout",
     "output_type": "stream",
     "text": [
      "[]\n",
      "[12]\n",
      "[14]\n",
      "[15]\n",
      "[14]\n",
      "[21]\n",
      "[22]\n",
      "[24]\n"
     ]
    }
   ],
   "source": [
    "# My Method\n",
    "with open(\"weather_data.csv\") as file:\n",
    "    data = csv.reader(file)\n",
    "    for x in data:  \n",
    "        temperatures = []\n",
    "        for temp in x:\n",
    "            if temp.isnumeric():\n",
    "                temperatures.append(int(temp))\n",
    "        print(temperatures)"
   ]
  },
  {
   "cell_type": "code",
   "execution_count": 5,
   "id": "c5cfe8a1-6c11-476e-bb79-01a8e995f064",
   "metadata": {},
   "outputs": [
    {
     "name": "stdout",
     "output_type": "stream",
     "text": [
      "[12, 14, 15, 14, 21, 22, 24]\n"
     ]
    }
   ],
   "source": [
    "# Course Method\n",
    "with open(\"weather_data.csv\") as file:\n",
    "    data = csv.reader(file)\n",
    "    temperatures = []\n",
    "    for x in data:  \n",
    "        if x[1] != \"temp\":\n",
    "            temperatures.append(int(x[1]))\n",
    "    print(temperatures)\n",
    "        "
   ]
  },
  {
   "cell_type": "markdown",
   "id": "4c49569c-e719-486a-aa3d-9fac17da5eb6",
   "metadata": {},
   "source": [
    "# Accessing CSV files with pandas module"
   ]
  },
  {
   "cell_type": "markdown",
   "id": "d84349a8-2c6b-4921-9c46-414b64d76ddf",
   "metadata": {},
   "source": [
    "- Displaying full csv contents with pandas"
   ]
  },
  {
   "cell_type": "code",
   "execution_count": 1,
   "id": "6615456c-c097-42ef-9010-be9c4a94f03e",
   "metadata": {},
   "outputs": [
    {
     "name": "stdout",
     "output_type": "stream",
     "text": [
      "         day  temp condition\n",
      "0     Monday    12     Sunny\n",
      "1    Tuesday    14      Rain\n",
      "2  Wednesday    15      Rain\n",
      "3   Thursday    14    Cloudy\n",
      "4     Friday    21     Sunny\n",
      "5   Saturday    22     Sunny\n",
      "6     Sunday    24     Sunny\n"
     ]
    }
   ],
   "source": [
    "import pandas\n",
    "\n",
    "data = pandas.read_csv(\"weather_data.csv\")\n",
    "print(data)"
   ]
  },
  {
   "cell_type": "markdown",
   "id": "d7830bba-673c-415e-a79b-9db3b2825a3f",
   "metadata": {},
   "source": [
    "- Displaying full csv contents with pandas\n",
    "We also can displaying specific values using pandas by calling the header row name after calling the variable yang diassign untuk memanggil module panda & nama file nya dengan proses seperti ini\n",
    "```\n",
    "variable = pandas.read_csv(\"file_names\")\n",
    "print(variable[\"header_name\"])\n",
    "```"
   ]
  },
  {
   "cell_type": "code",
   "execution_count": 4,
   "id": "a6bbfcd4-9f7a-467d-81b6-209efe628808",
   "metadata": {},
   "outputs": [
    {
     "name": "stdout",
     "output_type": "stream",
     "text": [
      "0    12\n",
      "1    14\n",
      "2    15\n",
      "3    14\n",
      "4    21\n",
      "5    22\n",
      "6    24\n",
      "Name: temp, dtype: int64\n"
     ]
    }
   ],
   "source": [
    "print(data[\"temp\"])"
   ]
  },
  {
   "cell_type": "markdown",
   "id": "ffa18d15-b75e-4c69-8b55-3aaac6104ae7",
   "metadata": {},
   "source": [
    "## Pandas documentation source:\n",
    "- Pandas [documentation](https://pandas.pydata.org/docs/)\n",
    "- Pandas [API references](https://pandas.pydata.org/docs/reference/index.html)"
   ]
  }
 ],
 "metadata": {
  "kernelspec": {
   "display_name": "Python 3 (ipykernel)",
   "language": "python",
   "name": "python3"
  },
  "language_info": {
   "codemirror_mode": {
    "name": "ipython",
    "version": 3
   },
   "file_extension": ".py",
   "mimetype": "text/x-python",
   "name": "python",
   "nbconvert_exporter": "python",
   "pygments_lexer": "ipython3",
   "version": "3.10.8"
  }
 },
 "nbformat": 4,
 "nbformat_minor": 5
}
