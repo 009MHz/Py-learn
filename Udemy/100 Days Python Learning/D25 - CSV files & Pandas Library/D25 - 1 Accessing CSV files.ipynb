{
 "cells": [
  {
   "cell_type": "markdown",
   "id": "5663087f-6b54-40f4-a3b5-e78b57f58530",
   "metadata": {},
   "source": [
    "# Accessing the RAW csv files"
   ]
  },
  {
   "cell_type": "code",
   "execution_count": 1,
   "id": "091b023c-a931-41a3-a8dc-aab674fbca24",
   "metadata": {},
   "outputs": [
    {
     "name": "stdout",
     "output_type": "stream",
     "text": [
      "['day,temp,condition\\n', 'Monday,12,Sunny\\n', 'Tuesday,14,Rain\\n', 'Wednesday,15,Rain\\n', 'Thursday,14,Cloudy\\n', 'Friday,21,Sunny\\n', 'Saturday,22,Sunny\\n', 'Sunday,24,Sunny']\n"
     ]
    }
   ],
   "source": [
    "with open(\"weather_data.csv\") as file:\n",
    "    data = file.readlines()\n",
    "    print(data)"
   ]
  },
  {
   "cell_type": "markdown",
   "id": "690c1d3d-fa8d-44bf-8954-a28bef1f04cc",
   "metadata": {},
   "source": [
    "# Accessing CSV files with CSV modules"
   ]
  },
  {
   "cell_type": "code",
   "execution_count": 2,
   "id": "6213b3b6-c65f-4311-b882-39ac658a12c6",
   "metadata": {},
   "outputs": [],
   "source": [
    "import csv"
   ]
  },
  {
   "cell_type": "code",
   "execution_count": 3,
   "id": "61459f06-a0c8-4c1f-9ebd-8d188b7eaaca",
   "metadata": {},
   "outputs": [
    {
     "name": "stdout",
     "output_type": "stream",
     "text": [
      "<_csv.reader object at 0x0000009A245D2380>\n"
     ]
    }
   ],
   "source": [
    "with open(\"weather_data.csv\") as file:\n",
    "    data = csv.reader(file)\n",
    "    print(data)"
   ]
  },
  {
   "cell_type": "markdown",
   "id": "04da899c-8386-47ff-93f2-4c5a652e6358",
   "metadata": {},
   "source": [
    "## Working with CSV files\n",
    "- iterating each CSV values as a single value row\n",
    "- Taking only the temperature values\n",
    "- Displaying the result"
   ]
  },
  {
   "cell_type": "code",
   "execution_count": 7,
   "id": "9d7fdbe5-c111-460d-824e-b7156605a1c2",
   "metadata": {},
   "outputs": [
    {
     "name": "stdout",
     "output_type": "stream",
     "text": [
      "[]\n",
      "['12']\n",
      "['14']\n",
      "['15']\n",
      "['14']\n",
      "['21']\n",
      "['22']\n",
      "['24']\n"
     ]
    }
   ],
   "source": [
    "# My Method\n",
    "with open(\"weather_data.csv\") as file:\n",
    "    data = csv.reader(file)\n",
    "    for x in data:  \n",
    "        temperatures = []\n",
    "        for temp in x:\n",
    "            if temp.isnumeric():\n",
    "                temperatures.append(temp)\n",
    "        print(temperatures)"
   ]
  },
  {
   "cell_type": "code",
   "execution_count": 9,
   "id": "c5cfe8a1-6c11-476e-bb79-01a8e995f064",
   "metadata": {},
   "outputs": [
    {
     "name": "stdout",
     "output_type": "stream",
     "text": [
      "['12', '14', '15', '14', '21', '22', '24']\n"
     ]
    }
   ],
   "source": [
    "# Course Method\n",
    "with open(\"weather_data.csv\") as file:\n",
    "    data = csv.reader(file)\n",
    "    temperatures = []\n",
    "    for x in data:  \n",
    "        if x[1] != \"temp\":\n",
    "            temperatures.append(x[1])\n",
    "    print(temperatures)\n",
    "        "
   ]
  },
  {
   "cell_type": "code",
   "execution_count": null,
   "id": "b8f7e9fd-aeba-4430-b7b4-895fb58827aa",
   "metadata": {},
   "outputs": [],
   "source": []
  }
 ],
 "metadata": {
  "kernelspec": {
   "display_name": "Python 3 (ipykernel)",
   "language": "python",
   "name": "python3"
  },
  "language_info": {
   "codemirror_mode": {
    "name": "ipython",
    "version": 3
   },
   "file_extension": ".py",
   "mimetype": "text/x-python",
   "name": "python",
   "nbconvert_exporter": "python",
   "pygments_lexer": "ipython3",
   "version": "3.10.8"
  }
 },
 "nbformat": 4,
 "nbformat_minor": 5
}
