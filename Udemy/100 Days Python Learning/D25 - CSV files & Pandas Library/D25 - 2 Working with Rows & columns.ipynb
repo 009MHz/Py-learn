{
 "cells": [
  {
   "cell_type": "code",
   "execution_count": 1,
   "id": "4b105740-da81-4846-81bb-e5192c594026",
   "metadata": {},
   "outputs": [],
   "source": [
    "import pandas\n",
    "\n",
    "data = pandas.read_csv(\"weather_data.csv\")"
   ]
  },
  {
   "cell_type": "code",
   "execution_count": 2,
   "id": "697b5d47-7ca0-4b90-9637-d6807684ec54",
   "metadata": {},
   "outputs": [
    {
     "data": {
      "text/plain": [
       "pandas.core.frame.DataFrame"
      ]
     },
     "execution_count": 2,
     "metadata": {},
     "output_type": "execute_result"
    }
   ],
   "source": [
    "type(data)"
   ]
  },
  {
   "cell_type": "code",
   "execution_count": 3,
   "id": "a0f3f42f-8faa-4fd1-b2e0-b07f671530ea",
   "metadata": {},
   "outputs": [
    {
     "data": {
      "text/plain": [
       "pandas.core.series.Series"
      ]
     },
     "execution_count": 3,
     "metadata": {},
     "output_type": "execute_result"
    }
   ],
   "source": [
    "type(data[\"temp\"])"
   ]
  },
  {
   "cell_type": "markdown",
   "id": "dda8dd44-4585-4bef-bc32-3d413b6ae24d",
   "metadata": {},
   "source": [
    "The data type under the pandas module are:\n",
    " - `DataFrame`: some kind of the equivalent of the whole tab, every tab or cells under the csv files will be considered as a data frame under Pandas module\n",
    " - `Series`: series is basically equivalent to a list under Pandas module, it's kind of like a single column in the table. For example: the temp column in the CSV = list column to Pandas\n",
    "     - `CSV \"temp\" columns -> temp = [12,14,15,14,21,22,24]`"
   ]
  },
  {
   "cell_type": "code",
   "execution_count": null,
   "id": "655e315c-cc1f-486b-af88-a5fc2e409839",
   "metadata": {},
   "outputs": [],
   "source": []
  }
 ],
 "metadata": {
  "kernelspec": {
   "display_name": "Python 3 (ipykernel)",
   "language": "python",
   "name": "python3"
  },
  "language_info": {
   "codemirror_mode": {
    "name": "ipython",
    "version": 3
   },
   "file_extension": ".py",
   "mimetype": "text/x-python",
   "name": "python",
   "nbconvert_exporter": "python",
   "pygments_lexer": "ipython3",
   "version": "3.10.8"
  }
 },
 "nbformat": 4,
 "nbformat_minor": 5
}
