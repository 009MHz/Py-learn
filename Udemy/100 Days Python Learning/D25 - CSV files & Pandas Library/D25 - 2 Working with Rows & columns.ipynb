{
 "cells": [
  {
   "cell_type": "code",
   "execution_count": 1,
   "id": "4b105740-da81-4846-81bb-e5192c594026",
   "metadata": {},
   "outputs": [],
   "source": [
    "import pandas\n",
    "\n",
    "data = pandas.read_csv(\"weather_data.csv\")"
   ]
  },
  {
   "cell_type": "code",
   "execution_count": 2,
   "id": "697b5d47-7ca0-4b90-9637-d6807684ec54",
   "metadata": {},
   "outputs": [
    {
     "data": {
      "text/plain": [
       "pandas.core.frame.DataFrame"
      ]
     },
     "execution_count": 2,
     "metadata": {},
     "output_type": "execute_result"
    }
   ],
   "source": [
    "type(data)"
   ]
  },
  {
   "cell_type": "code",
   "execution_count": 3,
   "id": "a0f3f42f-8faa-4fd1-b2e0-b07f671530ea",
   "metadata": {},
   "outputs": [
    {
     "data": {
      "text/plain": [
       "pandas.core.series.Series"
      ]
     },
     "execution_count": 3,
     "metadata": {},
     "output_type": "execute_result"
    }
   ],
   "source": [
    "type(data[\"temp\"])"
   ]
  },
  {
   "cell_type": "markdown",
   "id": "dda8dd44-4585-4bef-bc32-3d413b6ae24d",
   "metadata": {},
   "source": [
    "The data type under the pandas module are:\n",
    " - `DataFrame`: some kind of the equivalent of the whole tab, every tab or cells under the csv files will be considered as a data frame under Pandas module\n",
    " - `Series`: series is basically equivalent to a list under Pandas module, it's kind of like a single column in the table. For example: the temp column in the CSV = list column to Pandas\n",
    "     - `CSV \"temp\" columns -> temp = [12,14,15,14,21,22,24]`\n",
    "     \n",
    "The complete documentation about pandas data structure can be explored [here](https://pandas.pydata.org/docs/user_guide/dsintro.html#dataframe)"
   ]
  },
  {
   "cell_type": "markdown",
   "id": "c8ec5115-f8e3-47a9-8ba0-32ad2f4d32aa",
   "metadata": {},
   "source": [
    "    - Below cell is another example of pandas methods under the dataframe section that converting the CSV table contents into a dictionary, which using the `header` as the `key` and the cell contents as a `value`\n",
    "\n",
    "<font color = \"magenta\">var = *assigned_CSV_variable*.***to_dict()***</font>"
   ]
  },
  {
   "cell_type": "code",
   "execution_count": 4,
   "id": "655e315c-cc1f-486b-af88-a5fc2e409839",
   "metadata": {},
   "outputs": [
    {
     "data": {
      "text/plain": [
       "{'day': {0: 'Monday',\n",
       "  1: 'Tuesday',\n",
       "  2: 'Wednesday',\n",
       "  3: 'Thursday',\n",
       "  4: 'Friday',\n",
       "  5: 'Saturday',\n",
       "  6: 'Sunday'},\n",
       " 'temp': {0: 12, 1: 14, 2: 15, 3: 14, 4: 21, 5: 22, 6: 24},\n",
       " 'condition': {0: 'Sunny',\n",
       "  1: 'Rain',\n",
       "  2: 'Rain',\n",
       "  3: 'Cloudy',\n",
       "  4: 'Sunny',\n",
       "  5: 'Sunny',\n",
       "  6: 'Sunny'}}"
      ]
     },
     "execution_count": 4,
     "metadata": {},
     "output_type": "execute_result"
    }
   ],
   "source": [
    "dict = data.to_dict()\n",
    "dict"
   ]
  },
  {
   "cell_type": "markdown",
   "id": "01eb2315-ea9d-4e96-9757-a0e89855383e",
   "metadata": {},
   "source": [
    "    - And below cell is another example of pandas methods under the Series section that converting the CSV table contents into a list, which using the cell contents directly as a \"value\"\n",
    "\n",
    "<font color = \"lime\">var = *assigned_CSV_Series*.***to_list()***</font>"
   ]
  },
  {
   "cell_type": "code",
   "execution_count": 5,
   "id": "14530e37-1311-42b4-b07a-30b893592704",
   "metadata": {},
   "outputs": [
    {
     "data": {
      "text/plain": [
       "[12, 14, 15, 14, 21, 22, 24]"
      ]
     },
     "execution_count": 5,
     "metadata": {},
     "output_type": "execute_result"
    }
   ],
   "source": [
    "lst = data[\"temp\"].to_list()\n",
    "lst"
   ]
  },
  {
   "cell_type": "markdown",
   "id": "b45fe435-d72c-483b-8374-be730cd1ce8b",
   "metadata": {
    "tags": []
   },
   "source": [
    "# Working with CSV data"
   ]
  },
  {
   "cell_type": "markdown",
   "id": "57ed388b-4a78-484d-a6c6-e1688254b3ef",
   "metadata": {
    "tags": []
   },
   "source": [
    "## Case 1: Getting average CSV value"
   ]
  },
  {
   "cell_type": "markdown",
   "id": "1cd9fc51-4f97-4a24-a932-c47ea44d0b99",
   "metadata": {
    "tags": []
   },
   "source": [
    "### 1. Average CSV column with total data / data count"
   ]
  },
  {
   "cell_type": "markdown",
   "id": "0e71f486-083e-4ee9-8c33-4dd19ff1c695",
   "metadata": {},
   "source": [
    "Obtaining average from CSV can be done by these approach:\n",
    "1. Assign the variable from CSV files using pandas\n",
    "2. Assign CSV column into panda Series using `.to_list()` function\n",
    "3. Calculate the assigned variable\n",
    "    - total data / data count\n",
    "    - `sum(list_var) / len(list_var)`"
   ]
  },
  {
   "cell_type": "code",
   "execution_count": 6,
   "id": "a9899653-6f8d-4981-98f7-8811428bdc6a",
   "metadata": {},
   "outputs": [
    {
     "data": {
      "text/plain": [
       "17.428571428571427"
      ]
     },
     "execution_count": 6,
     "metadata": {},
     "output_type": "execute_result"
    }
   ],
   "source": [
    "sum(lst) / len(lst)"
   ]
  },
  {
   "cell_type": "markdown",
   "id": "545a0ee8-86c3-4828-a4bf-30a25df3b443",
   "metadata": {
    "tags": []
   },
   "source": [
    "### 2. Average CSV column using `Series.mean()` under ***Series panda method***"
   ]
  },
  {
   "cell_type": "code",
   "execution_count": 7,
   "id": "c10d6d6d-551e-4204-8b42-77f17619c6f4",
   "metadata": {},
   "outputs": [
    {
     "data": {
      "text/plain": [
       "17.428571428571427"
      ]
     },
     "execution_count": 7,
     "metadata": {},
     "output_type": "execute_result"
    }
   ],
   "source": [
    "data[\"temp\"].mean()"
   ]
  },
  {
   "cell_type": "markdown",
   "id": "14e3d492-a070-4c1b-994b-95ff2ebd69ec",
   "metadata": {},
   "source": [
    "Previous method can be done by these approach:\n",
    "1. Assign the variable from CSV files using pandas\n",
    "2. Get the CSV column that will be calculated\n",
    "3. Calculate the average using `.mean()` method\n",
    "\n",
    "Source: [pandas.Series.mean](https://pandas.pydata.org/docs/reference/api/pandas.Series.mean.html#pandas-series-mean)"
   ]
  },
  {
   "cell_type": "markdown",
   "id": "d2d7497a-12a4-417e-830b-6ea168c8d5f5",
   "metadata": {
    "tags": []
   },
   "source": [
    "## Case 2: Getting the maximum value from the CSV"
   ]
  },
  {
   "cell_type": "markdown",
   "id": "077692bb-76c6-4d95-9db7-8bab39a35b68",
   "metadata": {},
   "source": [
    "Explanation:\n",
    "1. Assign the variable from CSV files using pandas\n",
    "2. Get the CSV column that will be calculated\n",
    "3. Calculate the average using `.max()` method\n",
    "\n",
    "Source: [pandas.Series.max](https://pandas.pydata.org/docs/reference/api/pandas.Series.max.html)"
   ]
  },
  {
   "cell_type": "code",
   "execution_count": 8,
   "id": "86cdf3b0-f9d8-4439-b35b-2bcffd2ce29c",
   "metadata": {},
   "outputs": [
    {
     "data": {
      "text/plain": [
       "24"
      ]
     },
     "execution_count": 8,
     "metadata": {},
     "output_type": "execute_result"
    }
   ],
   "source": [
    "data[\"temp\"].max()"
   ]
  },
  {
   "cell_type": "markdown",
   "id": "dd4c10b6-997f-415d-9db5-ae0cd01bb2a6",
   "metadata": {
    "tags": []
   },
   "source": [
    "## Case 3: Accessing the CSV files using OOP method"
   ]
  },
  {
   "cell_type": "code",
   "execution_count": 9,
   "id": "67b3e310-a93d-4e0f-b9db-17065d50a3d2",
   "metadata": {},
   "outputs": [
    {
     "data": {
      "text/plain": [
       "0     Sunny\n",
       "1      Rain\n",
       "2      Rain\n",
       "3    Cloudy\n",
       "4     Sunny\n",
       "5     Sunny\n",
       "6     Sunny\n",
       "Name: condition, dtype: object"
      ]
     },
     "execution_count": 9,
     "metadata": {},
     "output_type": "execute_result"
    }
   ],
   "source": [
    "data[\"condition\"]"
   ]
  },
  {
   "cell_type": "markdown",
   "id": "56ede4e9-dd6a-430b-aaa9-d49d7126fd32",
   "metadata": {},
   "source": [
    "Previous cell is method yang menggunakan `[]` sebagai cara untuk memanggil Series dari csv, dengan approach sebagai berikut:\n",
    "1. Assign variable dari pandas module untuk membaca data CSV `data = pandas.read_csv(\"weather_data.csv\")`\n",
    "2. Call the CSV values as a series using `[]` under the assigned variable `data[\"condition\"]`\n",
    "\n",
    "Accessing series also can be done by using another approaches like the sample below:"
   ]
  },
  {
   "cell_type": "code",
   "execution_count": 10,
   "id": "7efd7a0f-50b8-41fa-9f06-db11b4305626",
   "metadata": {},
   "outputs": [
    {
     "data": {
      "text/plain": [
       "0     Sunny\n",
       "1      Rain\n",
       "2      Rain\n",
       "3    Cloudy\n",
       "4     Sunny\n",
       "5     Sunny\n",
       "6     Sunny\n",
       "Name: condition, dtype: object"
      ]
     },
     "execution_count": 10,
     "metadata": {},
     "output_type": "execute_result"
    }
   ],
   "source": [
    "data.condition"
   ]
  },
  {
   "cell_type": "markdown",
   "id": "20bd155b-3e63-400e-84e9-e7e9f5dbb86f",
   "metadata": {},
   "source": [
    "Previous cell explanation:\n",
    "1. Assign variable dari pandas module untuk membaca data CSV `data = pandas.read_csv(\"weather_data.csv\")`\n",
    "2. Call the CSV values using class object calling method\n",
    "\n",
    "<font color = \"lime\">dataframe`.`CSV_header/title_names</font><br>\n",
    "`data.condition`\n",
    "\n",
    "Both of the methods have one weakness:\n",
    "- If the assigned variable is having different text (including text case), there will be an error like this:"
   ]
  },
  {
   "cell_type": "code",
   "execution_count": 11,
   "id": "a729155c-719a-4cdf-a388-985f59b8d867",
   "metadata": {},
   "outputs": [
    {
     "ename": "AttributeError",
     "evalue": "'DataFrame' object has no attribute 'Condition'",
     "output_type": "error",
     "traceback": [
      "\u001b[1;31m---------------------------------------------------------------------------\u001b[0m",
      "\u001b[1;31mAttributeError\u001b[0m                            Traceback (most recent call last)",
      "Cell \u001b[1;32mIn [11], line 1\u001b[0m\n\u001b[1;32m----> 1\u001b[0m \u001b[43mdata\u001b[49m\u001b[38;5;241;43m.\u001b[39;49m\u001b[43mCondition\u001b[49m\n",
      "File \u001b[1;32m~\\AppData\\Local\\Programs\\Python\\Python310\\lib\\site-packages\\pandas\\core\\generic.py:5902\u001b[0m, in \u001b[0;36mNDFrame.__getattr__\u001b[1;34m(self, name)\u001b[0m\n\u001b[0;32m   5895\u001b[0m \u001b[38;5;28;01mif\u001b[39;00m (\n\u001b[0;32m   5896\u001b[0m     name \u001b[38;5;129;01mnot\u001b[39;00m \u001b[38;5;129;01min\u001b[39;00m \u001b[38;5;28mself\u001b[39m\u001b[38;5;241m.\u001b[39m_internal_names_set\n\u001b[0;32m   5897\u001b[0m     \u001b[38;5;129;01mand\u001b[39;00m name \u001b[38;5;129;01mnot\u001b[39;00m \u001b[38;5;129;01min\u001b[39;00m \u001b[38;5;28mself\u001b[39m\u001b[38;5;241m.\u001b[39m_metadata\n\u001b[0;32m   5898\u001b[0m     \u001b[38;5;129;01mand\u001b[39;00m name \u001b[38;5;129;01mnot\u001b[39;00m \u001b[38;5;129;01min\u001b[39;00m \u001b[38;5;28mself\u001b[39m\u001b[38;5;241m.\u001b[39m_accessors\n\u001b[0;32m   5899\u001b[0m     \u001b[38;5;129;01mand\u001b[39;00m \u001b[38;5;28mself\u001b[39m\u001b[38;5;241m.\u001b[39m_info_axis\u001b[38;5;241m.\u001b[39m_can_hold_identifiers_and_holds_name(name)\n\u001b[0;32m   5900\u001b[0m ):\n\u001b[0;32m   5901\u001b[0m     \u001b[38;5;28;01mreturn\u001b[39;00m \u001b[38;5;28mself\u001b[39m[name]\n\u001b[1;32m-> 5902\u001b[0m \u001b[38;5;28;01mreturn\u001b[39;00m \u001b[38;5;28;43mobject\u001b[39;49m\u001b[38;5;241;43m.\u001b[39;49m\u001b[38;5;21;43m__getattribute__\u001b[39;49m\u001b[43m(\u001b[49m\u001b[38;5;28;43mself\u001b[39;49m\u001b[43m,\u001b[49m\u001b[43m \u001b[49m\u001b[43mname\u001b[49m\u001b[43m)\u001b[49m\n",
      "\u001b[1;31mAttributeError\u001b[0m: 'DataFrame' object has no attribute 'Condition'"
     ]
    }
   ],
   "source": [
    "data.Condition"
   ]
  },
  {
   "cell_type": "markdown",
   "id": "e1751e93-d05e-435a-801f-6e2d2ef58f2e",
   "metadata": {
    "tags": []
   },
   "source": [
    "## Case 4: Accessing CSV specific row / column"
   ]
  },
  {
   "cell_type": "markdown",
   "id": "7d748882-87cc-47d9-adbd-8115a267eb20",
   "metadata": {
    "tags": []
   },
   "source": [
    "### 1. Accessing all values in the single row"
   ]
  },
  {
   "cell_type": "markdown",
   "id": "73e71906-7c19-4ec9-8139-c635ea44d9b0",
   "metadata": {},
   "source": [
    "Explanation:\n",
    "- Assign variable dari pandas module untuk membaca data CSV `data = pandas.read_csv(\"weather_data.csv\")`\n",
    "- Get the row details by these method `dataframe_name[dataframe_name.header_name == \"specific_row/column_name\"]`"
   ]
  },
  {
   "cell_type": "code",
   "execution_count": 12,
   "id": "03b00161-1b66-44ba-990d-6e5243784f62",
   "metadata": {},
   "outputs": [
    {
     "data": {
      "text/html": [
       "<div>\n",
       "<style scoped>\n",
       "    .dataframe tbody tr th:only-of-type {\n",
       "        vertical-align: middle;\n",
       "    }\n",
       "\n",
       "    .dataframe tbody tr th {\n",
       "        vertical-align: top;\n",
       "    }\n",
       "\n",
       "    .dataframe thead th {\n",
       "        text-align: right;\n",
       "    }\n",
       "</style>\n",
       "<table border=\"1\" class=\"dataframe\">\n",
       "  <thead>\n",
       "    <tr style=\"text-align: right;\">\n",
       "      <th></th>\n",
       "      <th>day</th>\n",
       "      <th>temp</th>\n",
       "      <th>condition</th>\n",
       "    </tr>\n",
       "  </thead>\n",
       "  <tbody>\n",
       "    <tr>\n",
       "      <th>4</th>\n",
       "      <td>Friday</td>\n",
       "      <td>21</td>\n",
       "      <td>Sunny</td>\n",
       "    </tr>\n",
       "  </tbody>\n",
       "</table>\n",
       "</div>"
      ],
      "text/plain": [
       "      day  temp condition\n",
       "4  Friday    21     Sunny"
      ]
     },
     "execution_count": 12,
     "metadata": {},
     "output_type": "execute_result"
    }
   ],
   "source": [
    "data[data.day == \"Friday\"]"
   ]
  },
  {
   "cell_type": "markdown",
   "id": "56e69b2a-4a5e-4604-b53e-ac6a531727fd",
   "metadata": {
    "tags": []
   },
   "source": [
    "### 2. Accessing all values from specific conditions\n",
    "- Scenario: accessing all data with the max temperature"
   ]
  },
  {
   "cell_type": "code",
   "execution_count": 13,
   "id": "7fb33446-4535-49b5-a940-089b0c16407b",
   "metadata": {},
   "outputs": [
    {
     "data": {
      "text/html": [
       "<div>\n",
       "<style scoped>\n",
       "    .dataframe tbody tr th:only-of-type {\n",
       "        vertical-align: middle;\n",
       "    }\n",
       "\n",
       "    .dataframe tbody tr th {\n",
       "        vertical-align: top;\n",
       "    }\n",
       "\n",
       "    .dataframe thead th {\n",
       "        text-align: right;\n",
       "    }\n",
       "</style>\n",
       "<table border=\"1\" class=\"dataframe\">\n",
       "  <thead>\n",
       "    <tr style=\"text-align: right;\">\n",
       "      <th></th>\n",
       "      <th>day</th>\n",
       "      <th>temp</th>\n",
       "      <th>condition</th>\n",
       "    </tr>\n",
       "  </thead>\n",
       "  <tbody>\n",
       "    <tr>\n",
       "      <th>6</th>\n",
       "      <td>Sunday</td>\n",
       "      <td>24</td>\n",
       "      <td>Sunny</td>\n",
       "    </tr>\n",
       "  </tbody>\n",
       "</table>\n",
       "</div>"
      ],
      "text/plain": [
       "      day  temp condition\n",
       "6  Sunday    24     Sunny"
      ]
     },
     "execution_count": 13,
     "metadata": {},
     "output_type": "execute_result"
    }
   ],
   "source": [
    "data[data.temp == data.temp.max()]"
   ]
  },
  {
   "cell_type": "markdown",
   "id": "fa34e24b-608e-408f-b147-341384c6ac07",
   "metadata": {},
   "source": [
    "Explanation:\n",
    "- Assign variable dari pandas module untuk membaca data CSV `data = pandas.read_csv(\"weather_data.csv\")`\n",
    "- Get the row details by these method <br>\n",
    "<font color = \"magenta\">***dataframe[dataframe.header == dataframe.header.`max()`]***</font>"
   ]
  },
  {
   "cell_type": "markdown",
   "id": "4dd75d78-eba9-4888-8846-767ac417a5a6",
   "metadata": {},
   "source": [
    "- Scenario: accessing all data with the *Sunny* weather"
   ]
  },
  {
   "cell_type": "code",
   "execution_count": 14,
   "id": "4fad2a06-d73c-41a2-abcc-d6f5670ace57",
   "metadata": {},
   "outputs": [
    {
     "data": {
      "text/html": [
       "<div>\n",
       "<style scoped>\n",
       "    .dataframe tbody tr th:only-of-type {\n",
       "        vertical-align: middle;\n",
       "    }\n",
       "\n",
       "    .dataframe tbody tr th {\n",
       "        vertical-align: top;\n",
       "    }\n",
       "\n",
       "    .dataframe thead th {\n",
       "        text-align: right;\n",
       "    }\n",
       "</style>\n",
       "<table border=\"1\" class=\"dataframe\">\n",
       "  <thead>\n",
       "    <tr style=\"text-align: right;\">\n",
       "      <th></th>\n",
       "      <th>day</th>\n",
       "      <th>temp</th>\n",
       "      <th>condition</th>\n",
       "    </tr>\n",
       "  </thead>\n",
       "  <tbody>\n",
       "    <tr>\n",
       "      <th>0</th>\n",
       "      <td>Monday</td>\n",
       "      <td>12</td>\n",
       "      <td>Sunny</td>\n",
       "    </tr>\n",
       "    <tr>\n",
       "      <th>4</th>\n",
       "      <td>Friday</td>\n",
       "      <td>21</td>\n",
       "      <td>Sunny</td>\n",
       "    </tr>\n",
       "    <tr>\n",
       "      <th>5</th>\n",
       "      <td>Saturday</td>\n",
       "      <td>22</td>\n",
       "      <td>Sunny</td>\n",
       "    </tr>\n",
       "    <tr>\n",
       "      <th>6</th>\n",
       "      <td>Sunday</td>\n",
       "      <td>24</td>\n",
       "      <td>Sunny</td>\n",
       "    </tr>\n",
       "  </tbody>\n",
       "</table>\n",
       "</div>"
      ],
      "text/plain": [
       "        day  temp condition\n",
       "0    Monday    12     Sunny\n",
       "4    Friday    21     Sunny\n",
       "5  Saturday    22     Sunny\n",
       "6    Sunday    24     Sunny"
      ]
     },
     "execution_count": 14,
     "metadata": {},
     "output_type": "execute_result"
    }
   ],
   "source": [
    "data[data.condition == \"Sunny\"]"
   ]
  },
  {
   "cell_type": "markdown",
   "id": "09978d77-365d-4385-8cc2-fa592a8a8951",
   "metadata": {},
   "source": [
    "Explanation:\n",
    "- Assign variable dari pandas module untuk membaca data CSV `data = pandas.read_csv(\"weather_data.csv\")`\n",
    "- Get the dataframe details by these method `dataframe[dataframe.Series == \"specific value\"]`"
   ]
  },
  {
   "cell_type": "markdown",
   "id": "6b3ca59e-adf6-4447-acb5-59f4e4c4ec18",
   "metadata": {
    "tags": []
   },
   "source": [
    "### 3. Accessing specific value in the single row"
   ]
  },
  {
   "cell_type": "markdown",
   "id": "1194e1ff-13af-4554-8678-3b3c58529955",
   "metadata": {},
   "source": [
    "Explanation:\n",
    "- Assign variable dari pandas module untuk membaca data CSV `data = pandas.read_csv(\"weather_data.csv\")`\n",
    "- Assign variable baru untuk mengambil value dari single row <br>\n",
    "`var1 = dataframe[dataframe.Series == \"specific_value\"]` <br>\n",
    "`var1.CSV_header_conditions`"
   ]
  },
  {
   "cell_type": "code",
   "execution_count": 15,
   "id": "42c12c5e-d695-4174-9a05-9978857c1106",
   "metadata": {},
   "outputs": [
    {
     "data": {
      "text/plain": [
       "4    Sunny\n",
       "Name: condition, dtype: object"
      ]
     },
     "execution_count": 15,
     "metadata": {},
     "output_type": "execute_result"
    }
   ],
   "source": [
    "friday = data[data.day == \"Friday\"]\n",
    "friday.condition"
   ]
  },
  {
   "cell_type": "markdown",
   "id": "70e4e927-c030-47c6-8ddf-8a69c6e2f65f",
   "metadata": {},
   "source": [
    "#### 3.2. Adjusting value based on CSV parameter\n",
    "    Scenario: Converting Friday temp into Farenheit"
   ]
  },
  {
   "cell_type": "code",
   "execution_count": 16,
   "id": "42930a0d-4273-4e9b-a458-04726405b025",
   "metadata": {},
   "outputs": [
    {
     "data": {
      "text/plain": [
       "69.8"
      ]
     },
     "execution_count": 16,
     "metadata": {},
     "output_type": "execute_result"
    }
   ],
   "source": [
    "fr_temp = int(friday.temp)\n",
    "fr_farenh = (fr_temp * 9/5) + 32\n",
    "fr_farenh"
   ]
  },
  {
   "cell_type": "markdown",
   "id": "7b32b2bf-0b3c-435d-917a-cb84af286638",
   "metadata": {},
   "source": [
    "# Create dataframe from scratch"
   ]
  },
  {
   "cell_type": "code",
   "execution_count": 17,
   "id": "b54e2c87-270b-44e2-b1de-93e40d5e007a",
   "metadata": {},
   "outputs": [],
   "source": [
    "hero_list = {\n",
    "    \"class\": [\"Warrior\", \"Archer\", \"Sorceress\", \"Cleric\", \"Kali\"],\n",
    "    \"weapon\": [\"sword\", \"bow\", \"staff\", \"mace\", \"fan\"],\n",
    "    \"score\": [87, 75, 89, 64, 47]\n",
    "}"
   ]
  },
  {
   "cell_type": "markdown",
   "id": "78ac67a6-8e60-4814-82e7-9c00d6dfd7f1",
   "metadata": {},
   "source": [
    "    Creating Table based on given values"
   ]
  },
  {
   "cell_type": "markdown",
   "id": "e557dff6-1b8d-4719-988d-6ee16008f068",
   "metadata": {},
   "source": [
    "Explanation:\n",
    "1. Define the dictionary contents\n",
    "2. Assign the Pandas create dataframe method into variable <br>\n",
    "`var = pandas.DataFrame(dictionary_name)`\n",
    "3. Call the variable"
   ]
  },
  {
   "cell_type": "code",
   "execution_count": 18,
   "id": "d593a882-248b-4ee0-a236-f5362e651174",
   "metadata": {},
   "outputs": [
    {
     "data": {
      "text/html": [
       "<div>\n",
       "<style scoped>\n",
       "    .dataframe tbody tr th:only-of-type {\n",
       "        vertical-align: middle;\n",
       "    }\n",
       "\n",
       "    .dataframe tbody tr th {\n",
       "        vertical-align: top;\n",
       "    }\n",
       "\n",
       "    .dataframe thead th {\n",
       "        text-align: right;\n",
       "    }\n",
       "</style>\n",
       "<table border=\"1\" class=\"dataframe\">\n",
       "  <thead>\n",
       "    <tr style=\"text-align: right;\">\n",
       "      <th></th>\n",
       "      <th>class</th>\n",
       "      <th>weapon</th>\n",
       "      <th>score</th>\n",
       "    </tr>\n",
       "  </thead>\n",
       "  <tbody>\n",
       "    <tr>\n",
       "      <th>0</th>\n",
       "      <td>Warrior</td>\n",
       "      <td>sword</td>\n",
       "      <td>87</td>\n",
       "    </tr>\n",
       "    <tr>\n",
       "      <th>1</th>\n",
       "      <td>Archer</td>\n",
       "      <td>bow</td>\n",
       "      <td>75</td>\n",
       "    </tr>\n",
       "    <tr>\n",
       "      <th>2</th>\n",
       "      <td>Sorceress</td>\n",
       "      <td>staff</td>\n",
       "      <td>89</td>\n",
       "    </tr>\n",
       "    <tr>\n",
       "      <th>3</th>\n",
       "      <td>Cleric</td>\n",
       "      <td>mace</td>\n",
       "      <td>64</td>\n",
       "    </tr>\n",
       "    <tr>\n",
       "      <th>4</th>\n",
       "      <td>Kali</td>\n",
       "      <td>fan</td>\n",
       "      <td>47</td>\n",
       "    </tr>\n",
       "  </tbody>\n",
       "</table>\n",
       "</div>"
      ],
      "text/plain": [
       "       class weapon  score\n",
       "0    Warrior  sword     87\n",
       "1     Archer    bow     75\n",
       "2  Sorceress  staff     89\n",
       "3     Cleric   mace     64\n",
       "4       Kali    fan     47"
      ]
     },
     "execution_count": 18,
     "metadata": {},
     "output_type": "execute_result"
    }
   ],
   "source": [
    "heroes = pandas.DataFrame(hero_list)\n",
    "heroes"
   ]
  },
  {
   "cell_type": "code",
   "execution_count": 19,
   "id": "5b5d46eb-fbb6-4710-b97d-4a015e1e6b40",
   "metadata": {},
   "outputs": [
    {
     "name": "stdout",
     "output_type": "stream",
     "text": [
      "       class weapon  score\n",
      "0    Warrior  sword     87\n",
      "1     Archer    bow     75\n",
      "2  Sorceress  staff     89\n",
      "3     Cleric   mace     64\n",
      "4       Kali    fan     47\n"
     ]
    }
   ],
   "source": [
    "print(heroes)"
   ]
  },
  {
   "cell_type": "markdown",
   "id": "f644d477-144d-489e-ba83-e03ef66bf9f0",
   "metadata": {},
   "source": [
    "    Creating csv files based on given values"
   ]
  },
  {
   "cell_type": "markdown",
   "id": "e5604c6d-3bc1-4e96-be20-450a3abae7c8",
   "metadata": {},
   "source": [
    "Explanation:\n",
    "1. Define the dictionary contents\n",
    "2. Call the `.to_csv()` method to create CSV file <br>\n",
    "`dictionary_name.to_csv(\"file_names_including_location\")`\n",
    "4. Define the CSV file name & the location<br>\n",
    "if the location not given, will be created under current working directory"
   ]
  },
  {
   "cell_type": "code",
   "execution_count": null,
   "id": "bbcaba1b-23ef-472b-b467-b14aa5df264e",
   "metadata": {},
   "outputs": [],
   "source": [
    "heroes.to_csv(\"heroes_list.csv\")"
   ]
  },
  {
   "cell_type": "code",
   "execution_count": null,
   "id": "ce09213e-f82c-4632-bde3-505d748e31b5",
   "metadata": {},
   "outputs": [],
   "source": [
    "heroes.to_csv(\"C:\\\\Users\\\\M. Haris B. Satriyo\\\\Desktop\\\\heroes_list.csv\")"
   ]
  }
 ],
 "metadata": {
  "kernelspec": {
   "display_name": "Python 3 (ipykernel)",
   "language": "python",
   "name": "python3"
  },
  "language_info": {
   "codemirror_mode": {
    "name": "ipython",
    "version": 3
   },
   "file_extension": ".py",
   "mimetype": "text/x-python",
   "name": "python",
   "nbconvert_exporter": "python",
   "pygments_lexer": "ipython3",
   "version": "3.10.8"
  }
 },
 "nbformat": 4,
 "nbformat_minor": 5
}
