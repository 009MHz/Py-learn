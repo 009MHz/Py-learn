{
 "cells": [
  {
   "attachments": {},
   "cell_type": "markdown",
   "metadata": {},
   "source": [
    "# Advanced Tkinter Widget\n",
    "For the full documentation please refer this docs: [click me](https://anzeljg.github.io/rin2/book2/2405/docs/tkinter/index.html)"
   ]
  },
  {
   "attachments": {},
   "cell_type": "markdown",
   "metadata": {},
   "source": [
    "# GUI Structure"
   ]
  },
  {
   "attachments": {},
   "cell_type": "markdown",
   "metadata": {},
   "source": [
    "\n",
    "## Module Importing"
   ]
  },
  {
   "cell_type": "code",
   "execution_count": 39,
   "metadata": {},
   "outputs": [],
   "source": [
    "from tkinter import *\n",
    "\n",
    "gui = Tk()\n",
    "gui.title(\"GUI Proto\")\n",
    "gui.minsize(width=480, height=640)"
   ]
  },
  {
   "attachments": {},
   "cell_type": "markdown",
   "metadata": {},
   "source": [
    "## GUI Contents"
   ]
  },
  {
   "attachments": {},
   "cell_type": "markdown",
   "metadata": {},
   "source": [
    "### Labels"
   ]
  },
  {
   "cell_type": "code",
   "execution_count": 40,
   "metadata": {},
   "outputs": [],
   "source": [
    "lab = Label(text=\"GUI Label Proto\")\n",
    "lab.config(text=\"Header Proto\")\n",
    "lab.pack()"
   ]
  },
  {
   "attachments": {},
   "cell_type": "markdown",
   "metadata": {},
   "source": [
    "### Normal Buttons"
   ]
  },
  {
   "cell_type": "code",
   "execution_count": 41,
   "metadata": {},
   "outputs": [],
   "source": [
    "# Creating the functions\n",
    "def hit_btn():\n",
    "    print(\"Hit Button Clicked\")\n",
    "    \n",
    "\n",
    "# Calling the button function\n",
    "button = Button(text=\"Click Me\", command=hit_btn)\n",
    "button.flash()\n",
    "button.pack()"
   ]
  },
  {
   "attachments": {},
   "cell_type": "markdown",
   "metadata": {},
   "source": [
    "### Textbox Entries"
   ]
  },
  {
   "attachments": {},
   "cell_type": "markdown",
   "metadata": {},
   "source": [
    "#### Define the function to delete default text"
   ]
  },
  {
   "cell_type": "code",
   "execution_count": 42,
   "metadata": {},
   "outputs": [],
   "source": [
    "def textbox_interact(event):\n",
    "    if textbox.get() == \"Type your text\":\n",
    "        textbox.delete(0,END)\n",
    "    elif textbox.get() == \"\":\n",
    "        textbox.insert(0, \"Type your text\")"
   ]
  },
  {
   "attachments": {},
   "cell_type": "markdown",
   "metadata": {},
   "source": [
    "Function `textbox_interact` is used to interact with the *Entry widget* in tkinter. It takes an <font color = \"orange\">***event***</font> argument which is triggered when the Entry widget is focused.\n",
    "\n",
    "The function checks whether the current text inside the textbox widget is equal to the default text `\"Type your text: \"`. If it is, then the function clears the text by deleting the characters from index 0 to the end using the `delete()` method.\n",
    "\n",
    "Finally, the function inserts the default text again at the start of the textbox widget using the `insert()` method. This ensures that the default text is displayed when the widget is not focused.\n",
    "\n",
    "When you write the function `clear_default_text()` without using the <font color = \"orange\">***event***</font> parameter, the function will still work correctly as long as it only relies on the textbox object.\n",
    "\n",
    "The <font color = \"orange\">***event***</font> parameter is not used in this function, but is included as a parameter because ***it is required*** in the `bind()` method to specify which event the function should listen to. However, if the function does not require any information from the event that triggers it, the event parameter can be omitted without affecting the functionality of the function itself."
   ]
  },
  {
   "attachments": {},
   "cell_type": "markdown",
   "metadata": {},
   "source": [
    "#### Creating The entries Widget and calling the clear function"
   ]
  },
  {
   "cell_type": "code",
   "execution_count": 43,
   "metadata": {},
   "outputs": [
    {
     "name": "stdout",
     "output_type": "stream",
     "text": [
      "Type your text\n"
     ]
    }
   ],
   "source": [
    "# Creating the textbox widget\n",
    "textbox = Entry(width=25)\n",
    "\n",
    "# Set the Default text\n",
    "textbox.insert(END, string=\"Type your text\")\n",
    "\n",
    "# Bind the <Focus> event to call the interact function\n",
    "textbox.bind(\"<FocusIn>\", textbox_interact)\n",
    "textbox.bind(\"<FocusOut>\", textbox_interact)\n",
    "textbox.pack()\n",
    "\n",
    "print(textbox.get())"
   ]
  },
  {
   "attachments": {},
   "cell_type": "markdown",
   "metadata": {},
   "source": [
    "### Multi-Text"
   ]
  },
  {
   "attachments": {},
   "cell_type": "markdown",
   "metadata": {},
   "source": [
    "#### Define the function to delete default Multi-Text"
   ]
  },
  {
   "cell_type": "code",
   "execution_count": 44,
   "metadata": {},
   "outputs": [],
   "source": [
    "def multi_text_interact(event):\n",
    "    default_text = \"Insert your text here.\"\n",
    "    if multi_text.get(\"1.0\", \"1.end\") == default_text:\n",
    "        multi_text.delete(\"1.0\", END)\n",
    "    elif multi_text.get(\"1.0\", \"1.end\") == \"\":\n",
    "        multi_text.insert(\"1.0\", default_text)"
   ]
  },
  {
   "attachments": {},
   "cell_type": "markdown",
   "metadata": {},
   "source": [
    "#### Creating The Multi-Text Widget and Calling The function"
   ]
  },
  {
   "cell_type": "code",
   "execution_count": 45,
   "metadata": {},
   "outputs": [],
   "source": [
    "# create the Text widget\n",
    "multi_text = Text(height=5, width=20)\n",
    "\n",
    "# set the default text\n",
    "default_text = \"Insert your text here.\"\n",
    "multi_text.insert(END, default_text)\n",
    "\n",
    "# bind the <FocusIn> event to clear the default text\n",
    "multi_text.bind(\"<FocusIn>\", multi_text_interact)\n",
    "multi_text.bind(\"<FocusOut>\", multi_text_interact)\n",
    "\n",
    "# focus on the widget and pack it\n",
    "multi_text.focus()\n",
    "multi_text.pack()"
   ]
  },
  {
   "attachments": {},
   "cell_type": "markdown",
   "metadata": {},
   "source": [
    "# Keeping The GUI appearance"
   ]
  },
  {
   "cell_type": "code",
   "execution_count": 46,
   "metadata": {},
   "outputs": [
    {
     "name": "stdout",
     "output_type": "stream",
     "text": [
      "Hit Button Clicked\n",
      "Hit Button Clicked\n"
     ]
    }
   ],
   "source": [
    "gui.mainloop()"
   ]
  }
 ],
 "metadata": {
  "kernelspec": {
   "display_name": "Python 3",
   "language": "python",
   "name": "python3"
  },
  "language_info": {
   "codemirror_mode": {
    "name": "ipython",
    "version": 3
   },
   "file_extension": ".py",
   "mimetype": "text/x-python",
   "name": "python",
   "nbconvert_exporter": "python",
   "pygments_lexer": "ipython3",
   "version": "3.10.9"
  },
  "orig_nbformat": 4,
  "vscode": {
   "interpreter": {
    "hash": "c19755229f92828ed9983117e2a7f8a1cac6c8656c17c4590448400be61caf74"
   }
  }
 },
 "nbformat": 4,
 "nbformat_minor": 2
}
