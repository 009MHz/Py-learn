{
 "cells": [
  {
   "attachments": {},
   "cell_type": "markdown",
   "id": "c2a38dd0-a115-4718-86ab-f773f8c0a9fc",
   "metadata": {},
   "source": [
    "# `*args`"
   ]
  },
  {
   "attachments": {},
   "cell_type": "markdown",
   "id": "c36f5a39",
   "metadata": {},
   "source": [
    "In Python, `*args` is a special syntax used in function and method definitions to indicate that the function or ***method can accept a variable number of arguments***. The `*` symbol before `args` indicates that the function or method *can accept any number of arguments*, and that these arguments will be passed to the function or method as a tuple.\n",
    "\n",
    "Here is an example of a function that uses the `*args` syntax:"
   ]
  },
  {
   "cell_type": "code",
   "execution_count": 3,
   "id": "2cbe925e",
   "metadata": {},
   "outputs": [],
   "source": [
    "def my_function(*args):\n",
    "    \"\"\"\n",
    "    This is a function that uses *args.\n",
    "    \"\"\"\n",
    "    print(\"args:\", args)"
   ]
  },
  {
   "cell_type": "code",
   "execution_count": 4,
   "id": "35e6fcd4",
   "metadata": {},
   "outputs": [
    {
     "name": "stdout",
     "output_type": "stream",
     "text": [
      "args: (1, 2, 3)\n",
      "args: ('hello', 'world')\n",
      "args: ()\n"
     ]
    }
   ],
   "source": [
    "my_function(1, 2, 3)\n",
    "my_function(\"hello\", \"world\")\n",
    "my_function()"
   ]
  },
  {
   "cell_type": "markdown",
   "id": "77e4936e",
   "metadata": {},
   "source": [
    "And these are another example of using *args to use on the calculation function"
   ]
  },
  {
   "cell_type": "code",
   "execution_count": 6,
   "id": "8ea69d1e",
   "metadata": {},
   "outputs": [
    {
     "name": "stdout",
     "output_type": "stream",
     "text": [
      "The total calculation is: 35\n"
     ]
    }
   ],
   "source": [
    "def add_number(*args):\n",
    "    return f\"The total calculation is: {sum(args)}\"\n",
    "\n",
    "print(add_number(1,2,5,7,9,11))"
   ]
  },
  {
   "cell_type": "code",
   "execution_count": 7,
   "id": "76fbfa22",
   "metadata": {},
   "outputs": [
    {
     "name": "stdout",
     "output_type": "stream",
     "text": [
      "The total calculation is: 35\n"
     ]
    }
   ],
   "source": [
    "def add_number(*args):\n",
    "    sum = 0\n",
    "    for x in args:\n",
    "        sum += x\n",
    "    return f\"The total calculation is: {sum}\"\n",
    "\n",
    "print(add_number(1,2,5,7,9,11))"
   ]
  },
  {
   "attachments": {},
   "cell_type": "markdown",
   "id": "23a4e6a9",
   "metadata": {},
   "source": [
    "# `*kwargs`"
   ]
  },
  {
   "attachments": {},
   "cell_type": "markdown",
   "id": "0555f145",
   "metadata": {},
   "source": [
    "is a special syntax used in function and method definitions to indicate that the function or method can accept a ***variable number of keyword arguments***. The `**` symbol before `kwargs` indicates that the *function or method can accept any number of keyword arguments*, and that these keyword arguments will be passed to the function or method as a dictionary.\n",
    "\n",
    "Here is an example of a function that uses the **kwargs syntax:"
   ]
  },
  {
   "cell_type": "code",
   "execution_count": 1,
   "id": "bebf6132",
   "metadata": {},
   "outputs": [],
   "source": [
    "def my_function(**kwargs):\n",
    "    \"\"\"\n",
    "    This is a function that uses **kwargs.\n",
    "    \"\"\"\n",
    "    print(\"kwargs:\", kwargs)"
   ]
  },
  {
   "attachments": {},
   "cell_type": "markdown",
   "id": "305b2c76",
   "metadata": {},
   "source": [
    "You can call this function by providing any number of keyword arguments:"
   ]
  },
  {
   "cell_type": "code",
   "execution_count": 2,
   "id": "d2aa8a97",
   "metadata": {},
   "outputs": [
    {
     "name": "stdout",
     "output_type": "stream",
     "text": [
      "kwargs: {'name': 'John', 'age': 30}\n",
      "kwargs: {'city': 'New York', 'country': 'US'}\n",
      "kwargs: {}\n"
     ]
    }
   ],
   "source": [
    "my_function(name=\"John\", age=30)\n",
    "# Output:\n",
    "# kwargs: {'name': 'John', 'age': 30}\n",
    "\n",
    "my_function(city=\"New York\", country=\"US\")\n",
    "# Output:\n",
    "# kwargs: {'city': 'New York', 'country': 'US'}\n",
    "\n",
    "my_function()\n",
    "# Output:\n",
    "# kwargs: {}"
   ]
  },
  {
   "attachments": {},
   "cell_type": "markdown",
   "id": "4302dc1b",
   "metadata": {},
   "source": [
    "Since the `**kwargs` represent a dictionary, we can breaking down into like these:"
   ]
  },
  {
   "cell_type": "code",
   "execution_count": 3,
   "id": "51d4ecb3",
   "metadata": {},
   "outputs": [
    {
     "name": "stdout",
     "output_type": "stream",
     "text": [
      "key: first, value: 4\n",
      "key: second, value: 17\n"
     ]
    }
   ],
   "source": [
    "def br_down(**kwargs):\n",
    "    for key, value in kwargs.items():\n",
    "        print(f\"key: {key}, value: {value}\")\n",
    "    \n",
    "    \n",
    "br_down(first = 4, second = 17)"
   ]
  },
  {
   "attachments": {},
   "cell_type": "markdown",
   "id": "65bc4bf1",
   "metadata": {},
   "source": [
    "`br_down()` takes in any number of keyword arguments using the `**kwargs` syntax. The function then iterates over the `key-value` pairs of the *kwargs dictionary* using the `items()` method, and for each pair, it prints out the key and the value using string formatting.\n",
    "\n",
    "Here's what happens when the function is called with the arguments first = 4 and second = 17:\n",
    "\n",
    "- The function is called with the keyword arguments `first = 4` and `second = 17`.\n",
    "- These keyword arguments are passed to the function as a dictionary called `kwargs`.\n",
    "- `kwargs` is iterated over using the `items()` method, which returns an iterator yielding key-value pairs.\n",
    "- For each key-value pair, the function prints out the key and the value using string formatting."
   ]
  },
  {
   "cell_type": "code",
   "execution_count": 1,
   "id": "9f2c6f63",
   "metadata": {},
   "outputs": [
    {
     "name": "stdout",
     "output_type": "stream",
     "text": [
      "{'add': 32, 'multiply': 2}\n",
      "The result from kwargs break down is 49\n"
     ]
    }
   ],
   "source": [
    "def br_down(x,**kwargs):\n",
    "    print(kwargs)\n",
    "    x += kwargs['add']\n",
    "    x += kwargs['multiply']\n",
    "    print(f\"The result from kwargs break down is {x}\")\n",
    "    \n",
    "br_down(15, add=32, multiply=2)"
   ]
  },
  {
   "attachments": {},
   "cell_type": "markdown",
   "id": "b501f665",
   "metadata": {},
   "source": [
    "### Using `**kwargs` under OOP"
   ]
  },
  {
   "cell_type": "code",
   "execution_count": 2,
   "id": "ba50e11e",
   "metadata": {},
   "outputs": [
    {
     "ename": "KeyError",
     "evalue": "'model'",
     "output_type": "error",
     "traceback": [
      "\u001b[1;31m---------------------------------------------------------------------------\u001b[0m",
      "\u001b[1;31mKeyError\u001b[0m                                  Traceback (most recent call last)",
      "Cell \u001b[1;32mIn[2], line 6\u001b[0m\n\u001b[0;32m      3\u001b[0m         \u001b[39mself\u001b[39m\u001b[39m.\u001b[39mmake \u001b[39m=\u001b[39m kwar[\u001b[39m\"\u001b[39m\u001b[39mmake\u001b[39m\u001b[39m\"\u001b[39m]\n\u001b[0;32m      4\u001b[0m         \u001b[39mself\u001b[39m\u001b[39m.\u001b[39mmodel \u001b[39m=\u001b[39m kwar[\u001b[39m\"\u001b[39m\u001b[39mmodel\u001b[39m\u001b[39m\"\u001b[39m]\n\u001b[1;32m----> 6\u001b[0m my_car \u001b[39m=\u001b[39m Car(make\u001b[39m=\u001b[39;49m\u001b[39m\"\u001b[39;49m\u001b[39mNissan\u001b[39;49m\u001b[39m\"\u001b[39;49m)\n\u001b[0;32m      7\u001b[0m \u001b[39mprint\u001b[39m(my_car\u001b[39m.\u001b[39mmodel)\n",
      "Cell \u001b[1;32mIn[2], line 4\u001b[0m, in \u001b[0;36mCar.__init__\u001b[1;34m(self, **kwar)\u001b[0m\n\u001b[0;32m      2\u001b[0m \u001b[39mdef\u001b[39;00m \u001b[39m__init__\u001b[39m(\u001b[39mself\u001b[39m, \u001b[39m*\u001b[39m\u001b[39m*\u001b[39mkwar):\n\u001b[0;32m      3\u001b[0m     \u001b[39mself\u001b[39m\u001b[39m.\u001b[39mmake \u001b[39m=\u001b[39m kwar[\u001b[39m\"\u001b[39m\u001b[39mmake\u001b[39m\u001b[39m\"\u001b[39m]\n\u001b[1;32m----> 4\u001b[0m     \u001b[39mself\u001b[39m\u001b[39m.\u001b[39mmodel \u001b[39m=\u001b[39m kwar[\u001b[39m\"\u001b[39;49m\u001b[39mmodel\u001b[39;49m\u001b[39m\"\u001b[39;49m]\n",
      "\u001b[1;31mKeyError\u001b[0m: 'model'"
     ]
    }
   ],
   "source": [
    "class Car:\n",
    "    def __init__(self, **kwar):\n",
    "        self.make = kwar[\"make\"]\n",
    "        self.model = kwar[\"model\"]\n",
    "        \n",
    "my_car = Car(make=\"Nissan\")\n",
    "print(my_car.model)"
   ]
  },
  {
   "attachments": {},
   "cell_type": "markdown",
   "id": "8d5c88cc",
   "metadata": {},
   "source": [
    "When we run previous script, we will receive syntax error, this is caused by:\n",
    "- `Car` class expects a keyword argument named model when it is instantiated\n",
    "- However, when the object `my_car` is created, the argument `model` is not passed to the constructor, only the argument `make` is passed\n",
    "- As a result, when the program tries to access `my_car.model`, it will raise an `AttributeError` because `model` is not an *attribute* of `my_car`\n",
    "\n",
    "To fix the error, you can pass the argument model to the constructor when the object is created. This will correctly set the model attribute of the Car object, and the print statement will output the correct value."
   ]
  },
  {
   "cell_type": "code",
   "execution_count": 3,
   "id": "77a46c30",
   "metadata": {},
   "outputs": [
    {
     "name": "stdout",
     "output_type": "stream",
     "text": [
      "Skyline\n"
     ]
    }
   ],
   "source": [
    "class Car:\n",
    "    def __init__(self, **kwar):\n",
    "        self.make = kwar[\"make\"]\n",
    "        self.model = kwar[\"model\"]\n",
    "        \n",
    "my_car = Car(make=\"Nissan\", model = \"Skyline\")\n",
    "print(my_car.model)"
   ]
  },
  {
   "attachments": {},
   "cell_type": "markdown",
   "id": "9ace6999",
   "metadata": {},
   "source": [
    "To pass & call the `**kwargs` we can also using another method like these"
   ]
  },
  {
   "cell_type": "code",
   "execution_count": 8,
   "id": "5ffd0583",
   "metadata": {},
   "outputs": [
    {
     "name": "stdout",
     "output_type": "stream",
     "text": [
      "None\n",
      "Skyline\n"
     ]
    }
   ],
   "source": [
    "class Car:\n",
    "    def __init__(self, **kwar):\n",
    "        self.make = kwar[\"make\"]\n",
    "        self.model = kwar[\"model\"]\n",
    "        self.color = kwar.get(\"color\")\n",
    "        self.seats = kwar.get(\"seats\")\n",
    "        \n",
    "my_car = Car(make=\"Nissan\", model = \"Skyline\")\n",
    "print(my_car.color)\n",
    "print(my_car.model)"
   ]
  },
  {
   "attachments": {},
   "cell_type": "markdown",
   "id": "28fb6dba",
   "metadata": {},
   "source": [
    "- The `get` method of the `kwar` dictionary is used to set the values of the ***color*** and ***seats*** attributes. The `get` method returns the value associated with the specified key in the dictionary *if it exists*, or a *default value if it does not exist*. In this case, the default value is ***None***.\n",
    "- An object of the `Car` class named `my_car` is created, and it is passed two keyword arguments `make` and `model`. The value of `my_car.make` is set to `\"Nissan\"` and the value of `my_car`.model is set to `\"Skyline\"`. However, *no values are passed for the color and seats attributes*, so the values of these attributes will be set to `None` by the `get` method.\n",
    "- The program then prints the value of the `color` attribute of the `my_car` object, which is `None`, and the `model` attribute of the object which is `\"Skyline\"`."
   ]
  }
 ],
 "metadata": {
  "kernelspec": {
   "display_name": "Python 3",
   "language": "python",
   "name": "python3"
  },
  "language_info": {
   "codemirror_mode": {
    "name": "ipython",
    "version": 3
   },
   "file_extension": ".py",
   "mimetype": "text/x-python",
   "name": "python",
   "nbconvert_exporter": "python",
   "pygments_lexer": "ipython3",
   "version": "3.10.9"
  },
  "vscode": {
   "interpreter": {
    "hash": "c19755229f92828ed9983117e2a7f8a1cac6c8656c17c4590448400be61caf74"
   }
  }
 },
 "nbformat": 4,
 "nbformat_minor": 5
}
