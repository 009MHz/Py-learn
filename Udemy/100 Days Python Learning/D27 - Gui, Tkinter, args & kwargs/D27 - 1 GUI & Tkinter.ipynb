{
 "cells": [
  {
   "cell_type": "markdown",
   "id": "c2a38dd0-a115-4718-86ab-f773f8c0a9fc",
   "metadata": {},
   "source": [
    "# Tkinter"
   ]
  },
  {
   "cell_type": "markdown",
   "id": "aaee35a6-3e61-4e0a-b964-0e58d9ba07a7",
   "metadata": {},
   "source": [
    "## Creating the GUI screen"
   ]
  },
  {
   "cell_type": "code",
   "execution_count": 16,
   "id": "4243c49c-e2e6-4850-b5a2-67d92791fb90",
   "metadata": {},
   "outputs": [],
   "source": [
    "import tkinter\n",
    "\n",
    "window = tkinter.Tk()"
   ]
  },
  {
   "cell_type": "markdown",
   "id": "ddb56704-9ef3-4285-8b2b-4c2068d18b70",
   "metadata": {},
   "source": [
    "## Providing the Window content"
   ]
  },
  {
   "cell_type": "code",
   "execution_count": 17,
   "id": "e23b45bf-b19c-4c99-9ab5-43b51ce9d78b",
   "metadata": {},
   "outputs": [],
   "source": [
    "# GUI window title\n",
    "window.title(\"Tkinter GUI\")\n",
    "\n",
    "# adjusting window size\n",
    "window.minsize(width = 480, height = 640)"
   ]
  },
  {
   "cell_type": "markdown",
   "id": "1e49860c-d79b-47be-9a63-829fd3aba8a0",
   "metadata": {},
   "source": [
    "### Adding the window elements"
   ]
  },
  {
   "cell_type": "code",
   "execution_count": 18,
   "id": "6daadc7c-d453-4fe0-99b9-63c3f567e1b3",
   "metadata": {},
   "outputs": [],
   "source": [
    "\"\"\"GUI label\"\"\"\n",
    "\n",
    "# define the content\n",
    "win_lab = tkinter.Label(text=\"Tkinter GUI Label\", font=(\"Lato\", 24,\"bold\"))\n",
    "\n",
    "\"\"\"Showing the label \"\"\"\n",
    "\n",
    "# Top center inside the windows (default)\n",
    "#win_lab.pack()\n",
    "\n",
    "# Bottom center inside the windows (default)\n",
    "win_lab.pack(side=\"bottom\")"
   ]
  },
  {
   "attachments": {},
   "cell_type": "markdown",
   "id": "b36653f8",
   "metadata": {},
   "source": [
    "#### `variable.pack()`\n",
    "Is the function to display any content in the tkinter windows from our script. Without calling or using this function, the content will never displayed at all.\n",
    "\n",
    "source: \n",
    "- [The Packer](https://docs.python.org/3/library/tkinter.html#the-packer)\n",
    "- [TK Commands > Pack](https://tcl.tk/man/tcl8.6/TkCmd/pack.htm)"
   ]
  },
  {
   "attachments": {},
   "cell_type": "markdown",
   "id": "bba46ab3-8b42-4ad0-8a94-0cac67544f48",
   "metadata": {},
   "source": [
    "## Script to keep the windows open\n",
    "- This cell must be keep on the bottom of the code when we define a new script on the windows body\n",
    "- We will receive this error when we add another code after this cell <br>\n",
    "`TclError: can't invoke \"wm\" command: application has been destroyed`"
   ]
  },
  {
   "cell_type": "code",
   "execution_count": 19,
   "id": "2428ca67-194f-4b83-866b-ce7a91ef5021",
   "metadata": {},
   "outputs": [],
   "source": [
    "# keep the windows open\n",
    "window.mainloop()"
   ]
  }
 ],
 "metadata": {
  "kernelspec": {
   "display_name": "Python 3",
   "language": "python",
   "name": "python3"
  },
  "language_info": {
   "codemirror_mode": {
    "name": "ipython",
    "version": 3
   },
   "file_extension": ".py",
   "mimetype": "text/x-python",
   "name": "python",
   "nbconvert_exporter": "python",
   "pygments_lexer": "ipython3",
   "version": "3.10.9"
  },
  "vscode": {
   "interpreter": {
    "hash": "c19755229f92828ed9983117e2a7f8a1cac6c8656c17c4590448400be61caf74"
   }
  }
 },
 "nbformat": 4,
 "nbformat_minor": 5
}
