{
 "cells": [
  {
   "cell_type": "markdown",
   "id": "c2a38dd0-a115-4718-86ab-f773f8c0a9fc",
   "metadata": {},
   "source": [
    "# Tkinter"
   ]
  },
  {
   "cell_type": "markdown",
   "id": "aaee35a6-3e61-4e0a-b964-0e58d9ba07a7",
   "metadata": {},
   "source": [
    "## Creating the GUI screen"
   ]
  },
  {
   "cell_type": "code",
   "execution_count": 1,
   "id": "4243c49c-e2e6-4850-b5a2-67d92791fb90",
   "metadata": {},
   "outputs": [],
   "source": [
    "import tkinter\n",
    "\n",
    "window = tkinter.Tk()"
   ]
  },
  {
   "cell_type": "markdown",
   "id": "ddb56704-9ef3-4285-8b2b-4c2068d18b70",
   "metadata": {},
   "source": [
    "## Providing the Window content"
   ]
  },
  {
   "cell_type": "code",
   "execution_count": 2,
   "id": "e23b45bf-b19c-4c99-9ab5-43b51ce9d78b",
   "metadata": {},
   "outputs": [],
   "source": [
    "# GUI window title\n",
    "window.title(\"Tkinter GUI\")\n",
    "\n",
    "# adjusting window size\n",
    "window.minsize(width = 480, height = 640)"
   ]
  },
  {
   "cell_type": "markdown",
   "id": "1e49860c-d79b-47be-9a63-829fd3aba8a0",
   "metadata": {},
   "source": [
    "### Adding the window elements"
   ]
  },
  {
   "cell_type": "code",
   "execution_count": 3,
   "id": "6daadc7c-d453-4fe0-99b9-63c3f567e1b3",
   "metadata": {},
   "outputs": [],
   "source": [
    "# GUI label\n",
    "win_lab = tkinter.Label(text=\"GUI label that created using 'tkinter.label'\")  # define the content\n",
    "win_lab.pack()  # showing the label at the top center inside the windows (default)"
   ]
  },
  {
   "cell_type": "markdown",
   "id": "bba46ab3-8b42-4ad0-8a94-0cac67544f48",
   "metadata": {},
   "source": [
    "## Script to keep the windows open\n",
    "- This cell must be keep on the bottom of the code when we define a new script on the windows body\n",
    "- We will receive this error when we add another code after this ceel <br>\n",
    "`TclError: can't invoke \"wm\" command: application has been destroyed`"
   ]
  },
  {
   "cell_type": "code",
   "execution_count": 4,
   "id": "2428ca67-194f-4b83-866b-ce7a91ef5021",
   "metadata": {},
   "outputs": [],
   "source": [
    "# keep the windows open\n",
    "window.mainloop()"
   ]
  },
  {
   "cell_type": "code",
   "execution_count": null,
   "id": "8a696d55-908e-4326-839f-6c570ddf0010",
   "metadata": {},
   "outputs": [],
   "source": []
  }
 ],
 "metadata": {
  "kernelspec": {
   "display_name": "Python 3 (ipykernel)",
   "language": "python",
   "name": "python3"
  },
  "language_info": {
   "codemirror_mode": {
    "name": "ipython",
    "version": 3
   },
   "file_extension": ".py",
   "mimetype": "text/x-python",
   "name": "python",
   "nbconvert_exporter": "python",
   "pygments_lexer": "ipython3",
   "version": "3.10.9"
  }
 },
 "nbformat": 4,
 "nbformat_minor": 5
}
