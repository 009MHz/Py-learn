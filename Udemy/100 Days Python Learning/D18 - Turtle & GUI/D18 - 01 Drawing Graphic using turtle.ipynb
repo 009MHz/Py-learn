{
 "cells": [
  {
   "cell_type": "code",
   "execution_count": 1,
   "id": "ea5e8b1b-e3d5-42c1-a400-e3b2f6e68104",
   "metadata": {},
   "outputs": [],
   "source": [
    "from turtle import Turtle"
   ]
  },
  {
   "cell_type": "code",
   "execution_count": 3,
   "id": "a08c307d-9bff-4422-b368-b1633f83a001",
   "metadata": {},
   "outputs": [],
   "source": [
    "leo = Turtle()"
   ]
  },
  {
   "cell_type": "code",
   "execution_count": 4,
   "id": "c206d6be-7cfe-4b15-abc4-4f356a29da2d",
   "metadata": {},
   "outputs": [
    {
     "ename": "NameError",
     "evalue": "name 'Screen' is not defined",
     "output_type": "error",
     "traceback": [
      "\u001b[1;31m---------------------------------------------------------------------------\u001b[0m",
      "\u001b[1;31mNameError\u001b[0m                                 Traceback (most recent call last)",
      "Cell \u001b[1;32mIn [4], line 1\u001b[0m\n\u001b[1;32m----> 1\u001b[0m screen \u001b[38;5;241m=\u001b[39m \u001b[43mScreen\u001b[49m()\n",
      "\u001b[1;31mNameError\u001b[0m: name 'Screen' is not defined"
     ]
    }
   ],
   "source": [
    "screen = Screen()"
   ]
  },
  {
   "cell_type": "code",
   "execution_count": null,
   "id": "c95ea159-7af1-4f6f-b7e7-7357b1f9e62b",
   "metadata": {},
   "outputs": [],
   "source": []
  }
 ],
 "metadata": {
  "kernelspec": {
   "display_name": "Python 3 (ipykernel)",
   "language": "python",
   "name": "python3"
  },
  "language_info": {
   "codemirror_mode": {
    "name": "ipython",
    "version": 3
   },
   "file_extension": ".py",
   "mimetype": "text/x-python",
   "name": "python",
   "nbconvert_exporter": "python",
   "pygments_lexer": "ipython3",
   "version": "3.10.8"
  }
 },
 "nbformat": 4,
 "nbformat_minor": 5
}
