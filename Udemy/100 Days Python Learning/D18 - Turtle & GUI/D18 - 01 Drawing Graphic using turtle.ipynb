{
 "cells": [
  {
   "cell_type": "code",
   "execution_count": 1,
   "id": "ea5e8b1b-e3d5-42c1-a400-e3b2f6e68104",
   "metadata": {},
   "outputs": [],
   "source": [
    "from turtle import Turtle, Screen"
   ]
  },
  {
   "cell_type": "code",
   "execution_count": 2,
   "id": "a08c307d-9bff-4422-b368-b1633f83a001",
   "metadata": {},
   "outputs": [],
   "source": [
    "leo = Turtle()"
   ]
  },
  {
   "cell_type": "code",
   "execution_count": 3,
   "id": "c206d6be-7cfe-4b15-abc4-4f356a29da2d",
   "metadata": {},
   "outputs": [],
   "source": [
    "screen = Screen()"
   ]
  },
  {
   "cell_type": "code",
   "execution_count": null,
   "id": "c95ea159-7af1-4f6f-b7e7-7357b1f9e62b",
   "metadata": {},
   "outputs": [],
   "source": []
  }
 ],
 "metadata": {
  "kernelspec": {
   "display_name": "Python 3 (ipykernel)",
   "language": "python",
   "name": "python3"
  },
  "language_info": {
   "codemirror_mode": {
    "name": "ipython",
    "version": 3
   },
   "file_extension": ".py",
   "mimetype": "text/x-python",
   "name": "python",
   "nbconvert_exporter": "python",
   "pygments_lexer": "ipython3",
   "version": "3.10.8"
  }
 },
 "nbformat": 4,
 "nbformat_minor": 5
}
