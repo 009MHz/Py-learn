{
 "cells": [
  {
   "cell_type": "markdown",
   "id": "03f4fbe2-b8e2-4d8a-8deb-be77a7c698f0",
   "metadata": {},
   "source": [
    "# Tuple explanation\n",
    "- Tuple is data type yg mirip dengan list, namun menggunakan `( )` dalam pengaplikasiannya\n",
    "- Penggunaan multiple data dalam tuple diipisahkan dengan , seperti list pada umumnya"
   ]
  },
  {
   "cell_type": "code",
   "execution_count": 1,
   "id": "2dd6eab6-c1c4-47d9-888e-f497a0e8361c",
   "metadata": {},
   "outputs": [],
   "source": [
    "my_list = [1,2,3,5]\n",
    "my_tuple = (1, 7, 9 , 13)"
   ]
  },
  {
   "cell_type": "markdown",
   "id": "1aafd645-0bd0-45d4-b2e2-f698cc633d8a",
   "metadata": {},
   "source": [
    "- <font color = \"magenta\">***Tuple is immutable***</font>, yang berarti data dalam tuple dapat diassign namun ***tidak dapat diubah***\n",
    "- Since Tuple  is immutable, we can't cahnge the position or update the content\n",
    "- We will receive an error when we try to assign or update  the tuple content like this"
   ]
  },
  {
   "cell_type": "code",
   "execution_count": 2,
   "id": "413052ef-74cb-49a2-91f1-6495c494f66d",
   "metadata": {},
   "outputs": [
    {
     "data": {
      "text/plain": [
       "[1, 2, 3, 'ganti']"
      ]
     },
     "execution_count": 2,
     "metadata": {},
     "output_type": "execute_result"
    }
   ],
   "source": [
    "my_list[3] = \"ganti\"\n",
    "my_list"
   ]
  },
  {
   "cell_type": "code",
   "execution_count": 3,
   "id": "79b8435a-1992-413c-a5f4-40219b8c753b",
   "metadata": {},
   "outputs": [
    {
     "ename": "TypeError",
     "evalue": "'tuple' object does not support item assignment",
     "output_type": "error",
     "traceback": [
      "\u001b[1;31m---------------------------------------------------------------------------\u001b[0m",
      "\u001b[1;31mTypeError\u001b[0m                                 Traceback (most recent call last)",
      "Cell \u001b[1;32mIn [3], line 1\u001b[0m\n\u001b[1;32m----> 1\u001b[0m \u001b[43mmy_tuple\u001b[49m\u001b[43m[\u001b[49m\u001b[38;5;241;43m3\u001b[39;49m\u001b[43m]\u001b[49m \u001b[38;5;241m=\u001b[39m \u001b[38;5;124m\"\u001b[39m\u001b[38;5;124mganti tuple\u001b[39m\u001b[38;5;124m\"\u001b[39m\n\u001b[0;32m      2\u001b[0m my_tuple\n",
      "\u001b[1;31mTypeError\u001b[0m: 'tuple' object does not support item assignment"
     ]
    }
   ],
   "source": [
    "my_tuple[3] = \"ganti tuple\"\n",
    "my_tuple"
   ]
  },
  {
   "cell_type": "markdown",
   "id": "f2fd0961-9510-4fc5-837e-c634f867bb2c",
   "metadata": {},
   "source": [
    "- Tuple is used for stored any value that mean to \"not be changed\" later untuk menghindari code breaking atau hal yang tidak diinginkan\n",
    "- Tuple bisa dikonversi menjadi list jika suatu saat kite perlu merubahk value di dalamnya menjadi *\"adjustable\"* serperti contoh ini"
   ]
  },
  {
   "cell_type": "code",
   "execution_count": 4,
   "id": "41da0d19-149e-4a58-a404-57830b19766f",
   "metadata": {},
   "outputs": [
    {
     "data": {
      "text/plain": [
       "[1, 7, 9, 13]"
      ]
     },
     "execution_count": 4,
     "metadata": {},
     "output_type": "execute_result"
    }
   ],
   "source": [
    "list(my_tuple)"
   ]
  },
  {
   "cell_type": "markdown",
   "id": "07a76c0d-7f1b-4885-ba5b-e51710bfff6f",
   "metadata": {},
   "source": [
    "# Randoming Turtle Color by adjusting RGB value"
   ]
  },
  {
   "cell_type": "code",
   "execution_count": 3,
   "id": "02f66974-f917-4fd2-a280-5f8d66eb9c41",
   "metadata": {},
   "outputs": [],
   "source": [
    "from turtle import Turtle, Screen\n",
    "import random\n",
    "\n",
    "rafa = Turtle()\n",
    "canvas = Screen()"
   ]
  },
  {
   "cell_type": "code",
   "execution_count": 7,
   "id": "858bc5ed-01c1-425b-b3aa-dd501de218b6",
   "metadata": {},
   "outputs": [],
   "source": [
    "def random_color():\n",
    "    \"\"\"Applying random RGB value\"\"\"\n",
    "    r = random.randint(0, 255)\n",
    "    g = random.randint(0, 255)\n",
    "    b = random.randint(0, 255)\n",
    "    return (r, g, b)"
   ]
  },
  {
   "cell_type": "markdown",
   "id": "7b6029b8-7ce6-4b28-82df-ad95ce2b1348",
   "metadata": {},
   "source": [
    "Set turtle parameter"
   ]
  },
  {
   "cell_type": "code",
   "execution_count": 8,
   "id": "a6d801cb-1944-4999-8e84-cdd58f946eac",
   "metadata": {},
   "outputs": [],
   "source": [
    "directions = [0, 90, 180, 270]\n",
    "rafa.pensize(10)\n",
    "rafa.speed(\"fastest\")"
   ]
  },
  {
   "cell_type": "markdown",
   "id": "652cffac-b60c-4ce4-ac0a-aef7ea8656da",
   "metadata": {},
   "source": [
    "Drawing Turtle GUI"
   ]
  },
  {
   "cell_type": "code",
   "execution_count": 9,
   "id": "d86fbb57-6667-4d7a-ae6e-146f66631108",
   "metadata": {},
   "outputs": [
    {
     "ename": "TurtleGraphicsError",
     "evalue": "bad color sequence: (116, 121, 199)",
     "output_type": "error",
     "traceback": [
      "\u001b[1;31m---------------------------------------------------------------------------\u001b[0m",
      "\u001b[1;31mTurtleGraphicsError\u001b[0m                       Traceback (most recent call last)",
      "Cell \u001b[1;32mIn [9], line 2\u001b[0m\n\u001b[0;32m      1\u001b[0m \u001b[38;5;28;01mfor\u001b[39;00m x \u001b[38;5;129;01min\u001b[39;00m \u001b[38;5;28mrange\u001b[39m(\u001b[38;5;241m200\u001b[39m):\n\u001b[1;32m----> 2\u001b[0m     \u001b[43mrafa\u001b[49m\u001b[38;5;241;43m.\u001b[39;49m\u001b[43mcolor\u001b[49m\u001b[43m(\u001b[49m\u001b[43mrandom_color\u001b[49m\u001b[43m(\u001b[49m\u001b[43m)\u001b[49m\u001b[43m)\u001b[49m\n\u001b[0;32m      3\u001b[0m     rafa\u001b[38;5;241m.\u001b[39mforward(\u001b[38;5;241m25\u001b[39m)\n\u001b[0;32m      4\u001b[0m     rafa\u001b[38;5;241m.\u001b[39msetheading(random\u001b[38;5;241m.\u001b[39mchoice(directions))\n",
      "File \u001b[1;32m~\\AppData\\Local\\Programs\\Python\\Python310\\lib\\turtle.py:2216\u001b[0m, in \u001b[0;36mTPen.color\u001b[1;34m(self, *args)\u001b[0m\n\u001b[0;32m   2214\u001b[0m \u001b[38;5;28;01melif\u001b[39;00m l \u001b[38;5;241m==\u001b[39m \u001b[38;5;241m3\u001b[39m:\n\u001b[0;32m   2215\u001b[0m     pcolor \u001b[38;5;241m=\u001b[39m fcolor \u001b[38;5;241m=\u001b[39m args\n\u001b[1;32m-> 2216\u001b[0m pcolor \u001b[38;5;241m=\u001b[39m \u001b[38;5;28;43mself\u001b[39;49m\u001b[38;5;241;43m.\u001b[39;49m\u001b[43m_colorstr\u001b[49m\u001b[43m(\u001b[49m\u001b[43mpcolor\u001b[49m\u001b[43m)\u001b[49m\n\u001b[0;32m   2217\u001b[0m fcolor \u001b[38;5;241m=\u001b[39m \u001b[38;5;28mself\u001b[39m\u001b[38;5;241m.\u001b[39m_colorstr(fcolor)\n\u001b[0;32m   2218\u001b[0m \u001b[38;5;28mself\u001b[39m\u001b[38;5;241m.\u001b[39mpen(pencolor\u001b[38;5;241m=\u001b[39mpcolor, fillcolor\u001b[38;5;241m=\u001b[39mfcolor)\n",
      "File \u001b[1;32m~\\AppData\\Local\\Programs\\Python\\Python310\\lib\\turtle.py:2696\u001b[0m, in \u001b[0;36mRawTurtle._colorstr\u001b[1;34m(self, args)\u001b[0m\n\u001b[0;32m   2695\u001b[0m \u001b[38;5;28;01mdef\u001b[39;00m \u001b[38;5;21m_colorstr\u001b[39m(\u001b[38;5;28mself\u001b[39m, args):\n\u001b[1;32m-> 2696\u001b[0m     \u001b[38;5;28;01mreturn\u001b[39;00m \u001b[38;5;28;43mself\u001b[39;49m\u001b[38;5;241;43m.\u001b[39;49m\u001b[43mscreen\u001b[49m\u001b[38;5;241;43m.\u001b[39;49m\u001b[43m_colorstr\u001b[49m\u001b[43m(\u001b[49m\u001b[43margs\u001b[49m\u001b[43m)\u001b[49m\n",
      "File \u001b[1;32m~\\AppData\\Local\\Programs\\Python\\Python310\\lib\\turtle.py:1166\u001b[0m, in \u001b[0;36mTurtleScreen._colorstr\u001b[1;34m(self, color)\u001b[0m\n\u001b[0;32m   1164\u001b[0m     r, g, b \u001b[38;5;241m=\u001b[39m [\u001b[38;5;28mround\u001b[39m(\u001b[38;5;241m255.0\u001b[39m\u001b[38;5;241m*\u001b[39mx) \u001b[38;5;28;01mfor\u001b[39;00m x \u001b[38;5;129;01min\u001b[39;00m (r, g, b)]\n\u001b[0;32m   1165\u001b[0m \u001b[38;5;28;01mif\u001b[39;00m \u001b[38;5;129;01mnot\u001b[39;00m ((\u001b[38;5;241m0\u001b[39m \u001b[38;5;241m<\u001b[39m\u001b[38;5;241m=\u001b[39m r \u001b[38;5;241m<\u001b[39m\u001b[38;5;241m=\u001b[39m \u001b[38;5;241m255\u001b[39m) \u001b[38;5;129;01mand\u001b[39;00m (\u001b[38;5;241m0\u001b[39m \u001b[38;5;241m<\u001b[39m\u001b[38;5;241m=\u001b[39m g \u001b[38;5;241m<\u001b[39m\u001b[38;5;241m=\u001b[39m \u001b[38;5;241m255\u001b[39m) \u001b[38;5;129;01mand\u001b[39;00m (\u001b[38;5;241m0\u001b[39m \u001b[38;5;241m<\u001b[39m\u001b[38;5;241m=\u001b[39m b \u001b[38;5;241m<\u001b[39m\u001b[38;5;241m=\u001b[39m \u001b[38;5;241m255\u001b[39m)):\n\u001b[1;32m-> 1166\u001b[0m     \u001b[38;5;28;01mraise\u001b[39;00m TurtleGraphicsError(\u001b[38;5;124m\"\u001b[39m\u001b[38;5;124mbad color sequence: \u001b[39m\u001b[38;5;132;01m%s\u001b[39;00m\u001b[38;5;124m\"\u001b[39m \u001b[38;5;241m%\u001b[39m \u001b[38;5;28mstr\u001b[39m(color))\n\u001b[0;32m   1167\u001b[0m \u001b[38;5;28;01mreturn\u001b[39;00m \u001b[38;5;124m\"\u001b[39m\u001b[38;5;124m#\u001b[39m\u001b[38;5;132;01m%02x\u001b[39;00m\u001b[38;5;132;01m%02x\u001b[39;00m\u001b[38;5;132;01m%02x\u001b[39;00m\u001b[38;5;124m\"\u001b[39m \u001b[38;5;241m%\u001b[39m (r, g, b)\n",
      "\u001b[1;31mTurtleGraphicsError\u001b[0m: bad color sequence: (116, 121, 199)"
     ]
    }
   ],
   "source": [
    "for x in range(200):\n",
    "    rafa.color(random_color())\n",
    "    rafa.forward(25)\n",
    "    rafa.setheading(random.choice(directions))"
   ]
  },
  {
   "cell_type": "code",
   "execution_count": null,
   "id": "79515539-660e-4e64-864f-47488c471cf2",
   "metadata": {},
   "outputs": [],
   "source": []
  }
 ],
 "metadata": {
  "kernelspec": {
   "display_name": "Python 3 (ipykernel)",
   "language": "python",
   "name": "python3"
  },
  "language_info": {
   "codemirror_mode": {
    "name": "ipython",
    "version": 3
   },
   "file_extension": ".py",
   "mimetype": "text/x-python",
   "name": "python",
   "nbconvert_exporter": "python",
   "pygments_lexer": "ipython3",
   "version": "3.10.8"
  }
 },
 "nbformat": 4,
 "nbformat_minor": 5
}
