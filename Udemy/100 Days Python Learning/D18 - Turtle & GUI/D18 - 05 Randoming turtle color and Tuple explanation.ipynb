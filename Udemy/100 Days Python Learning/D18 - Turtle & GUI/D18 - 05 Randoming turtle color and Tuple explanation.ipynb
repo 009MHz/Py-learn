{
 "cells": [
  {
   "cell_type": "markdown",
   "id": "03f4fbe2-b8e2-4d8a-8deb-be77a7c698f0",
   "metadata": {},
   "source": [
    "# Tuple explanation\n",
    "- Tuple is data type yg mirip dengan list, namun menggunakan `( )` dalam pengaplikasiannya\n",
    "- Penggunaan multiple data dalam tuple diipisahkan dengan , seperti list pada umumnya"
   ]
  },
  {
   "cell_type": "code",
   "execution_count": 1,
   "id": "2dd6eab6-c1c4-47d9-888e-f497a0e8361c",
   "metadata": {},
   "outputs": [],
   "source": [
    "my_list = [1,2,3,5]\n",
    "my_tuple = (1, 7, 9 , 13)"
   ]
  },
  {
   "cell_type": "markdown",
   "id": "1aafd645-0bd0-45d4-b2e2-f698cc633d8a",
   "metadata": {},
   "source": [
    "- <font color = \"magenta\">***Tuple is immutable***</font>, yang berarti data dalam tuple dapat diassign namun ***tidak dapat diubah***\n",
    "- Since Tuple  is immutable, we can't cahnge the position or update the content\n",
    "- We will receive an error when we try to assign or update  the tuple content like this"
   ]
  },
  {
   "cell_type": "code",
   "execution_count": 2,
   "id": "413052ef-74cb-49a2-91f1-6495c494f66d",
   "metadata": {},
   "outputs": [
    {
     "data": {
      "text/plain": [
       "[1, 2, 3, 'ganti']"
      ]
     },
     "execution_count": 2,
     "metadata": {},
     "output_type": "execute_result"
    }
   ],
   "source": [
    "my_list[3] = \"ganti\"\n",
    "my_list"
   ]
  },
  {
   "cell_type": "code",
   "execution_count": 3,
   "id": "79b8435a-1992-413c-a5f4-40219b8c753b",
   "metadata": {},
   "outputs": [
    {
     "ename": "TypeError",
     "evalue": "'tuple' object does not support item assignment",
     "output_type": "error",
     "traceback": [
      "\u001b[1;31m---------------------------------------------------------------------------\u001b[0m",
      "\u001b[1;31mTypeError\u001b[0m                                 Traceback (most recent call last)",
      "Cell \u001b[1;32mIn [3], line 1\u001b[0m\n\u001b[1;32m----> 1\u001b[0m \u001b[43mmy_tuple\u001b[49m\u001b[43m[\u001b[49m\u001b[38;5;241;43m3\u001b[39;49m\u001b[43m]\u001b[49m \u001b[38;5;241m=\u001b[39m \u001b[38;5;124m\"\u001b[39m\u001b[38;5;124mganti tuple\u001b[39m\u001b[38;5;124m\"\u001b[39m\n\u001b[0;32m      2\u001b[0m my_tuple\n",
      "\u001b[1;31mTypeError\u001b[0m: 'tuple' object does not support item assignment"
     ]
    }
   ],
   "source": [
    "my_tuple[3] = \"ganti tuple\"\n",
    "my_tuple"
   ]
  },
  {
   "cell_type": "markdown",
   "id": "f2fd0961-9510-4fc5-837e-c634f867bb2c",
   "metadata": {},
   "source": [
    "- Tuple is used for stored any value that mean to \"not be changed\" later untuk menghindari code breaking atau hal yang tidak diinginkan\n",
    "- Tuple bisa dikonversi menjadi list jika suatu saat kite perlu merubahk value di dalamnya menjadi *\"adjustable\"* serperti contoh ini"
   ]
  },
  {
   "cell_type": "code",
   "execution_count": 4,
   "id": "41da0d19-149e-4a58-a404-57830b19766f",
   "metadata": {},
   "outputs": [
    {
     "data": {
      "text/plain": [
       "[1, 7, 9, 13]"
      ]
     },
     "execution_count": 4,
     "metadata": {},
     "output_type": "execute_result"
    }
   ],
   "source": [
    "list(my_tuple)"
   ]
  }
 ],
 "metadata": {
  "kernelspec": {
   "display_name": "Python 3 (ipykernel)",
   "language": "python",
   "name": "python3"
  },
  "language_info": {
   "codemirror_mode": {
    "name": "ipython",
    "version": 3
   },
   "file_extension": ".py",
   "mimetype": "text/x-python",
   "name": "python",
   "nbconvert_exporter": "python",
   "pygments_lexer": "ipython3",
   "version": "3.10.8"
  }
 },
 "nbformat": 4,
 "nbformat_minor": 5
}
