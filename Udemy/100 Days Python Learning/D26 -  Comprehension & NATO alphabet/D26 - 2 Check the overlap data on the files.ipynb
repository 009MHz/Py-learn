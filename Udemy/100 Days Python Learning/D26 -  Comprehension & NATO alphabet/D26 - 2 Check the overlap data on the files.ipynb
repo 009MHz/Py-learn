{
 "cells": [
  {
   "attachments": {
    "0ce57be5-b961-429a-893d-e18537cce9f2.png": {
     "image/png": "[encoded data removed]"
    }
   },
   "cell_type": "markdown",
   "id": "4ffdfede-8f02-455d-a436-8240f954384c",
   "metadata": {},
   "source": [
    "## Brief:\n",
    "- Create a list  which contains the numbers that are common in both files\n",
    "![image.png](attachment:0ce57be5-b961-429a-893d-e18537cce9f2.png) <br>\n",
    "- The result should be a list that contains Integers, not Strings\n",
    "- Use List Comprehension instead of a Loop."
   ]
  },
  {
   "cell_type": "code",
   "execution_count": 1,
   "id": "de912f60-742b-4b5d-890c-645901e61548",
   "metadata": {},
   "outputs": [],
   "source": [
    "with open (\"file1.txt\") as t1:\n",
    "    f1 = t1.readlines()\n",
    "with open (\"file2.txt\") as t2:\n",
    "    f2 = t2.readlines()"
   ]
  },
  {
   "cell_type": "markdown",
   "id": "ad22fbf7-5b0b-49e9-8c02-0796d9697667",
   "metadata": {},
   "source": [
    "- Open the given file\n",
    "- Pass the read method\n",
    "- Assign the read method into variable <br>\n",
    "If not assigned there will be error `\"I/O operation on closed file.\"`"
   ]
  },
  {
   "cell_type": "code",
   "execution_count": 2,
   "id": "0c7c0ac7-14cc-4f66-aca1-ba8e29a0143c",
   "metadata": {},
   "outputs": [],
   "source": [
    "overlap = [int(x) for x in f1 if x in f2]"
   ]
  },
  {
   "cell_type": "markdown",
   "id": "8494f3fe-085e-4a3c-adf3-dd76f81d4356",
   "metadata": {},
   "source": [
    "- `for x in f1` : iterating the files inside *\"file1.txt\"* \n",
    "- `if x in f2` : check the condition when the iterated number from *\"file1.txt\"* is <font color = magenta>***available***</font> the *\"file2.txt\"* \n",
    "- `int(x)`: collecting the value when previous condition is fulfilled then <font color = violet>***convert***</font> it into integer <br>\n",
    "When the converter is not defined, the result with contain raw text format (`['3\\n', '6\\n' ...]`)"
   ]
  },
  {
   "cell_type": "code",
   "execution_count": 3,
   "id": "7c257d94-f47c-4958-9018-979a5c3e95cf",
   "metadata": {},
   "outputs": [
    {
     "name": "stdout",
     "output_type": "stream",
     "text": [
      "[3, 6, 5, 33, 12, 7, 42, 13]\n"
     ]
    }
   ],
   "source": [
    "print(overlap)"
   ]
  }
 ],
 "metadata": {
  "kernelspec": {
   "display_name": "Python 3 (ipykernel)",
   "language": "python",
   "name": "python3"
  },
  "language_info": {
   "codemirror_mode": {
    "name": "ipython",
    "version": 3
   },
   "file_extension": ".py",
   "mimetype": "text/x-python",
   "name": "python",
   "nbconvert_exporter": "python",
   "pygments_lexer": "ipython3",
   "version": "3.10.9"
  }
 },
 "nbformat": 4,
 "nbformat_minor": 5
}
