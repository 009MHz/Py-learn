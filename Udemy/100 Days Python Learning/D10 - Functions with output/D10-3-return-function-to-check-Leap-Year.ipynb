{
 "cells": [
  {
   "cell_type": "markdown",
   "id": "a26b3b87-547f-4f15-831f-67bc4041dfe7",
   "metadata": {},
   "source": [
    "# Leap Year Code reusing and convert to February days Checker"
   ]
  },
  {
   "cell_type": "markdown",
   "id": "464052eb-aa7f-4052-9e69-0e31d343af56",
   "metadata": {},
   "source": [
    "## Converting Leap Year into Boolean"
   ]
  },
  {
   "cell_type": "markdown",
   "id": "e0553bcd-95d5-4144-8b10-9790aa71c0f0",
   "metadata": {},
   "source": [
    "def is_leap(year):\n",
    "    if year % 4 == 0:\n",
    "        if year % 100 == 0:\n",
    "            if year % 400 == 0:\n",
    "                print(\"Leap year.\")\n",
    "            else:\n",
    "                print(\"Not leap year.\")\n",
    "        else:\n",
    "            print(\"Leap year.\")\n",
    "    else:\n",
    "        print(\"Not leap year.\")"
   ]
  },
  {
   "cell_type": "code",
   "execution_count": 1,
   "id": "a054b606-2f67-4e89-a3a8-f82ea61a5ba1",
   "metadata": {},
   "outputs": [],
   "source": [
    "def is_leap(year):\n",
    "    if year % 4 == 0:\n",
    "        if year % 100 == 0:\n",
    "            if year % 400 == 0:\n",
    "                return True\n",
    "            else:\n",
    "                return False\n",
    "        else:\n",
    "            return True\n",
    "    else:\n",
    "        return False"
   ]
  },
  {
   "cell_type": "markdown",
   "id": "67ca53b0-e8dc-40e5-ad50-ba690c517d57",
   "metadata": {},
   "source": [
    "## Returning the daycount using Leap Year function"
   ]
  },
  {
   "cell_type": "code",
   "execution_count": 2,
   "id": "d08e4838-fca4-4c16-a97b-a9be6312d8f8",
   "metadata": {},
   "outputs": [],
   "source": [
    "def days_in_month(year,month):  # cek user input as parameter\n",
    "    month_days = [31, 28, 31, 30, 31, 30, 31, 31, 30, 31, 30, 31]  # default daycount value (non leap)\n",
    "    if is_leap(year):  # cek hasil validasi leapyear dari function sebelumnya\n",
    "        month_days[1] = 29  # mengganti jumlah hari pada bulan ferbuari jika leapyear = True\n",
    "    return month_days [month - 1]  # mengembalikan daycount result jika user argument bukan Februari"
   ]
  },
  {
   "cell_type": "markdown",
   "id": "abda4268-f202-4385-ac97-4c2c540fdc53",
   "metadata": {},
   "source": [
    "## Prompt to check desirable Year"
   ]
  },
  {
   "cell_type": "code",
   "execution_count": 4,
   "id": "6062639e-b5a1-4c2c-87f5-8a6d93f41625",
   "metadata": {},
   "outputs": [
    {
     "name": "stdin",
     "output_type": "stream",
     "text": [
      "Enter a year:  2022\n",
      "Enter a month:  13\n"
     ]
    },
    {
     "ename": "IndexError",
     "evalue": "list index out of range",
     "output_type": "error",
     "traceback": [
      "\u001b[1;31m---------------------------------------------------------------------------\u001b[0m",
      "\u001b[1;31mIndexError\u001b[0m                                Traceback (most recent call last)",
      "Cell \u001b[1;32mIn [4], line 3\u001b[0m\n\u001b[0;32m      1\u001b[0m year \u001b[38;5;241m=\u001b[39m \u001b[38;5;28mint\u001b[39m(\u001b[38;5;28minput\u001b[39m(\u001b[38;5;124m\"\u001b[39m\u001b[38;5;124mEnter a year: \u001b[39m\u001b[38;5;124m\"\u001b[39m))\n\u001b[0;32m      2\u001b[0m month \u001b[38;5;241m=\u001b[39m \u001b[38;5;28mint\u001b[39m(\u001b[38;5;28minput\u001b[39m(\u001b[38;5;124m\"\u001b[39m\u001b[38;5;124mEnter a month: \u001b[39m\u001b[38;5;124m\"\u001b[39m))\n\u001b[1;32m----> 3\u001b[0m days \u001b[38;5;241m=\u001b[39m \u001b[43mdays_in_month\u001b[49m\u001b[43m(\u001b[49m\u001b[43myear\u001b[49m\u001b[43m,\u001b[49m\u001b[43m \u001b[49m\u001b[43mmonth\u001b[49m\u001b[43m)\u001b[49m\n\u001b[0;32m      4\u001b[0m \u001b[38;5;28mprint\u001b[39m(days)\n",
      "Cell \u001b[1;32mIn [2], line 5\u001b[0m, in \u001b[0;36mdays_in_month\u001b[1;34m(year, month)\u001b[0m\n\u001b[0;32m      3\u001b[0m \u001b[38;5;28;01mif\u001b[39;00m is_leap(year):  \u001b[38;5;66;03m# cek hasil validasi leapyear dari function sebelumnya\u001b[39;00m\n\u001b[0;32m      4\u001b[0m     month_days[\u001b[38;5;241m1\u001b[39m] \u001b[38;5;241m=\u001b[39m \u001b[38;5;241m29\u001b[39m  \u001b[38;5;66;03m# mengganti jumlah hari pada bulan ferbuari jika leapyear = True\u001b[39;00m\n\u001b[1;32m----> 5\u001b[0m \u001b[38;5;28;01mreturn\u001b[39;00m \u001b[43mmonth_days\u001b[49m\u001b[43m \u001b[49m\u001b[43m[\u001b[49m\u001b[43mmonth\u001b[49m\u001b[43m \u001b[49m\u001b[38;5;241;43m-\u001b[39;49m\u001b[43m \u001b[49m\u001b[38;5;241;43m1\u001b[39;49m\u001b[43m]\u001b[49m\n",
      "\u001b[1;31mIndexError\u001b[0m: list index out of range"
     ]
    }
   ],
   "source": [
    "year = int(input(\"Enter a year: \"))\n",
    "month = int(input(\"Enter a month: \"))\n",
    "days = days_in_month(year, month)\n",
    "print(days)"
   ]
  }
 ],
 "metadata": {
  "kernelspec": {
   "display_name": "Python 3 (ipykernel)",
   "language": "python",
   "name": "python3"
  },
  "language_info": {
   "codemirror_mode": {
    "name": "ipython",
    "version": 3
   },
   "file_extension": ".py",
   "mimetype": "text/x-python",
   "name": "python",
   "nbconvert_exporter": "python",
   "pygments_lexer": "ipython3",
   "version": "3.10.8"
  }
 },
 "nbformat": 4,
 "nbformat_minor": 5
}
