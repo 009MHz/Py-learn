{
 "cells": [
  {
   "cell_type": "markdown",
   "id": "2249fd4b-bfb6-4727-a539-27eb4cfa2763",
   "metadata": {},
   "source": [
    "# Function\n",
    "- The main purpose of function is reducing redundant code when you have instructions that you want to execute repeatedly"
   ]
  },
  {
   "cell_type": "raw",
   "id": "8e300923-9e60-4413-b697-ec60a0a00e3b",
   "metadata": {},
   "source": [
    "def my_function(something):\n",
    "    do this with something\n",
    "    then do this\n",
    "    finally do this"
   ]
  },
  {
   "cell_type": "markdown",
   "id": "203c12c9-fd61-421d-9e93-32be48319e15",
   "metadata": {},
   "source": [
    "Then we will usae the function by calling it"
   ]
  },
  {
   "cell_type": "raw",
   "id": "d6bd395c-ffe6-4b50-bad4-fd24fb02ef47",
   "metadata": {},
   "source": [
    "my_function(123)"
   ]
  },
  {
   "cell_type": "markdown",
   "id": "a42b0e77-5f8a-4dc7-9340-c85a5054422f",
   "metadata": {},
   "source": [
    "## Functions with output\n",
    "- Functions to convert passed name into title case format"
   ]
  },
  {
   "cell_type": "code",
   "execution_count": 1,
   "id": "d3a44e3d-5611-4fb3-a995-ee84f124886d",
   "metadata": {},
   "outputs": [],
   "source": [
    "def format_name(first, last):\n",
    "    f = first.title()\n",
    "    l = last.title()\n",
    "    return f\"{f} {l}\""
   ]
  },
  {
   "cell_type": "code",
   "execution_count": 2,
   "id": "9bc9b975-46a4-4d0a-b7b3-b57ab076b86c",
   "metadata": {},
   "outputs": [
    {
     "data": {
      "text/plain": [
       "'Haris Satriyo'"
      ]
     },
     "execution_count": 2,
     "metadata": {},
     "output_type": "execute_result"
    }
   ],
   "source": [
    "format_name(\"hARiS\",\"SATRIYo\")"
   ]
  }
 ],
 "metadata": {
  "kernelspec": {
   "display_name": "Python 3 (ipykernel)",
   "language": "python",
   "name": "python3"
  },
  "language_info": {
   "codemirror_mode": {
    "name": "ipython",
    "version": 3
   },
   "file_extension": ".py",
   "mimetype": "text/x-python",
   "name": "python",
   "nbconvert_exporter": "python",
   "pygments_lexer": "ipython3",
   "version": "3.10.8"
  }
 },
 "nbformat": 4,
 "nbformat_minor": 5
}
