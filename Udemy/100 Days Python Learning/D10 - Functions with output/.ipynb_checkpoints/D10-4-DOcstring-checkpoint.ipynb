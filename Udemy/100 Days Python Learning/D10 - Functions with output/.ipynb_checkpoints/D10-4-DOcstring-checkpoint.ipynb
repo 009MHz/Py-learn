{
 "cells": [
  {
   "cell_type": "markdown",
   "id": "e3560611-b435-4e4d-afe0-1ae223b6cd4a",
   "metadata": {},
   "source": [
    "# Docstring\n",
    "adalah cara lain untuk menulis dokumentasi selain menggunakan hashtag (as a comment) dalam docstring kita bisa menggunakan triple quotation mark \"\"\" \"\"\" \n",
    "kita dapat menuliskan string sepanjang mungkin dan mengabaikan linebreak di dalam quotation mark tersebut tanpa mendapatkan warning prompt auto-correct pada python"
   ]
  },
  {
   "cell_type": "code",
   "execution_count": null,
   "id": "c1e6d337-1a0f-4ab4-b241-6ae0e8015340",
   "metadata": {},
   "outputs": [],
   "source": [
    "\"\"\"Lorem ipsum dolor sit amet, consectetur adipiscing elit, sed do eiusmod tempor incididunt ut labore et dolore magna aliqua. \n",
    "Vel fringilla est ullamcorper eget nulla facilisi etiam dignissim. Orci ac auctor augue mauris augue. Nulla facilisi cras fermentum odio. \n",
    "Et ligula ullamcorper malesuada proin libero. Sed nisi lacus sed viverra. Vitae semper quis lectus nulla at volutpat diam. \n",
    "\"\"\""
   ]
  },
  {
   "cell_type": "markdown",
   "id": "f41e2af5-c988-4593-9d22-4dbda69a1872",
   "metadata": {},
   "source": [
    "docstring juga dapat digunakan untuk memberikan dokumentasi pada fungsi yg kita buat, sehingga jika kita hover mouse pada function yg memiliki docstring, hint yg dimunculkan adalah docstring pertama pada function yg kita buat"
   ]
  },
  {
   "cell_type": "code",
   "execution_count": null,
   "id": "1e0dff44-e9e3-4759-b45a-4d1295dc9522",
   "metadata": {},
   "outputs": [],
   "source": [
    "def is_leap(year):\n",
    "    \"\"\"Function to check provided year, is it Leap or not\"\"\"\n",
    "    if year % 4 == 0:\n",
    "        if year % 100 == 0:\n",
    "            if year % 400 == 0:\n",
    "                return True\n",
    "            else:\n",
    "                return False\n",
    "        else:\n",
    "            return True\n",
    "    else:\n",
    "        return False"
   ]
  }
 ],
 "metadata": {
  "kernelspec": {
   "display_name": "Python 3 (ipykernel)",
   "language": "python",
   "name": "python3"
  },
  "language_info": {
   "codemirror_mode": {
    "name": "ipython",
    "version": 3
   },
   "file_extension": ".py",
   "mimetype": "text/x-python",
   "name": "python",
   "nbconvert_exporter": "python",
   "pygments_lexer": "ipython3",
   "version": "3.10.8"
  }
 },
 "nbformat": 4,
 "nbformat_minor": 5
}
