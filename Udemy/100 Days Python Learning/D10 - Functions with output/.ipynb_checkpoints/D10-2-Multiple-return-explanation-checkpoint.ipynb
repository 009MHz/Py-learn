{
 "cells": [
  {
   "cell_type": "markdown",
   "id": "5ac85d9c-5039-4b3d-9458-f46545a33b20",
   "metadata": {},
   "source": [
    "# Function with more than one return statements"
   ]
  },
  {
   "cell_type": "markdown",
   "id": "3db4f00d-3390-4070-bc8a-e97adbf71f38",
   "metadata": {
    "tags": []
   },
   "source": [
    "## Return logic 1\n",
    "Inserting new code after return inside def() function"
   ]
  },
  {
   "cell_type": "code",
   "execution_count": 1,
   "id": "ba10727b-a7e9-4941-a41a-6ba6f95079bb",
   "metadata": {},
   "outputs": [],
   "source": [
    "def format_name(first, last):\n",
    "    f = first.title()\n",
    "    l = last.title()\n",
    "    return f\"{f} {l}\"\n",
    "    print(\"Command after return\")"
   ]
  },
  {
   "cell_type": "code",
   "execution_count": 2,
   "id": "05ab3b21-73ea-42b9-b1d8-a47ec9163f7d",
   "metadata": {},
   "outputs": [
    {
     "data": {
      "text/plain": [
       "'Haris Satriyo'"
      ]
     },
     "execution_count": 2,
     "metadata": {},
     "output_type": "execute_result"
    }
   ],
   "source": [
    "format_name(\"hARiS\",\"SATRIYo\")"
   ]
  },
  {
   "cell_type": "markdown",
   "id": "f78ba882-6ffe-4413-85de-f0a0c58cf820",
   "metadata": {},
   "source": [
    "String ***\"Command after return\"*** tidak akan diproses karena:\n",
    "- berada di bawah command \"return\"\n",
    "- return merupakan script untuk mengakhiri sebuah fungsi"
   ]
  },
  {
   "cell_type": "markdown",
   "id": "26a5de8a-7529-4bf6-a041-b753649798e0",
   "metadata": {},
   "source": [
    "## Return Logic 2\n",
    "Inserting early return on the function"
   ]
  },
  {
   "cell_type": "code",
   "execution_count": 13,
   "id": "c5bcbbaa-a3b7-4916-8e91-4bcd9502eede",
   "metadata": {},
   "outputs": [],
   "source": [
    "def format_name(first, last):\n",
    "    if first == \"\" or last == \"\":\n",
    "        return \"You inserting empty value, please check again\"\n",
    "    f = first.title()\n",
    "    l = last.title()\n",
    "    return f\"{f} {l}\""
   ]
  },
  {
   "cell_type": "markdown",
   "id": "662b9cba-b977-478e-8159-6be1da21336f",
   "metadata": {},
   "source": [
    "- Early return digunakan untuk mengakhiri code block sebelum mencapai akhir script\n",
    "- Case di atas merupakan contoh early return untuk menghandle empty value pada input, supaya tidak executing code di bawahnya"
   ]
  },
  {
   "cell_type": "code",
   "execution_count": 14,
   "id": "7586e896-d061-4219-8e47-c38b6f5a5b9f",
   "metadata": {},
   "outputs": [
    {
     "name": "stdin",
     "output_type": "stream",
     "text": [
      "What is your first name?  \n",
      "What is your last name?  \n"
     ]
    },
    {
     "name": "stdout",
     "output_type": "stream",
     "text": [
      "You inserting empty value, please check again\n"
     ]
    }
   ],
   "source": [
    "print(format_name(input(\"What is your first name? \"),input(\"What is your last name? \")))"
   ]
  }
 ],
 "metadata": {
  "kernelspec": {
   "display_name": "Python 3 (ipykernel)",
   "language": "python",
   "name": "python3"
  },
  "language_info": {
   "codemirror_mode": {
    "name": "ipython",
    "version": 3
   },
   "file_extension": ".py",
   "mimetype": "text/x-python",
   "name": "python",
   "nbconvert_exporter": "python",
   "pygments_lexer": "ipython3",
   "version": "3.10.8"
  }
 },
 "nbformat": 4,
 "nbformat_minor": 5
}
