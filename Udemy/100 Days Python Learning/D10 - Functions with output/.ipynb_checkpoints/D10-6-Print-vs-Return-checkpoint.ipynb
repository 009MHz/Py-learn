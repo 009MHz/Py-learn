{
 "cells": [
  {
   "cell_type": "markdown",
   "id": "29ccc834-d61c-4067-b773-6560e9196f1a",
   "metadata": {},
   "source": [
    "# Calculator Part 1"
   ]
  },
  {
   "cell_type": "markdown",
   "id": "7cce288e-3126-4f95-9eaa-90c0afb07292",
   "metadata": {
    "tags": []
   },
   "source": [
    "## 1. Mathematic operation"
   ]
  },
  {
   "cell_type": "code",
   "execution_count": 1,
   "id": "e3bacd0c-7c41-4c00-a50d-27402065a537",
   "metadata": {},
   "outputs": [],
   "source": [
    "#penjumlahan\n",
    "def add(n1,n2):\n",
    "    return n1 + n2 \n",
    "\n",
    "#pengurangan\n",
    "def reduce(n1,n2):\n",
    "    return n1 - n2\n",
    "\n",
    "#perkalian\n",
    "def multip(n1,n2):\n",
    "    return n1 * n2\n",
    "\n",
    "#pembagian\n",
    "def divid(n1,n2):\n",
    "    return n1 / n2"
   ]
  },
  {
   "cell_type": "markdown",
   "id": "29490068-58c9-46d2-88f4-48a7297a71c0",
   "metadata": {
    "tags": []
   },
   "source": [
    "## 2. Converting math ops into a symbol"
   ]
  },
  {
   "cell_type": "code",
   "execution_count": 2,
   "id": "1d3b840d-abac-40a5-99bb-e4d85f4aaaee",
   "metadata": {},
   "outputs": [],
   "source": [
    "math_op = {\n",
    "    \"+\" : add,\n",
    "    \"-\" : reduce,\n",
    "    \"*\" : multip,\n",
    "    \"/\" : divid\n",
    "}"
   ]
  },
  {
   "cell_type": "markdown",
   "id": "8fdfd5aa-ba3c-4720-b078-b815703d4165",
   "metadata": {
    "tags": []
   },
   "source": [
    "## 3. User interaction prompt"
   ]
  },
  {
   "cell_type": "code",
   "execution_count": 3,
   "id": "08e9f61e-79b1-467b-9708-7e8cfea36ac0",
   "metadata": {},
   "outputs": [
    {
     "name": "stdin",
     "output_type": "stream",
     "text": [
      "What's the first number?\n",
      " 3\n",
      "Select the operation: \"+\", \"-\", \"*\" or \"/\"\n",
      " +\n",
      "What's the second number?\n",
      " 2\n"
     ]
    }
   ],
   "source": [
    "num1 = int(input(\"What's the first number?\\n\"))\n",
    "user_op = input('Select the operation: \"+\", \"-\", \"*\" or \"/\"\\n')\n",
    "num2 = int(input(\"What's the second number?\\n\"))"
   ]
  },
  {
   "cell_type": "markdown",
   "id": "565878c7-f092-43de-9d79-97fe50676fcd",
   "metadata": {
    "tags": []
   },
   "source": [
    "## 4. Processing the calculation based on user input"
   ]
  },
  {
   "cell_type": "code",
   "execution_count": 4,
   "id": "9f0a53a4-1f54-432a-aafd-c54291e49a0a",
   "metadata": {},
   "outputs": [
    {
     "name": "stdout",
     "output_type": "stream",
     "text": [
      " 3 + 2 = 5\n"
     ]
    }
   ],
   "source": [
    "result = (math_op[user_op](num1, num2))\n",
    "print(f' {num1} {user_op} {num2} = {result}')"
   ]
  },
  {
   "cell_type": "markdown",
   "id": "74091f66-2ecf-4d1a-8b54-5502336a5dee",
   "metadata": {},
   "source": [
    "# Print vs Return\n",
    "- What's the actual difference and why would I use return?\n",
    "- What if we wanted to take the output that comes from the result?\n",
    "- what if we want to pass it as an input to another function?\n",
    "\n",
    "Return is used to storing value from the function while print is used to display the output directly without storing any value"
   ]
  },
  {
   "cell_type": "markdown",
   "id": "58f45673-a4c3-406d-82e1-64c2844caab0",
   "metadata": {},
   "source": [
    "## Case 1: Inserting another operations and value from previous output"
   ]
  },
  {
   "cell_type": "raw",
   "id": "9c1c17a0-8d66-4927-a591-406b34098a52",
   "metadata": {},
   "source": [
    "Method 1\n",
    "\n",
    "user_ops = input('Select the operation: \"+\", \"-\", \"*\" or \"/\"\\n')\n",
    "num3 = int(input(\"Insert the next number?\\n\"))\n",
    "adv_result = (math_op[user_op](result, num3))"
   ]
  },
  {
   "cell_type": "code",
   "execution_count": 5,
   "id": "5e57db98-951f-44d1-99ae-29b93b84636b",
   "metadata": {},
   "outputs": [
    {
     "name": "stdin",
     "output_type": "stream",
     "text": [
      "Select the operation: \"+\", \"-\", \"*\" or \"/\"\n",
      " *\n",
      "Insert the next number?\n",
      " 3\n"
     ]
    }
   ],
   "source": [
    "# Method 2\n",
    "\n",
    "user_ops = input('Select the operation: \"+\", \"-\", \"*\" or \"/\"\\n')\n",
    "num3 = int(input(\"Insert the next number?\\n\"))\n",
    "adv_result = (math_op[user_ops]((math_op[user_op](num1, num2)), num3))"
   ]
  },
  {
   "cell_type": "code",
   "execution_count": 6,
   "id": "769de4b4-b891-4e84-9418-b69727049b2b",
   "metadata": {},
   "outputs": [
    {
     "name": "stdout",
     "output_type": "stream",
     "text": [
      "The result from 3 + 2 * 3 is 15\n"
     ]
    }
   ],
   "source": [
    "print(f\"The result from {num1} {user_op} {num2} {user_ops} {num3} is {adv_result}\")"
   ]
  }
 ],
 "metadata": {
  "kernelspec": {
   "display_name": "Python 3 (ipykernel)",
   "language": "python",
   "name": "python3"
  },
  "language_info": {
   "codemirror_mode": {
    "name": "ipython",
    "version": 3
   },
   "file_extension": ".py",
   "mimetype": "text/x-python",
   "name": "python",
   "nbconvert_exporter": "python",
   "pygments_lexer": "ipython3",
   "version": "3.10.8"
  }
 },
 "nbformat": 4,
 "nbformat_minor": 5
}
