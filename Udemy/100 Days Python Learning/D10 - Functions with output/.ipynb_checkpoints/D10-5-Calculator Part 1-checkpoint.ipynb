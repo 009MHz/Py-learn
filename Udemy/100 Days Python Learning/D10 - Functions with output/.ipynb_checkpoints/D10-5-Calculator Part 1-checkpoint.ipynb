{
 "cells": [
  {
   "cell_type": "markdown",
   "id": "29ccc834-d61c-4067-b773-6560e9196f1a",
   "metadata": {},
   "source": [
    "# Calculator Part 1"
   ]
  },
  {
   "cell_type": "markdown",
   "id": "7cce288e-3126-4f95-9eaa-90c0afb07292",
   "metadata": {},
   "source": [
    "## 1. Mathematic operation"
   ]
  },
  {
   "cell_type": "code",
   "execution_count": 1,
   "id": "e3bacd0c-7c41-4c00-a50d-27402065a537",
   "metadata": {},
   "outputs": [],
   "source": [
    "#penjumlahan\n",
    "def add(n1,n2):\n",
    "    return n1 + n2 \n",
    "\n",
    "#pengurangan\n",
    "def reduce(n1,n2):\n",
    "    return n1 - n2\n",
    "\n",
    "#perkalian\n",
    "def multip(n1,n2):\n",
    "    return n1 * n2\n",
    "\n",
    "#pembagian\n",
    "def divid(n1,n2):\n",
    "    return n1 / n2"
   ]
  },
  {
   "cell_type": "markdown",
   "id": "e2b64485-e640-4177-a631-7dcdebb601ec",
   "metadata": {},
   "source": [
    "Pada mathematic operation (math ops), kita akan menggunakan return function untuk menyimpan & mengembalikan value secara langsung tanpa menggunakan print"
   ]
  },
  {
   "cell_type": "markdown",
   "id": "29490068-58c9-46d2-88f4-48a7297a71c0",
   "metadata": {},
   "source": [
    "## 2. Converting math ops into a symbol"
   ]
  },
  {
   "cell_type": "code",
   "execution_count": 2,
   "id": "1d3b840d-abac-40a5-99bb-e4d85f4aaaee",
   "metadata": {},
   "outputs": [],
   "source": [
    "math_op = {\n",
    "    \"+\" : add,\n",
    "    \"-\" : reduce,\n",
    "    \"*\" : multip,\n",
    "    \"/\" : divid\n",
    "}"
   ]
  },
  {
   "cell_type": "markdown",
   "id": "19c05190-bf58-4391-90d8-a6ef90c9384d",
   "metadata": {},
   "source": [
    "Math operations ini disimpan as a dictionary dengan format:\n",
    "- {\"math_symbol\": math_function}\n",
    "- dictionary key :math symbol represent the correct mathematic operations symbol\n",
    "- dictionary value: represent as the mathematic operations function name defined before (without \"\")"
   ]
  },
  {
   "cell_type": "markdown",
   "id": "8fdfd5aa-ba3c-4720-b078-b815703d4165",
   "metadata": {},
   "source": [
    "## 3. User interaction prompt"
   ]
  },
  {
   "cell_type": "code",
   "execution_count": 3,
   "id": "08e9f61e-79b1-467b-9708-7e8cfea36ac0",
   "metadata": {},
   "outputs": [
    {
     "name": "stdin",
     "output_type": "stream",
     "text": [
      "What's the first number?\n",
      " 12\n",
      "Select the operation: \"+\", \"-\", \"*\" or \"/\"\n",
      " *\n",
      "What's the second number?\n",
      " 12\n"
     ]
    }
   ],
   "source": [
    "num1 = int(input(\"What's the first number?\\n\"))\n",
    "user_op = input('Select the operation: \"+\", \"-\", \"*\" or \"/\"\\n')\n",
    "num2 = int(input(\"What's the second number?\\n\"))"
   ]
  },
  {
   "cell_type": "markdown",
   "id": "64a810c1-bb96-4949-bcea-4f7271165c44",
   "metadata": {},
   "source": [
    "result dari user_op diatas harus sama berdasarkan value yg diberikan pada point 2 sebelumnya"
   ]
  },
  {
   "cell_type": "markdown",
   "id": "565878c7-f092-43de-9d79-97fe50676fcd",
   "metadata": {},
   "source": [
    "## 4. Processing the calculation based on user input"
   ]
  },
  {
   "cell_type": "code",
   "execution_count": 4,
   "id": "9f0a53a4-1f54-432a-aafd-c54291e49a0a",
   "metadata": {},
   "outputs": [],
   "source": [
    "calc = math_op[user_op]  "
   ]
  },
  {
   "cell_type": "markdown",
   "id": "a2964dde-41ba-4ca3-9126-616e3030431f",
   "metadata": {},
   "source": [
    "- variable untuk converting operation dari function point 1\n",
    "- hasil variable ini merupakan string / nama function yg dibuat di point 1\n",
    "- e.g: calc = value dari symbol <font color = \"magenta\">**\"*\"**</font>  => calc = <font color = \"orange\">**multip**</font>"
   ]
  },
  {
   "cell_type": "code",
   "execution_count": 5,
   "id": "655997cb-50c1-4fc4-a7dd-afd81dfebc91",
   "metadata": {},
   "outputs": [
    {
     "name": "stdout",
     "output_type": "stream",
     "text": [
      " 12 * 12 = 144\n"
     ]
    }
   ],
   "source": [
    "result = calc(num1, num2)\n",
    "print(f' {num1} {user_op} {num2} = {result}')"
   ]
  },
  {
   "cell_type": "markdown",
   "id": "6ae58657-d20e-4fa5-90ab-fe194cc8b6ca",
   "metadata": {},
   "source": [
    "- result: hasil dari conversi cell sebelumnya menjadi fungsi yg memproses value dari user input\n",
    "- atau bisa disingkat menjadi 1 line seperti ini:"
   ]
  },
  {
   "cell_type": "code",
   "execution_count": 6,
   "id": "f2abef99-a9f9-42d1-9f94-9fe052509755",
   "metadata": {},
   "outputs": [],
   "source": [
    "result = (math_op[user_op](num1, num2))"
   ]
  },
  {
   "cell_type": "markdown",
   "id": "810523e8-3858-4e65-b1e9-fd8f02de9f62",
   "metadata": {},
   "source": [
    "- math_op[user_op] => add or reduce or or multip or divid\n",
    "- hasil dari script di atas adalah nama fungsi dari point 1 yg selanjutnya diikuti argumen based on user input sebagai syarat berjalnnya function no 1"
   ]
  },
  {
   "cell_type": "code",
   "execution_count": 7,
   "id": "ca1c0041-d984-4258-bb4d-8b8f82c8d0ea",
   "metadata": {},
   "outputs": [
    {
     "data": {
      "text/plain": [
       "144"
      ]
     },
     "execution_count": 7,
     "metadata": {},
     "output_type": "execute_result"
    }
   ],
   "source": [
    "result"
   ]
  }
 ],
 "metadata": {
  "kernelspec": {
   "display_name": "Python 3 (ipykernel)",
   "language": "python",
   "name": "python3"
  },
  "language_info": {
   "codemirror_mode": {
    "name": "ipython",
    "version": 3
   },
   "file_extension": ".py",
   "mimetype": "text/x-python",
   "name": "python",
   "nbconvert_exporter": "python",
   "pygments_lexer": "ipython3",
   "version": "3.10.8"
  }
 },
 "nbformat": 4,
 "nbformat_minor": 5
}
