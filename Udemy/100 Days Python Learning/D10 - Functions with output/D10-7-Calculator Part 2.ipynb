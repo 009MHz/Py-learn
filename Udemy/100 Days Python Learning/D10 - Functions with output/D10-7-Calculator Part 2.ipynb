{
 "cells": [
  {
   "cell_type": "markdown",
   "id": "29ccc834-d61c-4067-b773-6560e9196f1a",
   "metadata": {},
   "source": [
    "# Calculator Part 2"
   ]
  },
  {
   "cell_type": "markdown",
   "id": "7cce288e-3126-4f95-9eaa-90c0afb07292",
   "metadata": {
    "jp-MarkdownHeadingCollapsed": true,
    "tags": []
   },
   "source": [
    "## 1. Mathematic operation"
   ]
  },
  {
   "cell_type": "code",
   "execution_count": null,
   "id": "e3bacd0c-7c41-4c00-a50d-27402065a537",
   "metadata": {},
   "outputs": [],
   "source": [
    "#penjumlahan\n",
    "def add(n1,n2):\n",
    "    return n1 + n2 \n",
    "\n",
    "#pengurangan\n",
    "def reduce(n1,n2):\n",
    "    return n1 - n2\n",
    "\n",
    "#perkalian\n",
    "def multip(n1,n2):\n",
    "    return n1 * n2\n",
    "\n",
    "#pembagian\n",
    "def divid(n1,n2):\n",
    "    return n1 / n2"
   ]
  },
  {
   "cell_type": "markdown",
   "id": "29490068-58c9-46d2-88f4-48a7297a71c0",
   "metadata": {
    "jp-MarkdownHeadingCollapsed": true,
    "tags": []
   },
   "source": [
    "## 2. Converting math ops into a symbol"
   ]
  },
  {
   "cell_type": "code",
   "execution_count": null,
   "id": "1d3b840d-abac-40a5-99bb-e4d85f4aaaee",
   "metadata": {},
   "outputs": [],
   "source": [
    "math_op = {\n",
    "    \"+\" : add,\n",
    "    \"-\" : reduce,\n",
    "    \"*\" : multip,\n",
    "    \"/\" : divid\n",
    "}"
   ]
  },
  {
   "cell_type": "markdown",
   "id": "575b156f-3a26-4ad5-865a-2c20dbdce04f",
   "metadata": {
    "tags": []
   },
   "source": [
    "## 5. Creating Calculator Mechanism"
   ]
  },
  {
   "cell_type": "code",
   "execution_count": null,
   "id": "7a24f90d-b146-406c-a8ff-c71a9c0554ac",
   "metadata": {},
   "outputs": [],
   "source": [
    "def calculator():\n",
    "    # 3. User Interaction Prompt\n",
    "    num1 = int(input(\"What's the first number?\\n\"))\n",
    "    \n",
    "    calculation = True  # 6. Loop Flags\n",
    "    while calculation:\n",
    "        user_op = input('Select the operation: \"+\", \"-\", \"*\" or \"/\"\\n')\n",
    "        num2 = int(input(\"What's the next number?\\n\"))\n",
    "        # 4. Processing the calculation based on user input\n",
    "        calc = math_op[user_op]\n",
    "        result = calc(num1, num2)\n",
    "        print(f' {num1} {user_op} {num2} = {result}')\n",
    "        # 7. Adding condition to continue using the programs\n",
    "        proceed = input(f'Last output: {result}\\ntype \"y\" to continue using calculator type \"n\" to restart\\n').lower()\n",
    "        if proceed == \"y\":\n",
    "            result = num1 # 8. converting last result into first parameter\n",
    "        else:\n",
    "            calculation = False  # 6. Loop flags end\n",
    "            calculator()  # 9. recall the calculator function to restart the program (recursion)"
   ]
  },
  {
   "cell_type": "code",
   "execution_count": null,
   "id": "ea911665-95c9-46c9-bed1-8161405a6d90",
   "metadata": {},
   "outputs": [],
   "source": [
    "calculator()"
   ]
  }
 ],
 "metadata": {
  "kernelspec": {
   "display_name": "Python 3.10.8 64-bit",
   "language": "python",
   "name": "python3"
  },
  "language_info": {
   "codemirror_mode": {
    "name": "ipython",
    "version": 3
   },
   "file_extension": ".py",
   "mimetype": "text/x-python",
   "name": "python",
   "nbconvert_exporter": "python",
   "pygments_lexer": "ipython3",
   "version": "3.10.8"
  },
  "vscode": {
   "interpreter": {
    "hash": "c19755229f92828ed9983117e2a7f8a1cac6c8656c17c4590448400be61caf74"
   }
  }
 },
 "nbformat": 4,
 "nbformat_minor": 5
}
