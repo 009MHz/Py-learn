{
 "cells": [
  {
   "cell_type": "code",
   "execution_count": 1,
   "id": "63e233e4-2b93-47f7-ae8c-36fde2f05cac",
   "metadata": {},
   "outputs": [],
   "source": [
    "# Don't change the code on this line\n",
    "import random\n",
    "rock = '''\n",
    "    _______\n",
    "---'   ____)\n",
    "      (_____)\n",
    "      (_____)\n",
    "      (____)\n",
    "---.__(___)\n",
    "'''\n",
    "\n",
    "paper = '''\n",
    "    _______\n",
    "---'   ____)____\n",
    "          ______)\n",
    "          _______)\n",
    "         _______)\n",
    "---.__________)\n",
    "'''\n",
    "\n",
    "scissors = '''\n",
    "    _______\n",
    "---'   ____)____\n",
    "          ______)\n",
    "       __________)\n",
    "      (____)\n",
    "---.__(___)\n",
    "'''"
   ]
  },
  {
   "cell_type": "markdown",
   "id": "3ac395bd-9408-4fd7-82e5-7e42ed2f2180",
   "metadata": {},
   "source": [
    "Approaches:"
   ]
  },
  {
   "cell_type": "code",
   "execution_count": 2,
   "id": "9f22bdcb-ce14-4c44-a54f-212d37c3353e",
   "metadata": {},
   "outputs": [
    {
     "name": "stdin",
     "output_type": "stream",
     "text": [
      "Jankenpon! 0 for Rock, 1 for paper, and 2 for scissors\n",
      " 2\n"
     ]
    }
   ],
   "source": [
    "hand_sign = [rock, paper, scissors]\n",
    "user_choice = int(input(\"Jankenpon! 0 for Rock, 1 for paper, and 2 for scissors\\n\"))"
   ]
  },
  {
   "cell_type": "code",
   "execution_count": 3,
   "id": "ce2df04b-7781-47e7-ade9-a740d0520182",
   "metadata": {},
   "outputs": [
    {
     "name": "stdout",
     "output_type": "stream",
     "text": [
      "You choose \n",
      "\n",
      "    _______\n",
      "---'   ____)____\n",
      "          ______)\n",
      "       __________)\n",
      "      (____)\n",
      "---.__(___)\n",
      "\n",
      "AI choose \n",
      "\n",
      "    _______\n",
      "---'   ____)\n",
      "      (_____)\n",
      "      (_____)\n",
      "      (____)\n",
      "---.__(___)\n",
      "\n",
      "Sorry, You lose with bot\n"
     ]
    }
   ],
   "source": [
    "# debugging jika user memilih angka >3 karena list index hanya 0,1,2,\n",
    "if user_choice >=3 or user_choice <1 :\n",
    "    print(\"Invalid number, it's bot victory\") \n",
    "else: # kemudian semua line dibawah ini diselect dan dimajukan satu tab supaya elif dibawah dapat berfungsi kembali\n",
    "    print(f\"You choose \\n{hand_sign[user_choice]}\") \n",
    "    # hand sign = 0,1,2 user choice=memanggil urutan yang diinput\n",
    "    bot = random.randint(0, 2)\n",
    "    print(f\"AI choose \\n{hand_sign[bot]}\")\n",
    "    if user_choice == bot:\n",
    "        print (\"It's a draw, try again next time\")\n",
    "    elif user_choice == 2 and bot == 0:\n",
    "        print(\"Sorry, You lose with bot\")\n",
    "    elif user_choice > bot:\n",
    "        print(\"You win, congrats!!\")\n",
    "    elif user_choice < bot:\n",
    "        print(\"Loser\")"
   ]
  }
 ],
 "metadata": {
  "kernelspec": {
   "display_name": "Python 3 (ipykernel)",
   "language": "python",
   "name": "python3"
  },
  "language_info": {
   "codemirror_mode": {
    "name": "ipython",
    "version": 3
   },
   "file_extension": ".py",
   "mimetype": "text/x-python",
   "name": "python",
   "nbconvert_exporter": "python",
   "pygments_lexer": "ipython3",
   "version": "3.9.7"
  }
 },
 "nbformat": 4,
 "nbformat_minor": 5
}
