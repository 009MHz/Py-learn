{
 "cells": [
  {
   "cell_type": "markdown",
   "id": "5bc807cb-1435-4ece-ad27-2d9f8892c385",
   "metadata": {},
   "source": [
    "## Random Module: \n",
    "contohnya dapat dilihat di [sini](https://www.askpython.com/?s=random+module)\n",
    "\n",
    "digunakan untuk RNG / gacha dalam suatu game jika menggunakan python sebagai tool nya"
   ]
  },
  {
   "cell_type": "code",
   "execution_count": null,
   "id": "e75197cd-162c-4d8a-8e2a-c394343e71c4",
   "metadata": {},
   "outputs": [],
   "source": [
    "import random\n",
    "random_integer = random.randint(1, 10) #command untuk merandom angka dari 1-10\n",
    "print(random_integer)"
   ]
  },
  {
   "cell_type": "code",
   "execution_count": null,
   "id": "37f840c0-0df8-47be-a8fa-32d5fa9d68f3",
   "metadata": {},
   "outputs": [],
   "source": [
    "random_float = random.random() #random command ini hanya bisa dipakai untuk angka 0 - 0.99\n",
    "print(random_float)"
   ]
  },
  {
   "cell_type": "markdown",
   "id": "51f81fd0-49eb-4d93-873c-7b09b214d4b0",
   "metadata": {},
   "source": [
    "- untuk membuat random float berisi angka >1, bisa menggunakan rumus aljabar seperti ini"
   ]
  },
  {
   "cell_type": "code",
   "execution_count": null,
   "id": "6b5c4290-fc76-40be-a108-89ba7d947e90",
   "metadata": {},
   "outputs": [],
   "source": [
    "random_big_Float = random.random() * 5\n",
    "print(random_big_Float)"
   ]
  }
 ],
 "metadata": {
  "kernelspec": {
   "display_name": "Python 3 (ipykernel)",
   "language": "python",
   "name": "python3"
  },
  "language_info": {
   "codemirror_mode": {
    "name": "ipython",
    "version": 3
   },
   "file_extension": ".py",
   "mimetype": "text/x-python",
   "name": "python",
   "nbconvert_exporter": "python",
   "pygments_lexer": "ipython3",
   "version": "3.9.7"
  }
 },
 "nbformat": 4,
 "nbformat_minor": 5
}
