{
 "cells": [
  {
   "cell_type": "markdown",
   "id": "a7d9a827-0ce0-4deb-b0b6-aff093adb9e8",
   "metadata": {},
   "source": [
    "Hint: Remember to import the random module first. 🎲"
   ]
  },
  {
   "cell_type": "code",
   "execution_count": 1,
   "id": "b2a64a6c-f132-4ebb-aeed-576f40070568",
   "metadata": {},
   "outputs": [
    {
     "name": "stdout",
     "output_type": "stream",
     "text": [
      "What Coin Would you Get?\n",
      "\n",
      "Tails\n"
     ]
    }
   ],
   "source": [
    "print(\"What Coin Would you Get?\\n\")\n",
    "import random\n",
    "RNG = random.randint(0, 1)\n",
    "\n",
    "if RNG == \"1\":\n",
    "    print(\"Heads\")\n",
    "else:\n",
    "    print(\"Tails\")"
   ]
  }
 ],
 "metadata": {
  "kernelspec": {
   "display_name": "Python 3 (ipykernel)",
   "language": "python",
   "name": "python3"
  },
  "language_info": {
   "codemirror_mode": {
    "name": "ipython",
    "version": 3
   },
   "file_extension": ".py",
   "mimetype": "text/x-python",
   "name": "python",
   "nbconvert_exporter": "python",
   "pygments_lexer": "ipython3",
   "version": "3.9.7"
  }
 },
 "nbformat": 4,
 "nbformat_minor": 5
}
