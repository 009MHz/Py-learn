{
 "cells": [
  {
   "cell_type": "code",
   "execution_count": null,
   "id": "e0840a17-e7de-4568-9f92-b617126e7e75",
   "metadata": {},
   "outputs": [],
   "source": [
    "# Don't change the code on this cell\n",
    "import random\n",
    "names_string = input(\"Give me everybody's names, separated by a comma. \")\n",
    "names = names_string.split(\", \")"
   ]
  },
  {
   "cell_type": "code",
   "execution_count": null,
   "id": "d5d8ff62-9cf4-4d51-bd83-00bf9ff43f23",
   "metadata": {},
   "outputs": [],
   "source": [
    "print(names[])"
   ]
  },
  {
   "cell_type": "markdown",
   "id": "bf43d49b-486a-42e7-9ac1-c668036b8f6c",
   "metadata": {},
   "source": [
    "Pada tahap ini kita tidak bisa merandom string secara mentah2, oleh karena itu kita perlu menggunakan command <font color = orange>**len</font>(  )** untuk mengganti string menjadi urutan angka"
   ]
  },
  {
   "cell_type": "code",
   "execution_count": null,
   "id": "018a305e-8e82-4534-9195-7355747930b3",
   "metadata": {},
   "outputs": [],
   "source": [
    "name_convert = len(names) # untuk merubah nama menjadi urutan angka\n",
    "lucky_number = random.randint(0, name_convert - 1) # merandom angka yang akan keluar dan nantinya akan dirubah menjadi string lagi\n",
    "lucky_boss = names[lucky_number] # merubah gacha angka menjadi name\n",
    "print(lucky_boss + \" is going to buy the meal today.\")"
   ]
  }
 ],
 "metadata": {
  "kernelspec": {
   "display_name": "Python 3 (ipykernel)",
   "language": "python",
   "name": "python3"
  },
  "language_info": {
   "codemirror_mode": {
    "name": "ipython",
    "version": 3
   },
   "file_extension": ".py",
   "mimetype": "text/x-python",
   "name": "python",
   "nbconvert_exporter": "python",
   "pygments_lexer": "ipython3",
   "version": "3.9.7"
  }
 },
 "nbformat": 4,
 "nbformat_minor": 5
}
