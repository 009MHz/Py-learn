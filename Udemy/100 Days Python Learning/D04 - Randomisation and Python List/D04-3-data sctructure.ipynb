{
 "cells": [
  {
   "cell_type": "markdown",
   "id": "8aec6e1e-b550-4046-81d5-0eb5faadb024",
   "metadata": {},
   "source": [
    "## Data Structure\n",
    "- Merupakan salah satu cara mengatur dan menyimpan data pada python\n",
    "- Jika sebelumnya, data structure hanya menyimpan 1 atau 2 data, pada fase ini data yang akan disimpan adalah banyak data sekaligus"
   ]
  },
  {
   "cell_type": "markdown",
   "id": "da268d0f-5264-40fc-8955-b7cdb10888f6",
   "metadata": {},
   "source": [
    "### list\n",
    "- diawali dengan \"data name = [item 1, item2, item 3, dst ]\"\n",
    "- dan cara pembacaan urutan data nya adalah dari kiri -> kanan"
   ]
  },
  {
   "cell_type": "code",
   "execution_count": null,
   "id": "7790a455-6d11-47a7-a192-ee5193f3d135",
   "metadata": {},
   "outputs": [],
   "source": [
    "fruits = [\"apple\" , \"cherry\", \"pinneaple\", \"pear\"]"
   ]
  }
 ],
 "metadata": {
  "kernelspec": {
   "display_name": "Python 3 (ipykernel)",
   "language": "python",
   "name": "python3"
  },
  "language_info": {
   "codemirror_mode": {
    "name": "ipython",
    "version": 3
   },
   "file_extension": ".py",
   "mimetype": "text/x-python",
   "name": "python",
   "nbconvert_exporter": "python",
   "pygments_lexer": "ipython3",
   "version": "3.9.7"
  }
 },
 "nbformat": 4,
 "nbformat_minor": 5
}
