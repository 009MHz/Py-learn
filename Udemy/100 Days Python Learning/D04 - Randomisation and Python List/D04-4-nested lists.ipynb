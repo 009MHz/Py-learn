{
 "cells": [
  {
   "cell_type": "markdown",
   "id": "4e27d8d9-9c6d-4c04-a703-4c04f7936877",
   "metadata": {},
   "source": [
    "## Nested Lists\n",
    "merupakan list data yang berada dalam list"
   ]
  },
  {
   "cell_type": "code",
   "execution_count": 1,
   "id": "463f55d2-5ba1-4e49-850a-dfeba55e3dbd",
   "metadata": {},
   "outputs": [],
   "source": [
    "dirty_dozen = [\"Strawberries\", \"Spinach\", \"Kale\", \"Nectarines\", \"Apples\", \"Grapes\", \"Peaches\", \"Cherries\", \"Pears\", \"Tomatoes\", \"Celery\", \"Potatoes\"]\n"
   ]
  },
  {
   "cell_type": "markdown",
   "id": "8880831d-aad5-4c26-9ac8-95fc4874dd32",
   "metadata": {},
   "source": [
    "- sebagai contoh kita akan memisahkan antara buah dan sayur dari list data di atas"
   ]
  },
  {
   "cell_type": "code",
   "execution_count": 2,
   "id": "718572ab-06c6-4025-a617-54151eb000b9",
   "metadata": {},
   "outputs": [],
   "source": [
    "fruits = [\"Strawberries\", \"Nectarines\", \"Apples\", \"Grapes\", \"Peaches\", \"Cherries\", \"Pears\"]\n",
    "vegetables = [\"Spinach\", \"Kale\", \"Tomatoes\", \"Celery\", \"Potatoes\"]"
   ]
  },
  {
   "cell_type": "markdown",
   "id": "0c59eb34-73b0-4812-abf5-e580c6bb4284",
   "metadata": {},
   "source": [
    "- kemudian kita akan memanggil kedua data tersebut setelah digabungkan menjadi 1"
   ]
  },
  {
   "cell_type": "code",
   "execution_count": 3,
   "id": "1b0ed4b9-242d-4a4f-97ba-07ac9e1d25e8",
   "metadata": {},
   "outputs": [
    {
     "name": "stdout",
     "output_type": "stream",
     "text": [
      "[['Strawberries', 'Nectarines', 'Apples', 'Grapes', 'Peaches', 'Cherries', 'Pears'], ['Spinach', 'Kale', 'Tomatoes', 'Celery', 'Potatoes']]\n"
     ]
    }
   ],
   "source": [
    "dirty_dozen = [fruits, vegetables]\n",
    "print(dirty_dozen)"
   ]
  },
  {
   "cell_type": "code",
   "execution_count": null,
   "id": "f3f79df6-9865-4422-b494-af6013bb43d8",
   "metadata": {},
   "outputs": [],
   "source": []
  }
 ],
 "metadata": {
  "kernelspec": {
   "display_name": "Python 3 (ipykernel)",
   "language": "python",
   "name": "python3"
  },
  "language_info": {
   "codemirror_mode": {
    "name": "ipython",
    "version": 3
   },
   "file_extension": ".py",
   "mimetype": "text/x-python",
   "name": "python",
   "nbconvert_exporter": "python",
   "pygments_lexer": "ipython3",
   "version": "3.9.7"
  }
 },
 "nbformat": 4,
 "nbformat_minor": 5
}
