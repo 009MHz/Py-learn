{
 "cells": [
  {
   "cell_type": "code",
   "execution_count": 1,
   "id": "d210f9f1-d5df-4f7d-b011-429c6b4b7876",
   "metadata": {},
   "outputs": [],
   "source": [
    "states_of_america = [\"Delaware\", \"Pennsylvania\", \"New Jersey\", \"Georgia\", \"Connecticut\", \"Massachusetts\", \"Maryland\", \"South Carolina\", \"New Hampshire\", \"Virginia\", \"New York\", \"North Carolina\", \"Rhode Island\", \"Vermont\", \"Kentucky\", \"Tennessee\", \"Ohio\", \"Louisiana\", \"Indiana\", \"Mississippi\", \"Illinois\", \"Alabama\", \"Maine\", \"Missouri\", \"Arkansas\", \"Michigan\", \"Florida\", \"Texas\", \"Iowa\", \"Wisconsin\", \"California\", \"Minnesota\", \"Oregon\", \"Kansas\", \"West Virginia\", \"Nevada\", \"Nebraska\", \"Colorado\", \"North Dakota\", \"South Dakota\", \"Montana\", \"Washington\", \"Idaho\", \"Wyoming\", \"Utah\", \"Oklahoma\", \"New Mexico\", \"Arizona\", \"Alaska\", \"Hawaii\"]"
   ]
  },
  {
   "cell_type": "markdown",
   "id": "7da63d96-89c4-40af-ac84-1396fddc68ab",
   "metadata": {},
   "source": [
    "- command ini memanggil data urutan ke 3 dari start (0=data nomor 1 di python) maka bisa menggunakan \"-\" untuk memanggil data urutan dari end (kanan)"
   ]
  },
  {
   "cell_type": "code",
   "execution_count": 2,
   "id": "724b0091-bcaf-4bc7-8273-caf7c291e555",
   "metadata": {},
   "outputs": [
    {
     "name": "stdout",
     "output_type": "stream",
     "text": [
      "New Jersey\n"
     ]
    }
   ],
   "source": [
    "print(states_of_america[2]) "
   ]
  },
  {
   "cell_type": "code",
   "execution_count": 3,
   "id": "bcd99338-894c-44a8-85dd-005a7dc7c9e7",
   "metadata": {},
   "outputs": [
    {
     "name": "stdout",
     "output_type": "stream",
     "text": [
      "New Mexico\n"
     ]
    }
   ],
   "source": [
    "print(states_of_america[-4]) #akan memeanggil data no 4 dari end yaitu \"New Mexico\""
   ]
  },
  {
   "cell_type": "markdown",
   "id": "be8c6762-3adc-4944-9976-cfcfa9a3c55e",
   "metadata": {},
   "source": [
    "- command ini akan mengubah data akhir jika ada command yang memanggil \"Pennsylvania\" maka dia akan terpanggil sebagai \"Pennysvania\" tanpa mengubah main database"
   ]
  },
  {
   "cell_type": "code",
   "execution_count": 4,
   "id": "373780d8-541a-4b57-a2e3-5ab52e96754b",
   "metadata": {},
   "outputs": [
    {
     "data": {
      "text/plain": [
       "'Pennsylvania'"
      ]
     },
     "execution_count": 4,
     "metadata": {},
     "output_type": "execute_result"
    }
   ],
   "source": [
    "states_of_america[1]"
   ]
  },
  {
   "cell_type": "code",
   "execution_count": null,
   "id": "139d6497-ac7f-496e-9ddf-f86f9bec55d0",
   "metadata": {},
   "outputs": [],
   "source": [
    "states_of_america[1] = \"Pennysvania\""
   ]
  },
  {
   "cell_type": "code",
   "execution_count": 5,
   "id": "c7c5f3ef-618a-4d4a-b381-eb9cebc70519",
   "metadata": {},
   "outputs": [
    {
     "data": {
      "text/plain": [
       "'Pennsylvania'"
      ]
     },
     "execution_count": 5,
     "metadata": {},
     "output_type": "execute_result"
    }
   ],
   "source": [
    "states_of_america[1]"
   ]
  },
  {
   "cell_type": "markdown",
   "id": "591029af-d63e-4cb3-b27e-543697dd39c9",
   "metadata": {},
   "source": [
    "- command ini akan menambah Transylvania ke dalam main database yang diletakkan di akhir urutan (setelah Hawaii) tanpa mengubah main database"
   ]
  },
  {
   "cell_type": "code",
   "execution_count": 6,
   "id": "433feb4b-4d3b-483c-92f0-7c880fc1ccce",
   "metadata": {},
   "outputs": [
    {
     "data": {
      "text/plain": [
       "'Hawaii'"
      ]
     },
     "execution_count": 6,
     "metadata": {},
     "output_type": "execute_result"
    }
   ],
   "source": [
    "states_of_america[-1]"
   ]
  },
  {
   "cell_type": "code",
   "execution_count": null,
   "id": "2a626af6-663c-4e65-aa69-80d78bc8684b",
   "metadata": {},
   "outputs": [],
   "source": [
    "states_of_america.append(\"Transylvania\") "
   ]
  },
  {
   "cell_type": "code",
   "execution_count": 7,
   "id": "a059e4f5-6375-43a4-b75c-76ff8f966ca4",
   "metadata": {},
   "outputs": [
    {
     "data": {
      "text/plain": [
       "'Hawaii'"
      ]
     },
     "execution_count": 7,
     "metadata": {},
     "output_type": "execute_result"
    }
   ],
   "source": [
    "states_of_america[-1]"
   ]
  },
  {
   "cell_type": "markdown",
   "id": "b272bf8b-5536-4b7b-9109-18abce8a98bd",
   "metadata": {},
   "source": [
    "- command ini akan menambahkan > 1 data sekaligus ke dalam list yang ada"
   ]
  },
  {
   "cell_type": "code",
   "execution_count": 8,
   "id": "f357f9ed-859d-49f9-9e41-4ea11863f7cd",
   "metadata": {},
   "outputs": [
    {
     "data": {
      "text/plain": [
       "['Utah', 'Oklahoma', 'New Mexico', 'Arizona', 'Alaska', 'Hawaii']"
      ]
     },
     "execution_count": 8,
     "metadata": {},
     "output_type": "execute_result"
    }
   ],
   "source": [
    "states_of_america[-6:]"
   ]
  },
  {
   "cell_type": "code",
   "execution_count": 9,
   "id": "860002f6-30f7-432b-8ca5-a5d2bcddcf4d",
   "metadata": {},
   "outputs": [],
   "source": [
    "states_of_america.extend([\"Carribean\", \"Tortuga\", \"Havana\"])"
   ]
  },
  {
   "cell_type": "code",
   "execution_count": 10,
   "id": "301b8ac7-9d96-4637-826b-6b01baf4ac13",
   "metadata": {},
   "outputs": [
    {
     "data": {
      "text/plain": [
       "['Arizona', 'Alaska', 'Hawaii', 'Carribean', 'Tortuga', 'Havana']"
      ]
     },
     "execution_count": 10,
     "metadata": {},
     "output_type": "execute_result"
    }
   ],
   "source": [
    "states_of_america[-6:]"
   ]
  },
  {
   "cell_type": "code",
   "execution_count": 11,
   "id": "36163e8c-437b-401d-86e2-7b8b397bb67a",
   "metadata": {},
   "outputs": [
    {
     "name": "stdout",
     "output_type": "stream",
     "text": [
      "['Delaware', 'Pennsylvania', 'New Jersey', 'Georgia', 'Connecticut', 'Massachusetts', 'Maryland', 'South Carolina', 'New Hampshire', 'Virginia', 'New York', 'North Carolina', 'Rhode Island', 'Vermont', 'Kentucky', 'Tennessee', 'Ohio', 'Louisiana', 'Indiana', 'Mississippi', 'Illinois', 'Alabama', 'Maine', 'Missouri', 'Arkansas', 'Michigan', 'Florida', 'Texas', 'Iowa', 'Wisconsin', 'California', 'Minnesota', 'Oregon', 'Kansas', 'West Virginia', 'Nevada', 'Nebraska', 'Colorado', 'North Dakota', 'South Dakota', 'Montana', 'Washington', 'Idaho', 'Wyoming', 'Utah', 'Oklahoma', 'New Mexico', 'Arizona', 'Alaska', 'Hawaii', 'Carribean', 'Tortuga', 'Havana']\n"
     ]
    }
   ],
   "source": [
    "print(states_of_america)"
   ]
  }
 ],
 "metadata": {
  "kernelspec": {
   "display_name": "Python 3 (ipykernel)",
   "language": "python",
   "name": "python3"
  },
  "language_info": {
   "codemirror_mode": {
    "name": "ipython",
    "version": 3
   },
   "file_extension": ".py",
   "mimetype": "text/x-python",
   "name": "python",
   "nbconvert_exporter": "python",
   "pygments_lexer": "ipython3",
   "version": "3.9.7"
  }
 },
 "nbformat": 4,
 "nbformat_minor": 5
}
