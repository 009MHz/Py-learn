{
 "cells": [
  {
   "cell_type": "code",
   "execution_count": 4,
   "id": "17974811-8aba-46c6-9f86-81f3ca1ea626",
   "metadata": {},
   "outputs": [
    {
     "name": "stdout",
     "output_type": "stream",
     "text": [
      "['⬜️', '⬜️', '⬜️']\n",
      "['⬜️', '⬜️', '⬜️']\n",
      "['⬜️', '⬜️', '⬜️']\n"
     ]
    },
    {
     "name": "stdin",
     "output_type": "stream",
     "text": [
      "Where do you want to put the treasure?  32\n"
     ]
    }
   ],
   "source": [
    "\n",
    "row1 = [\"⬜️\",\"⬜️\",\"⬜️\"]\n",
    "row2 = [\"⬜️\",\"⬜️\",\"⬜️\"]\n",
    "row3 = [\"⬜️\",\"⬜️\",\"⬜️\"]\n",
    "map = [row1, row2, row3]\n",
    "print(f\"{row1}\\n{row2}\\n{row3}\")\n",
    "position = input(\"Where do you want to put the treasure? \") #dalam command ini output yg dihasilkan akan selalu string"
   ]
  },
  {
   "cell_type": "markdown",
   "id": "01e19c38-eea5-4251-8924-406d77f3971c",
   "metadata": {},
   "source": [
    "    Approaches:"
   ]
  },
  {
   "cell_type": "code",
   "execution_count": 5,
   "id": "889c5d6b-5997-429f-9677-69e0a2603fb8",
   "metadata": {},
   "outputs": [],
   "source": [
    "x = int(position[0]) #convert output string dari line 7 ke dalam int\n",
    "y = int(position[1]) \n",
    "map[y-1][x -1] = \"X\" # -1 merubah urutan dari 0-2 menjadi 1-3, jadi hal ini menetralkan urutan yang tertanam pada python"
   ]
  },
  {
   "cell_type": "code",
   "execution_count": 6,
   "id": "88ea0372-ada7-43c1-a602-ca4f8c80e89f",
   "metadata": {},
   "outputs": [
    {
     "name": "stdout",
     "output_type": "stream",
     "text": [
      "['⬜️', '⬜️', '⬜️']\n",
      "['⬜️', '⬜️', 'X']\n",
      "['⬜️', '⬜️', '⬜️']\n"
     ]
    }
   ],
   "source": [
    "# Don't change the code on this cell\n",
    "print(f\"{row1}\\n{row2}\\n{row3}\")"
   ]
  }
 ],
 "metadata": {
  "kernelspec": {
   "display_name": "Python 3 (ipykernel)",
   "language": "python",
   "name": "python3"
  },
  "language_info": {
   "codemirror_mode": {
    "name": "ipython",
    "version": 3
   },
   "file_extension": ".py",
   "mimetype": "text/x-python",
   "name": "python",
   "nbconvert_exporter": "python",
   "pygments_lexer": "ipython3",
   "version": "3.9.7"
  }
 },
 "nbformat": 4,
 "nbformat_minor": 5
}
