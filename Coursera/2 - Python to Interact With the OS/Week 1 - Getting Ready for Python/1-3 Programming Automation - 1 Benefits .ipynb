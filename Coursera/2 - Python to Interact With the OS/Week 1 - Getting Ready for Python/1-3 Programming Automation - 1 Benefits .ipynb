{
 "cells": [
  {
   "cell_type": "markdown",
   "id": "c595ecc9-82f2-4ab0-911d-418898551a2c",
   "metadata": {},
   "source": [
    "## Benefits of Automation\n",
    "In the introduction of the Python course, we talked about the benefits of automation for a bunch of activities like doing repetitive tasks, analyzing text, generating reports, and a lot more. In this course, we'll build on these concepts by applying automation to more and more tasks\n",
    "\n",
    "As an IT specialist, thoughtfully applied automation can play an important role in your work. Look at automation like an IT force multiplier, a tool that can increase the effectiveness of an IT team without needing to increase the number of team members. In other words, automation can allow the IT infrastructure to scale, keeping pace with growth and demand"
   ]
  },
  {
   "cell_type": "markdown",
   "id": "aa7dcb7c-c164-4213-85d9-581f95d79ffb",
   "metadata": {},
   "source": [
    "**Scalability**\n",
    "\n",
    "Means that when more work is added to a system, the system can do whatever it needs to complete the work.\n",
    "\n",
    "*For example:*\n",
    "\n",
    "Think about the impact on IT when a company hires a new employee. New employees might have to access a range of technology resources do their job. Onboarding task can include creating a user account, a mailbox, and a home folder, and setting up the appropriate permissions to control access to various systems and resources. If the company doesn't hire a lot of employees over a given period, someone could manually do these tasks each time a new person is brought on board.\n",
    "\n",
    "So assuming that we're all on the same page about how manual onboarding has its issues, let's think about how we can improve the process with automation. Well, instead of having one person interact with each separate system to create a new user account, a mailbox, shared folder, and permissions, it'd be more efficient if the IT specialist could write a script to all of this. We could then have a computer do these tasks each time a new employee is hired. \n",
    "\n",
    "When given initial information, like the new employee's name and job function, this script could carry out each step automatically. So humans would only need to intervene if a task failed for some reason. The computer would execute each step in the script and in the given order in exactly the same way. It would never need to deviate from these instructions. We can even improve the script further. Instead of having the IT specialist enter a new employees information into the script each time it's run, the script could just read the data from a company's human resources system. That will make the entire workflow begin automatically on the employees start date\n",
    "\n",
    "Another subtle but super helpful benefit of automation is <font color = orange>***centralizing mistakes***</font>, which means if you find an error in a script, you can fix the error once and for all, which isn't the case for mistakes made by humans, of course. Hopefully, you're now even more sold on the benefits of automation than you already were. But as we've said before, automation is not a fix-all. If badly executed, automation can cause as many problems as it can solve"
   ]
  },
  {
   "cell_type": "code",
   "execution_count": null,
   "id": "7d881774-35db-40ae-95d5-29704dccd348",
   "metadata": {},
   "outputs": [],
   "source": []
  }
 ],
 "metadata": {
  "kernelspec": {
   "display_name": "Python 3 (ipykernel)",
   "language": "python",
   "name": "python3"
  },
  "language_info": {
   "codemirror_mode": {
    "name": "ipython",
    "version": 3
   },
   "file_extension": ".py",
   "mimetype": "text/x-python",
   "name": "python",
   "nbconvert_exporter": "python",
   "pygments_lexer": "ipython3",
   "version": "3.9.7"
  }
 },
 "nbformat": 4,
 "nbformat_minor": 5
}
