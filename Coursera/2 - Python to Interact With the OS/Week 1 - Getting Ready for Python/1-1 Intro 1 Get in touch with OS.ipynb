{
 "cells": [
  {
   "cell_type": "markdown",
   "id": "bcc45e75-f885-4f89-b1a3-45d8c2265609",
   "metadata": {},
   "source": [
    "# Operating System ***(OS)***\n",
    "The software that manages everything that gores in the computer.\n",
    "It reads, writes, and deletes files from the hard drive. It handles how the processes start, how they interact with each other, and how they eventually finish. It manages how memory gets allocated different processes, how network packets are sent and received, and how each programming can access the different hardware components\n",
    "\n",
    "There are actually two main parts in operating system: the kernel and the user space.\n",
    "- <font color = orange>**The Kernel**</font>\n",
    "\n",
    "kernel is the main core of an operating system. It talks directly to our hardware and manages our systems resources. As users, we don't interact with the kernel directly. Instead, we interact with the other part of the operating system called the user space\n",
    "- <font color = magenta>**The User Space**</font>\n",
    "\n",
    "The User space is basically everything outside of the kernel. These are things that we interact with directly, like the system programs and user interface"
   ]
  }
 ],
 "metadata": {
  "kernelspec": {
   "display_name": "Python 3 (ipykernel)",
   "language": "python",
   "name": "python3"
  },
  "language_info": {
   "codemirror_mode": {
    "name": "ipython",
    "version": 3
   },
   "file_extension": ".py",
   "mimetype": "text/x-python",
   "name": "python",
   "nbconvert_exporter": "python",
   "pygments_lexer": "ipython3",
   "version": "3.9.7"
  }
 },
 "nbformat": 4,
 "nbformat_minor": 5
}
