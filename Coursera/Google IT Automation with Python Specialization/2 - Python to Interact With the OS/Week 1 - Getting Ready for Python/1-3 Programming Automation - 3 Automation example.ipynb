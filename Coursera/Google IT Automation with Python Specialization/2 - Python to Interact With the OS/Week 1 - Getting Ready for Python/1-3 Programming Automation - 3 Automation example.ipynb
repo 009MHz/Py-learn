{
 "cells": [
  {
   "cell_type": "markdown",
   "id": "7a89a508-42ce-4077-80f8-a896f456f25d",
   "metadata": {},
   "source": [
    "# Automation Example\n",
    "Concept: To check the health of your computer. This can call for a lot of different checks, verifying that there is enough disk space, that the processor isn't an overloaded, that it has the latest security updates, and that it's running services it's supposed to."
   ]
  },
  {
   "cell_type": "markdown",
   "id": "dc08b745-ff31-4ad3-8c48-f8a96eb20757",
   "metadata": {},
   "source": [
    "1. Check the disk usage "
   ]
  },
  {
   "cell_type": "code",
   "execution_count": 1,
   "id": "659667da-23aa-44ea-b136-7f56a5f24920",
   "metadata": {},
   "outputs": [],
   "source": [
    "import shutil\n",
    "\n",
    "usage = shutil.disk_usage('/')"
   ]
  },
  {
   "cell_type": "code",
   "execution_count": 2,
   "id": "6e2078a1-f2fd-4462-8316-40cd91d4cef5",
   "metadata": {},
   "outputs": [
    {
     "data": {
      "text/plain": [
       "usage(total=245107195904, used=105257414656, free=139849781248)"
      ]
     },
     "execution_count": 2,
     "metadata": {},
     "output_type": "execute_result"
    }
   ],
   "source": [
    "usage"
   ]
  },
  {
   "cell_type": "markdown",
   "id": "74869bd2-dab9-4473-8dca-d7e6c6064830",
   "metadata": {},
   "source": [
    "    Converting into percentage"
   ]
  },
  {
   "cell_type": "code",
   "execution_count": 3,
   "id": "a011553c-de1b-4a44-a49d-7f7d39f5c749",
   "metadata": {},
   "outputs": [],
   "source": [
    "ratio = usage.free / usage.total * 100"
   ]
  },
  {
   "cell_type": "markdown",
   "id": "241fbf7b-4780-41a8-bc92-9cc16abe06e2",
   "metadata": {},
   "source": [
    "    Converting into proper / readable format"
   ]
  },
  {
   "cell_type": "code",
   "execution_count": 4,
   "id": "1f36a65f-f0a0-4644-b556-9bd4c75beed1",
   "metadata": {},
   "outputs": [
    {
     "name": "stdout",
     "output_type": "stream",
     "text": [
      "Disk usage: 57.06 %\n"
     ]
    }
   ],
   "source": [
    "print(f\"Disk usage: {round(ratio,2)} %\")"
   ]
  },
  {
   "cell_type": "markdown",
   "id": "e1a37b79-c39b-422f-9d57-d87b84295e5c",
   "metadata": {},
   "source": [
    "2. Check the CPU usage"
   ]
  },
  {
   "cell_type": "code",
   "execution_count": 5,
   "id": "468a6f35-828f-44f5-a2e4-b266dd14753c",
   "metadata": {},
   "outputs": [
    {
     "data": {
      "text/plain": [
       "14.9"
      ]
     },
     "execution_count": 5,
     "metadata": {},
     "output_type": "execute_result"
    }
   ],
   "source": [
    "import psutil\n",
    "\n",
    "psutil.cpu_percent(0.1)  # check the CPU usage in \"0.1\" seconds interval"
   ]
  },
  {
   "cell_type": "code",
   "execution_count": 6,
   "id": "37cf86c3-cb78-468c-a2c5-bc8e18e0eed1",
   "metadata": {},
   "outputs": [
    {
     "data": {
      "text/plain": [
       "8.5"
      ]
     },
     "execution_count": 6,
     "metadata": {},
     "output_type": "execute_result"
    }
   ],
   "source": [
    "psutil.cpu_percent(1)  # check the CPU usage in \"1\" seconds interval"
   ]
  },
  {
   "cell_type": "code",
   "execution_count": 7,
   "id": "ec72a4e8-c365-42d5-b79a-e516b2f91d4a",
   "metadata": {},
   "outputs": [
    {
     "data": {
      "text/plain": [
       "7.6"
      ]
     },
     "execution_count": 7,
     "metadata": {},
     "output_type": "execute_result"
    }
   ],
   "source": [
    "psutil.cpu_percent(5)  # check the CPU usage average in \"5\" seconds interval"
   ]
  }
 ],
 "metadata": {
  "kernelspec": {
   "display_name": "Python 3 (ipykernel)",
   "language": "python",
   "name": "python3"
  },
  "language_info": {
   "codemirror_mode": {
    "name": "ipython",
    "version": 3
   },
   "file_extension": ".py",
   "mimetype": "text/x-python",
   "name": "python",
   "nbconvert_exporter": "python",
   "pygments_lexer": "ipython3",
   "version": "3.9.7"
  }
 },
 "nbformat": 4,
 "nbformat_minor": 5
}
