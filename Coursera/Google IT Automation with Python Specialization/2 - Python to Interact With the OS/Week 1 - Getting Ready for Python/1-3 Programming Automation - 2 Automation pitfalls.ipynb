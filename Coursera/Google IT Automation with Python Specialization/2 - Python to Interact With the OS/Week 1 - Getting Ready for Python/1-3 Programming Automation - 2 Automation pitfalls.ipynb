{
 "cells": [
  {
   "cell_type": "markdown",
   "id": "ebc65eb8-2624-4b68-8016-70457f2ccc65",
   "metadata": {},
   "source": [
    "# Automation pitfalls"
   ]
  },
  {
   "cell_type": "markdown",
   "id": "71566905-f342-4dcb-b758-fe3aa9dd943f",
   "metadata": {},
   "source": [
    "Automation makes our lives a lot easier. But despite its many benefits when automation is implemented without baffle design, it can cause some serious problems.\n",
    "\n",
    "Let's take a look at some ways that automation can fail and what we can do to avoid them. Any task or process we automate comes with a trade-off. <font color = cyan>**Is the time and effort it'll take to write the script worth the potential automation benefits?**</font> A simple heuristic that can help us decide is to estimate how long it takes us to do a certain task. And then multiply that by how many times we perform that task in a given time window.\n",
    "\n",
    "If we estimate that it would take less time to automate the tasks than it would to do it manually, chances are, it's a good candidate for automation. So, the time to write the automation is less than time to perform the task multiply by the amount of times you do it, then automate the task"
   ]
  },
  {
   "cell_type": "raw",
   "id": "d294f36b-2f44-46c4-b04b-bb88d7473113",
   "metadata": {},
   "source": [
    "[time to automate < (time to perform x amount of times done)]"
   ]
  },
  {
   "cell_type": "markdown",
   "id": "0d198939-9557-4b7d-93a8-71f5d8b5dab8",
   "metadata": {},
   "source": [
    "    Real World example:\n",
    "You generate a daily report on your systems usage and it takes you five minutes a day to do it. If automating this test takes you one hour, then in 12 days, you've already saved the 60 minutes it took you to create the automation."
   ]
  },
  {
   "cell_type": "code",
   "execution_count": 1,
   "id": "ebfc88ca-206e-4482-a509-a463efdeb545",
   "metadata": {},
   "outputs": [
    {
     "data": {
      "text/plain": [
       "900"
      ]
     },
     "execution_count": 1,
     "metadata": {},
     "output_type": "execute_result"
    }
   ],
   "source": [
    "(15 * 60)"
   ]
  },
  {
   "cell_type": "markdown",
   "id": "c49bb094-c2f6-4588-9117-8adabec943f8",
   "metadata": {},
   "source": [
    "This will be a great use of your time as it would free up those five minutes every day to do something else. If instead it takes you 10 hours to create the automation, then it would require a 120 days, or 24 working weeks to start saving time on the task. That's almost six months until you start reaping the benefits of your automation. It's even possible that by then the requirements for the report will have changed needing even more of your time. Usually, the decision of whether to automate or not isn't so straightforward"
   ]
  }
 ],
 "metadata": {
  "kernelspec": {
   "display_name": "Python 3 (ipykernel)",
   "language": "python",
   "name": "python3"
  },
  "language_info": {
   "codemirror_mode": {
    "name": "ipython",
    "version": 3
   },
   "file_extension": ".py",
   "mimetype": "text/x-python",
   "name": "python",
   "nbconvert_exporter": "python",
   "pygments_lexer": "ipython3",
   "version": "3.9.7"
  }
 },
 "nbformat": 4,
 "nbformat_minor": 5
}
