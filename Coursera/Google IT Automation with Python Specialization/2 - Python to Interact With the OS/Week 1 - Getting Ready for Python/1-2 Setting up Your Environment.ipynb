{
 "cells": [
  {
   "cell_type": "markdown",
   "id": "3b88614d-0948-406a-915d-f2e3fb72b275",
   "metadata": {},
   "source": [
    "# Setting up Your Environment"
   ]
  },
  {
   "cell_type": "markdown",
   "id": "9de70cea-ea42-4394-8c55-84eafcc6ad07",
   "metadata": {},
   "source": [
    "**IDE** stands for <font color = magenta>*Integrated Development Environment*</font>, and usually refers to a code editor with some handy extra capabilities that make writing scripts a lot easier. We do most of our programming work in code editors and IDEs. So it's important to find one where you feel most comfortable and productive"
   ]
  },
  {
   "cell_type": "markdown",
   "id": "d74aae90-fd92-4110-b165-f0d262276bf3",
   "metadata": {},
   "source": [
    "After you’ve installed Python and checked that it works, the next step to set up your developer environment is to choose your main code editor.\n",
    "\n",
    "These are some of the common editors for Python, available for all platforms:\n",
    "- [Eclipse](http://www.eclipse.org/)\n",
    "- [PyCharm](https://www.jetbrains.com/pycharm/)\n",
    "- [Sublime Text](http://www.sublimetext.com/)\n",
    "- [Visual Studio Code](https://code.visualstudio.com/)\n",
    "\n",
    "You can read more about these editors, and others, in these overview comparatives:\n",
    "- [Python IDEs and Code Editors (Guide)](https://realpython.com/python-ides-code-editors-guide/#pycharm)\n",
    "- [Best Python IDEs and Code Editors](https://www.softwaretestinghelp.com/python-ide-code-editors/)\n",
    "- [Top 5 Python IDEs for Data Science](https://www.datacamp.com/community/tutorials/data-science-python-ide)\n",
    "\n",
    "We encourage you to try out these editors and pick your favorite. Then, install it on your computer and experiment with writing and executing Python scripts locally."
   ]
  }
 ],
 "metadata": {
  "kernelspec": {
   "display_name": "Python 3 (ipykernel)",
   "language": "python",
   "name": "python3"
  },
  "language_info": {
   "codemirror_mode": {
    "name": "ipython",
    "version": 3
   },
   "file_extension": ".py",
   "mimetype": "text/x-python",
   "name": "python",
   "nbconvert_exporter": "python",
   "pygments_lexer": "ipython3",
   "version": "3.9.7"
  }
 },
 "nbformat": 4,
 "nbformat_minor": 5
}
