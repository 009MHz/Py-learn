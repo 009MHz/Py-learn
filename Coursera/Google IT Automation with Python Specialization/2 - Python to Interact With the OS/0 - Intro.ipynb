{
 "cells": [
  {
   "cell_type": "markdown",
   "id": "1bc4dc6a-ee46-4674-9687-da169c260f68",
   "metadata": {},
   "source": [
    "# Welcome to the Course"
   ]
  },
  {
   "cell_type": "markdown",
   "id": "e90e71a5-d55a-4c06-b5c8-8f3f051a1de7",
   "metadata": {},
   "source": [
    "**Welcome to the course!**\n",
    "In this course, you’ll learn how to use Python to perform system administration tasks and interact with a computer’s operating system. You’re about to embark on an exciting journey to learn one of the most-in-demand job skills in IT today!\n",
    "\n",
    "## Course prerequisites\n",
    "\n",
    "This course builds upon the contents taught in the introduction to Python course:\n",
    "- The basic Python syntax (if, for, while, defining functions, classes, and methods)\n",
    "- How to use the most common data structures (strings, lists, tuples, and dictionaries)\n",
    "- How to import and use additional Python modules\n",
    "\n",
    "This course also requires some familiarity with some basic operating system concepts:\n",
    "\n",
    "- Files, directories, and file systems\n",
    "- Processes\n",
    "- Log files\n",
    "\n",
    "To get the most out of this course, we strongly recommend that you **install software in your machine**, or have your system administrator install it."
   ]
  },
  {
   "cell_type": "markdown",
   "id": "038e60b5-aef0-44af-bf8f-455ea9041fe0",
   "metadata": {},
   "source": [
    "## How to pass the class\n",
    "You can review videos, readings, discussion forums, in-video questions, and practice quizzes in the program for free. However, to access graded assignments and be eligible to receive your official Google IT Support certificate, you must:\n",
    "\n",
    "- Pay the course certificate fee, or apply and be approved for Coursera Financial Aid.\n",
    "\n",
    "AND\n",
    "\n",
    "- Pass all graded assignments in the six courses at the minimum passing level, or above. Each graded assignment in a course is part of a cumulative grade for that course. The passing score for each course is 80%. "
   ]
  },
  {
   "cell_type": "markdown",
   "id": "828139ae-d4b9-4ed9-a595-b53abe0295d7",
   "metadata": {},
   "source": [
    "## How deadlines work\n",
    "When you enroll in the course, the system automatically sets a deadline for when you need to complete each section. Heads up: These deadlines are there to help you organize your time, but you can take the course at your own pace. If you \"miss\" a deadline, you can just reset it to a new date. There’s no time limit in which you have to finish the course, and you can earn the certificate whenever you finish."
   ]
  },
  {
   "cell_type": "markdown",
   "id": "ca92f58e-7da9-47de-a578-e9840a602f4c",
   "metadata": {},
   "source": [
    "### Qwiklabs\n",
    "For some of our exercises, you'll be using an application called Qwiklabs. Qwiklabs lets you interact with a computer running an operating system that might not be the one running on your machine. The Qwiklabs scenarios will allow you to solve some real-world problems, putting your knowledge to work through active learning exercises."
   ]
  },
  {
   "cell_type": "markdown",
   "id": "573847c4-17d8-4f5f-b310-e6fd94c69c58",
   "metadata": {},
   "source": [
    "## Getting and giving help\n",
    "Here are a few ways you can give and get help: \n",
    "\n",
    "1. ***Discussion forums***: You can share information and ideas with your fellow learners in the discussion forums. These are also great places to find answers to questions you may have. If you're stuck on a concept, are struggling to solve a practice exercise, or you just want more information on a subject, the discussion forums are there to help you move forward.\n",
    "2. ***Coursera learner support***: Use the Learner Help Center to find information on specific technical issues. These include error messages, difficulty submitting assignments, or problems with video playback. If you can’t find an answer in the documentation, you can also report your problem to the Coursera support team by clicking on the Contact Us! link available at the bottom of help center articles.\n",
    "3. ***Qwiklabs support***: Please use the Qwiklabs support request form to report any issues with accessing or using Qwiklabs. A member of the Qwiklabs team will work with you to help resolve the problem.\n",
    "4. ***Course content issues***: You can also flag problems in course materials by rating them. When you rate course materials, the instructor will see your ratings and feedback; other learners won’t. To rate course materials:\n",
    "- Open the course material you want to rate. You can only rate videos, readings, and quizzes.\n",
    "- If the content was interesting or helped you learn, click the thumbs-up icon. \n",
    "- If the content was unhelpful or confusing, click the thumbs-down icon.  \n",
    "\n"
   ]
  },
  {
   "cell_type": "markdown",
   "id": "953ca011-dd76-4cbf-8ba5-25104a1f6497",
   "metadata": {},
   "source": [
    "## Finding out more information\n",
    "Throughout this course, we teach you how to do a range of things with Python, Bash, and other tools. While we’ll provide a lot of information through videos and supplemental readings, sometimes, you may need to look things up on your own, now and throughout your career. Things change fast in IT, so it’s critical to do your own research to stay up-to-date on what’s new. We recommend you use your favorite search engine to find more information about concepts we cover in this course — it’s great practice for the real world!\n",
    "\n",
    "On top of search results, here are some good programming resources available online:\n",
    "\n",
    "- [Automate the Boring Stuff with Python](https://automatetheboringstuff.com/): This book (available online and in print) includes a lot of practical programming exercises for beginners. You can refer to this content to read more about some of the things that we'll be discussing, and get inspired with more ideas of things that can be automated.\n",
    "- [Hitchhiker’s Guide to Python](https://docs.python-guide.org/): This site (available online and in print) also covers a lot of what we can do with Python. Again, you can use this resource to learn more about the subjects we cover (and the ones we had to omit for time constraints).\n",
    "- The [official language reference](https://docs.python.org/3/reference/index.html): Once you know what Python tool you'll be using to do a certain task, this technical reference of all Python language components can be a great   "
   ]
  }
 ],
 "metadata": {
  "kernelspec": {
   "display_name": "Python 3 (ipykernel)",
   "language": "python",
   "name": "python3"
  },
  "language_info": {
   "codemirror_mode": {
    "name": "ipython",
    "version": 3
   },
   "file_extension": ".py",
   "mimetype": "text/x-python",
   "name": "python",
   "nbconvert_exporter": "python",
   "pygments_lexer": "ipython3",
   "version": "3.9.7"
  }
 },
 "nbformat": 4,
 "nbformat_minor": 5
}
