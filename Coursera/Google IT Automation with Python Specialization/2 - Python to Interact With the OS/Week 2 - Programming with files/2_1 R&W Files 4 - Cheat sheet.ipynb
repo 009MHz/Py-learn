{
 "cells": [
  {
   "cell_type": "code",
   "execution_count": null,
   "id": "322ee48c-05be-4c87-8605-1bc03288fc3f",
   "metadata": {},
   "outputs": [],
   "source": [
    "open(file, mode='r', buffering=- 1, encoding=None, errors=None, newline=None, closefd=True, opener=None)"
   ]
  },
  {
   "cell_type": "markdown",
   "id": "5626b366-fff1-452d-822a-274527516375",
   "metadata": {},
   "source": [
    "Open *file* and return a corresponding [file object](https://docs.python.org/3/glossary.html#term-file-object). If the file cannot be opened, an OSError is raised. See [Reading and Writing Files](https://docs.python.org/3/tutorial/inputoutput.html#tut-files) for more examples of how to use this function.\n",
    "\n",
    "*file* is a [path-like object](https://docs.python.org/3/glossary.html#term-path-like-object) giving the pathname (absolute or relative to the current working directory) of the file to be opened or an integer file descriptor of the file to be wrapped. (If a file descriptor is given, it is closed when the returned I/O object is closed unless *closefd* is set to `False`.)\n",
    "\n",
    "*mode* is an optional string that specifies the mode in which the file is opened. It defaults to `'r'` which means open for reading in text mode. Other common values are `'w'` for writing (truncating the file if it already exists), `'x'` for exclusive creation, and `'a'` for appending (which on some Unix systems, means that all writes append to the end of the file regardless of the current seek position). In text mode, if encoding is not specified the encoding used is platform-dependent: [locale.getencoding()](https://docs.python.org/3/library/locale.html#locale.getencoding) is called to get the current locale encoding. (For reading and writing raw bytes use binary mode and leave encoding unspecified.) The available modes are:"
   ]
  },
  {
   "cell_type": "raw",
   "id": "553d213e-68a7-4b57-94f3-a433a07808af",
   "metadata": {},
   "source": [
    "+-----------+-----------------------------------------------------------------+\n",
    "| Character |                             Meaning                             |\n",
    "+-----------+-----------------------------------------------------------------+\n",
    "|    'r'    |                    open for reading (default)                   |\n",
    "|    'w'    |           open for writing, truncating the file first           |\n",
    "|    'x'    | open for exclusive creation, failing if the file already exists |\n",
    "|    'a'    |   open for writing, appending to the end of file if it exists   |\n",
    "|    'b'    |                           binary mode                           |\n",
    "|    't'    |                       text mode (default)                       |\n",
    "|    '+'    |             open for updating (reading and writing)             |\n",
    "+-----------+-----------------------------------------------------------------+"
   ]
  },
  {
   "cell_type": "markdown",
   "id": "1cc444c6-4db8-41ae-9ca7-3c21514084dd",
   "metadata": {},
   "source": [
    "The default mode is `'r'` (open for reading text, a synonym of `'rt'`). Modes `'w+'` and `'w+b'` open and truncate the file. Modes `'r+'` and `'r+b'` open the file with no truncation.\n",
    "\n",
    "As mentioned in the [Overview](https://docs.python.org/3/library/io.html#io-overview), Python distinguishes between binary and text I/O. Files opened in binary mode (including 'b' in the mode argument) return contents as [bytes](https://docs.python.org/3/library/stdtypes.html#bytes) objects without any decoding. In text mode (the default, or when `'t'` is included in the *mode* argument), the contents of the file are returned as [`str`](https://docs.python.org/3/library/stdtypes.html#str), the bytes having been first decoded using a platform-dependent encoding or using the specified encoding if given."
   ]
  },
  {
   "cell_type": "markdown",
   "id": "ba7d501b-7b15-47e9-8f1d-949354252e45",
   "metadata": {},
   "source": [
    "**Note** Python doesn’t depend on the underlying operating system’s notion of text files; all the processing is done by Python itself, and is therefore platform-independent.\n"
   ]
  },
  {
   "cell_type": "markdown",
   "id": "35998f5b-df0a-44f9-b09c-fa44ce572ae6",
   "metadata": {},
   "source": [
    "Complete Python guidelines:\n",
    "https://docs.python.org/3/library/functions.html#open"
   ]
  }
 ],
 "metadata": {
  "kernelspec": {
   "display_name": "Python 3 (ipykernel)",
   "language": "python",
   "name": "python3"
  },
  "language_info": {
   "codemirror_mode": {
    "name": "ipython",
    "version": 3
   },
   "file_extension": ".py",
   "mimetype": "text/x-python",
   "name": "python",
   "nbconvert_exporter": "python",
   "pygments_lexer": "ipython3",
   "version": "3.9.7"
  }
 },
 "nbformat": 4,
 "nbformat_minor": 5
}
