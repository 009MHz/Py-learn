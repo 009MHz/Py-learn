{
 "cells": [
  {
   "cell_type": "markdown",
   "id": "3c1e67b9-4708-4c8a-affd-8a6d34482460",
   "metadata": {
    "pycharm": {
     "name": "#%% md\n"
    }
   },
   "source": [
    "# Writing Files using python"
   ]
  },
  {
   "cell_type": "code",
   "execution_count": 1,
   "id": "c1f72f55-5320-446f-9d7c-3f9ebc554faa",
   "metadata": {
    "pycharm": {
     "name": "#%%\n"
    }
   },
   "outputs": [],
   "source": [
    "path = '/Users/ruangguru/Simb-ahh/Py/local/coursera.txt'"
   ]
  },
  {
   "cell_type": "code",
   "execution_count": 5,
   "id": "33ce7877-2266-4c4b-b8b4-53e13bd347af",
   "metadata": {
    "pycharm": {
     "name": "#%%\n"
    }
   },
   "outputs": [],
   "source": [
    "with open(path, 'w') as file:\n",
    "    file.write(\"This text is written from Jupyter Lab MacOS\")"
   ]
  },
  {
   "cell_type": "markdown",
   "id": "88bfe400-9b4c-4641-9bf3-9790aa4f4ab0",
   "metadata": {
    "pycharm": {
     "name": "#%% md\n"
    }
   },
   "source": [
    "## Explanation\n",
    "- we're using the \"with\" block pattern to open a txt file on the passed path\n",
    "- we're using the write method on a file object writes contents to it instead of reading from it\n",
    "\n",
    "The second argument to the open method is new though. So what does the **\"w\"** mean? "
   ]
  },
  {
   "cell_type": "markdown",
   "id": "bb71fc20-ca40-487e-88c9-41fdcc273f0f",
   "metadata": {
    "pycharm": {
     "name": "#%% md\n"
    }
   },
   "source": [
    "File objects can be opened in several different modes. <font color = orange>A ***mode***</font> is similar to a file permission. It governs what you can do with the file you've just opened. By default, the open function uses ***the r mode***, which stands for ***read only***. You get an error if you try to write to a file opened in read only mode. Since read only is the default, we don't have to pass the R as a second argument when we just want to read the file.\n",
    "\n",
    "The <font color = magenta>***w</font> character*** tells the open function that we want to open the file for <font color = orange>*writing only*</font>. <font color = scarlet>**If the file doesn't exist**</font> then Python will create it.  <font color = lime>**If the file does exist**</font>, then its current contents will be ***overwritten*** by whatever we decide to write using our scripts.\n",
    "\n",
    "When opening a file in write only mode, you can't read its contents. If you try to, the interpreter raises an error.\n",
    "\n",
    "By using other modes like **<font color = lime>\"a\"</font>** for <font color = cyan>appending</font> content at the end of an existing file. Or <font color = lime>***\"r+\"***</font> for <font color = cyan>read-write mode</font>, where you can both read contents and overwrite it. This has tripped up a lot of us more than once.\n",
    "\n",
    "If you <font color = scarlet>*open a file for writing and the file already exists*</font>, the old contents will be deleted as soon as the file is opened\n",
    "\n",
    "So remember, double check that you're opening the right file using the right mode"
   ]
  }
 ],
 "metadata": {
  "kernelspec": {
   "display_name": "Python 3 (ipykernel)",
   "language": "python",
   "name": "python3"
  },
  "language_info": {
   "codemirror_mode": {
    "name": "ipython",
    "version": 3
   },
   "file_extension": ".py",
   "mimetype": "text/x-python",
   "name": "python",
   "nbconvert_exporter": "python",
   "pygments_lexer": "ipython3",
   "version": "3.9.7"
  }
 },
 "nbformat": 4,
 "nbformat_minor": 5
}