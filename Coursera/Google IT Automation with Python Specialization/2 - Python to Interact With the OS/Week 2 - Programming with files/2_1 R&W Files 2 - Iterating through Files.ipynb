{
 "cells": [
  {
   "cell_type": "markdown",
   "id": "6bce053a-5662-4497-975c-a1e9076758a6",
   "metadata": {},
   "source": [
    "# Intro\n",
    "file objects can be iterated in the same way as other Python sequences like list or strings. This is really useful when you want to process a file line by line. Say for example you want to make a whole line uppercase before printing it"
   ]
  },
  {
   "cell_type": "code",
   "execution_count": 1,
   "id": "efbc3c88-bbfa-40a0-81a6-e6f5e4212939",
   "metadata": {},
   "outputs": [],
   "source": [
    "path = '/Users/ruangguru/Simb-ahh/Py/local/coursera.txt'"
   ]
  },
  {
   "cell_type": "code",
   "execution_count": 2,
   "id": "5f7c0704-055d-4d88-b651-041cb074ffbc",
   "metadata": {},
   "outputs": [
    {
     "name": "stdout",
     "output_type": "stream",
     "text": [
      "LOREM IPSUM DOLOR SIT AMET, \n",
      "\n",
      "CONSECTETUR ADIPISCING ELIT\n",
      "\n",
      "SED DO EIUSMOD TEMPOR INCIDIDUNT UT LABORE ET DOLORE MAGNA ALIQUA\n",
      "\n",
      "UT ENIM AD MINIM VENIAM, \n",
      "\n",
      "QUIS NOSTRUD EXERCITATION ULLAMCO LABORIS NISI UT \n",
      "\n",
      "ALIQUIP EX EA COMMODO CONSEQUAT.\n"
     ]
    }
   ],
   "source": [
    "with open(path) as file:\n",
    "    for line in file:\n",
    "        print(line.upper())"
   ]
  },
  {
   "cell_type": "markdown",
   "id": "1304330e-4e8d-4eb1-83bd-a085af95a2d4",
   "metadata": {},
   "source": [
    "    Unused new linebreak\n",
    "- What's happening is that the file has a new line character at the end of each line. So when Python reads the file line by line, the line variable will always have a new line character at the end.\n",
    "- In other words, the newline character is not removed when calling read line. When we ask Python to print the line, the print function adds another new line character, creating an empty line\n",
    "\n",
    "To remove the empty lines, We can use a string method, \"<font color = lime>***strip</font>()***\" to remove all surrounding white space, including tabs and new lines."
   ]
  },
  {
   "cell_type": "code",
   "execution_count": 3,
   "id": "5a744152-3b8e-41c9-9f16-e3bb632f8637",
   "metadata": {},
   "outputs": [
    {
     "name": "stdout",
     "output_type": "stream",
     "text": [
      "LOREM IPSUM DOLOR SIT AMET,\n",
      "CONSECTETUR ADIPISCING ELIT\n",
      "SED DO EIUSMOD TEMPOR INCIDIDUNT UT LABORE ET DOLORE MAGNA ALIQUA\n",
      "UT ENIM AD MINIM VENIAM,\n",
      "QUIS NOSTRUD EXERCITATION ULLAMCO LABORIS NISI UT\n",
      "ALIQUIP EX EA COMMODO CONSEQUAT.\n"
     ]
    }
   ],
   "source": [
    "with open(path) as file:\n",
    "    for x in file:\n",
    "        print(x.upper().strip())"
   ]
  },
  {
   "cell_type": "markdown",
   "id": "aadc7c67-4975-44d3-94fb-a392048a95ce",
   "metadata": {},
   "source": [
    "# Converting the file lines into a list\n",
    "Another way we can work with the contents of the file is to read the file lines into a list. Then, we can do something with the lists like ***sort contents*** using list method ***\"<font color = lime>sort</font>()\"***. To do that, we open the file and use the.readlines method"
   ]
  },
  {
   "cell_type": "code",
   "execution_count": 4,
   "id": "2cb5ef0f-805d-405e-8c5a-abc0c827bacd",
   "metadata": {},
   "outputs": [],
   "source": [
    "file = open(path)\n",
    "lines = file.readlines()\n",
    "file.close()"
   ]
  },
  {
   "cell_type": "markdown",
   "id": "088e7f8b-bf69-4ba3-be69-e1d6f1fb8fa0",
   "metadata": {},
   "source": [
    "Even though the file object is now closed, the lines variable has the list of lines in the file, so we can operate on it. For example, let's sort it and print it."
   ]
  },
  {
   "cell_type": "code",
   "execution_count": 6,
   "id": "befce59e-a54b-4f9d-a687-929220848da6",
   "metadata": {},
   "outputs": [
    {
     "name": "stdout",
     "output_type": "stream",
     "text": [
      "['Lorem ipsum dolor sit amet, \\n', 'Ut enim ad minim veniam, \\n', 'aliquip ex ea commodo consequat.', 'consectetur adipiscing elit\\n', 'quis nostrud exercitation ullamco laboris nisi ut \\n', 'sed do eiusmod tempor incididunt ut labore et dolore magna aliqua\\n']\n"
     ]
    }
   ],
   "source": [
    "lines.sort()\n",
    "print(lines)"
   ]
  },
  {
   "cell_type": "code",
   "execution_count": null,
   "id": "7a75b415-2301-44e4-9f88-76418dd8abba",
   "metadata": {},
   "outputs": [],
   "source": []
  }
 ],
 "metadata": {
  "kernelspec": {
   "display_name": "Python 3 (ipykernel)",
   "language": "python",
   "name": "python3"
  },
  "language_info": {
   "codemirror_mode": {
    "name": "ipython",
    "version": 3
   },
   "file_extension": ".py",
   "mimetype": "text/x-python",
   "name": "python",
   "nbconvert_exporter": "python",
   "pygments_lexer": "ipython3",
   "version": "3.9.7"
  }
 },
 "nbformat": 4,
 "nbformat_minor": 5
}
