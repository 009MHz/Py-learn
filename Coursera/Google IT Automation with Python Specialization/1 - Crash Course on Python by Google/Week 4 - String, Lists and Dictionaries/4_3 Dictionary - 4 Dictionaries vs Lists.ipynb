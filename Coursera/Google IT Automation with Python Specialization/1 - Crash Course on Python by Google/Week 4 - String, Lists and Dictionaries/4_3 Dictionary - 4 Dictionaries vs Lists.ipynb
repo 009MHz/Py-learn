{
 "cells": [
  {
   "cell_type": "markdown",
   "id": "af9b4ee4-4239-479a-a9b4-f07d244275d9",
   "metadata": {},
   "source": [
    "***We pick the correct method for different scenario***\n",
    "\n",
    "**List:**\n",
    "- better to use when we have information we'd like to collect\n",
    "- Can store any data types (str, int, float)\n",
    "\n",
    "example: Storing a series of IP addresses for connected users\n",
    "*ip_addresses = ['192.168.1.1', '127.0.0.1', '8.8.4.4']*\n",
    "\n",
    "**Dictionaries:**\n",
    "- better to use if we want storing for a specific elements\n",
    "- can store any data types, but for the keys, it's only accepted specific type\n",
    "\n",
    "Example:\n",
    "*host_addresses = {'router: '192.168.1.1', \"localhost\": '127.0.0.1',\"google\": '8.8.4.4'}*"
   ]
  },
  {
   "cell_type": "markdown",
   "id": "30727aed-4d97-4dd2-8b8f-af24104320ad",
   "metadata": {},
   "source": [
    "Example 1"
   ]
  },
  {
   "cell_type": "raw",
   "id": "272713e0-df6a-440e-9faa-28c722a0a396",
   "metadata": {},
   "source": [
    "In Python, a dictionary can only hold a single value for a given key. To workaround this, our single value can be a list containing multiple values. Here we have a dictionary called \"wardrobe\" with items of clothing and their \n",
    "colors. Fill in the blanks to print a line for each item of clothing with each color, for example: \"red shirt\", \"blue shirt\", and so on."
   ]
  },
  {
   "cell_type": "code",
   "execution_count": 1,
   "id": "3f1d417a-c2da-463f-9795-4847d0026576",
   "metadata": {},
   "outputs": [
    {
     "name": "stdout",
     "output_type": "stream",
     "text": [
      "red shirt\n",
      "blue shirt\n",
      "white shirt\n",
      "blue jeans\n",
      "black jeans\n"
     ]
    }
   ],
   "source": [
    "wardrobe = {\"shirt\": [\"red\", \"blue\", \"white\"], \"jeans\": [\"blue\", \"black\"]}\n",
    "for x in wardrobe:\n",
    "    for y in wardrobe[x]:\n",
    "        print(\"{} {}\".format(y, x))"
   ]
  }
 ],
 "metadata": {
  "kernelspec": {
   "display_name": "Python 3 (ipykernel)",
   "language": "python",
   "name": "python3"
  },
  "language_info": {
   "codemirror_mode": {
    "name": "ipython",
    "version": 3
   },
   "file_extension": ".py",
   "mimetype": "text/x-python",
   "name": "python",
   "nbconvert_exporter": "python",
   "pygments_lexer": "ipython3",
   "version": "3.9.7"
  }
 },
 "nbformat": 4,
 "nbformat_minor": 5
}
