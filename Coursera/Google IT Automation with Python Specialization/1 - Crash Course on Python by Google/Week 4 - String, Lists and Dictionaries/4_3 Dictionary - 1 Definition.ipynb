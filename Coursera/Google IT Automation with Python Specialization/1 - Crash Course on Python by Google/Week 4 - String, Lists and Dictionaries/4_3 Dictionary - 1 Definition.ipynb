{
 "cells": [
  {
   "cell_type": "markdown",
   "id": "e49132aa-2868-4521-9df3-ff03bf11b108",
   "metadata": {},
   "source": [
    "# Definition\n",
    "- Dictionary is used to organize elements into collections\n",
    "- Unlike lists, you don't access elements position inside dictionaries using their position\n",
    "- The data inside dictionaries take the form of pairs of keys and values\n",
    "- To get dictionary value we use its corresponding key\n",
    "- While the list index is must be a number, we can assign any data type into as a keys"
   ]
  },
  {
   "cell_type": "markdown",
   "id": "0b4e4f3f-3729-4df5-934a-b02cb0ed647c",
   "metadata": {},
   "source": [
    "Example 1"
   ]
  },
  {
   "cell_type": "code",
   "execution_count": null,
   "id": "dc0cbdcb-a99c-4d7c-923e-54eb1cf6c1f5",
   "metadata": {},
   "outputs": [],
   "source": [
    "x = {}\n",
    "type(x)  # output: <class 'dict'>\n",
    "file_counts = {'jpg': 10, 'txt': 14, 'csv': 2, \"py\": 23}\n",
    "print(file_counts)  # -> {'jpg': 10, 'txt': 14, 'csv': 2, 'py': 23}"
   ]
  },
  {
   "cell_type": "markdown",
   "id": "6d1b2bec-4bbc-4a7c-85eb-72e480876b60",
   "metadata": {},
   "source": [
    "    case 1"
   ]
  },
  {
   "cell_type": "code",
   "execution_count": null,
   "id": "c8f76ba9-fa19-45b0-abf6-64450c8c0d4d",
   "metadata": {},
   "outputs": [],
   "source": [
    "file_counts['csv']"
   ]
  },
  {
   "cell_type": "markdown",
   "id": "30494597-fb80-4cca-893a-65db136c1550",
   "metadata": {},
   "source": [
    "    Case 2: using the key to check the boolean"
   ]
  },
  {
   "cell_type": "code",
   "execution_count": null,
   "id": "7d4ccb42-c85d-46f6-919c-cb60a5ce04ef",
   "metadata": {},
   "outputs": [],
   "source": [
    "'jpg' in file_counts  # -> True\n",
    "'mkv' in file_counts  # -> False"
   ]
  },
  {
   "cell_type": "raw",
   "id": "d43a07f5-974c-4067-8765-feeafb7a408d",
   "metadata": {},
   "source": [
    "    Case 3: adding new keys & values inside the dictionary"
   ]
  },
  {
   "cell_type": "code",
   "execution_count": null,
   "id": "1456c253-2895-49ed-8eaa-db09ed6661ef",
   "metadata": {},
   "outputs": [],
   "source": [
    "file_counts['cfg'] = 8\n",
    "print(file_counts)  # {'jpg': 10, 'txt': 14, 'csv': 2, 'py': 23, 'cfg': 8}"
   ]
  },
  {
   "cell_type": "markdown",
   "id": "713ee043-36d2-4af6-9a23-cde93684b714",
   "metadata": {},
   "source": [
    "    Case 4: updating new values based on existing key"
   ]
  },
  {
   "cell_type": "code",
   "execution_count": null,
   "id": "c199928e-56c5-4eaf-94ca-0658e1e8234f",
   "metadata": {},
   "outputs": [],
   "source": [
    "file_counts['csv'] = 21\n",
    "print(file_counts)  # {'jpg': 10, 'txt': 14, 'csv': 21, 'py': 23, 'cfg': 8}"
   ]
  },
  {
   "cell_type": "markdown",
   "id": "df61e5de-de16-4da1-afe2-a837ee9ccc1f",
   "metadata": {},
   "source": [
    "    Case 5: Removing the key & its value"
   ]
  },
  {
   "cell_type": "code",
   "execution_count": null,
   "id": "a3960611-32f4-4738-a578-72d81d070a57",
   "metadata": {},
   "outputs": [],
   "source": [
    "del file_counts['cfg']\n",
    "print(file_counts)  # {'jpg': 10, 'txt': 14, 'csv': 21, 'py': 23}"
   ]
  },
  {
   "cell_type": "code",
   "execution_count": null,
   "id": "3dfe253e-2133-4f81-812e-ecb66287b549",
   "metadata": {},
   "outputs": [],
   "source": []
  },
  {
   "cell_type": "markdown",
   "id": "37004efe-99d6-4a2e-b248-51fafb5bab08",
   "metadata": {},
   "source": [
    "Example 2"
   ]
  },
  {
   "cell_type": "raw",
   "id": "2245dec0-4d19-4fd0-b365-ab3ff1486f63",
   "metadata": {},
   "source": [
    "The \"toc\" dictionary represents the table of contents for a book. Fill in the blanks to do the following: \t\n",
    "1) Add an entry for Epilogue on page 39. \t\n",
    "2) Change the page number for Chapter 3 to 24. \t\n",
    "3) Display the new dictionary contents. \t\n",
    "4) Display True if there is Chapter 5, False if there isn't"
   ]
  },
  {
   "cell_type": "code",
   "execution_count": null,
   "id": "0af084bf-b448-43ed-81ea-7616f18d7c2a",
   "metadata": {},
   "outputs": [],
   "source": [
    "toc = {\"Introduction\": 1, \"Chapter 1\": 4, \"Chapter 2\": 11, \"Chapter 3\": 25, \"Chapter 4\": 30}\n",
    "___  # Epilogue starts on page 39\n",
    "___  # Chapter 3 now starts on page 24\n",
    "___  # What are the current contents of the dictionary?\n",
    "___  # Is there a Chapter 5?"
   ]
  }
 ],
 "metadata": {
  "kernelspec": {
   "display_name": "Python 3 (ipykernel)",
   "language": "python",
   "name": "python3"
  },
  "language_info": {
   "codemirror_mode": {
    "name": "ipython",
    "version": 3
   },
   "file_extension": ".py",
   "mimetype": "text/x-python",
   "name": "python",
   "nbconvert_exporter": "python",
   "pygments_lexer": "ipython3",
   "version": "3.9.7"
  }
 },
 "nbformat": 4,
 "nbformat_minor": 5
}
