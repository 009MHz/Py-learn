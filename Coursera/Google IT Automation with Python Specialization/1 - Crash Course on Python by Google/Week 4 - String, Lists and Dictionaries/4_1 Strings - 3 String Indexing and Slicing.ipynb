{
 "cells": [
  {
   "cell_type": "markdown",
   "id": "144f4008-fc9c-4916-ad5c-933f53661859",
   "metadata": {},
   "source": [
    "String indexing allows you to access individual characters in a string. You can do this by using square brackets and the location, or index, of the character you want to access. It's important to remember that Python starts indexes at 0. So to access the first character in a string, you would use the index [0]. If you try to access an index that’s larger than the length of your string, you’ll get an IndexError. This is because you’re trying to access something that doesn't exist! You can also access indexes from the end of the string going towards the start of the string by using negative values. The index [-1] would access the last character of the string, and the index [-2] would access the second-to-last character."
   ]
  },
  {
   "cell_type": "markdown",
   "id": "aa3e4de5-dbf2-44d1-a9d7-b3c0df20e76a",
   "metadata": {},
   "source": [
    "You can also access a portion of a string, called a slice or a substring. This allows you to access multiple characters\n",
    "of a string. You can do this by creating a range, using a colon as a separator between the start and end of the range,\n",
    "like [2:5]."
   ]
  },
  {
   "cell_type": "markdown",
   "id": "7ab51ac9-7bdc-4f13-8430-8b932607c0d1",
   "metadata": {},
   "source": [
    "This range is similar to the range() function we saw previously. It includes the first number, but goes to one less than the last number. For example:"
   ]
  },
  {
   "cell_type": "code",
   "execution_count": 1,
   "id": "d35949e2-9291-4aa5-8368-d6b0d0160aca",
   "metadata": {},
   "outputs": [
    {
     "data": {
      "text/plain": [
       "'ang'"
      ]
     },
     "execution_count": 1,
     "metadata": {},
     "output_type": "execute_result"
    }
   ],
   "source": [
    "fruit = \"Mangosteen\"\n",
    "fruit[1:4]"
   ]
  },
  {
   "cell_type": "markdown",
   "id": "e14503be-4cc3-4978-b6d2-97ee4ffeb1ab",
   "metadata": {},
   "source": [
    "The slice includes the character at index 1, and excludes the character at index 4. You can also easily reference a substring at the start or end of the string by only specifying one end of the range. For example, only giving the end of the range:"
   ]
  },
  {
   "cell_type": "code",
   "execution_count": 2,
   "id": "756bd418-f4de-4dfb-9a3f-ba011fa0c6e9",
   "metadata": {},
   "outputs": [
    {
     "data": {
      "text/plain": [
       "'Mango'"
      ]
     },
     "execution_count": 2,
     "metadata": {},
     "output_type": "execute_result"
    }
   ],
   "source": [
    "fruit[:5]"
   ]
  },
  {
   "cell_type": "markdown",
   "id": "004a9bc8-a2f0-4db6-aecd-fe38caf4114a",
   "metadata": {},
   "source": [
    "This gave us the characters from the start of the string through index 4, excluding index 5. On the other hand this example gives is the characters including index 5, through the end of the string:"
   ]
  },
  {
   "cell_type": "code",
   "execution_count": 3,
   "id": "bb0df709-74cf-49ea-83cd-eefab845c25f",
   "metadata": {},
   "outputs": [
    {
     "data": {
      "text/plain": [
       "'steen'"
      ]
     },
     "execution_count": 3,
     "metadata": {},
     "output_type": "execute_result"
    }
   ],
   "source": [
    "fruit[5:]"
   ]
  },
  {
   "cell_type": "markdown",
   "id": "dceba321-7b2b-45ec-97d5-cecfb7802133",
   "metadata": {},
   "source": [
    "You might have noticed that if you put both of those results together, you get the original string back!"
   ]
  },
  {
   "cell_type": "code",
   "execution_count": 4,
   "id": "2748a9ff-844f-4713-bb41-5e07b430aca3",
   "metadata": {},
   "outputs": [
    {
     "data": {
      "text/plain": [
       "'Mangosteen'"
      ]
     },
     "execution_count": 4,
     "metadata": {},
     "output_type": "execute_result"
    }
   ],
   "source": [
    "fruit[:5] + fruit[5:]"
   ]
  }
 ],
 "metadata": {
  "kernelspec": {
   "display_name": "Python 3 (ipykernel)",
   "language": "python",
   "name": "python3"
  },
  "language_info": {
   "codemirror_mode": {
    "name": "ipython",
    "version": 3
   },
   "file_extension": ".py",
   "mimetype": "text/x-python",
   "name": "python",
   "nbconvert_exporter": "python",
   "pygments_lexer": "ipython3",
   "version": "3.9.7"
  }
 },
 "nbformat": 4,
 "nbformat_minor": 5
}
