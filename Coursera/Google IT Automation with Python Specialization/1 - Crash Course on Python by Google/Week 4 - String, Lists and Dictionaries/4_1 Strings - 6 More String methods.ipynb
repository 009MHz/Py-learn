{
 "cells": [
  {
   "cell_type": "markdown",
   "id": "0dd104ac-ba6b-4ff8-bb6b-c7c527998355",
   "metadata": {},
   "source": [
    "# Using methods on the strings format"
   ]
  },
  {
   "cell_type": "markdown",
   "id": "133fb32d-5105-4d02-a016-7df6632228c9",
   "metadata": {},
   "source": [
    "Changing the format"
   ]
  },
  {
   "cell_type": "code",
   "execution_count": null,
   "id": "e115ffdf-406d-4001-a27b-2fd52030ff5e",
   "metadata": {},
   "outputs": [],
   "source": [
    "lorem = \"LoReM IpsUm DoLoR sIt aMeT\"\n",
    "lorem.lower()   # Converting into the lower case: 'lorem ipsum dolor sit amet'\n",
    "lorem.upper()   # Converting into the CAPSLOCK: 'LOREM IPSUM DOLOR SIT AMET'\n",
    "lorem.title()   # Converting into the titlecase: 'Lorem Ipsum Dolor Sit Amet'"
   ]
  },
  {
   "cell_type": "markdown",
   "id": "97d7e713-5fc5-4292-a19a-c5938d11dad9",
   "metadata": {},
   "source": [
    "Removing the whitespace"
   ]
  },
  {
   "cell_type": "code",
   "execution_count": null,
   "id": "239ad405-73f3-4f5f-8da4-7054b937c0af",
   "metadata": {},
   "outputs": [],
   "source": [
    "lorem = \" LoReM \"\n",
    "lorem.strip()   # Removing all the spaces (including the tabs): 'LoReM'\n",
    "lorem.lstrip()  # Removing all the spaces onm the left: 'LoReM '\n",
    "lorem.rstrip()  # Removing all the spaces onm the right: ' LoReM'"
   ]
  },
  {
   "cell_type": "markdown",
   "id": "664eae24-4459-4f78-a160-5e54772195b8",
   "metadata": {},
   "source": [
    "Count the text"
   ]
  },
  {
   "cell_type": "code",
   "execution_count": null,
   "id": "0045877b-5ef4-42eb-bbd2-3a7f3791380d",
   "metadata": {},
   "outputs": [],
   "source": [
    "lorem = \"LoReM IpsUm DoLoR sIt aMeT\"\n",
    "lorem.count('m')    # Counting 'm' character inside the passed variable: 1\n",
    "lorem.count('r')    # 0\n",
    "lorem.count('R')    # 2\n",
    "lorem.count('IpsUm')    # 1\n",
    "lorem.count('ipsum')    # 0\n",
    "lorem.lower().count('m')  # Counting 'm' character inside the passed variable after converting it into lower case: 3"
   ]
  },
  {
   "cell_type": "markdown",
   "id": "8c304be5-c51c-4187-abd6-3557d2064237",
   "metadata": {},
   "source": [
    "Check the boolean from passed text"
   ]
  },
  {
   "cell_type": "code",
   "execution_count": null,
   "id": "6efcd401-dbf1-4605-b772-e04ed76de955",
   "metadata": {},
   "outputs": [],
   "source": [
    "# methods to check the certain texts\n",
    "fruits = 'Strawberry'\n",
    "fruits.endswith('berry')    # True\n",
    "fruits.endswith('ry')       # True\n",
    "fruits.endswith('apple')    # False\n",
    "fruits.startswith('Str')    # True\n",
    "fruits.startswith('str')    # False"
   ]
  },
  {
   "cell_type": "code",
   "execution_count": null,
   "id": "f3ac90e2-9dfc-4f42-8bc7-0373e129515d",
   "metadata": {},
   "outputs": [],
   "source": [
    "# methods to check numbers\n",
    "fruits.isnumeric()      # Checking the variable is it a number?:False\n",
    "fruits.isalpha()        # Checking the variable is it a text?: True"
   ]
  },
  {
   "cell_type": "markdown",
   "id": "82f9c67f-d1a6-41d8-a7f5-0ef4695f55ba",
   "metadata": {},
   "source": [
    "Concatenate the strings"
   ]
  },
  {
   "cell_type": "code",
   "execution_count": null,
   "id": "19c3fd36-ac3c-4fa3-a6e7-f5a3c5d616e8",
   "metadata": {},
   "outputs": [],
   "source": [
    "lists = [\"Anuku\", \"yess\", '123', 'kan?']\n",
    "\"\".join(lists)      # 'Anukuyess123kan?'\n",
    "\" \".join(lists)     # 'Anuku yess 123 kan?'\n",
    "'...'.join(lists)   # Anuku...yess...123...kan?'"
   ]
  },
  {
   "cell_type": "markdown",
   "id": "9a990594-d43a-4266-965a-c3c34e2a3ac1",
   "metadata": {},
   "source": [
    "Separate the strings into a list"
   ]
  },
  {
   "cell_type": "code",
   "execution_count": 6,
   "id": "4a00ddb9-42ad-454c-9a22-e38e2115575f",
   "metadata": {},
   "outputs": [
    {
     "data": {
      "text/plain": [
       "['Ut',\n",
       " 'enim',\n",
       " 'ad',\n",
       " 'minim',\n",
       " 'veniam,',\n",
       " 'quis',\n",
       " 'nostrud',\n",
       " 'exercitation',\n",
       " 'ullamco',\n",
       " 'laboris']"
      ]
     },
     "execution_count": 6,
     "metadata": {},
     "output_type": "execute_result"
    }
   ],
   "source": [
    "text = 'Ut enim ad minim veniam, quis nostrud exercitation ullamco laboris'\n",
    "text.split()"
   ]
  },
  {
   "cell_type": "markdown",
   "id": "8f99432a-492b-4398-958a-da5fa523bbc0",
   "metadata": {},
   "source": [
    "    Example: Creating the acronyms from passed text"
   ]
  },
  {
   "cell_type": "code",
   "execution_count": 7,
   "id": "fcb015a4-10ee-4ce3-b44d-73a8faf945ee",
   "metadata": {},
   "outputs": [],
   "source": [
    "def initials(phrase):\n",
    "    words = phrase.title()\n",
    "    result = \"\"\n",
    "    for word in words:\n",
    "        if word.isupper() is True:\n",
    "            result += word\n",
    "    return result"
   ]
  },
  {
   "cell_type": "code",
   "execution_count": null,
   "id": "b8b5cf9c-dfbc-4eee-b6ae-0a176067d6cd",
   "metadata": {},
   "outputs": [],
   "source": [
    "print(initials(\"Universal Serial Bus\"))  # Should be: USB\n",
    "print(initials(\"local area network\"))  # Should be: LAN\n",
    "print(initials(\"Operating system\"))  # Should be: OS"
   ]
  }
 ],
 "metadata": {
  "kernelspec": {
   "display_name": "Python 3 (ipykernel)",
   "language": "python",
   "name": "python3"
  },
  "language_info": {
   "codemirror_mode": {
    "name": "ipython",
    "version": 3
   },
   "file_extension": ".py",
   "mimetype": "text/x-python",
   "name": "python",
   "nbconvert_exporter": "python",
   "pygments_lexer": "ipython3",
   "version": "3.9.7"
  }
 },
 "nbformat": 4,
 "nbformat_minor": 5
}
