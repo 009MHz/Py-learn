{
 "cells": [
  {
   "cell_type": "markdown",
   "id": "0af04c9a-fa74-466d-9c52-95252f406ee3",
   "metadata": {},
   "source": [
    "# Question 1\n",
    "The is_palindrome function checks if a string is a palindrome. A palindrome is a string that can be equally read from left to right or right to left, omitting blank spaces, and ignoring capitalization. Examples of palindromes are words like kayak and radar, and phrases like \"Never Odd or Even\". Fill in the blanks in this function to return True if the passed string is a palindrome, False if not"
   ]
  },
  {
   "cell_type": "code",
   "execution_count": null,
   "id": "3175b40d-e28c-4e9f-8681-d20a45442aaa",
   "metadata": {},
   "outputs": [],
   "source": [
    "def is_palindrome(input_string):\n",
    "    # We'll create two strings, to compare them\n",
    "    new_string = \"\"\n",
    "    reverse_string = \"\"\n",
    "    # Traverse through each letter of the input string\n",
    "    for x in input_string:\n",
    "        # Add any non-blank letters to the\n",
    "        # end of one string, and to the front\n",
    "        # of the other string.\n",
    "        if x != \"\":\n",
    "            new_string += x.strip(' ').lower()\n",
    "            reverse_string = new_string[::-1]\n",
    "    # Compare the strings\n",
    "    if new_string == reverse_string:\n",
    "        return True\n",
    "    return False\n",
    "\n",
    "\n",
    "print(is_palindrome(\"Never Odd or Even\"))  # Should be True\n",
    "print(is_palindrome(\"abc\"))  # Should be False\n",
    "print(is_palindrome(\"kayak\"))  # Should be True"
   ]
  },
  {
   "cell_type": "markdown",
   "id": "e96fc900-2feb-45e5-968c-42614f437033",
   "metadata": {},
   "source": [
    "# Question 2 \n",
    "Using the format method, fill in the gaps in the convert_distance function so that it returns the phrase \"X miles equals Y km\", with Y having only 1 decimal place. For example, convert_distance(12) should return \"12 miles equals 19.2 km\"."
   ]
  },
  {
   "cell_type": "code",
   "execution_count": null,
   "id": "4a5fd5aa-e019-469f-ab62-793a26c77be1",
   "metadata": {},
   "outputs": [],
   "source": [
    "def convert_distance(miles):\n",
    "    km = miles * 1.6\n",
    "    result = f\"{miles} miles equals {km:.1f} km\"\n",
    "    return result\n",
    "\n",
    "\n",
    "print(convert_distance(12))  # Should be: 12 miles equals 19.2 km\n",
    "print(convert_distance(5.5))  # Should be: 5.5 miles equals 8.8 km\n",
    "print(convert_distance(11))  # Should be: 11 miles equals 17.6 km"
   ]
  },
  {
   "cell_type": "markdown",
   "id": "81d0e384-7149-487e-9ab5-5a7158860223",
   "metadata": {},
   "source": [
    "# Question 3\n",
    "If we have a string variable named Weather = \"Rainfall\", which of the following will print the substring or all \n",
    "characters before the \"f\"?"
   ]
  },
  {
   "cell_type": "code",
   "execution_count": null,
   "id": "ed3b02a8-e141-4f1b-850f-75200240e57d",
   "metadata": {},
   "outputs": [],
   "source": [
    "    ( ) print(Weather[:4])\n",
    "    ( ) print(Weather[4:])\n",
    "    ( ) print(Weather[1:4])\n",
    "    ( ) print(Weather[:\"f\"])"
   ]
  },
  {
   "cell_type": "markdown",
   "id": "f8fedeed-f640-472c-86e0-96529c039ca4",
   "metadata": {},
   "source": [
    "# Question 4 \n",
    "Fill in the gaps in the nametag function so that it uses the format method to return first_name and the first initial of last_name followed by a period. For example, nametag(\"Jane\", \"Smith\") should return 'Jane S.'"
   ]
  },
  {
   "cell_type": "code",
   "execution_count": null,
   "id": "aa65806a-10ce-4fd3-b6cf-438839896717",
   "metadata": {},
   "outputs": [],
   "source": [
    "def nametag(first_name, last_name):\n",
    "    return f\"{first_name} {last_name[0]}.\"\n",
    "\n",
    "\n",
    "print(nametag(\"Jane\", \"Smith\"))\n",
    "# Should display \"Jane S.\"\n",
    "print(nametag(\"Francesco\", \"Rinaldi\"))\n",
    "# Should display \"Francesco R.\"\n",
    "print(nametag(\"Jean-Luc\", \"Grand-Pierre\"))\n",
    "# Should display \"Jean-Luc G.\""
   ]
  },
  {
   "cell_type": "markdown",
   "id": "e4bde2de-14af-442a-99e3-ee1f397cdbef",
   "metadata": {},
   "source": [
    "# Question 5\n",
    "The replace_ending function replaces the old string in a sentence with the new string, but only if the sentence ends with the old string. If there is more than one occurrence of the old string in the sentence, only the one at the  end is replaced, not all of them. For example, replace_ending(\"abcabc\", \"abc\", \"xyz\") should return abcxyz, not xyzxyz or xyzabc. The string comparison is case-sensitive, so replace_ending(\"abcabc\", \"ABC\", \"xyz\") should return abcabc (no changes made)."
   ]
  },
  {
   "cell_type": "code",
   "execution_count": null,
   "id": "25432285-a6a7-49c0-b910-6ecaf7978a92",
   "metadata": {},
   "outputs": [],
   "source": [
    "def replace_ending(sentence, old, new):\n",
    "    # Check if the old string is at the end of the sentence\n",
    "    if ___:\n",
    "        # Using i as the slicing index, combine the part\n",
    "        # of the sentence up to the matched string at the\n",
    "        # end with the new string\n",
    "        i = ___\n",
    "        new_sentence = ___\n",
    "        return new_sentence\n",
    "\n",
    "    # Return the original sentence if there is no match\n",
    "    return sentence\n",
    "\n",
    "\n",
    "print(replace_ending(\"It's raining cats and cats\", \"cats\", \"dogs\"))\n",
    "# Should display \"It's raining cats and dogs\"\n",
    "print(replace_ending(\"She sells seashells by the seashore\", \"seashells\", \"donuts\"))\n",
    "# Should display \"She sells seashells by the seashore\"\n",
    "print(replace_ending(\"The weather is nice in May\", \"may\", \"april\"))\n",
    "# Should display \"The weather is nice in May\"\n",
    "print(replace_ending(\"The weather is nice in May\", \"May\", \"April\"))\n",
    "# Should display \"The weather is nice in April\""
   ]
  }
 ],
 "metadata": {
  "kernelspec": {
   "display_name": "Python 3 (ipykernel)",
   "language": "python",
   "name": "python3"
  },
  "language_info": {
   "codemirror_mode": {
    "name": "ipython",
    "version": 3
   },
   "file_extension": ".py",
   "mimetype": "text/x-python",
   "name": "python",
   "nbconvert_exporter": "python",
   "pygments_lexer": "ipython3",
   "version": "3.9.7"
  }
 },
 "nbformat": 4,
 "nbformat_minor": 5
}
