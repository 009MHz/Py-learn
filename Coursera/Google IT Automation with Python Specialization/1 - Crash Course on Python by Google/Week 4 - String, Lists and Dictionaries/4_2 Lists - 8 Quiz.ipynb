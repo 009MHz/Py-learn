{
 "cells": [
  {
   "cell_type": "markdown",
   "id": "35bf9a88-434f-4d86-b0f0-b7ba3e0e42f1",
   "metadata": {},
   "source": [
    "# Question 1\n",
    "Given a list of filenames, we want to rename all the files with extension hpp to the extension h. To do this, we would like to generate a new list called newfilenames, consisting of the new filenames. Fill in the blanks in the code using any of the methods you’ve learned thus far, like a for loop or a list comprehension."
   ]
  },
  {
   "cell_type": "code",
   "execution_count": null,
   "id": "560750b2-aa71-4080-b1d9-6b89f2b7ab94",
   "metadata": {},
   "outputs": [],
   "source": [
    "filenames = [\"program.c\", \"stdio.hpp\", \"sample.hpp\", \"a.out\", \"math.hpp\", \"hpp.out\"]\n",
    "# Generate newfilenames as a list containing the new filenames\n",
    "# using as many lines of code as your chosen method requires.\n",
    "newfilenames = []\n",
    "for x in filenames:\n",
    "    if '.hpp' in x:\n",
    "        x = x.replace('hpp','h')\n",
    "        newfilenames.append(x)\n",
    "    else:\n",
    "        newfilenames.append(x)\n",
    "\n",
    "print(newfilenames) \n",
    "# Should be [\"program.c\", \"stdio.h\", \"sample.h\", \"a.out\", \"math.h\", \"hpp.out\"]"
   ]
  },
  {
   "cell_type": "markdown",
   "id": "0f947360-efb6-41b8-8334-fe878af81afa",
   "metadata": {},
   "source": [
    "# Question 2\n",
    "Let's create a function that turns text into pig latin: a simple text transformation that modifies each word moving the first character to the end and appending \"ay\" to the end. For example, python ends up as ythonpay."
   ]
  },
  {
   "cell_type": "code",
   "execution_count": null,
   "id": "d2a8b355-6d57-4a4d-a200-3b60b81096ce",
   "metadata": {},
   "outputs": [],
   "source": [
    "def pig_latin(text):\n",
    "  say = \"\"\n",
    "  piggy = []\n",
    "  # Separate the text into words\n",
    "  words = text.split()\n",
    "  for word in words:\n",
    "    # Create the pig latin word and add it to the list\n",
    "    word = word[1:] + word[0] + 'ay'\n",
    "    # Turn the list back into a phrase\n",
    "    piggy.append(word)\n",
    "    say = ' '.join(piggy)\n",
    "  return say\n",
    "\t\t\n",
    "print(pig_latin(\"hello how are you\")) # Should be \"ellohay owhay reaay ouyay\"\n",
    "print(pig_latin(\"programming in python is fun\")) # Should be \"rogrammingpay niay ythonpay siay unfay\""
   ]
  },
  {
   "cell_type": "markdown",
   "id": "40b55fea-b311-42f2-b98d-c73a7ed705a9",
   "metadata": {},
   "source": [
    "# Question 3\n",
    "The permissions of a file in a Linux system are split into three sets of three permissions: read, write, and execute for the owner, group, and others. Each of the three values can be expressed as an octal number summing each permission, with 4 corresponding to read, 2 to write, and 1 to execute. Or it can be written with a string using the letters r, w, and x or - when the permission is not granted.\n",
    "For example: \n",
    "- 640 is read/write for the owner, read for the group, and no permissions for the others; converted to a string, it would be: \"rw-r-----\"\n",
    "- 755 is read/write/execute for the owner, and read/execute for group and others; converted to a string, it would be: \"rwxr-xr-x\"\n",
    "\n",
    "Fill in the blanks to make the code convert a permission in octal format into a string format."
   ]
  },
  {
   "cell_type": "code",
   "execution_count": null,
   "id": "66f0b843-6192-4e3c-9822-784ad2bb9d34",
   "metadata": {},
   "outputs": [],
   "source": [
    "def octal_to_string(octal):\n",
    "    result = \"\"\n",
    "    value_letters = [(4,\"r\"),(2,\"w\"),(1,\"x\")]\n",
    "    # Iterate over each of the digits in octal\n",
    "    for n in [int(n) for n in str(octal)]:\n",
    "        # Check for each of the permissions values\n",
    "        for value, letter in value_letters:\n",
    "            if n >= value:\n",
    "                result += letter\n",
    "                n -= value\n",
    "            else:\n",
    "                result += '-'\n",
    "    return result\n",
    "    \n",
    "print(octal_to_string(755)) # Should be rwxr-xr-x\n",
    "print(octal_to_string(644)) # Should be rw-r--r--\n",
    "print(octal_to_string(750)) # Should be rwxr-x---\n",
    "print(octal_to_string(600)) # Should be rw-------"
   ]
  },
  {
   "cell_type": "markdown",
   "id": "6c79e086-b55a-498a-8a20-92186808a385",
   "metadata": {},
   "source": [
    "# Question 4\n",
    "Tuples and lists are very similar types of sequences. What is the main thing that makes a tuple different from a list?"
   ]
  },
  {
   "cell_type": "markdown",
   "id": "da65ff7d-764c-478c-9586-07459a994371",
   "metadata": {},
   "source": [
    "- [ ] A tuple is mutable\n",
    "- [ ] A tuple contains only numeric characters\n",
    "- [ ] A tuple is immutable\n",
    "- [ ] A tuple can contain only one type of data at a time"
   ]
  },
  {
   "cell_type": "markdown",
   "id": "db4a0cd8-6de7-43c1-ab8d-8c19ccec9615",
   "metadata": {},
   "source": [
    "# Question 5\n",
    "The group_list function accepts a group name and a list of members, and returns a string with the format: group_name: member1, member2, … For example, group_list(\"g\", [\"a\",\"b\",\"c\"]) returns \"g: a, b, c\". Fill in the gaps in this function to do that."
   ]
  },
  {
   "cell_type": "code",
   "execution_count": null,
   "id": "2134aa17-885c-4007-b77f-863f80d87b7a",
   "metadata": {},
   "outputs": [],
   "source": [
    "def group_list(group, users):\n",
    "    members = \", \".join(users)\n",
    "    return f'{group}: {members}'\n",
    "\n",
    "print(group_list(\"Marketing\", [\"Mike\", \"Karen\", \"Jake\", \"Tasha\"])) # Should be \"Marketing: Mike, Karen, Jake, Tasha\"\n",
    "print(group_list(\"Engineering\", [\"Kim\", \"Jay\", \"Tom\"])) # Should be \"Engineering: Kim, Jay, Tom\"\n",
    "print(group_list(\"Users\", \"\")) # Should be \"Users:\""
   ]
  },
  {
   "cell_type": "markdown",
   "id": "b53668d8-9a01-4188-8651-91ed3d5b329f",
   "metadata": {},
   "source": [
    "# Question 6\n",
    "The guest_list function reads in a list of tuples with the name, age, and profession of each party guest, and prints the sentence \"Guest is X years old and works as __.\" for each one. For example, guest_list(('Ken', 30, \"Chef\"), (\"Pat\", 35, 'Lawyer'), ('Amanda', 25, \"Engineer\")) should print out: Ken is 30 years old and works as Chef. Pat is 35 years old and works as Lawyer. Amanda is 25 years old and works as Engineer. Fill in the gaps in this function to do that."
   ]
  },
  {
   "cell_type": "code",
   "execution_count": null,
   "id": "a404134f-153f-4433-9919-610faf1f07ce",
   "metadata": {},
   "outputs": [],
   "source": [
    "def guest_list(guests):\n",
    "\tfor name, age, job in guests:\n",
    "\t\tprint('{} is {} years old and works as {}.'.format(name, age, job))\n",
    "\n",
    "guest_list([('Ken', 30, \"Chef\"), (\"Pat\", 35, 'Lawyer'), ('Amanda', 25, \"Engineer\")])\n",
    "\n",
    "#Click Run to submit code\n",
    "\"\"\"\n",
    "Output should match:\n",
    "Ken is 30 years old and works as Chef\n",
    "Pat is 35 years old and works as Lawyer\n",
    "Amanda is 25 years old and works as Engineer\n",
    "\"\"\""
   ]
  }
 ],
 "metadata": {
  "kernelspec": {
   "display_name": "Python 3 (ipykernel)",
   "language": "python",
   "name": "python3"
  },
  "language_info": {
   "codemirror_mode": {
    "name": "ipython",
    "version": 3
   },
   "file_extension": ".py",
   "mimetype": "text/x-python",
   "name": "python",
   "nbconvert_exporter": "python",
   "pygments_lexer": "ipython3",
   "version": "3.9.7"
  }
 },
 "nbformat": 4,
 "nbformat_minor": 5
}
