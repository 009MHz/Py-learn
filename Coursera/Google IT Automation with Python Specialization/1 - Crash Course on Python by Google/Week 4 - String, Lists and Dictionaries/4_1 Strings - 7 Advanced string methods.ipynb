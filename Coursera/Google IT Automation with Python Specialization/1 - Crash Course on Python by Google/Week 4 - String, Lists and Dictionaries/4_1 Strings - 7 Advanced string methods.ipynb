{
 "cells": [
  {
   "cell_type": "markdown",
   "id": "64fe04ba-3492-47a0-aec4-1bc9ae91deaf",
   "metadata": {},
   "source": [
    "The string method lower will return the string with all characters changed to lowercase. The inverse of this is the upper method, which will return the string all in uppercase. Just like with previous methods, we call these on a string using dot notation, like \"this is a string\".upper(). This would return the string \"THIS IS A STRING\". This can be super handy when checking user input, since someone might type in all lowercase, all uppercase, or even a mixture of cases."
   ]
  },
  {
   "cell_type": "markdown",
   "id": "102c2c19-7ee5-4308-b6cb-7c7c29cb80c8",
   "metadata": {},
   "source": [
    "You can use the strip method to remove surrounding whitespace from a string. Whitespace includes spaces, tabs, and newline characters. You can also use the methods  lstrip and rstrip to remove whitespace only from the left or the right side of the string, respectively."
   ]
  },
  {
   "cell_type": "markdown",
   "id": "e5d1300b-6e0e-41ae-b7a7-7282e989df7b",
   "metadata": {},
   "source": [
    "The method count can be used to return the number of times a substring appears in a string. This can be handy for finding out how many characters appear in a string, or counting the number of times a certain word appears in a sentence or paragraph."
   ]
  },
  {
   "cell_type": "markdown",
   "id": "3b254cb6-3724-485f-9ebc-3c2728ee2552",
   "metadata": {},
   "source": [
    "If you wanted to check if a string ends with a given substring, you can use the method endswith. This will return True if the substring is found at the end of the string, and False if not."
   ]
  },
  {
   "cell_type": "markdown",
   "id": "9ce3580d-bb7c-4c11-b48e-8b1790ffbe3b",
   "metadata": {},
   "source": [
    "The isnumeric method can check if a string is composed of only numbers. If the string contains only numbers, this method will return True. We can use this to check if a string contains numbers before passing the string to the int() function to convert it to an integer, avoiding an error. Useful!"
   ]
  },
  {
   "cell_type": "markdown",
   "id": "5fbc37f5-6575-445c-93d8-d7cf5b7bc297",
   "metadata": {},
   "source": [
    "We took a look at string concatenation using the plus sign, earlier. We can also use the join method to concatenate strings. This method is called on a string that will be used to join a list of strings. The method takes a list of\n",
    "strings to be joined as a parameter, and returns a new string composed of each of the strings from our list joined using the initial string. For example, \" \".join([\"This\",\"is\",\"a\",\"sentence\"]) would return the string\n",
    "\"This is a sentence\"."
   ]
  },
  {
   "cell_type": "markdown",
   "id": "a7f31e46-948b-42a1-94ac-23c68dc9d60b",
   "metadata": {},
   "source": [
    "The inverse of the join method is the split method. This allows us to split a string into a list of strings. By default, it splits by any whitespace characters. You can also split by any other characters by passing a parameter."
   ]
  }
 ],
 "metadata": {
  "kernelspec": {
   "display_name": "Python 3 (ipykernel)",
   "language": "python",
   "name": "python3"
  },
  "language_info": {
   "codemirror_mode": {
    "name": "ipython",
    "version": 3
   },
   "file_extension": ".py",
   "mimetype": "text/x-python",
   "name": "python",
   "nbconvert_exporter": "python",
   "pygments_lexer": "ipython3",
   "version": "3.9.7"
  }
 },
 "nbformat": 4,
 "nbformat_minor": 5
}
