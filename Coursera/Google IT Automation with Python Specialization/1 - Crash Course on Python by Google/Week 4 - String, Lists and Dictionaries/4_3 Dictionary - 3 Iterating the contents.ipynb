{
 "cells": [
  {
   "cell_type": "markdown",
   "id": "122b97c2-ffd0-4638-b8e9-ec97f21cafc1",
   "metadata": {},
   "source": [
    "Example 1"
   ]
  },
  {
   "cell_type": "code",
   "execution_count": null,
   "id": "b52dd8ef-4b7c-463e-9883-d136ebeffb6e",
   "metadata": {},
   "outputs": [],
   "source": [
    "file = {'jpg': 10, 'txt': 21, 'py': 34, 'csv': 2}\n",
    "# iterating the specific elements (keys only, or values only)\n",
    "file.keys()  # dict_keys(['jpg', 'txt', 'py', 'csv'])\n",
    "file.values()  # dict_values([10, 21, 34, 2])"
   ]
  },
  {
   "cell_type": "markdown",
   "id": "a3c8211e-4e8c-4346-9db8-3b8c5852613e",
   "metadata": {},
   "source": [
    "    Case 1 iterating the keys"
   ]
  },
  {
   "cell_type": "code",
   "execution_count": null,
   "id": "44a8c4fe-2c6e-44fc-ac1d-1c4c05de7a76",
   "metadata": {},
   "outputs": [],
   "source": [
    "print(\"Case 1 iterating the keys, method 1\")\n",
    "for x in file:\n",
    "    print(x)  # jpg, txt, py, csv\n",
    "print(\"\\nCase 1 iterating the keys, method 2\")\n",
    "for x in file.keys():\n",
    "    print(x)"
   ]
  },
  {
   "cell_type": "markdown",
   "id": "e89f38fb-3b2d-4066-85aa-c0e48a8a212b",
   "metadata": {},
   "source": [
    "    Case 2 iterating the values"
   ]
  },
  {
   "cell_type": "code",
   "execution_count": null,
   "id": "533bce83-618a-4f76-b183-41b922b0c44b",
   "metadata": {},
   "outputs": [],
   "source": [
    "for x in file.values():\n",
    "    print(x)"
   ]
  },
  {
   "cell_type": "markdown",
   "id": "ef72e037-483d-4f09-a4fd-0633b7de5245",
   "metadata": {},
   "source": [
    "    Case 3 iterating the elements as a tuple"
   ]
  },
  {
   "cell_type": "code",
   "execution_count": null,
   "id": "be61a50b-8a5a-4586-a620-6900fc25c48b",
   "metadata": {},
   "outputs": [],
   "source": [
    "for tipe, amount in file.items():\n",
    "    print(f\"extension: {tipe}, number: {amount}\")"
   ]
  },
  {
   "cell_type": "code",
   "execution_count": null,
   "id": "34673d76-db1d-40ea-8bf7-f29ee28b1ab3",
   "metadata": {
    "tags": []
   },
   "outputs": [],
   "source": []
  },
  {
   "cell_type": "markdown",
   "id": "49ece69d-6b0d-4a87-b4f1-6cf9887381ab",
   "metadata": {},
   "source": [
    "Example 2: letters count function"
   ]
  },
  {
   "cell_type": "code",
   "execution_count": null,
   "id": "dac66208-e295-44ff-941b-992aa423f8c4",
   "metadata": {},
   "outputs": [],
   "source": [
    "def count_letters(text):\n",
    "    # initialize the holder (empty dictionary)\n",
    "    result = {}\n",
    "    # iterating the given parameter\n",
    "    for letter in text:\n",
    "        # adding the iterated text when it's not added to the holder\n",
    "        if letter not in result:\n",
    "            result[letter] = 0\n",
    "        # adding the amount when the given letter is exist\n",
    "        result[letter] += 1\n",
    "    return result\n",
    "\n",
    "\n",
    "print(count_letters(\"aaaaaaarghh\"))  # {'a': 7, 'r': 1, 'g': 1, 'h': 2}\n",
    "print(count_letters(\"Lorem Ipsum dot amet dolor\"))\n",
    "# {'L': 1, 'o': 4, 'r': 2, 'e': 2, 'm': 3, ' ': 4, 'I': 1, 'p': 1, 's': 1, 'u': 1, 'd': 2, 't': 2, 'a': 1, 'l': 1}"
   ]
  },
  {
   "cell_type": "markdown",
   "id": "6c3c536c-8e11-4380-a470-ff61bce41d36",
   "metadata": {},
   "source": [
    "# Real Situation concept\n",
    "Analyzing logs in the server & counting the errors that occurs \n",
    "1. Using the type of error as the key\n",
    "2. Increment the associated value each time the same error occurs\n",
    "3. Exporting the result as a log or simply printout the summary"
   ]
  }
 ],
 "metadata": {
  "kernelspec": {
   "display_name": "Python 3 (ipykernel)",
   "language": "python",
   "name": "python3"
  },
  "language_info": {
   "codemirror_mode": {
    "name": "ipython",
    "version": 3
   },
   "file_extension": ".py",
   "mimetype": "text/x-python",
   "name": "python",
   "nbconvert_exporter": "python",
   "pygments_lexer": "ipython3",
   "version": "3.9.7"
  }
 },
 "nbformat": 4,
 "nbformat_minor": 5
}
