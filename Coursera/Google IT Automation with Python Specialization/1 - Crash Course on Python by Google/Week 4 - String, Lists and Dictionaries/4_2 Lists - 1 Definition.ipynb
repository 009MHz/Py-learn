{
 "cells": [
  {
   "cell_type": "markdown",
   "id": "aa2d6b59-2c1c-4d8d-bbc0-03f8a6ba05bf",
   "metadata": {},
   "source": [
    "# What is list?\n",
    "- Data types that contain a multiple values\n",
    "- The values are separated by commas\n",
    "- Using square brackets [] to define this data types"
   ]
  },
  {
   "cell_type": "code",
   "execution_count": null,
   "id": "b7afc933-5765-42ab-9279-24a4c4b259cc",
   "metadata": {},
   "outputs": [],
   "source": [
    "x = ['this', 'is', 'the', 'data', 'type', 'that', 'called', 'lists']\n",
    "type(x)  # -> <class 'list'>\n",
    "print(x)  # -> ['this', 'is', 'the', 'data', 'type', 'that', 'called', 'lists']\n",
    "len(x)  # -> 8\n",
    "'is' in x  # -> True\n",
    "'hello' in x  # -> False\n",
    "print(x[0])  # this\n",
    "print(x[-1])  # lists\n",
    "print(x[1:4])  # ['is', 'the', 'data']\n",
    "print(x[1:4:2])  # ['is', 'data']\n",
    "print(x[:4])  # ['this', 'is', 'the', 'data']\n",
    "print(x[:4:2])  # ['this', 'the']\n",
    "print(x[5:])  # ['that', 'called', 'lists']\n",
    "print(x[::-1])  # ['lists', 'called', 'that', 'type', 'data', 'the', 'is', 'this']"
   ]
  },
  {
   "cell_type": "markdown",
   "id": "ee6dc3de-36bb-48b7-a885-744acc02d0ec",
   "metadata": {},
   "source": [
    "Example 1"
   ]
  },
  {
   "cell_type": "raw",
   "id": "5dc30929-b1e5-4ff9-b470-27a42a28b7b7",
   "metadata": {},
   "source": [
    "Using the \"split\" string method from the preceding lesson, complete the get_word function to return the {n}th word from a passed sentence. \n",
    "For example, get_word(\"This is a lesson about lists\", 4) should return \"lesson\", which is the 4th word in this sentence. Hint: remember that list indexes start at 0, not 1"
   ]
  },
  {
   "cell_type": "code",
   "execution_count": null,
   "id": "16c49198-7549-4fc8-a296-fc29f424cd05",
   "metadata": {},
   "outputs": [],
   "source": [
    "def get_word(sentence, n):\n",
    "    # Only proceed if n is positive\n",
    "    if n > 0:\n",
    "        words = sentence.split()\n",
    "        # Only proceed if n is not more than the number of words\n",
    "        if n <= len(words):\n",
    "            return words[n - 1]\n",
    "    return \"\"\n",
    "\n",
    "\n",
    "print(get_word(\"This is a lesson about lists\", 4))  # Should print: lesson\n",
    "print(get_word(\"This is a lesson about lists\", -4))  # Nothing\n",
    "print(get_word(\"Now we are cooking!\", 1))  # Should print: Now\n",
    "print(get_word(\"Now we are cooking!\", 5))  # Nothing"
   ]
  },
  {
   "cell_type": "markdown",
   "id": "952ade8b-5517-4e12-a070-eb8ec9f0a174",
   "metadata": {},
   "source": [
    "String and lists are quite similar since both of them are example of Sequences. On the sequences data we can executing these methods\n",
    "- Iterating it: for loops\n",
    "- slicing / indexing : list[position]\n",
    "- calculate the value summaries: using len()\n",
    "- concatenate the sequence: list1 + list 2\n",
    "- verifying the sequence elements using 'in'"
   ]
  }
 ],
 "metadata": {
  "kernelspec": {
   "display_name": "Python 3 (ipykernel)",
   "language": "python",
   "name": "python3"
  },
  "language_info": {
   "codemirror_mode": {
    "name": "ipython",
    "version": 3
   },
   "file_extension": ".py",
   "mimetype": "text/x-python",
   "name": "python",
   "nbconvert_exporter": "python",
   "pygments_lexer": "ipython3",
   "version": "3.9.7"
  }
 },
 "nbformat": 4,
 "nbformat_minor": 5
}
