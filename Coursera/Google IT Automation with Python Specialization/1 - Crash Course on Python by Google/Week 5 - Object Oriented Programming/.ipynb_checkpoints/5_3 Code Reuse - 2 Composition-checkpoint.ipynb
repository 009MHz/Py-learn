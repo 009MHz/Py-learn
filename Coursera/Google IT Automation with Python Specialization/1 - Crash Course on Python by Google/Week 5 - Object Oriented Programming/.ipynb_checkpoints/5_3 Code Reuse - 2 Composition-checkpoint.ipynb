{
 "cells": [
  {
   "cell_type": "markdown",
   "id": "3f1c82b4-729c-4c44-9bac-7440e5667893",
   "metadata": {},
   "source": [
    "You can have a situation where two different classes are related, but there is no inheritance going on. This is referred to as composition -- where one class makes use of code contained in another class."
   ]
  },
  {
   "cell_type": "markdown",
   "id": "2059ad65-1a35-4c9e-bd86-ec5d3ec68e50",
   "metadata": {},
   "source": [
    "# Real World Concept\n",
    "- imagine we have a Package class which represents a software package.\n",
    "- It contains attributes about the software package like name, version, and size.\n",
    "- We also have a Repository class which represents all the packages available for installation.\n",
    "- While there’s no inheritance relationship between the two classes, they are related.\n",
    "- The Repository class will contain a dictionary or list of Packages that are contained in the repository."
   ]
  },
  {
   "cell_type": "markdown",
   "id": "a74d5a5a-0b83-4032-8b40-0fa2121ca3ac",
   "metadata": {},
   "source": [
    "Example 1: Repository of files"
   ]
  },
  {
   "cell_type": "code",
   "execution_count": null,
   "id": "9aca7e7a-a53e-4e4d-96b0-3c978824545e",
   "metadata": {},
   "outputs": [],
   "source": [
    "class Repository:\n",
    "    def __init__(self):\n",
    "        # CAUTION: always initialize mutable attributes in the constructor\n",
    "        self.packages = {}  # dictionary to hold the package object\n",
    "\n",
    "    def add_package(self, package):\n",
    "        \"\"\"adding the object as the parameter\"\"\"\n",
    "        \"\"\"assign the package name attributes as the key\"\"\"\n",
    "        self.packages[package.name] = package\n",
    "\n",
    "    def total_size(self):\n",
    "        result = 0\n",
    "        \"\"\"iterating through the package content (dictionary values)\"\"\"\n",
    "        for package in self.packages.values():\n",
    "            \"\"\"adding the values size into calculated result\"\"\"\n",
    "            result += package.size\n",
    "        return result"
   ]
  },
  {
   "cell_type": "markdown",
   "id": "90f665af-fccf-473a-b98f-0511ed46e4bd",
   "metadata": {},
   "source": [
    "# EXPLANATION\n",
    "In the constructor method, we initialize the packages dictionary, which will contain the package objects available in this repository instance. We initialize the dictionary in the constructor to ensure that every instance of the Repository class has its own dictionary. \n",
    "\n",
    "We then define the add_package method, which takes a Package object as a parameter, and then adds it to our dictionary, using the package name attribute as the key. \n",
    "\n",
    "Finally, we define a total_size method which computes the total size of all packages contained in our repository. This method iterates through the values in our repository dictionary and adds together the size attributes from each \n",
    "package object contained in the dictionary, returning the total at the end. In this example, we’re making use of Package attributes within our Repository class. We’re also calling the values() method on our packages dictionary instance. Composition allows us to use objects as attributes, as well as access all their attributes and methods."
   ]
  },
  {
   "cell_type": "markdown",
   "id": "59263ee5-c944-4b9e-bcbc-9ab48da701c1",
   "metadata": {},
   "source": [
    "Example 2: Clothing class and accessing the composition"
   ]
  },
  {
   "cell_type": "code",
   "execution_count": null,
   "id": "82b49612-a946-4eca-afe2-56be3a426e49",
   "metadata": {},
   "outputs": [],
   "source": [
    "class Clothing:\n",
    "    stock = {'name': [], 'material': [], 'amount': []}\n",
    "\n",
    "    def __init__(self, name):\n",
    "        material = \"\"\n",
    "        self.name = name\n",
    "\n",
    "    def add_item(self, name, material, amount):\n",
    "        Clothing.stock['name'].append(self.name)\n",
    "        Clothing.stock['material'].append(self.material)\n",
    "        Clothing.stock['amount'].append(amount)\n",
    "\n",
    "    def Stock_by_Material(self, material):\n",
    "        count = 0\n",
    "        n = 0\n",
    "        for item in Clothing.stock['material']:\n",
    "            if item == material:\n",
    "                count += Clothing.stock['amount'][n]\n",
    "                n += 1\n",
    "        return count"
   ]
  },
  {
   "cell_type": "code",
   "execution_count": null,
   "id": "815df2d2-610a-47d5-85d6-a3085f2b5ca5",
   "metadata": {},
   "outputs": [],
   "source": [
    "class shirt(Clothing):\n",
    "    material = \"Cotton\"\n",
    "\n",
    "class pants(Clothing):\n",
    "    material = \"Cotton\"\n",
    "\n",
    "polo = shirt(\"Polo\")\n",
    "sweatpants = pants(\"Sweatpants\")\n",
    "polo.add_item(polo.name, polo.material, 4)\n",
    "sweatpants.add_item(sweatpants.name, sweatpants.material, 6)\n",
    "current_stock = polo.Stock_by_Material(\"Cotton\")\n",
    "print(current_stock)  # should return 10, since polo & sweatpants using cotton material"
   ]
  }
 ],
 "metadata": {
  "kernelspec": {
   "display_name": "Python 3 (ipykernel)",
   "language": "python",
   "name": "python3"
  },
  "language_info": {
   "codemirror_mode": {
    "name": "ipython",
    "version": 3
   },
   "file_extension": ".py",
   "mimetype": "text/x-python",
   "name": "python",
   "nbconvert_exporter": "python",
   "pygments_lexer": "ipython3",
   "version": "3.9.7"
  }
 },
 "nbformat": 4,
 "nbformat_minor": 5
}
