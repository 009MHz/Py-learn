{
 "cells": [
  {
   "cell_type": "markdown",
   "id": "3d470c55-1a05-466a-9205-f037f0b2f5cd",
   "metadata": {},
   "source": [
    "Built in Class Example"
   ]
  },
  {
   "cell_type": "code",
   "execution_count": 1,
   "id": "503f6b9e-1e60-46f8-9b32-606aeb615142",
   "metadata": {},
   "outputs": [
    {
     "data": {
      "text/plain": [
       "str"
      ]
     },
     "execution_count": 1,
     "metadata": {},
     "output_type": "execute_result"
    }
   ],
   "source": [
    "type(7)  # <class 'int'>\n",
    "type(\"hi\")  # <class 'str'>"
   ]
  },
  {
   "cell_type": "markdown",
   "id": "ec5ca17f-89da-4469-a298-fa1a8d4625b8",
   "metadata": {},
   "source": [
    "Built in Methods example"
   ]
  },
  {
   "cell_type": "raw",
   "id": "69fdd989-22b3-4f85-80aa-cda59d4ca529",
   "metadata": {},
   "source": [
    "isupper()\n",
    "upper()"
   ]
  },
  {
   "cell_type": "markdown",
   "id": "3ca71b8b-9a46-472d-a335-541994f2f1e2",
   "metadata": {},
   "source": [
    "Up till now what we used inside the string type is called an instance\n",
    "**instance:** the contents that exist when we're using the method inside the class\n",
    "To check the attributes & methods in specific classes we can use *dir()* function"
   ]
  },
  {
   "cell_type": "raw",
   "id": "984335c8-fa85-4786-80c1-c8b087001303",
   "metadata": {},
   "source": [
    "Check the dir() content on string type"
   ]
  },
  {
   "cell_type": "code",
   "execution_count": 3,
   "id": "38bd2bb7-b50e-4973-885a-fd34407d842b",
   "metadata": {},
   "outputs": [
    {
     "name": "stdout",
     "output_type": "stream",
     "text": [
      "['__add__', '__class__', '__contains__', '__delattr__', '__dir__', '__doc__', '__eq__', '__format__', '__ge__', '__getattribute__', '__getitem__', '__getnewargs__', '__gt__', '__hash__', '__init__', '__init_subclass__', '__iter__', '__le__', '__len__', '__lt__', '__mod__', '__mul__', '__ne__', '__new__', '__reduce__', '__reduce_ex__', '__repr__', '__rmod__', '__rmul__', '__setattr__', '__sizeof__', '__str__', '__subclasshook__', 'capitalize', 'casefold', 'center', 'count', 'encode', 'endswith', 'expandtabs', 'find', 'format', 'format_map', 'index', 'isalnum', 'isalpha', 'isascii', 'isdecimal', 'isdigit', 'isidentifier', 'islower', 'isnumeric', 'isprintable', 'isspace', 'istitle', 'isupper', 'join', 'ljust', 'lower', 'lstrip', 'maketrans', 'partition', 'removeprefix', 'removesuffix', 'replace', 'rfind', 'rindex', 'rjust', 'rpartition', 'rsplit', 'rstrip', 'split', 'splitlines', 'startswith', 'strip', 'swapcase', 'title', 'translate', 'upper', 'zfill']\n"
     ]
    }
   ],
   "source": [
    "print(dir(''))"
   ]
  },
  {
   "cell_type": "raw",
   "id": "e73afdd6-86e1-44a8-ab0b-21a707b455b5",
   "metadata": {},
   "source": [
    "Check the dir() content on list type"
   ]
  },
  {
   "cell_type": "code",
   "execution_count": 1,
   "id": "645ee61c-60b6-4ef9-8792-fd2f293ebb77",
   "metadata": {},
   "outputs": [
    {
     "name": "stdout",
     "output_type": "stream",
     "text": [
      "['__add__', '__class__', '__class_getitem__', '__contains__', '__delattr__', '__delitem__', '__dir__', '__doc__', '__eq__', '__format__', '__ge__', '__getattribute__', '__getitem__', '__gt__', '__hash__', '__iadd__', '__imul__', '__init__', '__init_subclass__', '__iter__', '__le__', '__len__', '__lt__', '__mul__', '__ne__', '__new__', '__reduce__', '__reduce_ex__', '__repr__', '__reversed__', '__rmul__', '__setattr__', '__setitem__', '__sizeof__', '__str__', '__subclasshook__', 'append', 'clear', 'copy', 'count', 'extend', 'index', 'insert', 'pop', 'remove', 'reverse', 'sort']\n"
     ]
    }
   ],
   "source": [
    "print(dir([]))"
   ]
  },
  {
   "cell_type": "raw",
   "id": "86ac220f-1120-4e58-88e6-15bd4bbd9dcc",
   "metadata": {},
   "source": [
    "Special method: The first given values is started & ended with double underscore (__method__)\n",
    "Normal methods: any value that we've been use before\n",
    "To show the documentation of corresponding classes we can use help('str') function"
   ]
  },
  {
   "cell_type": "code",
   "execution_count": null,
   "id": "e4ec5e93-04bd-4d4f-b858-caf1073d5eec",
   "metadata": {},
   "outputs": [],
   "source": [
    "help(__add__)  # NameError: name '__add__' is not defined.\n",
    "help('__add__')  # No Python documentation found for '__add__'.\n",
    "help(\"\")   # Help on class str in module builtins: ...\n",
    "help(0)  # Help on int object: ...\n",
    "help({})  # Help on dict object:..."
   ]
  },
  {
   "cell_type": "code",
   "execution_count": null,
   "id": "6fe2e39d-bb25-4e92-81cb-c5371529e573",
   "metadata": {},
   "outputs": [],
   "source": []
  }
 ],
 "metadata": {
  "kernelspec": {
   "display_name": "Python 3 (ipykernel)",
   "language": "python",
   "name": "python3"
  },
  "language_info": {
   "codemirror_mode": {
    "name": "ipython",
    "version": 3
   },
   "file_extension": ".py",
   "mimetype": "text/x-python",
   "name": "python",
   "nbconvert_exporter": "python",
   "pygments_lexer": "ipython3",
   "version": "3.9.7"
  }
 },
 "nbformat": 4,
 "nbformat_minor": 5
}
