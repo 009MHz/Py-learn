{
 "cells": [
  {
   "cell_type": "markdown",
   "id": "17086e51-35a6-4b62-a540-3261fedba347",
   "metadata": {},
   "source": [
    "# Modules: used to organize functions, classes and other data together in a structured way\n",
    "\n",
    "Python modules are separate files that contain classes, functions, and other data that allow us to import and make use of these methods and classes in our own code. Python comes with a lot of modules out of the box. These modules are referred to as the Python Standard Library. You can make use of these modules by using the import keyword,followed by the module name. For example, we'll import the random module, and then call the randint function within this module: "
   ]
  },
  {
   "cell_type": "code",
   "execution_count": 1,
   "id": "3b8555cb-d0d9-423d-b8b6-8d66a9b705be",
   "metadata": {},
   "outputs": [
    {
     "data": {
      "text/plain": [
       "4"
      ]
     },
     "execution_count": 1,
     "metadata": {},
     "output_type": "execute_result"
    }
   ],
   "source": [
    "import random as r\n",
    "r.randint(1, 10)  # 8\n",
    "r.randint(1, 10)  # 7\n",
    "r.randint(1, 10)  # 1"
   ]
  },
  {
   "cell_type": "markdown",
   "id": "8b2ff4af-d4b2-4465-ac21-c97f928304bc",
   "metadata": {},
   "source": [
    "This function takes two integer parameters and returns a random integer between the values we pass it; in this case, 1 and 10. You might notice that calling functions in a module is very similar to calling methods in a class. We use dot notation here too, with a period between the module and function names.\n",
    "\n",
    "Let's take a look at another module: datetime. This module is super helpful when working with dates and times."
   ]
  },
  {
   "cell_type": "code",
   "execution_count": 2,
   "id": "cc748a42-427f-4195-a6a4-88544f765036",
   "metadata": {},
   "outputs": [
    {
     "name": "stdout",
     "output_type": "stream",
     "text": [
      "2022-10-23 23:09:57.501337\n"
     ]
    }
   ],
   "source": [
    "import datetime as dt\n",
    "now = dt.datetime.now()\n",
    "type(now)  # <class 'datetime.datetime'>\n",
    "print(now)  # 2019-04-24 16:54:55.155199\n",
    "# The datetime class not generated <main.object...>\n",
    "# this happen because inside the datetime Class there's __str__ method is used"
   ]
  },
  {
   "cell_type": "markdown",
   "id": "f23bb767-2c68-47b2-9cab-a0f46c6060ad",
   "metadata": {},
   "source": [
    "First, we import the module. Next, we call the now() method which belongs to the datetime class contained within the datetime module. This method generates an instance of the datetime class for the current date and time. This instance has some methods which we can call: "
   ]
  },
  {
   "cell_type": "code",
   "execution_count": 3,
   "id": "2aab94e0-8055-4f9c-9c44-ce4c9fd6cdb2",
   "metadata": {},
   "outputs": [
    {
     "name": "stdout",
     "output_type": "stream",
     "text": [
      "2022-10-23 23:09:57.501337\n",
      "2022-11-20 23:09:57.501337\n"
     ]
    }
   ],
   "source": [
    "print(now)  # 2019-04-24 16:54:55.155199\n",
    "now.year  # 2022\n",
    "print(now + dt.timedelta(days=28))  # 2019-05-22 16:54:55.155199\n",
    "# timedelta is used to the actual date after we passed any values to check\n",
    "# +28 means,  now + 28 days ahead\n",
    "# -28 means, now - 28 days before"
   ]
  },
  {
   "cell_type": "markdown",
   "id": "5be3dc5e-07f4-4e9f-ab12-1618d35aa6b7",
   "metadata": {},
   "source": [
    "When we call the print function with an instance of the datetime class, we get the date and time printed in a specific format. This is because the datetime class has a <__str__> method defined which generates the formatted string we see here. We can also directly call attributes and methods of the class, as with now.year which returns the year attribute of the instance. Lastly, we can access other classes contained in the datetime module, like the timedelta class. \n",
    "In this example, we’re creating an instance of the timedelta class with the parameter of 28 days. We’re then adding this object to our instance of the datetime class from earlier and printing the result. This has the effect of adding 28 days to our original datetime object."
   ]
  }
 ],
 "metadata": {
  "kernelspec": {
   "display_name": "Python 3 (ipykernel)",
   "language": "python",
   "name": "python3"
  },
  "language_info": {
   "codemirror_mode": {
    "name": "ipython",
    "version": 3
   },
   "file_extension": ".py",
   "mimetype": "text/x-python",
   "name": "python",
   "nbconvert_exporter": "python",
   "pygments_lexer": "ipython3",
   "version": "3.9.7"
  }
 },
 "nbformat": 4,
 "nbformat_minor": 5
}
