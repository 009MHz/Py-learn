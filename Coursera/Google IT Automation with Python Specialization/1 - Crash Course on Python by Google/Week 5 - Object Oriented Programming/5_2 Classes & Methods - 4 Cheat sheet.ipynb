{
 "cells": [
  {
   "cell_type": "markdown",
   "id": "051f3aa6-b3fd-429d-abc7-43ba21e745da",
   "metadata": {},
   "source": [
    "# Classes and Methods Cheat Sheet"
   ]
  },
  {
   "cell_type": "markdown",
   "id": "0a324cc6-6d94-4b25-b66b-57a1851bd8b2",
   "metadata": {},
   "source": [
    "In the past few videos, we’ve seen how to define classes and methods in Python. Here, you’ll find a run-down of everything we’ve covered, so you can refer to it whenever you need a refresher."
   ]
  },
  {
   "cell_type": "markdown",
   "id": "0a387b9b-745f-46af-838d-1f6d28ea1c1c",
   "metadata": {},
   "source": [
    "Defining classes and methods"
   ]
  },
  {
   "cell_type": "code",
   "execution_count": null,
   "id": "cf5f8302-99be-4bba-8869-47f3b3bb4a33",
   "metadata": {},
   "outputs": [],
   "source": [
    "class ClassName:\n",
    "    def method_name(self, other_parameters):\n",
    "        body_of_method"
   ]
  },
  {
   "cell_type": "markdown",
   "id": "efd0f48e-4e0e-4cda-994e-54a70be048c9",
   "metadata": {},
   "source": [
    "**Classes and Instances**\n",
    "- Classes define the behavior of all instances of a specific class.\n",
    "- Each variable of a specific class is an instance or object.\n",
    "- Objects can have attributes, which store information about the object.\n",
    "- You can make objects do work by calling their methods.\n",
    "- The first parameter of the methods (self) represents the current instance.\n",
    "- Methods are just like functions, but they can only be used through a class.\n"
   ]
  },
  {
   "cell_type": "markdown",
   "id": "592eb058-3f75-4ae7-9a66-9698e33cfd67",
   "metadata": {},
   "source": [
    "Special methods\n",
    "- Special methods start and end with \\__.\n",
    "- Special methods have specific names, like <__init__> for the constructor or <__str__> for the conversion to string."
   ]
  },
  {
   "cell_type": "markdown",
   "id": "6b0eb9fb-7bfb-4948-95d3-66e4ac7a8b81",
   "metadata": {},
   "source": [
    "**Documenting classes, methods and functions**\n",
    "- You can add documentation to classes, methods, and functions by using docstrings right after the definition. Like this:"
   ]
  },
  {
   "cell_type": "code",
   "execution_count": null,
   "id": "c2c29060-2247-4b4c-84a7-49698b5261cd",
   "metadata": {},
   "outputs": [],
   "source": [
    "class ClassName:\n",
    "    \"\"\"Documentation for the class.\"\"\"\n",
    "    def method_name(self, other_parameters):\n",
    "        \"\"\"Documentation for the method.\"\"\"\n",
    "        body_of_method\n",
    "\n",
    "def function_name(parameters):\n",
    "    \"\"\"Documentation for the function.\"\"\"\n",
    "    body_of_function"
   ]
  }
 ],
 "metadata": {
  "kernelspec": {
   "display_name": "Python 3 (ipykernel)",
   "language": "python",
   "name": "python3"
  },
  "language_info": {
   "codemirror_mode": {
    "name": "ipython",
    "version": 3
   },
   "file_extension": ".py",
   "mimetype": "text/x-python",
   "name": "python",
   "nbconvert_exporter": "python",
   "pygments_lexer": "ipython3",
   "version": "3.9.7"
  }
 },
 "nbformat": 4,
 "nbformat_minor": 5
}
