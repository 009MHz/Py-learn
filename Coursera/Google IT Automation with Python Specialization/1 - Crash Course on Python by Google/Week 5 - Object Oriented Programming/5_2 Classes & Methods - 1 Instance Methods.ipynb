{
 "cells": [
  {
   "cell_type": "markdown",
   "id": "00041f9a-a043-4f65-957a-687931831e6d",
   "metadata": {
    "tags": []
   },
   "source": [
    "# RECAP\n",
    "Methods: Function that operate on the attributes of a specific instance of a class\n"
   ]
  },
  {
   "cell_type": "markdown",
   "id": "19a86eda-254b-4c71-a2fc-ab633cd419ae",
   "metadata": {},
   "source": [
    "Example 1:"
   ]
  },
  {
   "cell_type": "code",
   "execution_count": null,
   "id": "8a7c85b7-d95e-44ac-a4b0-f5bcec7e8f90",
   "metadata": {},
   "outputs": [],
   "source": [
    "# creating the class\n",
    "class Pig:\n",
    "    # creating a function inside the class (methods)\n",
    "    # in this case, we make the Pig creating a sound\n",
    "    def speak(self):\n",
    "        # this function is receiving a parameter called 'self'\n",
    "        # this parameter represents the instance that the methods is being executed on\n",
    "        # This will allow you to access attributes of the instance using dot notation\n",
    "        print(\"oik oik\")"
   ]
  },
  {
   "cell_type": "code",
   "execution_count": null,
   "id": "1e0098f6-c609-47ff-b014-a7dcd83c6b47",
   "metadata": {},
   "outputs": [],
   "source": [
    "hamlet = Pig()\n",
    "# calling the methods from the classes\n",
    "hamlet.speak()"
   ]
  },
  {
   "cell_type": "markdown",
   "id": "af9772f8-55e5-43ab-95d1-3e24e0d55723",
   "metadata": {},
   "source": [
    "Example 2"
   ]
  },
  {
   "cell_type": "code",
   "execution_count": null,
   "id": "b6e643ca-3548-4c61-80f4-33af47fcb027",
   "metadata": {},
   "outputs": [],
   "source": [
    "class Piglet:\n",
    "    # assign a attributes inside the class, that changeable later on\n",
    "    name = \"piglet\"\n",
    "    def speak(self):\n",
    "        print(f\"Oink oink, my name is {self.name}\")\n",
    "        # self.name means accessing the attributes name from the current instance\n",
    "        # without using self.name this code will generate an error\n",
    "        # NameError: name 'name' is not defined\n",
    "        \n",
    "\n",
    "babi = Piglet()  # Oink oink, my name is piglet\n",
    "babi.speak()"
   ]
  },
  {
   "cell_type": "markdown",
   "id": "3f9aad63-1876-4aa7-8c8e-a8e56cf888c9",
   "metadata": {},
   "source": [
    "    Case 1: Updating the name as an instance"
   ]
  },
  {
   "cell_type": "code",
   "execution_count": null,
   "id": "0bd621af-1ae5-449b-94bd-b92d0a635859",
   "metadata": {},
   "outputs": [],
   "source": [
    "babi.name = 'Eluu'\n",
    "# since we just change the attributes outside the function, we don't need () at the end of the processes\n",
    "babi.speak()  # Oink oink, my name is Eluu"
   ]
  },
  {
   "cell_type": "markdown",
   "id": "eec7b267-c7ab-47aa-add9-ef70a600d23d",
   "metadata": {},
   "source": [
    "    Case 2: Creating new instance using same Class\n"
   ]
  },
  {
   "cell_type": "code",
   "execution_count": null,
   "id": "8edc15ea-e12c-4b9e-94c6-6108511f4c2d",
   "metadata": {},
   "outputs": [],
   "source": [
    "celeng = Piglet()\n",
    "# assigning new variable but using same class\n",
    "celeng.name = 'Wildboar'\n",
    "celeng.speak()  # Oink oink, my name is Wildboar"
   ]
  },
  {
   "cell_type": "markdown",
   "id": "c4ef4ef8-0245-4f72-9ec9-3988a8ccf6e0",
   "metadata": {
    "tags": []
   },
   "source": [
    "# SUMMARIES\n",
    "Variables that have different values for different instances of the same class are **called instance** variables just like the example from case "
   ]
  },
  {
   "cell_type": "markdown",
   "id": "a782f7e2-8ae1-40cd-8f51-19b70dc1e72b",
   "metadata": {},
   "source": [
    "Example 3: Method to returning any values after receiving parameter update"
   ]
  },
  {
   "cell_type": "code",
   "execution_count": null,
   "id": "3a9ff594-5c8c-47c0-a6d3-4255c3376fe9",
   "metadata": {},
   "outputs": [],
   "source": [
    "class Doggy:\n",
    "    years = 0\n",
    "\n",
    "    def dog_years(self):\n",
    "        return self.years * 18\n",
    "\n",
    "\n",
    "kiku = Doggy()  # assign the class to variable\n",
    "print(kiku.dog_years())  # 0\n",
    "kiku.years = 1.5  # updating the attributes\n",
    "print(kiku.dog_years())  # calling the methods after update "
   ]
  }
 ],
 "metadata": {
  "kernelspec": {
   "display_name": "Python 3 (ipykernel)",
   "language": "python",
   "name": "python3"
  },
  "language_info": {
   "codemirror_mode": {
    "name": "ipython",
    "version": 3
   },
   "file_extension": ".py",
   "mimetype": "text/x-python",
   "name": "python",
   "nbconvert_exporter": "python",
   "pygments_lexer": "ipython3",
   "version": "3.9.7"
  }
 },
 "nbformat": 4,
 "nbformat_minor": 5
}
