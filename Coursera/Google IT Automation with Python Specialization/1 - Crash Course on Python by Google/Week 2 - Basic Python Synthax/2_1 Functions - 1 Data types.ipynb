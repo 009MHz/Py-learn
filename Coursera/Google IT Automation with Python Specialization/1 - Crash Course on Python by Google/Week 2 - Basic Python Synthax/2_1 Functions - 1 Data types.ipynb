{
 "cells": [
  {
   "cell_type": "markdown",
   "id": "3a57ecc6-4b27-4ad3-90d7-af78efa2fe58",
   "metadata": {},
   "source": [
    "Why does this code raise an error:"
   ]
  },
  {
   "cell_type": "code",
   "execution_count": null,
   "id": "298cc4e0-9736-45c2-a34c-de96bbe3091b",
   "metadata": {},
   "outputs": [],
   "source": [
    "print(\"1234\"+5678)"
   ]
  },
  {
   "cell_type": "markdown",
   "id": "56a149d3-36e0-4457-9764-09f1b8a04dd6",
   "metadata": {},
   "source": [
    "- [ ] Because Python doesn't know how to add a number to a string.\n",
    "- [ ] Because in Python it's only possible to add numbers, not strings.\n",
    "- [ ] Because in Python it's not possible to print integers.\n",
    "- [ ] Because numbers shouldn't be written between quotes."
   ]
  },
  {
   "cell_type": "markdown",
   "id": "9ee6d1cb-6110-4ae4-8c23-acc75c18d9df",
   "metadata": {},
   "source": [
    "### RECAP\n",
    "In Python, text in between quotes -- either single or double quotes -- is a string data type. An <font color = orange>**integer**</font> is a whole number, without a fraction, while a <font color = magenta>**float**</font> is a real number that can contain a fractional part. For example, 1, 7, 342 are all ***integers***, while 5.3, 3.14159 and 6.0 are all ***floats***. When attempting to mix incompatible data types, you may encounter a <font color = red>TypeError</font>. You can always check the data type of something using the <font color = lime>**type**()</font> function."
   ]
  }
 ],
 "metadata": {
  "kernelspec": {
   "display_name": "Python 3 (ipykernel)",
   "language": "python",
   "name": "python3"
  },
  "language_info": {
   "codemirror_mode": {
    "name": "ipython",
    "version": 3
   },
   "file_extension": ".py",
   "mimetype": "text/x-python",
   "name": "python",
   "nbconvert_exporter": "python",
   "pygments_lexer": "ipython3",
   "version": "3.9.7"
  }
 },
 "nbformat": 4,
 "nbformat_minor": 5
}
