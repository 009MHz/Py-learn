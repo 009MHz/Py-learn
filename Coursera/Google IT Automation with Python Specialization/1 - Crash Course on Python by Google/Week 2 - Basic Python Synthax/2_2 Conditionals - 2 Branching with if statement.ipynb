{
 "cells": [
  {
   "cell_type": "markdown",
   "id": "2bfa644c-f2ce-479e-bda9-bb429120b1fe",
   "metadata": {},
   "source": [
    "Example 1"
   ]
  },
  {
   "cell_type": "raw",
   "id": "def4d91b-4dff-499c-964e-744b2e8f186c",
   "metadata": {},
   "source": [
    "The is_positive function should return True if the number received is positive, otherwise it returns None. Can you fill in the gaps to make that happen?"
   ]
  },
  {
   "cell_type": "code",
   "execution_count": null,
   "id": "0e9bfcaf-90da-4aef-97ec-db25028d4b9e",
   "metadata": {},
   "outputs": [],
   "source": [
    "def is_positive(number):\n",
    "    if ___:\n",
    "        return ___"
   ]
  },
  {
   "cell_type": "markdown",
   "id": "ebda002d-1b2b-41c8-8e17-12939be3b81c",
   "metadata": {},
   "source": [
    "## if Statements Recap \n",
    "We can use the concept of branching to have our code alter its execution sequence depending on the values of variables. We can use an if statement to evaluate a comparison. We start with the if keyword,  followed by our comparison. We end the line with a colon. The body of the if statement is then indented to the right. If the comparison is True, the code inside the if body is executed. If the comparison evaluates to False, then the code block is skipped and will not be run"
   ]
  },
  {
   "cell_type": "code",
   "execution_count": null,
   "id": "fbe6942f-b4e8-4a25-b75b-65e497ab29f6",
   "metadata": {},
   "outputs": [],
   "source": []
  }
 ],
 "metadata": {
  "kernelspec": {
   "display_name": "Python 3 (ipykernel)",
   "language": "python",
   "name": "python3"
  },
  "language_info": {
   "codemirror_mode": {
    "name": "ipython",
    "version": 3
   },
   "file_extension": ".py",
   "mimetype": "text/x-python",
   "name": "python",
   "nbconvert_exporter": "python",
   "pygments_lexer": "ipython3",
   "version": "3.9.7"
  }
 },
 "nbformat": 4,
 "nbformat_minor": 5
}
