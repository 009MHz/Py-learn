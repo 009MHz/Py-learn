{
 "cells": [
  {
   "cell_type": "markdown",
   "id": "b8d3bef6-b5d3-437f-8ec2-be8b325d4ecd",
   "metadata": {},
   "source": [
    "# Conditionals Cheat Sheet\n",
    "In earlier videos, we took a look at some of the built-in Python operators that allow us to compare values, and some logical operators we can use to combine values. We also learned how to use operators in if-else-elif blocks. \n",
    "\n",
    "It’s a lot to learn but, with practice, it gets easier to remember it all. In the meantime, this handy cheat sheet gives you all the information you need at a glance. "
   ]
  },
  {
   "cell_type": "markdown",
   "id": "d8cb83ac-d984-43bb-bfd8-4414cdc5c23b",
   "metadata": {},
   "source": [
    "#### Comparison operators"
   ]
  },
  {
   "cell_type": "code",
   "execution_count": null,
   "id": "478a938a-3599-4d74-a9f4-7b919b581769",
   "metadata": {},
   "outputs": [],
   "source": [
    "a == b: a is equal to b\n",
    "a != b: a is different than b\n",
    "a < b: a is smaller than b\n",
    "a <= b: a is smaller or equal to b\n",
    "a > b: a is bigger than b\n",
    "a >= b: a is bigger or equal to b"
   ]
  },
  {
   "cell_type": "markdown",
   "id": "85fc78a2-9178-4231-98e7-9f4db7904707",
   "metadata": {},
   "source": [
    "#### Logical operators"
   ]
  },
  {
   "cell_type": "markdown",
   "id": "536447ce-c7c2-49bc-9b2a-0122476b4ee4",
   "metadata": {},
   "source": [
    "- ***a and b***: True if both a and b are True. False otherwise.\n",
    "- ***a or b***: True if either a or b or both are True. False if both are False.\n",
    "- ***not a***: True if a is False, False if a is True."
   ]
  },
  {
   "cell_type": "markdown",
   "id": "51337d5f-644d-4377-b2d5-890070f1d78d",
   "metadata": {},
   "source": [
    "#### Branching blocks\n",
    "In Python, we branch our code using if, else and elif. This is the branching syntax:"
   ]
  },
  {
   "cell_type": "code",
   "execution_count": null,
   "id": "e8a26ea7-7842-4525-80da-0142cd875c9c",
   "metadata": {},
   "outputs": [],
   "source": [
    "if condition1:\n",
    "\tif-block\n",
    "elif condition2:\n",
    "\telif-block\n",
    "else:\n",
    "\telse-block"
   ]
  },
  {
   "cell_type": "markdown",
   "id": "d8af7e9d-7cdd-49f0-9a95-4780ce06e784",
   "metadata": {},
   "source": [
    "**Remember**: The if-block will be executed if condition1 is True. The elif-block will be executed if condition1 is False and condition2 is True. The else block will be executed when all the specified conditions are false."
   ]
  }
 ],
 "metadata": {
  "kernelspec": {
   "display_name": "Python 3 (ipykernel)",
   "language": "python",
   "name": "python3"
  },
  "language_info": {
   "codemirror_mode": {
    "name": "ipython",
    "version": 3
   },
   "file_extension": ".py",
   "mimetype": "text/x-python",
   "name": "python",
   "nbconvert_exporter": "python",
   "pygments_lexer": "ipython3",
   "version": "3.9.7"
  }
 },
 "nbformat": 4,
 "nbformat_minor": 5
}
