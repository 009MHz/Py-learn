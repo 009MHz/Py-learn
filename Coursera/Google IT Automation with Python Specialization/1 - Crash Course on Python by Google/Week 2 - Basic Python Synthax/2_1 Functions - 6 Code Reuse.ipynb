{
 "cells": [
  {
   "cell_type": "markdown",
   "id": "cb68d2f2-4b92-4cc4-b4dc-93e99bd9c843",
   "metadata": {},
   "source": [
    "Example 1"
   ]
  },
  {
   "cell_type": "raw",
   "id": "82f4645d-b612-4f8e-baab-a4d7918260ef",
   "metadata": {},
   "source": [
    "Identify the repeated pattern and replace it with a function called month_days, that receives the name of the month and the number of days in that month as parameters. Adapt the rest of the code so that the result is the same. Confirm your results by making a function call with the correct parameters for both months listed. "
   ]
  },
  {
   "cell_type": "code",
   "execution_count": null,
   "id": "43c2135d-4857-49e9-abb7-905381fbcd0a",
   "metadata": {},
   "outputs": [],
   "source": [
    "# REPLACE THIS STARTER CODE WITH YOUR FUNCTION\n",
    "june_days = 30\n",
    "print(\"June has \" + str(june_days) + \" days.\")\n",
    "july_days = 31\n",
    "print(\"July has \" + str(july_days) + \" days.\")"
   ]
  },
  {
   "cell_type": "markdown",
   "id": "5de9e4f2-ed8d-4d2e-9225-9b73b3341d23",
   "metadata": {},
   "source": [
    "Example 2"
   ]
  },
  {
   "cell_type": "raw",
   "id": "a8d46b51-6d2f-448e-8e6a-7694654843a1",
   "metadata": {},
   "source": [
    "This function to calculate the area of a rectangle is not very readable. Can you refactor it, and then call the function to calculate the area with base of 5 and height of 6? Tip: a function that calculates the area of a rectangle should probably be called rectangle_area, and if it's receiving base and height, that's what the parameters should be called. "
   ]
  },
  {
   "cell_type": "code",
   "execution_count": null,
   "id": "fa569191-39a8-44a2-b9e8-ec3c9bddb7a3",
   "metadata": {},
   "outputs": [],
   "source": [
    "def f1(x, y):\n",
    "    z = x * y  # the area is base*height\n",
    "    print(\"The area is \" + str(z))"
   ]
  }
 ],
 "metadata": {
  "kernelspec": {
   "display_name": "Python 3 (ipykernel)",
   "language": "python",
   "name": "python3"
  },
  "language_info": {
   "codemirror_mode": {
    "name": "ipython",
    "version": 3
   },
   "file_extension": ".py",
   "mimetype": "text/x-python",
   "name": "python",
   "nbconvert_exporter": "python",
   "pygments_lexer": "ipython3",
   "version": "3.9.7"
  }
 },
 "nbformat": 4,
 "nbformat_minor": 5
}
