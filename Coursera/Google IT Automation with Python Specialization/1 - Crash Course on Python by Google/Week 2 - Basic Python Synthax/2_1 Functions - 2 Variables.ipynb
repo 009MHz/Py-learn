{
 "cells": [
  {
   "cell_type": "markdown",
   "id": "18b82645-c2b7-4f46-be7d-d974922beb52",
   "metadata": {},
   "source": [
    "Example 1:"
   ]
  },
  {
   "cell_type": "raw",
   "id": "bab2ec73-9480-4014-82df-27ccdc65533c",
   "metadata": {},
   "source": [
    "Fill in the blanks to calculate the area of a triangle of base 5, height 3 and output the result.  Reminder:  the\n",
    "area of a triangle is (base*height)/2."
   ]
  },
  {
   "cell_type": "code",
   "execution_count": null,
   "id": "d6e1753b-5e78-42b7-92d8-3da2f2ef6544",
   "metadata": {},
   "outputs": [],
   "source": [
    "base = ___\n",
    "height = ___\n",
    "area = ___"
   ]
  },
  {
   "cell_type": "markdown",
   "id": "79163880-3faf-45d0-a3dd-9762b726c6d5",
   "metadata": {},
   "source": [
    "Example 2"
   ]
  },
  {
   "cell_type": "raw",
   "id": "58a14543-9c44-42d0-b77f-d8d463bfb94e",
   "metadata": {},
   "source": [
    "In this scenario, we have a directory with 5 files in it. Each file has a different size: 2048, 4357, 97658, 125, and 8. Fill in the blanks to calculate the average file size by having Python add all the values for you, and then set the files variable to the number of files. Finally, output a message saying \"The average size is: \" followed by the resulting number. Remember to use the str() function to convert the number into a string."
   ]
  },
  {
   "cell_type": "code",
   "execution_count": null,
   "id": "3fa0afc3-3789-4c10-a10a-0ee7cd589805",
   "metadata": {},
   "outputs": [],
   "source": [
    "total = 2048 + ___ + ___ + ___ + ___\n",
    "files = ___\n",
    "average = total / files\n",
    "print(\"___\" + str(___))"
   ]
  }
 ],
 "metadata": {
  "kernelspec": {
   "display_name": "Python 3 (ipykernel)",
   "language": "python",
   "name": "python3"
  },
  "language_info": {
   "codemirror_mode": {
    "name": "ipython",
    "version": 3
   },
   "file_extension": ".py",
   "mimetype": "text/x-python",
   "name": "python",
   "nbconvert_exporter": "python",
   "pygments_lexer": "ipython3",
   "version": "3.9.7"
  }
 },
 "nbformat": 4,
 "nbformat_minor": 5
}
