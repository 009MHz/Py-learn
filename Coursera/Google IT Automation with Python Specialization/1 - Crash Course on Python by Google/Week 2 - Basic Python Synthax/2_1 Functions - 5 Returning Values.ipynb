{
 "cells": [
  {
   "cell_type": "markdown",
   "id": "559d816e-3c44-43d4-9b16-8e55ff2a77d6",
   "metadata": {},
   "source": [
    "    Example 1: "
   ]
  },
  {
   "cell_type": "raw",
   "id": "f9944fd1-a029-4f67-ae0e-7c93049ef013",
   "metadata": {},
   "source": [
    "Use the get_seconds function to work out the amount of seconds in 2 hours and 30 minutes, then add this number to the amount of seconds in 45 minutes and 15 seconds. Then print the result"
   ]
  },
  {
   "cell_type": "code",
   "execution_count": null,
   "id": "b327b196-e4ca-4e1f-bc7e-9fb92046f1e6",
   "metadata": {},
   "outputs": [],
   "source": [
    "def get_seconds(hours, minutes, seconds):\n",
    "    return 3600*hours + 60*minutes + seconds\n",
    "\n",
    "amount_a = get_seconds(___)\n",
    "amount_b = get_seconds(___)\n",
    "result = ___\n",
    "print(result)"
   ]
  },
  {
   "cell_type": "markdown",
   "id": "97e7c6cc-e6e9-4f5f-85a5-8aa4c77dc488",
   "metadata": {},
   "source": [
    "### Returning Values Using Functions\n",
    "Sometimes we don't want a function to simply run and finish. We may want a function to manipulate data we passed it and then return the result to us. This is where the concept of return values comes in handy. We use the return keyword in a function, which tells the function to pass data back. When we call the function, we can store the  returned value in a variable. Return values allow our functions to be more flexible and powerful, so they can be reused and called multiple times. \n",
    "\n",
    "Functions can even return multiple values. Just don't forget to store all returned values in variables! You could also have a function return nothing, in which case the function simply exits."
   ]
  },
  {
   "cell_type": "code",
   "execution_count": null,
   "id": "9a021143-2a67-4d3b-944e-7d22448fb591",
   "metadata": {},
   "outputs": [],
   "source": []
  }
 ],
 "metadata": {
  "kernelspec": {
   "display_name": "Python 3 (ipykernel)",
   "language": "python",
   "name": "python3"
  },
  "language_info": {
   "codemirror_mode": {
    "name": "ipython",
    "version": 3
   },
   "file_extension": ".py",
   "mimetype": "text/x-python",
   "name": "python",
   "nbconvert_exporter": "python",
   "pygments_lexer": "ipython3",
   "version": "3.9.7"
  }
 },
 "nbformat": 4,
 "nbformat_minor": 5
}
