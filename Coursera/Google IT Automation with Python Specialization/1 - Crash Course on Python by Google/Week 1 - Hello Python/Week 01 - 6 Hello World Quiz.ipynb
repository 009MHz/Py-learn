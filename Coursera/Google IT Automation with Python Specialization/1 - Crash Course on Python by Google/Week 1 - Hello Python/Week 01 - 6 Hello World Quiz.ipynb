{
 "cells": [
  {
   "cell_type": "markdown",
   "id": "8280b537-a2b9-4a12-9674-b9c5cf69c106",
   "metadata": {},
   "source": [
    "## Question 1\n",
    "What are functions in Python?\n",
    "- [ ] Functions let us use Python as a calculator.\n",
    "- [ ] Functions are pieces of code that perform a unit of work.\n",
    "- [ ] Functions are only used to print messages to the screen.\n",
    "- [ ] Functions are how we tell if our program is functioning or not."
   ]
  },
  {
   "cell_type": "raw",
   "id": "f79e7e69-9198-48ea-8478-f0c47bb8ba7d",
   "metadata": {},
   "source": []
  },
  {
   "cell_type": "markdown",
   "id": "03eb59a1-bd13-443a-9573-fceca70ca069",
   "metadata": {},
   "source": [
    "## Question 2\n",
    "What are keywords in Python?\n",
    "- [ ] Keywords are reserved words that are used to construct instructions.\n",
    "- [ ] Keywords are used to calculate mathematical operations.\n",
    "- [ ] Keywords are used to print messages like \"Hello World!\" to the screen.\n",
    "- [ ] Keywords are the words that we need to memorize to program in Python."
   ]
  },
  {
   "cell_type": "raw",
   "id": "453aba19-392c-40b9-b81a-1129e8ec7cfc",
   "metadata": {},
   "source": []
  },
  {
   "cell_type": "markdown",
   "id": "78f81774-b756-401c-a686-59c9b2a06309",
   "metadata": {},
   "source": [
    "## Question 3\n",
    "What does the print function do in Python?\n",
    "- [ ] The print function generates PDFs and sends it to the nearest printer.\n",
    "- [ ] The print function stores values provided by the user.\n",
    "- [ ] The print function outputs messages to the screen\n",
    "- [ ] The print function calculates mathematical operations."
   ]
  },
  {
   "cell_type": "raw",
   "id": "8f347a72-90fd-41f6-96f7-492fe6ca8ae0",
   "metadata": {},
   "source": []
  },
  {
   "cell_type": "markdown",
   "id": "368cb957-26d0-4335-af02-9e8ab2da6e04",
   "metadata": {},
   "source": [
    "## Question 4\n",
    "Output a message that says \"Programming in Python is fun!\" to the screen."
   ]
  },
  {
   "cell_type": "code",
   "execution_count": null,
   "id": "b28a3a71-6aba-49ee-97f8-530c2589ab93",
   "metadata": {},
   "outputs": [],
   "source": [
    " __ = ''\n",
    " print()"
   ]
  },
  {
   "cell_type": "markdown",
   "id": "7f4104b5-1f16-41c0-a653-bd2c173d024b",
   "metadata": {},
   "source": []
  }
 ],
 "metadata": {
  "kernelspec": {
   "display_name": "Python 3 (ipykernel)",
   "language": "python",
   "name": "python3"
  },
  "language_info": {
   "codemirror_mode": {
    "name": "ipython",
    "version": 3
   },
   "file_extension": ".py",
   "mimetype": "text/x-python",
   "name": "python",
   "nbconvert_exporter": "python",
   "pygments_lexer": "ipython3",
   "version": "3.9.7"
  }
 },
 "nbformat": 4,
 "nbformat_minor": 5
}
