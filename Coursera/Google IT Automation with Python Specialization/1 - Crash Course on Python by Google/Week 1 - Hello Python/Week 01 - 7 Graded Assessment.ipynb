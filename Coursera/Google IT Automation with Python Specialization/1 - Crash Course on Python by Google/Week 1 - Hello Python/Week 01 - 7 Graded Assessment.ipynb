{
 "cells": [
  {
   "cell_type": "markdown",
   "id": "90d634a0-41ad-4fa7-82b9-0df48f028ef2",
   "metadata": {},
   "source": [
    "## Question 1\n",
    "What is a computer program?\n",
    "\n",
    "- [ ] A file that gets printed by the Python interpreter.\n",
    "- [ ] The syntax and semantics of Python.\n",
    "- [ ] The overview of what the computer will have to do to solve an automation problem.\n",
    "- [ ] A step-by-step recipe of what needs to be done to complete a task that gets executed by the computer."
   ]
  },
  {
   "cell_type": "raw",
   "id": "688d2df5-a2ca-4c86-8cd8-b4e7a3d656fb",
   "metadata": {},
   "source": []
  },
  {
   "cell_type": "markdown",
   "id": "6df12ca9-65c2-4033-abf4-4eafc8d497dc",
   "metadata": {},
   "source": [
    "## Question 2\n",
    "What’s automation?\n",
    "\n",
    "- [ ] The inputs and outputs of a program.\n",
    "- [ ] The process of replacing a manual step with one that happens automatically.\n",
    "- [ ] The checkout processes at a grocery store.\n",
    "- [ ] The process of getting a haircut."
   ]
  },
  {
   "cell_type": "raw",
   "id": "cfe7a676-da70-4217-98f1-7d4db0f3bb9e",
   "metadata": {},
   "source": []
  },
  {
   "cell_type": "markdown",
   "id": "cbf19e1c-b15f-40da-a478-495d5a7210c0",
   "metadata": {},
   "source": [
    "## Question 3\n",
    "Which of the following tasks are good candidates for automation? Check all that apply.\n",
    "\n",
    "- [ ] Writing a computer program.\n",
    "- [ ] Creating a report of how much each sales person has sold in the last month.\n",
    "- [ ] Setting the home directory and access permissions for new employees joining your company.\n",
    "- [ ] Designing the new webpage for your company.\n",
    "- [ ] Taking pictures of friends and family at a wedding.\n",
    "- [ ] Populating your company's e-commerce site with the latest products in the catalog."
   ]
  },
  {
   "cell_type": "raw",
   "id": "fd0be5f5-8827-4a11-812b-8d431ef1a89a",
   "metadata": {},
   "source": []
  },
  {
   "cell_type": "markdown",
   "id": "f06b14c5-1ad0-4b3f-9ce3-0ed55e1269a3",
   "metadata": {},
   "source": [
    "## Question 4\n",
    "What are some characteristics of the Python programming language? Check all that apply.\n",
    "\n",
    "- [ ] Python programs are easy to write and understand.\n",
    "- [ ] The Python interpreter reads our code and transforms it into computer instructions.\n",
    "- [ ] It's an outdated language that's barely in use anymore.\n",
    "- [ ] We can practice Python using web interpreters or codepads as well as executing it locally. "
   ]
  },
  {
   "cell_type": "raw",
   "id": "74ad3427-3e97-4fd9-aed7-68e436c39a49",
   "metadata": {},
   "source": []
  },
  {
   "cell_type": "markdown",
   "id": "cc6f7e60-7232-4391-9504-42ef64d7b456",
   "metadata": {},
   "source": [
    "## Question 5\n",
    "How does Python compare to other programming languages?\n",
    "\n",
    "- [ ] Python is the only programming language that is worth learning.\n",
    "- [ ] Each programming language has its advantages and disadvantages.\n",
    "- [ ] It's always better to use an OS specific language like Bash or Powershell than using a generic language like Python.\n",
    "- [ ] Programming languages are so different that learning a second one is harder than learning the first one. "
   ]
  },
  {
   "cell_type": "raw",
   "id": "927c7b09-7795-4330-8ecb-7087d8fb4644",
   "metadata": {},
   "source": []
  },
  {
   "cell_type": "markdown",
   "id": "b8b83d9d-3cea-41ee-9676-2046afda829b",
   "metadata": {},
   "source": [
    "## Question 6\n",
    "Write a Python script that outputs \"Automating with Python is fun!\" to the screen."
   ]
  },
  {
   "cell_type": "code",
   "execution_count": null,
   "id": "fb72a5e9-ec31-4551-af2f-29c53bd4d229",
   "metadata": {},
   "outputs": [],
   "source": [
    "__ = \"\"\n",
    "print()"
   ]
  },
  {
   "cell_type": "markdown",
   "id": "03fc5063-ce79-43fa-b0e7-de7b605db368",
   "metadata": {},
   "source": [
    "## Question 7\n",
    "Fill in the blanks so that the code prints \"Yellow is the color of sunshine\"."
   ]
  },
  {
   "cell_type": "code",
   "execution_count": null,
   "id": "552dd7f0-37b8-4e26-b817-8a51389bbd92",
   "metadata": {},
   "outputs": [],
   "source": [
    "color = \"__\"\n",
    "__ = \"sunshine\"\n",
    "print(color + \" is the color of \" + thing)"
   ]
  },
  {
   "cell_type": "markdown",
   "id": "54a0fa44-7614-4b05-a2e5-f779f8df82e6",
   "metadata": {},
   "source": [
    "## Question 8\n",
    "Keeping in mind there are 86400 seconds per day, write a program that calculates how many seconds there are in a week, if a week is 7 days.  Print the result on the screen.\n",
    "\n",
    "Note: Your result should be in the format of just a number, not a sentence."
   ]
  },
  {
   "cell_type": "code",
   "execution_count": null,
   "id": "3f6d804d-1384-40e8-890a-5631703c8236",
   "metadata": {},
   "outputs": [],
   "source": [
    "day = 7\n",
    "hour = 24\n",
    "minutes = 60\n",
    "sec = 60\n",
    "print()"
   ]
  },
  {
   "cell_type": "markdown",
   "id": "00ff5d6b-916b-4dd8-a343-3b8d9e82f812",
   "metadata": {},
   "source": [
    "## Question 9\n",
    "Use Python to calculate how many different passwords can be formed with 6 lower case English letters.  For a 1 letter password, there would be 26 possibilities.  For a 2 letter password, each letter is independent of the other, so there would be 26 times 26 possibilities.  Using this information, print the amount of possible passwords that can be formed with 6 letters."
   ]
  },
  {
   "cell_type": "code",
   "execution_count": null,
   "id": "d28e4a82-f27f-45d2-b843-583ad7c63fe9",
   "metadata": {},
   "outputs": [],
   "source": [
    "x = \n",
    "print(x)"
   ]
  },
  {
   "cell_type": "markdown",
   "id": "b4251e75-438d-4763-887f-5cbfefdf5c03",
   "metadata": {},
   "source": [
    "## Question 10\n",
    "Most hard drives are divided into sectors of 512 bytes each.  Our disk has a size of 16 GB. Fill in the blank to calculate how many sectors the disk has.\n",
    "\n",
    "Note: Your result should be in the format of just a number, not a sentence."
   ]
  },
  {
   "cell_type": "code",
   "execution_count": null,
   "id": "4f4d332a-eddc-444b-bde1-7d5c74cc1a4c",
   "metadata": {},
   "outputs": [],
   "source": [
    "disk_size = \n",
    "sector_size = 512\n",
    "sector_amount = disk_size / sector_size\n",
    "\n",
    "print(__)"
   ]
  }
 ],
 "metadata": {
  "kernelspec": {
   "display_name": "Python 3 (ipykernel)",
   "language": "python",
   "name": "python3"
  },
  "language_info": {
   "codemirror_mode": {
    "name": "ipython",
    "version": 3
   },
   "file_extension": ".py",
   "mimetype": "text/x-python",
   "name": "python",
   "nbconvert_exporter": "python",
   "pygments_lexer": "ipython3",
   "version": "3.9.7"
  }
 },
 "nbformat": 4,
 "nbformat_minor": 5
}
