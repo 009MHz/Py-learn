{
 "cells": [
  {
   "cell_type": "markdown",
   "id": "eff6624f-a258-41b8-856b-77907311546e",
   "metadata": {},
   "source": [
    "# Question 1\n",
    "Fill in the correct Python command to put “My first Python program” onto the screen."
   ]
  },
  {
   "cell_type": "code",
   "execution_count": null,
   "id": "19d7b988-cb4d-4f21-86c6-befc40af8ec2",
   "metadata": {},
   "outputs": [],
   "source": [
    "__(\"My first Python program\")"
   ]
  },
  {
   "cell_type": "markdown",
   "id": "ee4a46f2-dc96-4551-a9c3-acb5da18f6b2",
   "metadata": {},
   "source": [
    "# Question 2\n",
    "Python is an example of what type of programming language?\n",
    "\n",
    "- [ ] Machine language \n",
    "- [ ] General purpose scripting language \n",
    "- [ ] Platform-specific scripting language\n",
    "- [ ] Client-side scripting language"
   ]
  },
  {
   "cell_type": "raw",
   "id": "d3258af9-6fa8-4942-ba18-1fbdd3ccb722",
   "metadata": {},
   "source": []
  },
  {
   "cell_type": "markdown",
   "id": "a0c8cc8f-1db4-405d-b9d9-81da402987f0",
   "metadata": {},
   "source": [
    "# Question 3\n",
    "Convert this Bash command into Python:"
   ]
  },
  {
   "cell_type": "code",
   "execution_count": null,
   "id": "a43507bc-2987-4a44-bf31-9806a0ac8bfc",
   "metadata": {},
   "outputs": [],
   "source": [
    "__ = 'Have a nice day'\n",
    "print(__)"
   ]
  },
  {
   "cell_type": "markdown",
   "id": "dd67d7c8-9a01-4fbc-a479-e175ecced950",
   "metadata": {},
   "source": [
    "# Question 4\n",
    "Fill in the correct Python commands to put “This is fun!” onto the screen 5 times. "
   ]
  },
  {
   "cell_type": "code",
   "execution_count": null,
   "id": "eacead62-6908-43e6-84a5-20e8babff98c",
   "metadata": {},
   "outputs": [],
   "source": [
    "print(\"This is fun!\")"
   ]
  }
 ],
 "metadata": {
  "kernelspec": {
   "display_name": "Python 3 (ipykernel)",
   "language": "python",
   "name": "python3"
  },
  "language_info": {
   "codemirror_mode": {
    "name": "ipython",
    "version": 3
   },
   "file_extension": ".py",
   "mimetype": "text/x-python",
   "name": "python",
   "nbconvert_exporter": "python",
   "pygments_lexer": "ipython3",
   "version": "3.9.7"
  }
 },
 "nbformat": 4,
 "nbformat_minor": 5
}
