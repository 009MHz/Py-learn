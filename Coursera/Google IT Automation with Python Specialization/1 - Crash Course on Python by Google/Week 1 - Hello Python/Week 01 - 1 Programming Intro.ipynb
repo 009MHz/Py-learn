{
 "cells": [
  {
   "cell_type": "markdown",
   "id": "0ccc4349-e0ed-4ada-b574-bfe5be1ce904",
   "metadata": {},
   "source": [
    "#### 1. Why do we need to learn the syntax and semantics of a programming language?\n",
    "\n",
    "- [ ] To be able to easily switch to a different programming language\n",
    "- [ ] So that we know which part is the subject and which one is the predicate\n",
    "- [ ] To allow us to clearly express what we want the computer to do\n",
    "- [ ] To understand why our computer crashes"
   ]
  },
  {
   "cell_type": "raw",
   "id": "12ef72c4-eda3-4b05-9441-5e3a2a9b1e49",
   "metadata": {},
   "source": []
  },
  {
   "cell_type": "markdown",
   "id": "ea93c8ba-bcd1-41b1-8e82-8bff16b70e33",
   "metadata": {},
   "source": [
    "#### 2. What’s automation?\n",
    "- [ ] The process of telling a computer what to do\n",
    "- [ ] The process of installing traffic lights\n",
    "- [ ] The process of getting a haircut\n",
    "- [ ] The process of replacing a manual step with one that happens automatically"
   ]
  },
  {
   "cell_type": "raw",
   "id": "1bea0840-faf3-420c-8fbe-d80d72c0d3ae",
   "metadata": {},
   "source": []
  },
  {
   "cell_type": "markdown",
   "id": "abba11f2-5bd2-4ae3-8596-b877a2fdb404",
   "metadata": {},
   "source": [
    "#### 3. Which of the following tasks do you think are good candidates for automation? Check all that apply.\n",
    "- [ ] Periodically scanning the disk usage of a group of fileservers\n",
    "- [ ] Installing software on laptops given to new employees when they are hired\n",
    "- [ ] Designing a configuration management system for deploying software patches\n",
    "- [ ] Investigating reports that customers are having difficulty accessing your company's external website"
   ]
  },
  {
   "cell_type": "raw",
   "id": "2c1ad6b4-7b8a-4289-a960-0aad8453a4da",
   "metadata": {},
   "source": []
  },
  {
   "cell_type": "markdown",
   "id": "08568931-4bd2-4438-b3a0-1b3102d68bb2",
   "metadata": {},
   "source": [
    "# QUIZ"
   ]
  },
  {
   "cell_type": "markdown",
   "id": "177f8c48-3e21-4b07-a8b5-3aa767936e03",
   "metadata": {},
   "source": [
    "#### 1. What’s a computer program?\n",
    "- [ ] A set of languages available in the computer\n",
    "- [ ] A process for getting duplicate values removed from a list\n",
    "- [ ] A list of instructions that the computer has to follow to reach a goal\n",
    "- [ ] A file that gets copied to all machines in the network"
   ]
  },
  {
   "cell_type": "raw",
   "id": "27efdd8d-5eaa-4f11-8964-b46569f81952",
   "metadata": {},
   "source": []
  },
  {
   "cell_type": "markdown",
   "id": "bcf37633-7d31-46aa-a23e-eb33d759a83b",
   "metadata": {},
   "source": [
    "#### 2. What’s the syntax of a language?\n",
    "- [ ] The rules of how to express things in that language\n",
    "- [ ] The subject of a sentence\n",
    "- [ ] The difference between one language and another\n",
    "- [ ] The meaning of the words"
   ]
  },
  {
   "cell_type": "raw",
   "id": "940bb706-1cd9-4d9e-b681-64fe72a680de",
   "metadata": {},
   "source": []
  },
  {
   "cell_type": "markdown",
   "id": "7649ce9e-b5e6-46bf-b871-e491e57c9cab",
   "metadata": {},
   "source": [
    "#### 3. What’s the difference between a program and a script?\n",
    "- [ ] There’s not much difference, but scripts are usually simpler and shorter.\n",
    "- [ ] Scripts are only written in Python.\n",
    "- [ ] Scripts can only be used for simple tasks.\n",
    "- [ ] Programs are written by software engineers; scripts are written by system administrators."
   ]
  },
  {
   "cell_type": "raw",
   "id": "ec7f1668-e57e-4ca1-95e0-e2b3636b0d3e",
   "metadata": {},
   "source": []
  },
  {
   "cell_type": "markdown",
   "id": "d7490474-21f5-4ec8-9f55-8b5da647a397",
   "metadata": {},
   "source": [
    "#### 4. Which of these scenarios are good candidates for automation? Select all that apply.\n",
    "- [ ] Generating a sales report, split by region and product type\n",
    "- [ ] Creating your own startup company\n",
    "- [ ] Helping a user who’s having network troubles\n",
    "- [ ] Copying a file to all computers in a company\n",
    "- [ ] Interviewing a candidate for a job\n",
    "- [ ] Sending personalized emails to subscribers of your website\n",
    "- [ ] Investigating the root cause of a machine failing to boot"
   ]
  },
  {
   "cell_type": "raw",
   "id": "62b5e4bf-86e4-453a-a7fd-7ad6d253fd30",
   "metadata": {},
   "source": []
  },
  {
   "cell_type": "markdown",
   "id": "e3f37c27-c4d3-4815-9ccd-5827065a9566",
   "metadata": {},
   "source": [
    "#### 5. What are semantics when applied to programming code and pseudocode?\n",
    "- [ ] The rules for how a programming instruction is written\n",
    "- [ ] The difference in number values in one instance of a script compared to another\n",
    "- [ ] The meaning of coded statements\n",
    "- [ ] The end result of a programming instruction"
   ]
  },
  {
   "cell_type": "raw",
   "id": "a7e21c4f-f07f-439c-849b-6aa4d8873a26",
   "metadata": {},
   "source": []
  }
 ],
 "metadata": {
  "kernelspec": {
   "display_name": "Python 3 (ipykernel)",
   "language": "python",
   "name": "python3"
  },
  "language_info": {
   "codemirror_mode": {
    "name": "ipython",
    "version": 3
   },
   "file_extension": ".py",
   "mimetype": "text/x-python",
   "name": "python",
   "nbconvert_exporter": "python",
   "pygments_lexer": "ipython3",
   "version": "3.9.7"
  }
 },
 "nbformat": 4,
 "nbformat_minor": 5
}
