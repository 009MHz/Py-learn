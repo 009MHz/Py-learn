{
 "cells": [
  {
   "cell_type": "markdown",
   "id": "a3738976-59ab-4743-ba9e-67fe0f239f58",
   "metadata": {},
   "source": [
    "# <font color = lime>Recursion</font>\n",
    "The repeated application of the same procedure to a smaller problem"
   ]
  },
  {
   "cell_type": "markdown",
   "id": "c32065d2-5409-40bb-a296-bad8ba710fca",
   "metadata": {},
   "source": [
    "***Real Concept***: *Russian Doll toy*\n",
    "- Recursion lets us tackle complex problems by reducing the problem to a simpler one\n",
    "- In programming, recursion is a way of doing a repetitive task by having a function call itself\n",
    "- A recursive function calls itself usually with a modified parameter until it reaches specific condition\n",
    "- This specific condition is usually called the 'base case'\n",
    "\n",
    "by taking the real concept, the base case condition is the smallest doll inside the Russian Doll"
   ]
  },
  {
   "cell_type": "markdown",
   "id": "c0bd9d53-7e8c-4f74-920c-789b79e51fd1",
   "metadata": {},
   "source": [
    "    Example 1"
   ]
  },
  {
   "cell_type": "code",
   "execution_count": 1,
   "id": "c33f24ee-429e-4a2e-a2a7-668c13faa75e",
   "metadata": {},
   "outputs": [
    {
     "name": "stdout",
     "output_type": "stream",
     "text": [
      "Factorial called with 4\n",
      "Factorial called with 3\n",
      "Factorial called with 2\n",
      "Factorial called with 1\n",
      "Returning 1\n",
      "Returning 2 for factorial of 2\n",
      "Returning 6 for factorial of 3\n",
      "Returning 24 for factorial of 4\n"
     ]
    },
    {
     "data": {
      "text/plain": [
       "24"
      ]
     },
     "execution_count": 1,
     "metadata": {},
     "output_type": "execute_result"
    }
   ],
   "source": [
    "def factorial(x):\n",
    "    print(f\"Factorial called with {x}\")\n",
    "    if x < 2:  # defining the base case where x is smaller than 2\n",
    "        print(\"Returning 1\")\n",
    "        return 1  # will return 1 when the x value is smaller than 2\n",
    "    result = x * factorial(x-1)  # recursive case to call the function -1 within the function\n",
    "    print(f\"Returning {result} for factorial of {x}\")\n",
    "    return result\n",
    "\n",
    "\n",
    "factorial(4)"
   ]
  },
  {
   "cell_type": "markdown",
   "id": "1f96a6e8-ece0-46bf-b18f-2d26abb4dc8d",
   "metadata": {},
   "source": [
    "    Example 2"
   ]
  },
  {
   "cell_type": "raw",
   "id": "d684140e-00cb-42f4-8724-30ae8c35aef6",
   "metadata": {},
   "source": [
    "The function sum_positive_numbers should return the sum of all positive numbers between the number n received and 1. For example, when n is 3 it should return 1+2+3=6, and when n is 5 it should return 1+2+3+4+5=15. Fill in the gaps to make this work:"
   ]
  },
  {
   "cell_type": "code",
   "execution_count": null,
   "id": "af48e641-9051-424f-befd-1ebad4389ad9",
   "metadata": {},
   "outputs": [],
   "source": [
    "def sum_positive_numbers(n):\n",
    "    # The base case is n being smaller than 1\n",
    "    if n < 1:\n",
    "        return __\n",
    "\n",
    "    # The recursive case is adding this number to\n",
    "    # the sum of the numbers smaller than this one.\n",
    "    return __ + sum_positive_numbers(__)\n",
    "\n",
    "\n",
    "print(sum_positive_numbers(3))  # Should be 6\n",
    "print(sum_positive_numbers(5))  # Should be 15"
   ]
  }
 ],
 "metadata": {
  "kernelspec": {
   "display_name": "Python 3 (ipykernel)",
   "language": "python",
   "name": "python3"
  },
  "language_info": {
   "codemirror_mode": {
    "name": "ipython",
    "version": 3
   },
   "file_extension": ".py",
   "mimetype": "text/x-python",
   "name": "python",
   "nbconvert_exporter": "python",
   "pygments_lexer": "ipython3",
   "version": "3.9.7"
  }
 },
 "nbformat": 4,
 "nbformat_minor": 5
}
