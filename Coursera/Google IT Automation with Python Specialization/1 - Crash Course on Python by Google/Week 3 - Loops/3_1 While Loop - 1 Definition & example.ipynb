{
 "cells": [
  {
   "cell_type": "markdown",
   "id": "d3fb0afa-606b-4bf1-aa58-d7377a59bdf0",
   "metadata": {},
   "source": [
    "<font color = \"orange\">***While loops***</font> Instruct our computer to continuously execute our code based on th value of a condition"
   ]
  },
  {
   "cell_type": "markdown",
   "id": "bcbb4c97-59c4-4450-b0fa-feb1390edbbe",
   "metadata": {},
   "source": [
    "Example 1: How many times will \"Not there yet\" be printed?"
   ]
  },
  {
   "cell_type": "code",
   "execution_count": 1,
   "id": "15f727e9-3fae-40f8-8f82-1aceca3eebed",
   "metadata": {},
   "outputs": [
    {
     "name": "stdout",
     "output_type": "stream",
     "text": [
      "Not there yet, x=0\n",
      "Not there yet, x=1\n",
      "Not there yet, x=2\n",
      "Not there yet, x=3\n",
      "Not there yet, x=4\n",
      "x=5\n"
     ]
    }
   ],
   "source": [
    "x = 0\n",
    "while x < 5:\n",
    "    print(\"Not there yet, x=\" + str(x))\n",
    "    x = x + 1\n",
    "print(\"x=\" + str(x))"
   ]
  },
  {
   "cell_type": "markdown",
   "id": "e132525d-95aa-4100-adc7-00bef1e0a89b",
   "metadata": {},
   "source": [
    "# Anatomy of while Loops \n",
    "A while loop will continuously execute code depending on the value of a condition. It begins with the keyword while, followed by a comparison to be evaluated, then a colon. On the next line is the code block to be executed, indented to the right. Similar to an if statement, the code in the body will only be executed if the comparison is evaluated to be true. What sets a while loop apart, however, is that this code block will keep executing as long as the evaluation statement is true. Once the statement is no longer true, the loop exits and the next line of code will be executed"
   ]
  },
  {
   "cell_type": "markdown",
   "id": "aab1bda9-6099-43c6-bdc3-90a8e4c72e79",
   "metadata": {},
   "source": [
    "Example 2: Try passing different parameters to the attempts function to see what it does"
   ]
  },
  {
   "cell_type": "code",
   "execution_count": 2,
   "id": "f09dcdb9-53f2-49e4-a63c-7dfc2cfe5b35",
   "metadata": {},
   "outputs": [
    {
     "name": "stdout",
     "output_type": "stream",
     "text": [
      "Attempt 1\n",
      "Attempt 2\n",
      "Attempt 3\n",
      "Done\n"
     ]
    }
   ],
   "source": [
    "def attempts(n):\n",
    "    x = 1\n",
    "    while x <= n:\n",
    "        print(\"Attempt \" + str(x))\n",
    "        x += 1\n",
    "    print(\"Done\")\n",
    "\n",
    "\n",
    "attempts(3)"
   ]
  },
  {
   "cell_type": "markdown",
   "id": "c40bb7b8-0e2e-43d3-b90b-31f584e7e10c",
   "metadata": {},
   "source": [
    "Example 3: In this code, there's an initialization problem that's causing our function to behave incorrectly. Can you find the problem and fix it?"
   ]
  },
  {
   "cell_type": "code",
   "execution_count": null,
   "id": "53d99509-d4fa-450d-9beb-c3dd0220a0de",
   "metadata": {},
   "outputs": [],
   "source": [
    "def count_down(start_number):\n",
    "    while (current > 0):\n",
    "        print(current)\n",
    "        current -= 1\n",
    "    print(\"Zero!\")"
   ]
  },
  {
   "cell_type": "markdown",
   "id": "aa9fc323-2e0f-4f08-a37e-2ae415793398",
   "metadata": {},
   "source": [
    "<font color = magenta>***Common Pitfalls With Variable Initialization***</font>\n",
    "\n",
    "You'll want to watch out for a common mistake: forgetting to \n",
    "initialize variables. If you try to use a variable without first initializing it, you'll run into a NameError. This \n",
    "is the Python interpreter catching the mistake and telling you that you’re using an undefined variable. The fix is \n",
    "pretty simple: initialize the variable by assigning the variable a value before you use it. \n",
    "\n",
    "Another common mistake to watch out for that can be a little trickier to spot is forgetting to initialize variables \n",
    "with the correct value. If you use a variable earlier in your code and then reuse it later in a loop without first \n",
    "setting the value to something you want, your code may wind up doing something you didn't expect. Don't forget to \n",
    "initialize your variables before using them!"
   ]
  }
 ],
 "metadata": {
  "kernelspec": {
   "display_name": "Python 3 (ipykernel)",
   "language": "python",
   "name": "python3"
  },
  "language_info": {
   "codemirror_mode": {
    "name": "ipython",
    "version": 3
   },
   "file_extension": ".py",
   "mimetype": "text/x-python",
   "name": "python",
   "nbconvert_exporter": "python",
   "pygments_lexer": "ipython3",
   "version": "3.9.7"
  }
 },
 "nbformat": 4,
 "nbformat_minor": 5
}
