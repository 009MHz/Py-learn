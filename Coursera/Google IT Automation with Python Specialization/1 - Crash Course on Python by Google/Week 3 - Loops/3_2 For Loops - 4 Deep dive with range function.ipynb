{
 "cells": [
  {
   "cell_type": "markdown",
   "id": "382b880f-53be-4c09-90a2-d4d23afb0de2",
   "metadata": {},
   "source": [
    "Previously we had used the <font color = green>***range()***</font> function by passing it a single parameter, and it generated a sequence of numbers from 0 to one less than we specified. But the <font color = green>***range()***</font> function can do much more than that. We can pass in two parameters: the first specifying our starting point, the second specifying the end point. Don't forget that the sequence generated won't contain the last element; it will stop one before the parameter specified."
   ]
  },
  {
   "cell_type": "markdown",
   "id": "6ff72b55-0971-491b-a7db-eea156d07db6",
   "metadata": {},
   "source": [
    "The <font color = green>***range()***</font> function can take a third parameter, too. This third parameter lets you  alter the size of each step. So instead of creating a sequence of numbers incremented by 1, you can generate a sequence of numbers that are incremented by 5."
   ]
  },
  {
   "cell_type": "markdown",
   "id": "af48e1f7-39b9-4121-bcc4-a3f0adaa5728",
   "metadata": {},
   "source": [
    "To quickly recap the <font color = green>***range()***</font> function when passing one, two, or three parameters:\n",
    "- One parameter will create a sequence, one-by-one, from zero to one less than the parameter.\n",
    "- Two parameters will create a sequence, one-by-one, from the first parameter to one less than the second parameter.\n",
    "- Three parameters will create a sequence starting with the first parameter and stopping before the second parameter, but this time increasing each step by the third parameter."
   ]
  }
 ],
 "metadata": {
  "kernelspec": {
   "display_name": "Python 3 (ipykernel)",
   "language": "python",
   "name": "python3"
  },
  "language_info": {
   "codemirror_mode": {
    "name": "ipython",
    "version": 3
   },
   "file_extension": ".py",
   "mimetype": "text/x-python",
   "name": "python",
   "nbconvert_exporter": "python",
   "pygments_lexer": "ipython3",
   "version": "3.9.7"
  }
 },
 "nbformat": 4,
 "nbformat_minor": 5
}
