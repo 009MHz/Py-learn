{
 "cells": [
  {
   "cell_type": "markdown",
   "id": "d3e65eac-a489-4397-8b3f-e984a5450f8f",
   "metadata": {},
   "source": [
    "### Example 1: TypeError: 'int' object is not iterable"
   ]
  },
  {
   "cell_type": "code",
   "execution_count": null,
   "id": "a49ed37e-4975-434f-ad39-2b373b9e2736",
   "metadata": {},
   "outputs": [],
   "source": [
    "for x in 25:\n",
    "    print(x)"
   ]
  },
  {
   "cell_type": "markdown",
   "id": "a4471029-0815-4c37-ab8e-8c4e5cc470f7",
   "metadata": {},
   "source": [
    "- reason: 25 berlaku sebagai angka tunggal atau bukan range\n",
    "- angka tunggal tidak akan bisa di iterate (dibongkar)"
   ]
  },
  {
   "cell_type": "markdown",
   "id": "2b27f6ab-7c51-4c9b-a6ce-a12af13afc70",
   "metadata": {},
   "source": [
    "<font color = cyan>solutions</font>: ganti menjadi range"
   ]
  },
  {
   "cell_type": "code",
   "execution_count": null,
   "id": "009a4ca2-523e-4cd6-aebf-da86a300eb7b",
   "metadata": {},
   "outputs": [],
   "source": [
    "for x in range(25):\n",
    "    print(x)"
   ]
  },
  {
   "cell_type": "markdown",
   "id": "7ebe6da3-6021-4232-8c5e-0d421fed0e6d",
   "metadata": {},
   "source": [
    "### Example 2: looping single value"
   ]
  },
  {
   "cell_type": "code",
   "execution_count": null,
   "id": "5c08b086-7f70-48ac-8895-6d8f4baacd9f",
   "metadata": {},
   "outputs": [],
   "source": [
    "for x in [25]:\n",
    "    print(x)"
   ]
  },
  {
   "cell_type": "markdown",
   "id": "97af7e60-d310-4728-b29d-bf27d0ea66e2",
   "metadata": {},
   "source": [
    "- bukan error, tapi cuman ga make sense\n",
    "- isinya cuman satu dan ga perlu di-iterate"
   ]
  },
  {
   "cell_type": "markdown",
   "id": "932d9f0f-b1e8-47b2-a623-acc04916c3cc",
   "metadata": {},
   "source": [
    "### Example 3: iterating the string"
   ]
  },
  {
   "cell_type": "code",
   "execution_count": null,
   "id": "d72636d5-d15c-472d-91a1-d3b33b87646f",
   "metadata": {},
   "outputs": [],
   "source": [
    "def greetings(friends):\n",
    "    for x in friends:\n",
    "        print(\"Hi \" + x)\n",
    "        \n",
    "        \n",
    "greetings(['Taylor', \"Luisa\", \"Ron\", \"Granger\"])  # normal\n",
    "greetings(\"Amy\")  # Hi A, Hi m, Hi y (upnormal)"
   ]
  },
  {
   "cell_type": "markdown",
   "id": "843106ee-46e2-4d0d-bea8-e9baea35ff17",
   "metadata": {},
   "source": [
    "- reason: karena string itu iteratable (bisa dibongkar)\n",
    "- passed parameter akan dibongkar and returned one by one"
   ]
  },
  {
   "cell_type": "markdown",
   "id": "02d11580-a7a1-42bf-bcd7-005feffd4988",
   "metadata": {},
   "source": [
    "### Example 4"
   ]
  },
  {
   "cell_type": "raw",
   "id": "451164e5-5136-4c85-b376-57ba75a4d7c2",
   "metadata": {},
   "source": [
    "The validate_users function is used by the system to check if a list of users is valid or invalid. A valid user is one that is at least 3 characters long. For example, ['taylor', 'luisa', 'jamaal'] are all valid users. When calling it like in this example, something is not right. Can you figure out what to fix?"
   ]
  },
  {
   "cell_type": "code",
   "execution_count": null,
   "id": "a26d597a-6f36-4ba6-bec7-eb013edabdd7",
   "metadata": {},
   "outputs": [],
   "source": [
    "def validate_users(users):\n",
    "    for user in [users]:\n",
    "        if is_valid(user):\n",
    "            print(user + \" is valid\")\n",
    "        else:\n",
    "            print(user + \" is invalid\")\n",
    "\n",
    "\n",
    "validate_users(\"purplecat\")"
   ]
  }
 ],
 "metadata": {
  "kernelspec": {
   "display_name": "Python 3 (ipykernel)",
   "language": "python",
   "name": "python3"
  },
  "language_info": {
   "codemirror_mode": {
    "name": "ipython",
    "version": 3
   },
   "file_extension": ".py",
   "mimetype": "text/x-python",
   "name": "python",
   "nbconvert_exporter": "python",
   "pygments_lexer": "ipython3",
   "version": "3.9.7"
  }
 },
 "nbformat": 4,
 "nbformat_minor": 5
}
