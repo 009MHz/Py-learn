{
 "cells": [
  {
   "cell_type": "markdown",
   "id": "e316ade5-979a-4c1a-8bf4-9fda2446bb1e",
   "metadata": {},
   "source": [
    "Example 1: number factorial"
   ]
  },
  {
   "cell_type": "raw",
   "id": "4894c3f7-53ae-45b8-9cc9-e4ee6bd1f5a0",
   "metadata": {},
   "source": [
    "In math, the factorial of a number is defined as the product of an integer and all the integers below it. For\n",
    "example, the factorial of four (4!) is equal to 1*2*3*4=24. Fill in the blanks to make the factorial function return\n",
    "the right number."
   ]
  },
  {
   "cell_type": "code",
   "execution_count": 1,
   "id": "d943895e-39fc-49cb-b0ea-917db017d82b",
   "metadata": {},
   "outputs": [
    {
     "name": "stdout",
     "output_type": "stream",
     "text": [
      "24\n",
      "120\n"
     ]
    }
   ],
   "source": [
    "def factorial(n):\n",
    "    result = 1\n",
    "    for i in range(1,n+1):\n",
    "        result *= i\n",
    "    return result\n",
    "\n",
    "\n",
    "print(factorial(4))  # should return 24\n",
    "print(factorial(5))  # should return 120"
   ]
  },
  {
   "cell_type": "markdown",
   "id": "85a3d0c7-05f1-4ff3-be3c-c196ebbb9c25",
   "metadata": {},
   "source": [
    "Example 2: Temperatur Converter"
   ]
  },
  {
   "cell_type": "code",
   "execution_count": 2,
   "id": "92bf9ca8-6930-423a-925a-e7e82319b1f9",
   "metadata": {},
   "outputs": [
    {
     "name": "stdout",
     "output_type": "stream",
     "text": [
      "0 -17.77777777777778\n",
      "10 -12.222222222222221\n",
      "20 -6.666666666666667\n",
      "30 -1.1111111111111112\n",
      "40 4.444444444444445\n",
      "50 10.0\n",
      "60 15.555555555555555\n",
      "70 21.11111111111111\n",
      "80 26.666666666666668\n",
      "90 32.22222222222222\n",
      "100 37.77777777777778\n"
     ]
    }
   ],
   "source": [
    "def to_celsius(x):\n",
    "    return (x-32)*5/9\n",
    "\n",
    "\n",
    "for x in range(0,101,10):  # looping the number 0 - 101 dengan kelipatan 10\n",
    "    print(x, to_celsius(x))"
   ]
  }
 ],
 "metadata": {
  "kernelspec": {
   "display_name": "Python 3 (ipykernel)",
   "language": "python",
   "name": "python3"
  },
  "language_info": {
   "codemirror_mode": {
    "name": "ipython",
    "version": 3
   },
   "file_extension": ".py",
   "mimetype": "text/x-python",
   "name": "python",
   "nbconvert_exporter": "python",
   "pygments_lexer": "ipython3",
   "version": "3.9.7"
  }
 },
 "nbformat": 4,
 "nbformat_minor": 5
}
