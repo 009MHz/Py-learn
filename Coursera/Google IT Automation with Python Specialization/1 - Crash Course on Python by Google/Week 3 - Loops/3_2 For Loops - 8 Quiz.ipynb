{
 "cells": [
  {
   "cell_type": "markdown",
   "id": "d6ef7462-2b48-4f0b-93ff-2ad9e502fdc2",
   "metadata": {},
   "source": [
    "### Question 1\n",
    "How are while loops and for loops different in Python?\n",
    "- [ ] While loops can be used with all data types, for loops can only be used with numbers.\n",
    "- [ ] For loops can be nested, but while loops can't.\n",
    "- [ ] While loops iterate while a condition is true, for loops iterate through a sequence of elements.\n",
    "- [ ] While loops can be interrupted using break, for loops using continue."
   ]
  },
  {
   "cell_type": "raw",
   "id": "be5b41b9-4ba3-4011-a830-4cf4df2e456b",
   "metadata": {},
   "source": []
  },
  {
   "cell_type": "markdown",
   "id": "bec43c37-8924-4628-897e-f0d5ec97f0cd",
   "metadata": {},
   "source": [
    "## Question 2 \n",
    "Fill in the blanks to make the factorial function return the factorial of n. Then, print the first 10 factorials (from 0 to 9) with the corresponding number. Remember that the factorial of a number is defined as the product of an integer and all integers before it. For example, the factorial of five (5!) is equal to 1*2*3*4*5=120. Also recall that the factorial of zero (0!) is equal to 1."
   ]
  },
  {
   "cell_type": "code",
   "execution_count": null,
   "id": "bdde74ac-22e7-486f-b699-a7de2b5b4bb1",
   "metadata": {},
   "outputs": [],
   "source": [
    "def factorial(n):\n",
    "    result = 1\n",
    "    for x in range(1, n+1):\n",
    "        result = result * x\n",
    "    return result\n",
    "\n",
    "\n",
    "for n in range(0,10):\n",
    "    print(n, factorial(n))"
   ]
  },
  {
   "cell_type": "markdown",
   "id": "fe6897a7-b0b4-4c7c-b86c-a46a21240f16",
   "metadata": {},
   "source": [
    "## Question 3\n",
    "Write a script that prints the first 10 cube numbers (x**3), starting with x=1 and ending with x=10"
   ]
  },
  {
   "cell_type": "code",
   "execution_count": null,
   "id": "fc8a5453-34db-4112-9876-e11c3753fd95",
   "metadata": {},
   "outputs": [],
   "source": [
    "for i in range(1, 11):\n",
    "    print(i**3)"
   ]
  },
  {
   "cell_type": "markdown",
   "id": "ca328de3-9369-4e2a-b82b-4a056eecbcce",
   "metadata": {},
   "source": [
    "## Question 4 \n",
    "Write a script that prints the multiples of 7 between 0 and 100. Print one multiple per line and avoid printing any numbers that aren't multiples of 7. Remember that 0 is also a multiple of 7."
   ]
  },
  {
   "cell_type": "code",
   "execution_count": null,
   "id": "d3ffa5c4-207e-489d-ab6c-19541adad759",
   "metadata": {},
   "outputs": [],
   "source": [
    "for x in range(0, 101, 7):\n",
    "    result = x * x\n",
    "    print(f' {x} | {result}')"
   ]
  },
  {
   "cell_type": "markdown",
   "id": "9e94a4d0-d4de-4a4e-9a3e-2fb131951828",
   "metadata": {},
   "source": [
    "## Question 5 \n",
    "The retry function tries to execute an operation that might fail, it retries the operation for a number of attempts.  Currently the code will keep executing the function even if it succeeds. Fill in the blank so the code stops trying after the operation succeeded."
   ]
  },
  {
   "cell_type": "code",
   "execution_count": 2,
   "id": "58e77a1d-07ee-4b5d-9514-6232ad7b6070",
   "metadata": {},
   "outputs": [
    {
     "name": "stdout",
     "output_type": "stream",
     "text": [
      "Attempt 0 succeeded\n",
      "Attempt 0 succeeded\n"
     ]
    }
   ],
   "source": [
    "def retry(operation, attempts):\n",
    "    for x in range(attempts):\n",
    "        if operation:\n",
    "            print(\"Attempt \" + str(x) + \" succeeded\")\n",
    "            break\n",
    "        else:\n",
    "            print(\"Attempt \" + str(x) + \" failed\")\n",
    "\n",
    "\n",
    "retry('create_user', 3)\n",
    "retry('stop_service', 5)"
   ]
  }
 ],
 "metadata": {
  "kernelspec": {
   "display_name": "Python 3 (ipykernel)",
   "language": "python",
   "name": "python3"
  },
  "language_info": {
   "codemirror_mode": {
    "name": "ipython",
    "version": 3
   },
   "file_extension": ".py",
   "mimetype": "text/x-python",
   "name": "python",
   "nbconvert_exporter": "python",
   "pygments_lexer": "ipython3",
   "version": "3.9.7"
  }
 },
 "nbformat": 4,
 "nbformat_minor": 5
}
