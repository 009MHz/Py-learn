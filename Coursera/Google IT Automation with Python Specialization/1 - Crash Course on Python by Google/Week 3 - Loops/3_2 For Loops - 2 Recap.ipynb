{
 "cells": [
  {
   "cell_type": "markdown",
   "id": "97ed5d8d-47f4-46e9-9158-c7a49c33690f",
   "metadata": {},
   "source": [
    "**For loops** allow you to iterate over a sequence of values. Let's take the example from the beginning of the video:"
   ]
  },
  {
   "cell_type": "code",
   "execution_count": null,
   "id": "bbfe1e18-14a3-4fef-a6ec-b87f08a10a94",
   "metadata": {},
   "outputs": [],
   "source": [
    "for x in range(5):\n",
    "    print(x)"
   ]
  },
  {
   "cell_type": "markdown",
   "id": "1d68040b-79f3-483f-8198-5cead12226e7",
   "metadata": {},
   "source": [
    "Similar to if statements and while loops, for loops begin with the keyword for with a colon at the end of the line. Just like in function definitions, while loops and if statements, the body of the for loop begins on the next line and is indented to the right. But what about the stuff in between the for keyword and the colon? In our example, we’re using the range() function to create a sequence of numbers that our for loop can iterate over. In this case, our variable x points to the current element in the sequence as the for loop iterates over the sequence of numbers.Keep in mind that in Python and many programming languages, a range of numbers will start at 0, and the list of numbers generated will be one less than the provided value. So range(5) will generate a sequence of numbers from 0 to 4, for a total of 5 numbers."
   ]
  },
  {
   "cell_type": "markdown",
   "id": "23d73704-bd7d-4d53-8da6-48d1b5982a4b",
   "metadata": {},
   "source": [
    "Bringing this all together, the range(5) function will create a sequence of numbers from 0 to 4. Our for loop will iterate over this sequence of numbers, one at a time, making the numbers accessible via the variable x and the code within our loop body will execute for each iteration through the sequence. So for the first loop, x will contain 0, the next loop, 1, and so on until it reaches 4. Once the end of the sequence comes up, the loop will exit and the code will continue."
   ]
  },
  {
   "cell_type": "markdown",
   "id": "302c0619-fe13-4072-a9f3-0a8100e44327",
   "metadata": {},
   "source": [
    "The power of for loops comes from the fact that it can iterate over a sequence of any kind of data, not just a range of numbers. You can use for loops to iterate over a list of strings, such as usernames or lines in a file."
   ]
  },
  {
   "cell_type": "markdown",
   "id": "5a264d80-741d-493e-b9c7-29468cf87cda",
   "metadata": {},
   "source": [
    "Not sure whether to use a for loop or a while loop? Remember that a while loop is great for performing an action over and over until a condition has changed. A for loop works well when you want to iterate over a sequence of elements."
   ]
  }
 ],
 "metadata": {
  "kernelspec": {
   "display_name": "Python 3 (ipykernel)",
   "language": "python",
   "name": "python3"
  },
  "language_info": {
   "codemirror_mode": {
    "name": "ipython",
    "version": 3
   },
   "file_extension": ".py",
   "mimetype": "text/x-python",
   "name": "python",
   "nbconvert_exporter": "python",
   "pygments_lexer": "ipython3",
   "version": "3.9.7"
  }
 },
 "nbformat": 4,
 "nbformat_minor": 5
}
