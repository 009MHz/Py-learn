{
 "cells": [
  {
   "cell_type": "markdown",
   "id": "94805c2f-db84-4987-b7de-7389214b9909",
   "metadata": {},
   "source": [
    "# Research\n",
    "We're going to consider all the tools we have available to help us solve the problem. To find out which users are currently logged into machines, we need to check when they logged in and when they logged out.\n"
   ]
  },
  {
   "cell_type": "markdown",
   "id": "2f949914-b511-4ee1-b11a-9359ee7493ce",
   "metadata": {
    "tags": []
   },
   "source": [
    "#### 1. Sorting the data\n",
    "Type sort lists in Python into your favorite search engine and you'll get a bunch of results that mentioned the list sort method and the sorted function"
   ]
  },
  {
   "cell_type": "markdown",
   "id": "f31e388c-afd2-4d5d-9915-a3b53b8391c1",
   "metadata": {},
   "source": [
    "Example 1: ***sort()*** method and ***sorted()*** function"
   ]
  },
  {
   "cell_type": "code",
   "execution_count": null,
   "id": "e29062e0-5135-4cea-9682-df83ede08c0e",
   "metadata": {},
   "outputs": [],
   "source": [
    "# sort method\n",
    "numbers = [4,7,8,9,1,2]\n",
    "print(numbers)  # [4, 7, 8, 9, 1, 2]\n",
    "numbers.sort()\n",
    "print(numbers)  # [1, 2, 4, 7, 8, 9]"
   ]
  },
  {
   "cell_type": "markdown",
   "id": "4682da76-c1f8-416a-b3d4-745e912c5bc5",
   "metadata": {},
   "source": [
    "The sort methods will generate a new changes, that means after being called, the original data will updated untill there's new adjustment again"
   ]
  },
  {
   "cell_type": "code",
   "execution_count": null,
   "id": "e0e4473a-b357-4838-b23d-a8e82263e637",
   "metadata": {},
   "outputs": [],
   "source": [
    "# sorted function\n",
    "names = [\"Carlos\", \"Ray\", \"Alexis\", \"Sanchez\", \"Luna\"]\n",
    "print(names)  # ['Carlos', 'Ray', 'Alexis', 'Sanchez', 'Luna']\n",
    "print(sorted(names))  # ['Alexis', 'Carlos', 'Luna', 'Ray', 'Sanchez']\n",
    "print(names)  # ['Carlos', 'Ray', 'Alexis', 'Sanchez', 'Luna']"
   ]
  },
  {
   "cell_type": "markdown",
   "id": "762e11f6-b161-453c-a96a-e1cf7aea579b",
   "metadata": {},
   "source": [
    "The sorted functions return a new sorted list, that means the original data was left untouched (not changed)"
   ]
  },
  {
   "cell_type": "markdown",
   "id": "72b7bb35-a271-4d27-8c96-8dba58dfa913",
   "metadata": {},
   "source": [
    "Example 2: sorting the values using specific criteria"
   ]
  },
  {
   "cell_type": "code",
   "execution_count": 11,
   "id": "2ec427ea-cc79-48d2-b8e8-ef0fb649e228",
   "metadata": {},
   "outputs": [
    {
     "name": "stdout",
     "output_type": "stream",
     "text": [
      "['Ray', 'Luna', 'Carlos', 'Alexis', 'Sanchez']\n"
     ]
    }
   ],
   "source": [
    "# sorting based on the text length\n",
    "print(sorted(names, key=len))"
   ]
  },
  {
   "cell_type": "markdown",
   "id": "14e0077f-af9b-486a-a23b-d30ba0d6645f",
   "metadata": {},
   "source": [
    "    - When using a criteria we need pass the key for the function\n",
    "    - As the example took, it will be using len function as the key\n",
    "    - The sorted function will took the text length based on the min to max numbers"
   ]
  },
  {
   "cell_type": "markdown",
   "id": "8cb5896b-3821-4597-a5b4-cb1b0c6d7014",
   "metadata": {},
   "source": [
    "#### 2. Implement into the scenarion\n",
    "In our report scenario, we know that our elements will be instances of the event class and we want to order by date, which is an attribute of the event class. One way we could do this is to write a function called <font color = magenta>***get_event_date***</font> which returns the date stored in the event object. We could also create this as a method in the event class if we had access to modifying the class\n",
    "\n",
    "But since we're working with a bigger system that generates these events, we will assume that we can't just add a method to the class. So we'll create our own function instead"
   ]
  }
 ],
 "metadata": {
  "kernelspec": {
   "display_name": "Python 3 (ipykernel)",
   "language": "python",
   "name": "python3"
  },
  "language_info": {
   "codemirror_mode": {
    "name": "ipython",
    "version": 3
   },
   "file_extension": ".py",
   "mimetype": "text/x-python",
   "name": "python",
   "nbconvert_exporter": "python",
   "pygments_lexer": "ipython3",
   "version": "3.9.7"
  }
 },
 "nbformat": 4,
 "nbformat_minor": 5
}
