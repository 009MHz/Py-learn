{
 "cells": [
  {
   "cell_type": "markdown",
   "id": "43b3f490-c668-4767-8989-e9f80db782d1",
   "metadata": {},
   "source": [
    "# What to do?\n",
    "\n",
    "## Go step by step using a recommended way for dealing with more advanced challenges\n",
    "1. To start solving our problem, we'll first look at the problem statement where we'll get an understanding of what we need to do and the inputs and outputs for the script we'll need to write.\n",
    "2. Do some research. We'll think about how we can tackle the problem with the tools already baked into Python\n",
    "- **Remember** : that we always want to avoid reinventing the wheel. No matter how tricky and intricate the challenge appears, chances are that others have solved a similar one before. So it's valuable to spend some time tapping into the resources that exist to help us solve our problem.\n",
    "3. Once we know what we need to write and what we can use it to do, we'll do some planning\n",
    "    - We'll think about what data types will be useful for our solution and how we're going to operate on them.\n",
    "4. We'll do the actual writing of the script and then we'll check that the code does what it's supposed to dowe'll do the actual writing of the script and then we'll check that the code does what it's supposed to do"
   ]
  }
 ],
 "metadata": {
  "kernelspec": {
   "display_name": "Python 3 (ipykernel)",
   "language": "python",
   "name": "python3"
  },
  "language_info": {
   "codemirror_mode": {
    "name": "ipython",
    "version": 3
   },
   "file_extension": ".py",
   "mimetype": "text/x-python",
   "name": "python",
   "nbconvert_exporter": "python",
   "pygments_lexer": "ipython3",
   "version": "3.9.7"
  }
 },
 "nbformat": 4,
 "nbformat_minor": 5
}
