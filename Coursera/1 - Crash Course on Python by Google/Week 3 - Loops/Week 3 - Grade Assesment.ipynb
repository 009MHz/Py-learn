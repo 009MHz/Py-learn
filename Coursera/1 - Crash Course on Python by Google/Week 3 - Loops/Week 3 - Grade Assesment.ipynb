{
 "cells": [
  {
   "cell_type": "markdown",
   "id": "1c9b4df6-27b0-4063-96bd-d662c877113f",
   "metadata": {},
   "source": [
    "## Question 1\n",
    "Fill in the blanks of this code to print out the numbers 1 through 7"
   ]
  },
  {
   "cell_type": "code",
   "execution_count": null,
   "id": "b2ea9a7b-6418-4a90-a87e-677d38a3e550",
   "metadata": {},
   "outputs": [],
   "source": [
    "number = 1\n",
    "while number <= 7:\n",
    "    print(number, end=\" \")\n",
    "    number += 1"
   ]
  },
  {
   "cell_type": "markdown",
   "id": "bb6100e1-500a-42cc-9dcc-f517d1f0b030",
   "metadata": {},
   "source": [
    "## Question 2 \n",
    "The show_letters function should print out each letter of a word on a separate line. Fill in the blanks to make that happen"
   ]
  },
  {
   "cell_type": "code",
   "execution_count": null,
   "id": "cd782040-3d4f-4f35-a734-a52c4c6bc5ae",
   "metadata": {},
   "outputs": [],
   "source": [
    "def show_letters(word):\n",
    "    for i in word:\n",
    "        print(i)\n",
    "\n",
    "\n",
    "show_letters(\"Hello\")  # Should print one line per letter"
   ]
  },
  {
   "cell_type": "markdown",
   "id": "b0f08f53-8f83-4107-b9f8-6601662e8dee",
   "metadata": {},
   "source": [
    "## Question 3 \n",
    "Complete the function digits(n) that returns how many digits the number has. For example: 25 has 2 digits and 144 has 3 digits. Tip: you can figure out the digits of a number by dividing it by 10 once per digit until there are no digits left."
   ]
  },
  {
   "cell_type": "code",
   "execution_count": null,
   "id": "84057157-4fa5-41d6-98a3-2984dc1a1551",
   "metadata": {},
   "outputs": [],
   "source": [
    "def digits(n):\n",
    "    count = 0\n",
    "    if n == 0:\n",
    "        count += 1\n",
    "    while (n / 10) >= 0.1:\n",
    "        count += 1\n",
    "        n /= 10\n",
    "    return count\n",
    "\n",
    "\n",
    "print(digits(25))  # Should print 2\n",
    "print(digits(144))  # Should print 3\n",
    "print(digits(1000))  # Should print 4\n",
    "print(digits(0))  # Should print 1"
   ]
  },
  {
   "cell_type": "markdown",
   "id": "88df4a6f-ce54-4b45-9c46-945d8dcb0dd9",
   "metadata": {},
   "source": [
    "## Question 4\n",
    "This function prints out a multiplication table (where each number is the result of multiplying the first number of its row by the number at the top of its column). Fill in the blanks so that calling multiplication_table(1, 3) will print out:\n",
    "\n",
    "1 2 3 \n",
    "\n",
    "2 4 6 \n",
    "\n",
    "3 6 9"
   ]
  },
  {
   "cell_type": "code",
   "execution_count": null,
   "id": "840290ff-5b1f-42e3-ab9a-5174c823075e",
   "metadata": {},
   "outputs": [],
   "source": [
    "def multiplication_table(start, stop):\n",
    "    for x in range(start, stop+1):\n",
    "        for y in range(start, stop+1):\n",
    "            print(str(x*y), end=\" \")\n",
    "        print()\n",
    "\n",
    "\n",
    "multiplication_table(1, 3)  # Should print the multiplication table shown above"
   ]
  },
  {
   "cell_type": "markdown",
   "id": "7e9865a9-cdd6-4471-a1a1-de5fa526fe36",
   "metadata": {},
   "source": [
    "## Question 5 \n",
    "The counter function counts down from start to stop when start is bigger than stop, and counts up from start to stop otherwise. Fill in the blanks to make this work correctly."
   ]
  },
  {
   "cell_type": "code",
   "execution_count": null,
   "id": "8378682f-820c-4a96-bce2-b7ac30df257b",
   "metadata": {},
   "outputs": [],
   "source": [
    "def counter(start, stop):\n",
    "    x = start\n",
    "    if x >= stop:\n",
    "        return_string = \"Counting down: \"\n",
    "        while x >= stop:\n",
    "            return_string += str(x)\n",
    "            if x!= stop:\n",
    "                return_string += \",\"\n",
    "            x -= 1\n",
    "    else:\n",
    "        return_string = \"Counting up: \"\n",
    "        while x <= stop:\n",
    "            return_string += str(x)\n",
    "            if x != stop:\n",
    "                return_string += \",\"\n",
    "            x += 1\n",
    "    return return_string\n",
    "\n",
    "\n",
    "print(counter(1, 10)) # Should be \"Counting up: 1,2,3,4,5,6,7,8,9,10\"\n",
    "print(counter(2, 1)) # Should be \"Counting down: 2,1\"\n",
    "print(counter(5, 5)) # Should be \"Counting up: 5\""
   ]
  },
  {
   "cell_type": "markdown",
   "id": "dd88e171-7082-49f9-92f6-e5ca1e0e7bc8",
   "metadata": {},
   "source": [
    "## Question 6 \n",
    "The even_numbers function returns a space-separated string of all positive numbers that are divisible by 2, up to and including the maximum that's passed into the function. For example, even_numbers(6) returns “2 4 6”. Fill in the blank to make this work."
   ]
  },
  {
   "cell_type": "code",
   "execution_count": null,
   "id": "555ab1a4-f457-46d0-a71d-8998d3c6b5e1",
   "metadata": {},
   "outputs": [],
   "source": [
    "def even_numbers(maximum):\n",
    "    return_string = \"\"\n",
    "    for x in range(0,maximum+1,2):\n",
    "        return_string += str(x) + \" \"\n",
    "    return return_string.strip()\n",
    "\n",
    "\n",
    "print(even_numbers(6))  # Should be 2 4 6\n",
    "print(even_numbers(10))  # Should be 2 4 6 8 10\n",
    "print(even_numbers(1))  # No numbers displayed\n",
    "print(even_numbers(3))  # Should be 2\n",
    "print(even_numbers(0))  # No numbers displayed"
   ]
  },
  {
   "cell_type": "markdown",
   "id": "b951d72b-ced2-4ed3-89e2-a59a1eb3c8a9",
   "metadata": {},
   "source": [
    "## Question 7\n",
    "The following code raises an error when executed. What's the reason for the error"
   ]
  },
  {
   "cell_type": "code",
   "execution_count": null,
   "id": "37d3523c-85d9-4598-b546-71cb4f043aa0",
   "metadata": {},
   "outputs": [],
   "source": [
    "def decade_counter():\n",
    "    while year < 50:\n",
    "        year += 10\n",
    "    return year"
   ]
  },
  {
   "cell_type": "markdown",
   "id": "502f91b8-636b-4fd7-bc44-04bff15dbb94",
   "metadata": {},
   "source": [
    "- [ ] Incrementing by 10 instead of 1\n",
    "- [ ] Failure to initialize variables\n",
    "- [ ] Nothing is happening inside the while loop\n",
    "- [ ] Wrong comparison operator"
   ]
  },
  {
   "cell_type": "markdown",
   "id": "3b7f4483-0bc8-401b-bc7c-c6090c647530",
   "metadata": {},
   "source": [
    "## Question 8\n",
    "What is the value of x at the end of the following code?"
   ]
  },
  {
   "cell_type": "raw",
   "id": "0ba6de89-0a36-4157-9bdb-e6fbe9bc5da4",
   "metadata": {},
   "source": [
    "for x in range(1, 10, 3):\n",
    "    print(x)"
   ]
  },
  {
   "cell_type": "raw",
   "id": "ca4ca5ca-bd8b-4064-b024-7ece923ec2f1",
   "metadata": {},
   "source": []
  },
  {
   "cell_type": "markdown",
   "id": "8d5a9b4d-5356-4216-9a64-afe9441646f8",
   "metadata": {},
   "source": [
    "## Question 9\n",
    "What is the value of y at the end of the following code?"
   ]
  },
  {
   "cell_type": "raw",
   "id": "93a29b1a-5ef0-4598-a75b-6633a3ee001b",
   "metadata": {},
   "source": [
    "for x in range(10):\n",
    "    for y in range(x):\n",
    "        print(y)"
   ]
  },
  {
   "cell_type": "code",
   "execution_count": null,
   "id": "421319fe-c247-43cc-b7fb-7fc73acd030e",
   "metadata": {},
   "outputs": [],
   "source": []
  },
  {
   "cell_type": "markdown",
   "id": "eb4993b5-0cde-4541-9a2d-8a398444c76a",
   "metadata": {},
   "source": [
    "## Question 10\n",
    "How does this function need to be called to print yes, no, and maybe as possible options to vote for?"
   ]
  },
  {
   "cell_type": "code",
   "execution_count": null,
   "id": "7b4e43b7-ccdb-4215-94e8-8265130b02e3",
   "metadata": {},
   "outputs": [],
   "source": [
    "def votes(params):\n",
    "    for vote in params:\n",
    "        print(\"Possible option:\" + vote)"
   ]
  },
  {
   "cell_type": "markdown",
   "id": "5075fdb5-5793-46ea-8525-e1eb6fc33e44",
   "metadata": {},
   "source": [
    "- [ ] votes(\"yes\", \"no\", \"maybe\")\n",
    "- [ ] votes(yes, no, maybe)\n",
    "- [ ] votes([yes, no, maybe])\n",
    "- [ ] votes(['yes', 'no', 'maybe'])"
   ]
  }
 ],
 "metadata": {
  "kernelspec": {
   "display_name": "Python 3 (ipykernel)",
   "language": "python",
   "name": "python3"
  },
  "language_info": {
   "codemirror_mode": {
    "name": "ipython",
    "version": 3
   },
   "file_extension": ".py",
   "mimetype": "text/x-python",
   "name": "python",
   "nbconvert_exporter": "python",
   "pygments_lexer": "ipython3",
   "version": "3.9.7"
  }
 },
 "nbformat": 4,
 "nbformat_minor": 5
}
