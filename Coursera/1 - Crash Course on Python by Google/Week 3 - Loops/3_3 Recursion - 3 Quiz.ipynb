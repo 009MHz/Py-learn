{
 "cells": [
  {
   "cell_type": "markdown",
   "id": "bce3399c-2401-4a30-bd04-d130e0b41c15",
   "metadata": {},
   "source": [
    "## Question 1\n",
    "What is recursion used for?\n",
    "- [ ] Recursion is used to create loops in languages where other loops are not available.\n",
    "- [ ] We use recursion only to implement mathematical formulas in code.\n",
    "- [ ] Recursion is used to iterate through sequences of files and directories.\n",
    "- [ ] Recursion lets us tackle complex problems by reducing the problem to a simpler one."
   ]
  },
  {
   "cell_type": "markdown",
   "id": "e90852b5-7b12-4b2b-afbc-009cd986d01a",
   "metadata": {},
   "source": [
    "## Question 2\n",
    "Which of these activities are good use cases for recursive programs? Check all that apply.\n",
    "- [ ] Going through a file system collecting information related to directories and files.\n",
    "- [ ] Creating a user account.\n",
    "- [ ] Installing or upgrading software on the computer.\n",
    "- [ ] Managing permissions assigned to groups inside a company, when each group can contain both subgroups and users.\n",
    "- [ ] Checking if a computer is connected to the local network."
   ]
  },
  {
   "cell_type": "markdown",
   "id": "756c7d78-51e0-4833-8944-3d3320e9d8ae",
   "metadata": {},
   "source": [
    "## Question 3\n",
    "Fill in the blanks to make the is_power_of function return whether the number is a power of the given base. Note: base is assumed to be a positive number. Tip: for functions that return a boolean value, you can return the result of a comparison."
   ]
  },
  {
   "cell_type": "code",
   "execution_count": null,
   "id": "2c2466b5-e33e-463c-ae7c-525ca80aea43",
   "metadata": {},
   "outputs": [],
   "source": [
    "def is_power_of(number, base):\n",
    "    # Base case: when number is smaller than base.\n",
    "    if number < base:\n",
    "        # If number is equal to 1, it's a power (base**0).\n",
    "        return __\n",
    "\n",
    "    # Recursive case: keep dividing number by base.\n",
    "    return is_power_of(__, ___)\n",
    "\n",
    "\n",
    "print(is_power_of(8, 2))  # Should be True\n",
    "print(is_power_of(64, 4))  # Should be True\n",
    "print(is_power_of(70, 10))  # Should be False"
   ]
  },
  {
   "cell_type": "markdown",
   "id": "72d6cece-0db7-4cee-9a41-4a9fb8f552c0",
   "metadata": {},
   "source": [
    "## Question 4 \n",
    "The count_users function recursively counts the amount of users that belong to a group in the company system, by going through each of the members of a group and if one of them is a group, recursively calling the function and counting the members. But it has a bug! Can you spot the problem and fix it?"
   ]
  },
  {
   "cell_type": "code",
   "execution_count": null,
   "id": "8947e1c9-d505-400d-99ed-65100c6ed500",
   "metadata": {},
   "outputs": [],
   "source": [
    "def count_users(group):\n",
    "    count = 0\n",
    "    for member in get_members(group):\n",
    "        count += 1\n",
    "        if is_group(member):\n",
    "            count += count_users(member)\n",
    "    return count\n",
    "\n",
    "\n",
    "print(count_users(\"sales\"))  # Should be 3\n",
    "print(count_users(\"engineering\"))  # Should be 8\n",
    "print(count_users(\"everyone\"))  # Should be 18"
   ]
  },
  {
   "cell_type": "markdown",
   "id": "e4a6963d-d376-4805-8c4d-d701c060e10c",
   "metadata": {},
   "source": [
    "## Question 5 \n",
    "Implement the sum_positive_numbers function, as a recursive function that returns the sum of all positive numbers between the number n received and 1. For example, when n is 3 it should return 1+2+3=6, and when n is 5 it should return 1+2+3+4+5=15."
   ]
  },
  {
   "cell_type": "code",
   "execution_count": null,
   "id": "71f7dbe0-1c8c-42e0-8d8b-30eb608eda81",
   "metadata": {},
   "outputs": [],
   "source": [
    "def sum_positive_numbers(n):\n",
    "    return 0\n",
    "\n",
    "\n",
    "print(sum_positive_numbers(3))  # Should be 6\n",
    "print(sum_positive_numbers(5))  # Should be 15"
   ]
  }
 ],
 "metadata": {
  "kernelspec": {
   "display_name": "Python 3 (ipykernel)",
   "language": "python",
   "name": "python3"
  },
  "language_info": {
   "codemirror_mode": {
    "name": "ipython",
    "version": 3
   },
   "file_extension": ".py",
   "mimetype": "text/x-python",
   "name": "python",
   "nbconvert_exporter": "python",
   "pygments_lexer": "ipython3",
   "version": "3.9.7"
  }
 },
 "nbformat": 4,
 "nbformat_minor": 5
}
