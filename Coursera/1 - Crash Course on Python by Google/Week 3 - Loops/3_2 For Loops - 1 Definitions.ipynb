{
 "cells": [
  {
   "cell_type": "markdown",
   "id": "c134848c-e987-4b19-91da-6e139d63410e",
   "metadata": {},
   "source": [
    "<font color = violet>***for loop***</font>: Iterates over a sequence of values"
   ]
  },
  {
   "cell_type": "code",
   "execution_count": 1,
   "id": "a4128c8f-d843-407e-8600-4dfc7b06120c",
   "metadata": {},
   "outputs": [
    {
     "name": "stdout",
     "output_type": "stream",
     "text": [
      "0\n",
      "1\n",
      "2\n",
      "3\n",
      "4\n"
     ]
    }
   ],
   "source": [
    "for x in range(5):\n",
    "    print(x)  # return the number from 0-5 except 5"
   ]
  },
  {
   "cell_type": "markdown",
   "id": "0d47e2fd-089c-46e4-b4d4-15b269f3323a",
   "metadata": {},
   "source": [
    "# IMPORTANT\n",
    "1. In Python, and a lot of other programming languages, a range if numbers will start with the value 0 by default\n",
    "2. The list of numbers generated will be -1 from given value "
   ]
  },
  {
   "cell_type": "markdown",
   "id": "ef114c8a-3b67-4110-a5ed-a8ca4512212b",
   "metadata": {},
   "source": [
    "Example 1"
   ]
  },
  {
   "cell_type": "raw",
   "id": "aeda97f1-fe69-4fa3-bcc4-9a167f2268a2",
   "metadata": {},
   "source": [
    "Fill in the gaps of the sum_squares function, so that it returns the sum of all the squares of numbers between 0 and x (not included). Remember that you can use the range(x) function to generate a sequence of numbers from 0 to x (not included)."
   ]
  },
  {
   "cell_type": "code",
   "execution_count": 2,
   "id": "b7420a10-e4f8-47ff-aacc-da4b28326af8",
   "metadata": {},
   "outputs": [
    {
     "name": "stdout",
     "output_type": "stream",
     "text": [
      "285\n"
     ]
    }
   ],
   "source": [
    "def square(n):\n",
    "    return n*n\n",
    "\n",
    "def sum_squares(x):\n",
    "    sum = 0\n",
    "    for n in range(0, x):\n",
    "        sum += square(n)\n",
    "    return sum\n",
    "\n",
    "\n",
    "print(sum_squares(10))  # Should be 285"
   ]
  },
  {
   "cell_type": "markdown",
   "id": "63444852-4315-48ee-8abc-d83d71e32a26",
   "metadata": {},
   "source": [
    "Example 2"
   ]
  },
  {
   "cell_type": "code",
   "execution_count": 3,
   "id": "a3f1f465-94e4-4a33-a18e-7bbb1a516eea",
   "metadata": {},
   "outputs": [
    {
     "name": "stdout",
     "output_type": "stream",
     "text": [
      "Hi Taylor\n",
      "Hi Alex\n",
      "Hi Pat\n",
      "Hi Eli\n"
     ]
    }
   ],
   "source": [
    "friends = ['Taylor', 'Alex', 'Pat', 'Eli']\n",
    "for x in friends:\n",
    "    print(\"Hi \" + x)"
   ]
  },
  {
   "cell_type": "markdown",
   "id": "c48abf83-367e-41f3-85f5-9543e377cef3",
   "metadata": {},
   "source": [
    "# SUMMARIES\n",
    "- Use for loops when there's a sequence of elements that you want to iterate\n",
    "- Use while loops when you want to repeat an action until a condition changes"
   ]
  }
 ],
 "metadata": {
  "kernelspec": {
   "display_name": "Python 3 (ipykernel)",
   "language": "python",
   "name": "python3"
  },
  "language_info": {
   "codemirror_mode": {
    "name": "ipython",
    "version": 3
   },
   "file_extension": ".py",
   "mimetype": "text/x-python",
   "name": "python",
   "nbconvert_exporter": "python",
   "pygments_lexer": "ipython3",
   "version": "3.9.7"
  }
 },
 "nbformat": 4,
 "nbformat_minor": 5
}
