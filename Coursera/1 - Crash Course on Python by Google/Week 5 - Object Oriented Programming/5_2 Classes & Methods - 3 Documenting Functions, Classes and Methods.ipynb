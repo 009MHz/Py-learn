{
 "cells": [
  {
   "cell_type": "markdown",
   "id": "76ad8d59-4df1-4b18-9e9d-8b942ee8dc37",
   "metadata": {},
   "source": [
    "Classes can be not so beginner friendly. In that case we can also using help() function to check what will happen\n",
    "under our own created Classes"
   ]
  },
  {
   "cell_type": "markdown",
   "id": "2dc9bb09-3813-4c3c-b327-5b4cdd9df150",
   "metadata": {},
   "source": [
    "- Example 1"
   ]
  },
  {
   "cell_type": "code",
   "execution_count": null,
   "id": "4a16c22f-30b2-479c-9341-a61f5e36c2d9",
   "metadata": {},
   "outputs": [],
   "source": [
    "class Apple:\n",
    "    def __init__(self, color, flavor):\n",
    "        self.color = color\n",
    "        self.flavor = flavor\n",
    "\n",
    "    def __str__(self):\n",
    "        return f\"This apple has {self.color} & {self.flavor} flavor\"\n",
    "\n",
    "\n",
    "help(Apple)  # command to get the documentation related to our Apple classes"
   ]
  },
  {
   "cell_type": "markdown",
   "id": "7977c76d-c711-4233-b0c7-77196b220e1a",
   "metadata": {},
   "source": [
    " - Example 2: Using docstring or comment to write the documentation about our code"
   ]
  },
  {
   "cell_type": "code",
   "execution_count": null,
   "id": "02090722-1901-4b75-b336-6075bd5d9359",
   "metadata": {},
   "outputs": [],
   "source": [
    "def to_seconds(hours, minutes, seconds):\n",
    "    \"\"\"return the amount of seconds from passed argument\"\"\"\n",
    "    return hours * 3600 + minutes * 60 + seconds\n",
    "\n",
    "\n",
    "help(to_seconds)"
   ]
  },
  {
   "cell_type": "markdown",
   "id": "af68e67e-4120-4c32-a247-cfc0d6ae1c47",
   "metadata": {},
   "source": [
    " - Example 3: Adding documentation about class Person"
   ]
  },
  {
   "cell_type": "code",
   "execution_count": null,
   "id": "7be6ddc4-8907-42a7-a81f-e34f1ace2261",
   "metadata": {},
   "outputs": [],
   "source": [
    "class Person:\n",
    "    def __init__(self, name):\n",
    "        self.name = name\n",
    "\n",
    "    def greeting(self):\n",
    "        \"\"\"Outputs a message with the name of the person\"\"\"\n",
    "        print(\"Hello! My name is {name}.\".format(name=self.name))\n",
    "\n",
    "\n",
    "help(Person)"
   ]
  }
 ],
 "metadata": {
  "kernelspec": {
   "display_name": "Python 3 (ipykernel)",
   "language": "python",
   "name": "python3"
  },
  "language_info": {
   "codemirror_mode": {
    "name": "ipython",
    "version": 3
   },
   "file_extension": ".py",
   "mimetype": "text/x-python",
   "name": "python",
   "nbconvert_exporter": "python",
   "pygments_lexer": "ipython3",
   "version": "3.9.7"
  }
 },
 "nbformat": 4,
 "nbformat_minor": 5
}
