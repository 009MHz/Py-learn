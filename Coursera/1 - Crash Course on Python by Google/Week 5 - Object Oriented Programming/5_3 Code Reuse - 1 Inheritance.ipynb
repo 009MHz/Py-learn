{
 "cells": [
  {
   "cell_type": "markdown",
   "id": "759d4bb2-3679-40c2-ab6c-c4fc362dbbc4",
   "metadata": {},
   "source": [
    "In object-oriented programming, the concept of inheritance allows you to build relationships between objects,grouping together similar concepts and reducing code duplication. Let's create a custom Fruit class with color and flavor attributes:"
   ]
  },
  {
   "cell_type": "code",
   "execution_count": null,
   "id": "43eaec5b-09a4-4571-922c-e5e3aa54aba8",
   "metadata": {},
   "outputs": [],
   "source": [
    "class Fruit:  # The Ancestor (Parent)\n",
    "    def __init__(self, color, flavor):\n",
    "        self.color = color\n",
    "        self.flavor = flavor\n",
    "\n",
    "class Apple(Fruit):  # The children\n",
    "    pass\n",
    "\n",
    "class Grape(Fruit):\n",
    "    pass"
   ]
  },
  {
   "cell_type": "markdown",
   "id": "a3522a5f-06e5-4af4-8b55-5df96779a2c6",
   "metadata": {},
   "source": [
    "- In python we user parentheses in the *class declaration* to show an **inheritance**\n",
    "- It means the Grape & Apple will having same attributes like the Fruit *(children)*\n",
    "- And the relation between Apple & Grape are *siblings*, they may have same attributes but they will have different instances\n",
    "    - apple instances -> color: red, flavor: sweet\n",
    "    - grape instances -> color: purple, flavor: sweet"
   ]
  },
  {
   "cell_type": "markdown",
   "id": "eadfa6bf-2529-4c87-96d1-6588340c24d8",
   "metadata": {},
   "source": [
    "    Example 1: Assigning same attributes on the children class"
   ]
  },
  {
   "cell_type": "code",
   "execution_count": null,
   "id": "73cf3cf5-55fc-4293-bf37-a20903cab179",
   "metadata": {},
   "outputs": [],
   "source": [
    "# Assigning instances to the siblings\n",
    "fuji = Apple('green', 'juicy')  # assigning Fuji apple that has green color , and juicy flavor\n",
    "carnelian = Grape('purple', 'sour')  # assigning carnelian grape that has purple color , and sour flavor\n",
    "print(fuji)  # <__main__.Apple object at 0x100c2ffd0>\n",
    "print(fuji.color)  # green\n",
    "print(carnelian)  # <__main__.Grape object at 0x10262beb0>\n",
    "print(carnelian.color)  # purple"
   ]
  },
  {
   "cell_type": "markdown",
   "id": "00de7527-279c-4b42-8d51-7bfbbdad77be",
   "metadata": {},
   "source": [
    "    Example 2: Passing different instances on the children class"
   ]
  },
  {
   "cell_type": "code",
   "execution_count": null,
   "id": "19cc47c6-feed-4cf7-8cbe-dec8bdc0d5cb",
   "metadata": {},
   "outputs": [],
   "source": [
    "class Animal:\n",
    "    sound = ''\n",
    "\n",
    "    def __init__(self, name):\n",
    "        self.name = name\n",
    "\n",
    "    def speak(self):\n",
    "        print(f\"{self.sound}, call me {self.name}\")\n",
    "\n",
    "class Cat(Animal):  # assigning Cat from Animal class that having sound like below\n",
    "    sound = \"meeowww\"\n",
    "print(Cat)  # <class '__main__.Cat'>\n",
    "print(Cat.sound())  # TypeError: 'str' object is not callable, sound is not a method\n",
    "print(Cat.sound)  # meeowww"
   ]
  },
  {
   "cell_type": "markdown",
   "id": "6eaeaec3-4469-4e44-96f0-adf7b929f562",
   "metadata": {},
   "source": [
    "To make it works (calling the name and sound), we need to assign the class into a variable then calling it"
   ]
  },
  {
   "cell_type": "code",
   "execution_count": null,
   "id": "32ed1ef3-7c44-4d68-bc81-dd49e75c1c3e",
   "metadata": {},
   "outputs": [],
   "source": [
    "tengil = Cat('Tengil')\n",
    "tengil.sound  # meeowww\n",
    "tengil.speak()  # calling the function to execute the print function -> meeowww, call me Tengil"
   ]
  },
  {
   "cell_type": "code",
   "execution_count": null,
   "id": "e5c89d0d-3366-4723-8c07-c67991bfa8a5",
   "metadata": {},
   "outputs": [],
   "source": [
    "class Dog(Animal):\n",
    "    sound = 'wauufff'\n",
    "asu = Dog('Kowe')\n",
    "asu.speak()  # wauufff, call me Kowe"
   ]
  },
  {
   "cell_type": "markdown",
   "id": "c853126a-2ba6-47d0-bc4c-1dcf1d15459b",
   "metadata": {},
   "source": [
    "# REMEMBER: When assigning the Class under inheritance, we need to assign all attributes that defined on the ancestor\""
   ]
  },
  {
   "cell_type": "markdown",
   "id": "89454729-2c8c-4b60-bc5d-736459810b01",
   "metadata": {},
   "source": [
    "    Example 3: Clothing classes"
   ]
  },
  {
   "cell_type": "code",
   "execution_count": null,
   "id": "1d6ef0d0-3f6e-4dad-8edc-4d52b7812f1b",
   "metadata": {},
   "outputs": [],
   "source": [
    "class Clothing:\n",
    "    material = \"\"\n",
    "\n",
    "    def __init__(self, name):\n",
    "        self.name = name\n",
    "\n",
    "    def checkmaterial(self):\n",
    "        print(\"This {} is made of {}\".format(self.name, self.material))\n",
    "\n",
    "\n",
    "class Shirt(Clothing):\n",
    "    material = \"Cotton\"\n",
    "\n",
    "\n",
    "polo = Shirt(\"Polo\")\n",
    "polo.checkmaterial()"
   ]
  },
  {
   "cell_type": "markdown",
   "id": "37b02963-1f73-43c8-a370-6124f564e5dc",
   "metadata": {},
   "source": [
    "# Real World Concept\n",
    "- In the system of company, we may have a Class called employee\n",
    "- On this employee, we might have the attributes such as:\n",
    "    - full name\n",
    "    - employee ID \n",
    "    - user group, etc\n",
    "- This employee class could have some methods such as:\n",
    "    - check the group they're belong (staff, managerial, supervisor, etc)\n",
    "    - check the division (marketing, tech, support, HR, etc)\n",
    "    - creating email address based on their full name"
   ]
  }
 ],
 "metadata": {
  "kernelspec": {
   "display_name": "Python 3 (ipykernel)",
   "language": "python",
   "name": "python3"
  },
  "language_info": {
   "codemirror_mode": {
    "name": "ipython",
    "version": 3
   },
   "file_extension": ".py",
   "mimetype": "text/x-python",
   "name": "python",
   "nbconvert_exporter": "python",
   "pygments_lexer": "ipython3",
   "version": "3.9.7"
  }
 },
 "nbformat": 4,
 "nbformat_minor": 5
}
