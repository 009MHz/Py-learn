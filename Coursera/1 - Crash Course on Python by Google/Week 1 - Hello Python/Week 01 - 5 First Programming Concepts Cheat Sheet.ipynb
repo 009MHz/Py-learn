{
 "cells": [
  {
   "cell_type": "markdown",
   "id": "5643e7e7-0793-41ac-b448-3f4739e6fd26",
   "metadata": {},
   "source": [
    "# First Programming Concepts Cheat Sheet"
   ]
  },
  {
   "cell_type": "markdown",
   "id": "b017128d-6427-4749-a08e-4fed5f1fbd51",
   "metadata": {},
   "source": [
    "### Functions and Keywords\n",
    "Functions and keywords are the building blocks of a language’s syntax.\n",
    "\n",
    "<font color = orange>***Functions***</font> are pieces of code that perform a unit of work. In the examples we've seen so far, we've only encountered the <font color = lime>**print**</font><font color = magenta>()</font> function, which prints a message to the screen. We'll learn about a lot of other functions in later lessons but, if you're too curious to wait until then, you can discover all the functions available here.\n",
    "\n",
    "<font color = orange>**Keywords**</font> are reserved words that are used to construct instructions. We briefly encountered for and in in our first Python example, and we'll use a bunch of other keywords as we go through the course. For reference, these are all the reserved keywords:\n",
    "\n",
    "https://www.programiz.com/python-programming/keyword-list"
   ]
  },
  {
   "cell_type": "markdown",
   "id": "d971a509-63e7-4eba-8ecb-2e0442203067",
   "metadata": {},
   "source": [
    "### Arithmetic operators\n",
    "Python can operate with numbers using the usual mathematical operators, and some special operators, too. These are all of them (we'll explore the last two in later videos).\n",
    "- ***a + b*** = Adds a and b\n",
    "- ***a - b*** = Subtracts b from a\n",
    "- ***a * b*** = Multiplies a and b\n",
    "- ***a / b*** = Divides a by b\n",
    "- ***a ** b*** = Elevates a to the power of b. For non integer values of b, this becomes a root (i.e. a**(1/2) is the square root of a)\n",
    "- ***a // b*** = The integer part of the integer division of a by b\n",
    "- ***a % b*** = The remainder part of the integer division of a by b"
   ]
  }
 ],
 "metadata": {
  "kernelspec": {
   "display_name": "Python 3 (ipykernel)",
   "language": "python",
   "name": "python3"
  },
  "language_info": {
   "codemirror_mode": {
    "name": "ipython",
    "version": 3
   },
   "file_extension": ".py",
   "mimetype": "text/x-python",
   "name": "python",
   "nbconvert_exporter": "python",
   "pygments_lexer": "ipython3",
   "version": "3.9.7"
  }
 },
 "nbformat": 4,
 "nbformat_minor": 5
}
