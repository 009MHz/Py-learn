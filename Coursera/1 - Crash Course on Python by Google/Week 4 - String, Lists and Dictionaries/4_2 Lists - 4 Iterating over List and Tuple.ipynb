{
 "cells": [
  {
   "cell_type": "markdown",
   "id": "afe16d02-e120-47ef-9916-707be57c3bfa",
   "metadata": {},
   "source": [
    "When we covered for loops, we showed the example of iterating over a list. This lets you iterate over each element in the list, exposing the element to the for loop as a variable. But what if you want to access the elements in a\n",
    "list, along with the index of the element in question? You can do this using the **enumerate()** function. The _enumerate()_ function takes a list as a parameter and returns a tuple for each element in the list. The first value of the tuple is the index and the second value is the element itself."
   ]
  },
  {
   "cell_type": "markdown",
   "id": "8df659fc-40e8-4fda-9b0a-b67e242e5f28",
   "metadata": {},
   "source": [
    "Example 1: normal iterating elements"
   ]
  },
  {
   "cell_type": "code",
   "execution_count": null,
   "id": "07db3a75-d8f0-4f25-9a07-70f939b36fab",
   "metadata": {},
   "outputs": [],
   "source": [
    "animals = ['Lion', 'Zebra', 'Dolphin', 'Monkey']\n",
    "chars = 0\n",
    "for x in animals:\n",
    "    print(x)\n",
    "    chars += len(animals)\n",
    "print(f\"Total chars: {chars} total unit: {len(animals)}\")"
   ]
  },
  {
   "cell_type": "code",
   "execution_count": null,
   "id": "107bba7b-8709-402a-8a71-7ecec92ad4c3",
   "metadata": {},
   "outputs": [],
   "source": []
  },
  {
   "cell_type": "markdown",
   "id": "d30edb26-6f9e-417f-94cd-6bd23a534f0a",
   "metadata": {},
   "source": [
    "Example 2: Enumerates to iterating elements and return it as tuple"
   ]
  },
  {
   "cell_type": "code",
   "execution_count": 5,
   "id": "f804023e-9ac9-4d31-ac2f-9f5e8adcd0fa",
   "metadata": {},
   "outputs": [
    {
     "name": "stdout",
     "output_type": "stream",
     "text": [
      "(0, 'Real Madrid')\n",
      "(1, 'Barcelona')\n",
      "(2, 'AC Milan')\n",
      "(3, 'Bayern Munich')\n"
     ]
    }
   ],
   "source": [
    "winners = ['Real Madrid', 'Barcelona', 'AC Milan', 'Bayern Munich']\n",
    "for x in enumerate(winners):\n",
    "    print(x)  # (0, 'Real Madrid')"
   ]
  },
  {
   "cell_type": "code",
   "execution_count": null,
   "id": "f6c7bdbb-b993-4fc1-8202-9b135c277e37",
   "metadata": {},
   "outputs": [],
   "source": []
  },
  {
   "cell_type": "markdown",
   "id": "3d1ef920-ee63-4476-9e38-5180969b07f1",
   "metadata": {},
   "source": [
    "    Example 2-1: Unpack it to 2 variable"
   ]
  },
  {
   "cell_type": "code",
   "execution_count": 6,
   "id": "21867d73-4065-461c-9777-2bb3662fefa8",
   "metadata": {},
   "outputs": [
    {
     "name": "stdout",
     "output_type": "stream",
     "text": [
      "No.0 Real Madrid\n",
      "No.1 Barcelona\n",
      "No.2 AC Milan\n",
      "No.3 Bayern Munich\n"
     ]
    }
   ],
   "source": [
    "for index, club in enumerate(winners):\n",
    "    print(f\"No.{index} {club}\")"
   ]
  },
  {
   "cell_type": "markdown",
   "id": "e032830b-1136-4f18-b267-9fe4c6916a21",
   "metadata": {},
   "source": [
    "    Example 2-2: not working"
   ]
  },
  {
   "cell_type": "code",
   "execution_count": null,
   "id": "22e87c66-260a-4743-9b44-dd77171783aa",
   "metadata": {},
   "outputs": [],
   "source": [
    "for index, club in winners:  # ValueError: too many values to unpack (expected 2)\n",
    "    print(f\"No.{index} {club}\")"
   ]
  },
  {
   "cell_type": "code",
   "execution_count": null,
   "id": "266c8784-55f3-4d96-bcbb-c00a8718a817",
   "metadata": {},
   "outputs": [],
   "source": []
  },
  {
   "cell_type": "markdown",
   "id": "4897d791-af3c-403b-b524-ff87e94565c7",
   "metadata": {},
   "source": [
    "Example 3: Creating a lists that holds person name and email adress"
   ]
  },
  {
   "cell_type": "raw",
   "id": "eac6384e-99ff-4fba-98c1-cecd263d7e57",
   "metadata": {},
   "source": [
    "'expected result: John Doe <john@email.com>'"
   ]
  },
  {
   "cell_type": "code",
   "execution_count": null,
   "id": "7a5094a6-cc26-4d29-943a-380e483ff2f7",
   "metadata": {},
   "outputs": [],
   "source": [
    "# Todo 1: creating a function that receive the name parameter\n",
    "def full_emails(people):  # people is a tuple that holds name & email address\n",
    "    # Todo 2: creating a variable from the function result\n",
    "    result = []\n",
    "    # Todo 3: Unpacking the given tuple\n",
    "    for email, name in people:\n",
    "        # Todo 4: adding the unpacked element into the result\n",
    "        result.append(f\"{name}, <{email}>\")\n",
    "    return result\n",
    "\n",
    "\n",
    "print(full_emails(\n",
    "    [\n",
    "        (\"john.doe@email.com\", \"John Doe\"),\n",
    "        (\"lorem@email.com\", \"Lorem Ipsum\"),\n",
    "        (\"bruce@wayne.com\", 'Bruce Wayne')\n",
    "    ]\n",
    "))"
   ]
  },
  {
   "cell_type": "code",
   "execution_count": null,
   "id": "6d17f39a-c34b-4730-9f37-558dea5f9465",
   "metadata": {},
   "outputs": [],
   "source": []
  },
  {
   "cell_type": "markdown",
   "id": "54546606-cbcb-4e54-b908-5a95234d31e2",
   "metadata": {},
   "source": [
    "Example 4"
   ]
  },
  {
   "cell_type": "raw",
   "id": "4e4dcb5e-e20a-4f9e-bd99-6ba3edac9e56",
   "metadata": {},
   "source": [
    "The skip_elements function to return every other element from the list, this time using the enumerate function to check if an element is in an even position or an odd position."
   ]
  },
  {
   "cell_type": "code",
   "execution_count": null,
   "id": "f143d963-b6ed-459b-bb6f-c94549a2a015",
   "metadata": {},
   "outputs": [],
   "source": [
    "def skip_elements(elements):\n",
    "    # code goes here\n",
    "    new_list = []\n",
    "    new_index = 0\n",
    "    for index, content in enumerate(elements):\n",
    "        if index %2 == 0:\n",
    "            new_index += index\n",
    "            new_list.append(content)\n",
    "    return new_list\n",
    "\n",
    "\n",
    "print(skip_elements([\"a\", \"b\", \"c\", \"d\", \"e\", \"f\", \"g\"])) # Should be ['a', 'c', 'e', 'g']\n",
    "print(skip_elements(['Orange', 'Pineapple', 'Strawberry', 'Kiwi', 'Peach'])) \n",
    "# Should be ['Orange', 'Strawberry', 'Peach']"
   ]
  }
 ],
 "metadata": {
  "kernelspec": {
   "display_name": "Python 3 (ipykernel)",
   "language": "python",
   "name": "python3"
  },
  "language_info": {
   "codemirror_mode": {
    "name": "ipython",
    "version": 3
   },
   "file_extension": ".py",
   "mimetype": "text/x-python",
   "name": "python",
   "nbconvert_exporter": "python",
   "pygments_lexer": "ipython3",
   "version": "3.9.7"
  }
 },
 "nbformat": 4,
 "nbformat_minor": 5
}
