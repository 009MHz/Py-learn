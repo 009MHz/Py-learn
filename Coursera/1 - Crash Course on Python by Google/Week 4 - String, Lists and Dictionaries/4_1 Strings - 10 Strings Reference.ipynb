{
 "cells": [
  {
   "cell_type": "markdown",
   "id": "b9d17beb-798b-497c-99ba-1e84bbb7ca5e",
   "metadata": {},
   "source": [
    "In Python, there are a lot of things you can do with strings. In this cheat sheet, you’ll find the most common string operations and string methods."
   ]
  },
  {
   "cell_type": "markdown",
   "id": "9d0da4ed-cec3-4fbc-9edb-e6b057d22106",
   "metadata": {},
   "source": [
    "***String operations***\n",
    "- *len(string)* - Returns the length of the string\n",
    "- *for character in string* - Iterates over each character in the string\n",
    "- *if substring in string* - Checks whether the substring is part of the string\n",
    "- *string[i]* - Accesses the character at index i of the string, starting at zero\n",
    "- *string[i:j]* - Accesses the substring starting at index i, ending at index j minus 1. If i is omitted, its value defaults to 0. If j is omitted, the value will default to len(string)."
   ]
  },
  {
   "cell_type": "markdown",
   "id": "4ede18b3-db53-4bfc-8527-184fa6a4a873",
   "metadata": {},
   "source": [
    "***String methods***\n",
    "- **string.lower()** - Returns a copy of the string with all lowercase characters\n",
    "- **string.upper()** - Returns a copy of the string with all uppercase characters\n",
    "- **string.lstrip()** - Returns a copy of the string with the left-side whitespace removed\n",
    "- **string.rstrip()** - Returns a copy of the string with the right-side whitespace removed\n",
    "- **string.strip()** - Returns a copy of the string with both the left and right-side whitespace removed\n",
    "- **string.count(substring)** - Returns the number of times substring is present in the string\n",
    "- **string.isnumeric()** - Returns True if there are only numeric characters in the string. If not, returns False.\n",
    "- **string.isalpha()** - Returns True if there are only alphabetic characters in the string. If not, returns False.\n",
    "- **string.split()** - Returns a list of substrings that were separated by whitespace (whitespace can be a space,tab, or new line)\n",
    "- **string.split(delimiter)** - Returns a list of substrings that were separated by whitespace or a delimiter\n",
    "- **string.replace(old, new)** - Returns a new string where all occurrences of old have been replaced by new.\n",
    "- **delimiter.join(list of strings)** - Returns a new string with all the strings joined by the delimiter"
   ]
  },
  {
   "cell_type": "markdown",
   "id": "7aa2c4f2-2383-419f-b639-1feae09dbd85",
   "metadata": {},
   "source": [
    "Check out the official documentation for all available String methods: https://docs.python.org/3/library/stdtypes.html#string-methods"
   ]
  }
 ],
 "metadata": {
  "kernelspec": {
   "display_name": "Python 3 (ipykernel)",
   "language": "python",
   "name": "python3"
  },
  "language_info": {
   "codemirror_mode": {
    "name": "ipython",
    "version": 3
   },
   "file_extension": ".py",
   "mimetype": "text/x-python",
   "name": "python",
   "nbconvert_exporter": "python",
   "pygments_lexer": "ipython3",
   "version": "3.9.7"
  }
 },
 "nbformat": 4,
 "nbformat_minor": 5
}
