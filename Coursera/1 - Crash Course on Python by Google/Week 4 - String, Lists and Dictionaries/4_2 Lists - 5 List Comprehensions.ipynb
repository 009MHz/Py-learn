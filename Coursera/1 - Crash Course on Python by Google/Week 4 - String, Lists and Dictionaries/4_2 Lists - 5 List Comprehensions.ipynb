{
 "cells": [
  {
   "cell_type": "markdown",
   "id": "641720df-166a-4221-9be2-ad3a58a7f2c0",
   "metadata": {},
   "source": [
    "Example 1: Creating a list with multiples of 7 from 7  - 70"
   ]
  },
  {
   "cell_type": "code",
   "execution_count": 2,
   "id": "3e5c3f05-d0ef-45ea-81e5-fac5ccd4f7b9",
   "metadata": {},
   "outputs": [
    {
     "name": "stdout",
     "output_type": "stream",
     "text": [
      "[7, 14, 21, 28, 35, 42, 49, 56, 63, 70]\n"
     ]
    }
   ],
   "source": [
    "# Normal list method\n",
    "multiples = []\n",
    "for x in range(1, 11):\n",
    "    multiples.append(x * 7)\n",
    "print(multiples)"
   ]
  },
  {
   "cell_type": "code",
   "execution_count": 3,
   "id": "c8a8c1a0-a8ba-4915-8cbe-dcbef4e4a616",
   "metadata": {},
   "outputs": [
    {
     "name": "stdout",
     "output_type": "stream",
     "text": [
      "[7, 14, 21, 28, 35, 42, 49, 56, 63, 70]\n"
     ]
    }
   ],
   "source": [
    "# List comprehension\n",
    "multiple = [x * 7 for x in range(1, 11)]\n",
    "print(multiple)  # # output: [7, 14, 21, 28, 35, 42, 49, 56, 63, 70]"
   ]
  },
  {
   "cell_type": "markdown",
   "id": "b3b9162e-5a45-4cf7-9c97-837fd3ff9880",
   "metadata": {},
   "source": [
    "# List Comprehension\n",
    "let us create new lists based on sequences or ranges, so we can use this technique whenever we want to create a list based on a range "
   ]
  },
  {
   "cell_type": "markdown",
   "id": "9879a1c6-da7f-4395-ace5-3174258edf5f",
   "metadata": {},
   "source": [
    "Example 2: generate a list of the length of the given strings"
   ]
  },
  {
   "cell_type": "code",
   "execution_count": 4,
   "id": "d4921872-653d-410d-90fd-baebe49629e8",
   "metadata": {},
   "outputs": [
    {
     "name": "stdout",
     "output_type": "stream",
     "text": [
      "[6, 4, 4, 2, 4, 2]\n"
     ]
    }
   ],
   "source": [
    "languages = ['Python', 'Perl', 'Ruby', 'Go', 'Java', 'C#']\n",
    "length = [len(x) for x in languages]\n",
    "print(length)"
   ]
  },
  {
   "cell_type": "code",
   "execution_count": null,
   "id": "9c2f6ab1-a894-4cf4-9817-814749f60ce1",
   "metadata": {},
   "outputs": [],
   "source": []
  },
  {
   "cell_type": "markdown",
   "id": "482c9227-a63e-4725-86d6-f5f7035e9b13",
   "metadata": {},
   "source": [
    "Example 3: generate a list of the number that divisible by 3 between 0-100"
   ]
  },
  {
   "cell_type": "code",
   "execution_count": 5,
   "id": "1f920725-7838-49b7-ad93-4cda5ef52005",
   "metadata": {},
   "outputs": [
    {
     "name": "stdout",
     "output_type": "stream",
     "text": [
      "[0, 3, 6, 9, 12, 15, 18, 21, 24, 27, 30, 33, 36, 39, 42, 45, 48, 51, 54, 57, 60, 63, 66, 69, 72, 75, 78, 81, 84, 87, 90, 93, 96, 99]\n"
     ]
    }
   ],
   "source": [
    "div3 = [x for x in range(0, 101) if x % 3 == 0]\n",
    "print(div3)"
   ]
  },
  {
   "cell_type": "code",
   "execution_count": null,
   "id": "8b5de542-cada-447d-9b91-bb4e5b65afe2",
   "metadata": {},
   "outputs": [],
   "source": []
  },
  {
   "cell_type": "markdown",
   "id": "7c0d73d6-856c-4b0d-aa0b-bfedd2bb6758",
   "metadata": {},
   "source": [
    "Example 4: function returns a list of odd numbers between 1 and n, inclusively."
   ]
  },
  {
   "cell_type": "code",
   "execution_count": null,
   "id": "f56abe50-0da9-4316-b755-2f45383f9679",
   "metadata": {},
   "outputs": [],
   "source": [
    "def odd_numbers(n):\n",
    "    result = [x for x in range(1, n+1) if x % 2 == 1]\n",
    "    return result\n",
    "\n",
    "\n",
    "print(odd_numbers(5))  # Should print [1, 3, 5]\n",
    "print(odd_numbers(10))  # Should print [1, 3, 5, 7, 9]\n",
    "print(odd_numbers(11))  # Should print [1, 3, 5, 7, 9, 11]\n",
    "print(odd_numbers(1))  # Should print [1]\n",
    "print(odd_numbers(-1))  # Should print []"
   ]
  }
 ],
 "metadata": {
  "kernelspec": {
   "display_name": "Python 3 (ipykernel)",
   "language": "python",
   "name": "python3"
  },
  "language_info": {
   "codemirror_mode": {
    "name": "ipython",
    "version": 3
   },
   "file_extension": ".py",
   "mimetype": "text/x-python",
   "name": "python",
   "nbconvert_exporter": "python",
   "pygments_lexer": "ipython3",
   "version": "3.9.7"
  }
 },
 "nbformat": 4,
 "nbformat_minor": 5
}
