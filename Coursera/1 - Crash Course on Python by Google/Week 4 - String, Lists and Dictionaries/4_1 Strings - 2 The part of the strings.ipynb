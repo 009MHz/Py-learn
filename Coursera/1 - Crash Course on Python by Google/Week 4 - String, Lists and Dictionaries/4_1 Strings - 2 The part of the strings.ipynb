{
 "cells": [
  {
   "cell_type": "markdown",
   "id": "ade24cc2-140d-4b69-8fd4-483b62d079d0",
   "metadata": {},
   "source": [
    "# String indexing: \n",
    "operations that lets us access the character in a given position or index using square brackets and the number of the position we want "
   ]
  },
  {
   "cell_type": "code",
   "execution_count": null,
   "id": "6710d90f-92fd-4067-9ae2-52c6a9a87d89",
   "metadata": {},
   "outputs": [],
   "source": [
    "name = 'Jedai'\n",
    "print(name[0])  # python indexing is start from 0 instead 1 => J\n",
    "print(name[1])  # e\n",
    "print(name[7])  # Accessing an index that out of range will resulted as an error\n",
    "# IndexError: string index out of range"
   ]
  },
  {
   "cell_type": "markdown",
   "id": "32c07b76-7d46-4fed-8b5e-edbc58ddeae5",
   "metadata": {},
   "source": [
    "Using negative index allow us to reach the end of the string without concerning the length of the strings"
   ]
  },
  {
   "cell_type": "code",
   "execution_count": null,
   "id": "e4bee6f8-4e08-42d8-b99c-961c27346d1e",
   "metadata": {},
   "outputs": [],
   "source": [
    "text = \"Lorem ipsum dolor sit amet, consectetur adipiscing elit\"\n",
    "print(text[-1])  # Taking the last text position -> 't'\n",
    "print(text[-2])  # Taking the last text position -1 => 'i'"
   ]
  },
  {
   "cell_type": "markdown",
   "id": "d371261b-8964-497a-95c0-0a998ae1ce4c",
   "metadata": {},
   "source": [
    "    Example 1"
   ]
  },
  {
   "cell_type": "raw",
   "id": "2ff2842c-aea9-4664-900d-b0214098b73e",
   "metadata": {},
   "source": [
    "Modify the first_and_last function so that it returns True if the first letter of the string is the same as the last letter of the string, False if they’re different. \n",
    "Remember that you can access characters using message[0] or message[-1]. Be careful how you handle the empty string, which should return True since nothing is equal to nothing"
   ]
  },
  {
   "cell_type": "code",
   "execution_count": 2,
   "id": "7bea7084-c2b4-4cdb-a063-794160026070",
   "metadata": {},
   "outputs": [],
   "source": [
    "def first_and_last(message):\n",
    "    if message == \"\":\n",
    "        return True\n",
    "    elif message[0] == message[-1]:\n",
    "        return True\n",
    "    return False\n",
    "\n",
    "\n",
    "print(first_and_last(\"else\"))\n",
    "print(first_and_last(\"tree\"))\n",
    "print(first_and_last(\"\"))"
   ]
  },
  {
   "cell_type": "markdown",
   "id": "03b40341-a00e-4178-8de1-29b2b4710a30",
   "metadata": {},
   "source": [
    "# Slicing: \n",
    "a method to take the portion of a string that contain more than one character, sometimes called a substring. We do that by creating a range using a colon as a separator "
   ]
  },
  {
   "cell_type": "code",
   "execution_count": 3,
   "id": "a573793e-bb9e-4646-995c-e9d1f9558ce2",
   "metadata": {},
   "outputs": [
    {
     "name": "stdout",
     "output_type": "stream",
     "text": [
      "gen\n",
      "enta\n",
      "Mage\n"
     ]
    }
   ],
   "source": [
    "color = \"Magenta\"\n",
    "print(color[2:5])   # Taking the third character up to fifth character -> gen\n",
    "print(color[3:])    # Taking the fourth character till the end of text -> enta\n",
    "print(color[:4])    # Taking the first character up to fourth character -> Mage"
   ]
  }
 ],
 "metadata": {
  "kernelspec": {
   "display_name": "Python 3 (ipykernel)",
   "language": "python",
   "name": "python3"
  },
  "language_info": {
   "codemirror_mode": {
    "name": "ipython",
    "version": 3
   },
   "file_extension": ".py",
   "mimetype": "text/x-python",
   "name": "python",
   "nbconvert_exporter": "python",
   "pygments_lexer": "ipython3",
   "version": "3.9.7"
  }
 },
 "nbformat": 4,
 "nbformat_minor": 5
}
