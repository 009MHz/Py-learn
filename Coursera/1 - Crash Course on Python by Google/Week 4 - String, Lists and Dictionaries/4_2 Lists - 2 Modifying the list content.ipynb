{
 "cells": [
  {
   "cell_type": "markdown",
   "id": "ae8ec433-bdad-4dd3-a759-3af26e09a2c0",
   "metadata": {},
   "source": [
    "Since Lists data type is ***mutable***, we can update, add or remove the values inside list directly"
   ]
  },
  {
   "cell_type": "markdown",
   "id": "1ca35889-bf5f-4228-9551-1e0ed525dee3",
   "metadata": {},
   "source": [
    "Example 1: adding the value into a list"
   ]
  },
  {
   "cell_type": "code",
   "execution_count": null,
   "id": "cdceb561-41e1-46aa-bcc3-6b2cbe05d526",
   "metadata": {},
   "outputs": [],
   "source": [
    "weapon = ['sword', 'bow', 'staff']\n",
    "weapon.append('dagger')  # adding new value on the last position from the order\n",
    "print(weapon)  # output: ['sword', 'bow', 'staff', 'dagger']\n",
    "\n",
    "weapon.insert(1, 'dual sword')  # adding new value on the given index\n",
    "print(weapon)  # output: ['sword', 'dual sword', 'bow', 'staff', 'dagger']\n",
    "\n",
    "weapon.insert(30, 'mace')  # adding new value on the position  yg melebihi kapasitas list\n",
    "print(weapon)  # ['sword', 'dual sword', 'bow', 'staff', 'dagger', 'mace']"
   ]
  },
  {
   "cell_type": "markdown",
   "id": "19e7ee86-72e6-49db-80ea-1f42d76b0c93",
   "metadata": {},
   "source": [
    "Example 2: removing the value from a list"
   ]
  },
  {
   "cell_type": "code",
   "execution_count": null,
   "id": "2bf65559-063b-4be3-b290-ecf74ea95f40",
   "metadata": {},
   "outputs": [],
   "source": [
    "weapon.remove('mace')\n",
    "print(weapon)  # ['sword', 'dual sword', 'bow', 'staff', 'dagger']\n",
    "# weapon.remove('violin')  # ValueError: list.remove(x): x not in list, karena given value tidak ada di list\n",
    "weapon.pop(1)  # pop is used to remove the value from given index position which is 'dual sword'\n",
    "print(weapon)  # ['sword', 'bow', 'staff', 'dagger']"
   ]
  },
  {
   "cell_type": "markdown",
   "id": "cc2697c4-7b40-499e-8165-43d589eec702",
   "metadata": {},
   "source": [
    "Example 3: udpating value from the list"
   ]
  },
  {
   "cell_type": "code",
   "execution_count": null,
   "id": "f7c46459-552d-403b-9abf-aaaa5d330aa0",
   "metadata": {},
   "outputs": [],
   "source": [
    "weapon[2] = 'wand'  # changing the value from index 2 (staff) to wand\n",
    "print(weapon)"
   ]
  },
  {
   "cell_type": "markdown",
   "id": "25ab1c8b-4b70-406a-b59c-bf5b4b44286b",
   "metadata": {},
   "source": [
    "# Real World situation concept:\n",
    "Lists data type can be used to store information from hosts from a network\n",
    "1. Storing the data about online user -> adding into online list\n",
    "2. Removing the data about offline user -> removing from online list"
   ]
  },
  {
   "cell_type": "markdown",
   "id": "49eb55ac-934a-4faa-892e-e572e084df1e",
   "metadata": {},
   "source": [
    "Example 3"
   ]
  },
  {
   "cell_type": "raw",
   "id": "a20ee422-97d2-45d4-b3e1-3be8488c4ecf",
   "metadata": {},
   "source": [
    "The skip_elements function returns a list containing every other element from an input list, starting with the first element. Complete this function to do that, using the for loop to iterate through the input list"
   ]
  },
  {
   "cell_type": "code",
   "execution_count": null,
   "id": "e6ab8f8e-7b7a-4d71-ae09-2d40a94972b1",
   "metadata": {},
   "outputs": [],
   "source": [
    "def skip_elements(elements):\n",
    "    # Initialize variables\n",
    "    new_list = []\n",
    "    i = 0\n",
    "\n",
    "    # Iterate through the list\n",
    "    for x in elements:\n",
    "        # Does this element belong in the resulting list?\n",
    "        if x != '':\n",
    "            # Add this element to the resulting list\n",
    "            new_list.append(x)\n",
    "        # Increment i\n",
    "        i += 1\n",
    "\n",
    "    return new_list[::2]\n",
    "\n",
    "\n",
    "print(skip_elements([\"a\", \"b\", \"c\", \"d\", \"e\", \"f\", \"g\"]))  # Should be ['a', 'c', 'e', 'g']\n",
    "print(skip_elements(\n",
    "    ['Orange', 'Pineapple', 'Strawberry', 'Kiwi', 'Peach']))  # Should be ['Orange', 'Strawberry', 'Peach']\n",
    "print(skip_elements([]))  # Should be []"
   ]
  }
 ],
 "metadata": {
  "kernelspec": {
   "display_name": "Python 3 (ipykernel)",
   "language": "python",
   "name": "python3"
  },
  "language_info": {
   "codemirror_mode": {
    "name": "ipython",
    "version": 3
   },
   "file_extension": ".py",
   "mimetype": "text/x-python",
   "name": "python",
   "nbconvert_exporter": "python",
   "pygments_lexer": "ipython3",
   "version": "3.9.7"
  }
 },
 "nbformat": 4,
 "nbformat_minor": 5
}
