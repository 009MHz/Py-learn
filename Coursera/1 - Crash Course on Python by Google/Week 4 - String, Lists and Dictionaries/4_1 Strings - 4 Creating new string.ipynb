{
 "cells": [
  {
   "cell_type": "markdown",
   "id": "c019a7db-3c30-4f36-8f6a-0120bb6f0b35",
   "metadata": {},
   "source": [
    "Changed the string inside the text"
   ]
  },
  {
   "cell_type": "markdown",
   "id": "1e758096-e908-41e8-8d7a-067797ae2e54",
   "metadata": {},
   "source": [
    "    Example 1: changing text directly"
   ]
  },
  {
   "cell_type": "raw",
   "id": "94301595-65d0-4a68-85cb-a60eca785a74",
   "metadata": {},
   "source": [
    "context: changing the kong with a long"
   ]
  },
  {
   "cell_type": "code",
   "execution_count": null,
   "id": "11120f6d-f684-440c-82cc-ba46f84877a6",
   "metadata": {},
   "outputs": [],
   "source": [
    "message = 'A kong string with a silly typo'\n",
    "message[2] = 'l'\n",
    "# resulted as an error since the string is immutable (can't be changed directly using assignment)\n",
    "# TypeError: 'str' object does not support item assignment"
   ]
  },
  {
   "cell_type": "raw",
   "id": "e8618f3c-9171-4b8d-b248-3767e6107df4",
   "metadata": {},
   "source": [
    "solutions"
   ]
  },
  {
   "cell_type": "code",
   "execution_count": null,
   "id": "d18aca89-371c-4c20-9f26-e96083643a21",
   "metadata": {},
   "outputs": [],
   "source": [
    "new_message = message[0:2] + 'l' + message[3:]\n",
    "print(new_message)  # A long string with a silly typo"
   ]
  },
  {
   "cell_type": "markdown",
   "id": "e42f7bf5-a213-4734-9e70-94e3f4620731",
   "metadata": {},
   "source": [
    "    Example 2: getting the character position inside the text"
   ]
  },
  {
   "cell_type": "code",
   "execution_count": null,
   "id": "eefcef5f-6d7e-445c-a951-2038fcebbf87",
   "metadata": {},
   "outputs": [],
   "source": [
    "pet = 'Cats & dogs'\n",
    "pet.index('&')\n",
    "# getting the \"&\" position inside the pet -> 5\n",
    "# using the .index method to use the function\n",
    "# method is a function associated with a specific class\n",
    "# to use it we need following the format: variable\".called_method()\""
   ]
  },
  {
   "cell_type": "code",
   "execution_count": null,
   "id": "ae0ee71a-48db-4434-9877-2731c47a6d57",
   "metadata": {},
   "outputs": [],
   "source": [
    "pet.index('C')  # -> 0\n",
    "pet.index(\"dog\")  # 7"
   ]
  },
  {
   "cell_type": "code",
   "execution_count": null,
   "id": "5b250c68-901b-49db-a7f5-6d437e99eb95",
   "metadata": {},
   "outputs": [],
   "source": [
    "pet.index('s')  # 3\n",
    "# returning the first position of \"s\" although there's 2 position inside the variable"
   ]
  },
  {
   "cell_type": "code",
   "execution_count": null,
   "id": "2a66bab1-1dd1-44b0-a291-7623af9eca5d",
   "metadata": {},
   "outputs": [],
   "source": [
    "pet.index(\"Dog\")\n",
    "# returned as error since Dog is not available"
   ]
  },
  {
   "cell_type": "raw",
   "id": "31c57476-baa5-4049-b33c-52055997742f",
   "metadata": {},
   "source": [
    "solutions to avoid the previous error"
   ]
  },
  {
   "cell_type": "code",
   "execution_count": null,
   "id": "291816d6-dc2c-4d24-aa55-e3046617389e",
   "metadata": {},
   "outputs": [],
   "source": [
    "# Check the value using the keyword in before the variables\n",
    "\"Dragons\" in pet    # False\n",
    "\"Cats\" in pet   # True\n",
    "\"dog\" in pet    # True\n",
    "\"Dog\" in pet    # False"
   ]
  },
  {
   "cell_type": "markdown",
   "id": "b190f4bb-0a93-4c1e-8b48-5bad2bc42f87",
   "metadata": {},
   "source": [
    "    Example 3: The real situations using this method"
   ]
  },
  {
   "cell_type": "raw",
   "id": "99c81a64-3d64-4ea2-a1c8-cecc86bd2a65",
   "metadata": {},
   "source": [
    "1. Our company has moved to using a new domain\n",
    "2. all the employees email address will using the new domain format\n",
    "3. most of the employees still using the old domain\n",
    "4. your job is writes a program that replaces this old domain with the new one"
   ]
  },
  {
   "cell_type": "code",
   "execution_count": 2,
   "id": "6bc8d606-391f-4cd8-8e12-43074d03825e",
   "metadata": {},
   "outputs": [],
   "source": [
    "# todo 1: define the function that replace the domain that accepts 3 arguments\n",
    "def replace_domain(email, old_domain, new_domain):\n",
    "    # Todo 2: check the keyword inside the email is correct (@old_domain)\n",
    "    if \"@\" + old_domain in email:\n",
    "        # Todo 3: iterates the elements inside the old domain by taking the incorrect email format (the old domain)\n",
    "        index = email.index(\"@\" + old_domain)\n",
    "        # Todo 4: Create the new email, by take out the incorrect format and replacing with the new one\n",
    "        new_email = email[:index] + \"@\" + new_domain\n",
    "        return new_email\n",
    "    return email"
   ]
  }
 ],
 "metadata": {
  "kernelspec": {
   "display_name": "Python 3 (ipykernel)",
   "language": "python",
   "name": "python3"
  },
  "language_info": {
   "codemirror_mode": {
    "name": "ipython",
    "version": 3
   },
   "file_extension": ".py",
   "mimetype": "text/x-python",
   "name": "python",
   "nbconvert_exporter": "python",
   "pygments_lexer": "ipython3",
   "version": "3.9.7"
  }
 },
 "nbformat": 4,
 "nbformat_minor": 5
}
