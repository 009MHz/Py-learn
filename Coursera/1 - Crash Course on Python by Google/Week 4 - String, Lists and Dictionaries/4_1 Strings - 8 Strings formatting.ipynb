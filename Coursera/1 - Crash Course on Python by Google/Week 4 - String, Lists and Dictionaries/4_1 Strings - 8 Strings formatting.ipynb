{
 "cells": [
  {
   "cell_type": "markdown",
   "id": "71e59f41-ffcf-48bc-9f29-e16759bc9042",
   "metadata": {},
   "source": [
    "Example 1: passing the int & str into text without converting"
   ]
  },
  {
   "cell_type": "code",
   "execution_count": null,
   "id": "0db3d4f6-0a2c-4979-86a5-c866ed7a5f76",
   "metadata": {},
   "outputs": [],
   "source": [
    "name = 'Lenna'\n",
    "number = len(name) * 3\n",
    "\"method 1: using empty curly brackets\"\n",
    "print(\"Hi {}, your lucky number is {}\".format(name, number))\n",
    "\"method 2: passing the expressions inside the curly brackets\"\n",
    "print(\"your lucky number is {number}, {name}\".format(name=name, number=number))\n",
    "\"method 3: using f string\"\n",
    "print(f\"Hi {name}, your lucky number is {number}\")"
   ]
  },
  {
   "cell_type": "markdown",
   "id": "ea740132-ed3f-45fe-9e3b-d657fa358f09",
   "metadata": {},
   "source": []
  },
  {
   "cell_type": "markdown",
   "id": "0ea14da1-a866-4d6d-9248-f56fbe95ae96",
   "metadata": {},
   "source": [
    "Example 2"
   ]
  },
  {
   "cell_type": "code",
   "execution_count": null,
   "id": "31000e3d-7f9b-4251-87d0-75350c47c8fa",
   "metadata": {},
   "outputs": [],
   "source": [
    "def student_grade(name, grade):\n",
    "    return f\"{name} received {grade}% on the exam\"\n",
    "\n",
    "\n",
    "print(student_grade(\"Reed\", 80))\n",
    "print(student_grade(\"Paige\", 92))\n",
    "print(student_grade(\"Jesse\", 85))"
   ]
  },
  {
   "cell_type": "code",
   "execution_count": null,
   "id": "4dd4d6cd-b35c-400a-b896-299512b2c474",
   "metadata": {},
   "outputs": [],
   "source": []
  },
  {
   "cell_type": "markdown",
   "id": "a1cf6b8d-77ce-4477-991c-c449d113df1f",
   "metadata": {},
   "source": [
    "Example 3: format to round the decimal inside the strings"
   ]
  },
  {
   "cell_type": "code",
   "execution_count": null,
   "id": "f0ab33eb-3468-42eb-9fb7-a5ecab4878d7",
   "metadata": {},
   "outputs": [],
   "source": [
    "price = 7.5\n",
    "total = price * 1.09\n",
    "print(price, total)     # 7.5 8.175\n",
    "print(\"Base Price: ${:.2f}. With tax: ${:.2f}\".format(price, total))   # Base Price: $7.50. With tax: $8.18\n",
    "'second method'\n",
    "print(f\"Base price: ${price:.2f}. With tax: ${total:.2f}\")"
   ]
  },
  {
   "cell_type": "raw",
   "id": "ba73ca61-a194-4355-9464-d7e7bbd38223",
   "metadata": {},
   "source": [
    ".2f is used to round the decimal number inside the string format without changing the variable before passed here"
   ]
  },
  {
   "cell_type": "code",
   "execution_count": null,
   "id": "ea859f45-685d-4f58-b926-9e7935d85eaa",
   "metadata": {},
   "outputs": [],
   "source": []
  },
  {
   "cell_type": "markdown",
   "id": "021239f4-c6e7-43f1-8932-5b09b549a555",
   "metadata": {},
   "source": [
    "Example 4: reformatting the temperature conversion using .2f"
   ]
  },
  {
   "cell_type": "code",
   "execution_count": null,
   "id": "c3fab2ce-a8c2-45be-ad04-1e509f089a3c",
   "metadata": {},
   "outputs": [],
   "source": [
    "def to_celsius(x):\n",
    "    return (x-32)*5/9"
   ]
  },
  {
   "cell_type": "code",
   "execution_count": null,
   "id": "bd609de3-742d-4079-934d-78953e28375e",
   "metadata": {},
   "outputs": [],
   "source": [
    "for x in range(0,101,10):\n",
    "    print(f\"{x:3} F | {to_celsius(x):6.2f} C\")"
   ]
  },
  {
   "cell_type": "raw",
   "id": "b29614dd-275c-4a50-9105-affbda100b47",
   "metadata": {},
   "source": [
    "# x:3 is format to add 3 spaces (including the x) to adjust the alignment\n",
    "# matched the alignment between 1 & 2 digit with 3 digits\n",
    "# before: \"0 F |\", after: \"  0 F |\"\n",
    "# x:6.2f is format to add 6 spaces and rounding the decimals into 2 format\n",
    "# before formatting: \"| 21.11111111111111 C\", after formatting: \"|  21.11 C\""
   ]
  }
 ],
 "metadata": {
  "kernelspec": {
   "display_name": "Python 3 (ipykernel)",
   "language": "python",
   "name": "python3"
  },
  "language_info": {
   "codemirror_mode": {
    "name": "ipython",
    "version": 3
   },
   "file_extension": ".py",
   "mimetype": "text/x-python",
   "name": "python",
   "nbconvert_exporter": "python",
   "pygments_lexer": "ipython3",
   "version": "3.9.7"
  }
 },
 "nbformat": 4,
 "nbformat_minor": 5
}
