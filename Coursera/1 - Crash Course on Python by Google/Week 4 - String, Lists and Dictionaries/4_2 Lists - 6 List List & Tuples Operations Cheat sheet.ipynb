{
 "cells": [
  {
   "cell_type": "markdown",
   "id": "4f38a63d-ab07-4055-abba-2a08a4a4c13f",
   "metadata": {},
   "source": [
    "# Lists and Tuples Operations Cheat Sheet"
   ]
  },
  {
   "cell_type": "markdown",
   "id": "fa786169-f6ae-4f3a-9b10-73789880d078",
   "metadata": {},
   "source": [
    "Lists and tuples are both sequences, so they share a number of sequence operations. But, because lists are mutable, there are also a number of methods specific just to lists. This cheat sheet gives you a run down of the common operations first, and the list-specific operations second."
   ]
  },
  {
   "cell_type": "markdown",
   "id": "d5f50056-5155-4cdc-8ab8-f067f4cfeccb",
   "metadata": {},
   "source": [
    "***Common sequence operations***\n",
    "- **len(sequence)** - Returns the length of the sequence\n",
    "- **for element in sequence** - Iterates over each element in the sequence\n",
    "- **if element in sequence** - Checks whether the element is part of the sequence\n",
    "- **sequence[i]** - Accesses the element at index i of the sequence, starting at zero\n",
    "- **sequence[i:j]** - Accesses a slice starting at index i, ending at index j-1. If i is omitted, it's 0 by default. If j is omitted, it's len(sequence) by default.\n",
    "- **for index, element in enumerate(sequence)** - Iterates over both the indexes and the elements in the sequence at the same time"
   ]
  },
  {
   "cell_type": "markdown",
   "id": "ac1e1c27-863f-4460-8f36-06c7eb96242f",
   "metadata": {},
   "source": [
    "Check out the official documentation for sequence operations.\n",
    "https://docs.python.org/3/library/stdtypes.html#sequence-types-list-tuple-range"
   ]
  },
  {
   "cell_type": "markdown",
   "id": "66e324f4-1d36-4e34-ad1c-81514e3b7244",
   "metadata": {},
   "source": [
    "***List-specific operations and methods***\n",
    "- **list[i] = x** - Replaces the element at index i with x\n",
    "- **list.append(x)** - Inserts x at the end of the list\n",
    "- **list.insert(i, x)** - Inserts x at index i\n",
    "- **list.pop(i)** - Returns the element a index i, also removing it from the list. If i is omitted, the last element is returned and removed.\n",
    "- **list.remove(x)** - Removes the first occurrence of x in the list\n",
    "- **list.sort()** - Sorts the items in the list\n",
    "- **list.reverse()** - Reverses the order of items of the list\n",
    "- **list.clear()** - Removes all the items of the list\n",
    "- **list.copy()** - Creates a copy of the list\n",
    "- **list.extend(other_list)** - Appends all the elements of other_list at the end of list"
   ]
  },
  {
   "cell_type": "markdown",
   "id": "5cf210b2-1414-471d-bd22-b70270ed4d9d",
   "metadata": {},
   "source": [
    "Most of these methods come from the fact that lists are mutable sequences. For more info, see the official documentation for mutable sequences \n",
    "https://docs.python.org/3/library/stdtypes.html#mutable-sequence-types\n",
    "and the list specific documentation.\n",
    "https://docs.python.org/3/library/stdtypes.html#lists"
   ]
  },
  {
   "cell_type": "markdown",
   "id": "840fbb89-c760-469a-bec1-3f66739c75e1",
   "metadata": {},
   "source": [
    "***List comprehension***\n",
    "- **[expression for variable in sequence]** - Creates a new list based on the given sequence. Each element is the result of the given expression.\n",
    "- **[expression for variable in sequence if condition]** - Creates a new list based on the given sequence. Each element is the result of the given expression; elements only get added if the condition is true.  "
   ]
  }
 ],
 "metadata": {
  "kernelspec": {
   "display_name": "Python 3 (ipykernel)",
   "language": "python",
   "name": "python3"
  },
  "language_info": {
   "codemirror_mode": {
    "name": "ipython",
    "version": 3
   },
   "file_extension": ".py",
   "mimetype": "text/x-python",
   "name": "python",
   "nbconvert_exporter": "python",
   "pygments_lexer": "ipython3",
   "version": "3.9.7"
  }
 },
 "nbformat": 4,
 "nbformat_minor": 5
}
