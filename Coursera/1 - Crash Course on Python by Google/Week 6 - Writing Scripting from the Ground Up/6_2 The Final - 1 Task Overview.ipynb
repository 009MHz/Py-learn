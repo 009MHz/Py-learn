{
 "cells": [
  {
   "cell_type": "markdown",
   "id": "77fa2e87-0fbf-47ed-9944-719034f5d23a",
   "metadata": {},
   "source": [
    "# Word Cloud"
   ]
  },
  {
   "cell_type": "markdown",
   "id": "770af9a1-2180-45c9-95d5-033e032e32e3",
   "metadata": {},
   "source": [
    "### Definition\n",
    "A word cloud is an image that's made up of different sized words. Usually the sizes of the words are determined by how many times each word appears in a specific text. To create the image itself, we're going to use an external Python module called creatively Word cloud"
   ]
  },
  {
   "cell_type": "markdown",
   "id": "98e48fc8-c5b4-48e7-a053-0843d880e981",
   "metadata": {},
   "source": [
    "### Task Summary\n",
    "create a script that would go through the text and count how many times each word appears.\n"
   ]
  },
  {
   "cell_type": "markdown",
   "id": "30f34496-dde5-4c3a-a67c-6da219b31817",
   "metadata": {},
   "source": [
    "## To do lists:\n",
    "- Prepare a dictionary and use that as a parameter for the word cloud module\n",
    "- Clean up the text to remove any punctuation marks\n",
    "- Exclude irrelevant or uninteresting words when processing the text"
   ]
  },
  {
   "cell_type": "markdown",
   "id": "117ddeb3-6f6f-432e-90a2-f6791d231b87",
   "metadata": {},
   "source": [
    "## Method to execute\n",
    "- Understand the problem statement\n",
    "- Research available options\n",
    "- Planning your approach\n",
    "- Write the code\n",
    "- Testing The Code (including debugging and bug fixing)"
   ]
  },
  {
   "cell_type": "code",
   "execution_count": null,
   "id": "dd1edd4c-b8e1-401e-bf64-fff8eaf9bb37",
   "metadata": {},
   "outputs": [],
   "source": []
  }
 ],
 "metadata": {
  "kernelspec": {
   "display_name": "Python 3 (ipykernel)",
   "language": "python",
   "name": "python3"
  },
  "language_info": {
   "codemirror_mode": {
    "name": "ipython",
    "version": 3
   },
   "file_extension": ".py",
   "mimetype": "text/x-python",
   "name": "python",
   "nbconvert_exporter": "python",
   "pygments_lexer": "ipython3",
   "version": "3.9.7"
  }
 },
 "nbformat": 4,
 "nbformat_minor": 5
}
