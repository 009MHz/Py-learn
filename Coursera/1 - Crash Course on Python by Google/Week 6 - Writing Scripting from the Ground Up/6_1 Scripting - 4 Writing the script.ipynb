{
 "cells": [
  {
   "cell_type": "markdown",
   "id": "0601560e-37bf-4357-806c-4b3fab6e0bf9",
   "metadata": {},
   "source": [
    "### Todo Recap\n",
    "1. Sort the list of events chronologically\n",
    "2. Storing the data as the sets under dictionary\n",
    "3. Define a function to generates dictionary events\n",
    "4. Generating the reposrt for each process"
   ]
  },
  {
   "cell_type": "markdown",
   "id": "6f0ee53f-d19e-4f16-9f6b-41233e4b00e6",
   "metadata": {},
   "source": [
    "#### Todo 1 generating the helper function that we'll use to sort the list"
   ]
  },
  {
   "cell_type": "code",
   "execution_count": 3,
   "id": "5af9dec1-fe3d-41aa-b28d-4f5c0ea6fc39",
   "metadata": {},
   "outputs": [],
   "source": [
    "def get_event_date(event):\n",
    "    return event.date\n",
    "#function yg parameter nya akan digunakan untuk ngesorting list nya"
   ]
  },
  {
   "cell_type": "code",
   "execution_count": 7,
   "id": "1a8afba1-0d61-4e4a-aa17-28fdb1ac9d77",
   "metadata": {},
   "outputs": [],
   "source": [
    "# function untuk melihat kondisi user\n",
    "def current_users(events):\n",
    "    events.sort(key = get_event_date)\n",
    "    # sorting the events by the time occurrence\n",
    "    # passing the function result as a key\n",
    "    machine = {}  # dict to store the occurring events\n",
    "    for event in events:  # iterating the occurring events\n",
    "        if event.machine not in machines:\n",
    "            machines[event.machine] = set()\n",
    "            # storing the event ketika yg terjadi merupakan even baru\n",
    "            # menyimpan event nya sebagai tuple\n",
    "        \"\"\"Validating the occurring events\"\"\"\n",
    "        if event.type == 'login':  \n",
    "            machines[event.machine].add(events.user)\n",
    "            # adding into login group ketika event nya adalah login\n",
    "        elif event.type == 'logout':\n",
    "            machines[event.machine].remove(events.user)\n",
    "            # removing from login group ketika event nya adalah logout\n",
    "    return machines\n",
    "    # the output value merupakan status login yg berlangsung\n",
    "    # output value ini tersimpan sebagai dictionary\n",
    "    #  machines = {(event_time: user_ID)}"
   ]
  },
  {
   "cell_type": "code",
   "execution_count": 1,
   "id": "908a6a49-d1fd-4b53-beb7-7f69d8860da5",
   "metadata": {},
   "outputs": [],
   "source": [
    "def generate_report(machines):\n",
    "    # iterating over the keys and values in dictionary\n",
    "    for machine, users in machines.items():\n",
    "        if len(users) > 0:  # excluding the user yg tidak login\n",
    "            user_list = \", \".join(users)\n",
    "            print(f\"{machine}: {user_list}\")"
   ]
  }
 ],
 "metadata": {
  "kernelspec": {
   "display_name": "Python 3 (ipykernel)",
   "language": "python",
   "name": "python3"
  },
  "language_info": {
   "codemirror_mode": {
    "name": "ipython",
    "version": 3
   },
   "file_extension": ".py",
   "mimetype": "text/x-python",
   "name": "python",
   "nbconvert_exporter": "python",
   "pygments_lexer": "ipython3",
   "version": "3.9.7"
  }
 },
 "nbformat": 4,
 "nbformat_minor": 5
}
