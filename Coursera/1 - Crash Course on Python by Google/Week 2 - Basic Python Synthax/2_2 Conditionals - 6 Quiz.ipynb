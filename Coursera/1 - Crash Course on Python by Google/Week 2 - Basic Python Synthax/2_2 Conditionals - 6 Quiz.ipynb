{
 "cells": [
  {
   "cell_type": "markdown",
   "id": "b944fd0a-cc13-4472-970a-b08cf2a2f261",
   "metadata": {},
   "source": [
    "## Question 1\n",
    "What's the value of this Python expression: (2**2) == 4?\n",
    "- [ ] 4\n",
    "- [ ] 2**2\n",
    "- [ ] True\n",
    "- [ ] False"
   ]
  },
  {
   "cell_type": "raw",
   "id": "3ac1c089-ab8f-481a-a843-62d9a04b9541",
   "metadata": {},
   "source": []
  },
  {
   "cell_type": "markdown",
   "id": "e8c3cd4c-21b9-42ff-8b98-dac915745bb5",
   "metadata": {},
   "source": [
    "## Question 2\n",
    "Complete the script by filling in the missing parts. The function receives a name, then returns a greeting based on whether or not that name is \"Taylor\"."
   ]
  },
  {
   "cell_type": "code",
   "execution_count": null,
   "id": "a38bddba-02b5-482b-95c4-930b897cf914",
   "metadata": {},
   "outputs": [],
   "source": [
    "def greeting(name):\n",
    "    if name == \"Taylor\":\n",
    "        return \"Welcome back Taylor!\"\n",
    "    else:\n",
    "        return \"Hello there, \" + name\n",
    "\n",
    "    \n",
    "print(greeting(\"Taylor\"))\n",
    "print(greeting(\"John\"))"
   ]
  },
  {
   "cell_type": "markdown",
   "id": "86156770-6fa3-4aa2-8a3f-af3d535952d4",
   "metadata": {},
   "source": [
    "## Question 3\n",
    "What’s the output of this code if number equals 10?"
   ]
  },
  {
   "cell_type": "code",
   "execution_count": null,
   "id": "b626d6df-5252-42bf-8257-187e9ded3589",
   "metadata": {},
   "outputs": [],
   "source": [
    "if number > 11: \n",
    "    print(0)\n",
    "elif number != 10:\n",
    "    print(1)\n",
    "elif number >= 20 or number < 12:\n",
    "    print(2)\n",
    "else:\n",
    "    print(3)"
   ]
  },
  {
   "cell_type": "raw",
   "id": "186c850a-d6f1-4241-820b-eaa31dd9f2ff",
   "metadata": {},
   "source": []
  },
  {
   "cell_type": "markdown",
   "id": "f37abda6-7b95-42a2-a0c3-2b2f5bf75db9",
   "metadata": {},
   "source": [
    "## Question 4\n",
    "Is \"A dog\" smaller or larger than \"A mouse\"? Is 9999+8888 smaller or larger than 100\\*100? Replace the plus sign in the following code to let Python check it for you and then answer. "
   ]
  },
  {
   "cell_type": "code",
   "execution_count": 2,
   "id": "6bbf378d-4429-44e8-b7bb-4d73fd74f82e",
   "metadata": {},
   "outputs": [
    {
     "name": "stdout",
     "output_type": "stream",
     "text": [
      "True\n",
      "True\n"
     ]
    }
   ],
   "source": [
    "print(\"A dog\" < \"A mouse\")\n",
    "print(9999+8888 > 100*100)"
   ]
  },
  {
   "cell_type": "markdown",
   "id": "114808db-0060-44df-b55b-3da6b056eca2",
   "metadata": {},
   "source": [
    "- [ ] \"A dog\" is larger than \"A mouse\" and 9999+8888 is larger than 100*100\n",
    "- [ ] \"A dog\" is smaller than \"A mouse\" and 9999+8888 is larger than 100*100\n",
    "- [ ] \"A dog\" is larger than \"A mouse\" and 9999+8888 is smaller than 100*100\n",
    "- [ ] \"A dog\" is smaller than \"A mouse\" and 9999+8888 is smaller than 100*100"
   ]
  },
  {
   "cell_type": "raw",
   "id": "4ea02e2d-ed90-41dc-8e3b-e59a747b5816",
   "metadata": {},
   "source": []
  },
  {
   "cell_type": "markdown",
   "id": "f35e1269-75eb-4dab-a744-493e9e46c145",
   "metadata": {},
   "source": [
    "## Question 5\n",
    "If a filesystem has a block size of 4096 bytes, this means that a file comprised of only one byte will still use 4096 bytes of storage. A file made up of 4097 bytes will use 4096\\*2=8192 bytes of storage. Knowing this, can you fill in the gaps in the calculate_storage function below, which calculates the total number of bytes needed to store a file of a given size?"
   ]
  },
  {
   "cell_type": "code",
   "execution_count": 3,
   "id": "0347f41f-9cd4-4539-9daa-4374c77383b5",
   "metadata": {},
   "outputs": [
    {
     "name": "stdout",
     "output_type": "stream",
     "text": [
      "4096\n",
      "0\n",
      "0\n",
      "0\n"
     ]
    }
   ],
   "source": [
    "def calculate_storage(filesize):\n",
    "    block_size = 4096\n",
    "    # Use floor division to calculate how many blocks are fully occupied\n",
    "    full_blocks = block_size // (filesize * block_size)\n",
    "    # Use the modulo operator to check whether there's any remainder\n",
    "    partial_block_remainder = full_blocks % 2\n",
    "    # Depending on whether there's a remainder or not, return\n",
    "    # the total number of bytes required to allocate enough blocks\n",
    "    # to store your data.\n",
    "    if partial_block_remainder > 0:\n",
    "        return partial_block_remainder * block_size\n",
    "    return full_blocks\n",
    "\n",
    "\n",
    "print(calculate_storage(1))    # Should be 4096\n",
    "print(calculate_storage(4096)) # Should be 4096\n",
    "print(calculate_storage(4097)) # Should be 8192\n",
    "print(calculate_storage(6000)) # Should be 8192"
   ]
  }
 ],
 "metadata": {
  "kernelspec": {
   "display_name": "Python 3 (ipykernel)",
   "language": "python",
   "name": "python3"
  },
  "language_info": {
   "codemirror_mode": {
    "name": "ipython",
    "version": 3
   },
   "file_extension": ".py",
   "mimetype": "text/x-python",
   "name": "python",
   "nbconvert_exporter": "python",
   "pygments_lexer": "ipython3",
   "version": "3.9.7"
  }
 },
 "nbformat": 4,
 "nbformat_minor": 5
}
