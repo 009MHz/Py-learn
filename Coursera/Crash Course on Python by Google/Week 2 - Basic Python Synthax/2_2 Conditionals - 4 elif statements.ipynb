{
 "cells": [
  {
   "cell_type": "markdown",
   "id": "fb739f9f-d054-49f1-b97d-5108087f5fbc",
   "metadata": {},
   "source": [
    "Example"
   ]
  },
  {
   "cell_type": "raw",
   "id": "78d2d3b9-547b-4b02-beea-8f6af2a134d6",
   "metadata": {},
   "source": [
    "The number_group function should return \"Positive\" if the number received is positive, \"Negative\" if it's negative, and \"Zero\" if it's 0. Can you fill in the gaps to make that happen?"
   ]
  },
  {
   "cell_type": "code",
   "execution_count": null,
   "id": "587bf15b-808d-4335-bb97-58e64f6b78d2",
   "metadata": {},
   "outputs": [],
   "source": [
    "def number_group(number):\n",
    "    if ___:\n",
    "        return \"Positive\"\n",
    "    elif ___:\n",
    "        return ___\n",
    "    else:\n",
    "        ___\n",
    "\n",
    "\n",
    "print(number_group(10))  # Should be Positive\n",
    "print(number_group(0))  # Should be Zero\n",
    "print(number_group(-5))  # Should be Negative"
   ]
  },
  {
   "cell_type": "markdown",
   "id": "8faa7612-7299-4a89-af6f-c633eab39eb9",
   "metadata": {},
   "source": [
    "More Complex Branching with elif Statements Building off of the if and else blocks, which allow us to branch our code depending on the evaluation of one statement, the elif statement allows us even more comparisons to perform more complex branching. Very similar to the if statements, an elif statement starts with the elif keyword, followed by a comparison to be evaluated. This is followed by a colon, and then the code block on the next line, indented to the right. An elif statement must follow an if statement, and will only be evaluated if the if statement was evaluated as false. You can include multiple elif statements to build complex branching in your code to do all kinds of powerful things! "
   ]
  }
 ],
 "metadata": {
  "kernelspec": {
   "display_name": "Python 3 (ipykernel)",
   "language": "python",
   "name": "python3"
  },
  "language_info": {
   "codemirror_mode": {
    "name": "ipython",
    "version": 3
   },
   "file_extension": ".py",
   "mimetype": "text/x-python",
   "name": "python",
   "nbconvert_exporter": "python",
   "pygments_lexer": "ipython3",
   "version": "3.9.7"
  }
 },
 "nbformat": 4,
 "nbformat_minor": 5
}
