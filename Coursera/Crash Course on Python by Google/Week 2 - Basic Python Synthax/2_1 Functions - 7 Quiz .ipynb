{
 "cells": [
  {
   "cell_type": "markdown",
   "id": "8ef10c91-e237-4bea-8d8b-e89ec59be95f",
   "metadata": {},
   "source": [
    "## Question 1\n",
    "This function converts miles to kilometers (km).\n",
    "1. Complete the function to return the result of the conversion\n",
    "2. Call the function to convert the trip distance from miles to kilometers\n",
    "3. Fill in the blank to print the result of the conversion\n",
    "4. Calculate the round-trip in kilometers by doubling the result, and fill in the blank to print the result"
   ]
  },
  {
   "cell_type": "code",
   "execution_count": null,
   "id": "d8f1a4f0-c1eb-437a-b950-41e899c2b411",
   "metadata": {},
   "outputs": [],
   "source": [
    "# 1) Complete the function to return the result of the conversion\n",
    "def convert_distance(miles):\n",
    "\tkm = miles * 1.6  # approximately 1.6 km in 1 mile\n",
    "\treturn km\n",
    "\n",
    "my_trip_miles = 55\n",
    "\n",
    "# 2) Convert my_trip_miles to kilometers by calling the function above\n",
    "my_trip_km = convert_distance(my_trip_miles)\n",
    "\n",
    "# 3) Fill in the blank to print the result of the conversion\n",
    "print(\"The distance in kilometers is \" + str(my_trip_km))\n",
    "\n",
    "# 4) Calculate the round-trip in kilometers by doubling the result,\n",
    "#    and fill in the blank to print the result\n",
    "print(\"The round-trip in kilometers is \" + str(2*(my_trip_km)))"
   ]
  },
  {
   "cell_type": "markdown",
   "id": "6b4dd59b-4ac9-40ef-8c6e-0ebddcfb1cb1",
   "metadata": {},
   "source": [
    "# Question 2\n",
    "This function compares two numbers and returns them in increasing order.\n",
    "- Fill in the blanks, so the print statement displays the result of the function call in order.\n",
    "\n",
    "Hint: if a function returns multiple values, don't forget to store these values in multiple variables"
   ]
  },
  {
   "cell_type": "code",
   "execution_count": null,
   "id": "565c6c95-eb79-4c68-a953-aa73b134d5b9",
   "metadata": {},
   "outputs": [],
   "source": [
    "# This function compares two numbers and returns them\n",
    "# in increasing order.\n",
    "def order_numbers(number1, number2):\n",
    "\tif number2 > number1:\n",
    "\t\treturn number1, number2\n",
    "\telse:\n",
    "\t\treturn number2, number1\n",
    "\n",
    "    \n",
    "# 1) Fill in the blanks so the print statement displays the result\n",
    "#    of the function call\n",
    "smaller, bigger = order_numbers(100, 99)\n",
    "print(smaller, bigger)"
   ]
  },
  {
   "cell_type": "markdown",
   "id": "f7d73975-f90b-4ebb-9bb6-4a74ecbc0a2b",
   "metadata": {},
   "source": [
    "## Question 3\n",
    "What are the values passed into functions as input called?"
   ]
  },
  {
   "cell_type": "markdown",
   "id": "cddc115b-e92f-4bc3-a36d-dd3a07d5fd78",
   "metadata": {},
   "source": [
    "- Variables\n",
    "- Return values\n",
    "- Parameters\n",
    "- Data types"
   ]
  },
  {
   "cell_type": "raw",
   "id": "8ce9a5a7-fa33-4609-92d2-a8e0a9d9d468",
   "metadata": {},
   "source": []
  },
  {
   "cell_type": "markdown",
   "id": "1706febf-bdc1-498c-924c-3102b273b7fc",
   "metadata": {},
   "source": [
    "## Question 4\n",
    "Let's revisit our lucky_number function. We want to change it, so that instead of printing the message, it returns the message. This way, the calling line can print the message, or do something else with it if needed. Fill in the blanks to complete the code to make it work."
   ]
  },
  {
   "cell_type": "code",
   "execution_count": null,
   "id": "9d67ab1e-9927-48d4-8bfd-d6b7a909e8e7",
   "metadata": {},
   "outputs": [],
   "source": [
    "def lucky_number(name):\n",
    "    number = len(name) * 9\n",
    "    msg = \"Hello \" + name + \". Your lucky number is \" + str(number)\n",
    "    return msg\n",
    "\n",
    "\t    \n",
    "print(lucky_number(\"Kay\"))\n",
    "print(lucky_number(\"Cameron\"))"
   ]
  },
  {
   "cell_type": "markdown",
   "id": "b0480b4e-eb24-4ffb-a483-b5f06f2ccadd",
   "metadata": {},
   "source": [
    "## Question 5\n",
    "What is the purpose of the def keyword?\n",
    "\n",
    "- [ ] Used to define a new function\n",
    "- [ ] Used to define a return value\n",
    "- [ ] Used to define a new variable\n",
    "- [ ] Used to define a new parameter"
   ]
  },
  {
   "cell_type": "raw",
   "id": "f139fc9e-3a84-4c11-9362-9899f9246d11",
   "metadata": {},
   "source": []
  }
 ],
 "metadata": {
  "kernelspec": {
   "display_name": "Python 3 (ipykernel)",
   "language": "python",
   "name": "python3"
  },
  "language_info": {
   "codemirror_mode": {
    "name": "ipython",
    "version": 3
   },
   "file_extension": ".py",
   "mimetype": "text/x-python",
   "name": "python",
   "nbconvert_exporter": "python",
   "pygments_lexer": "ipython3",
   "version": "3.9.7"
  }
 },
 "nbformat": 4,
 "nbformat_minor": 5
}
