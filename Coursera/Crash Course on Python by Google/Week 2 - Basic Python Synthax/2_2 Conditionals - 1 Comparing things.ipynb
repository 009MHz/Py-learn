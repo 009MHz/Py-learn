{
 "cells": [
  {
   "cell_type": "markdown",
   "id": "55094b14-d2c6-438e-aff2-2b9965fb505d",
   "metadata": {},
   "source": [
    "Figure out what's the relationship between the strings \"cat\" and \"Cat\" by replacing the plus sign with comparison\n",
    "operators."
   ]
  },
  {
   "cell_type": "code",
   "execution_count": 1,
   "id": "067f64ff-6a3f-4a4b-bf26-1ab367e55b19",
   "metadata": {},
   "outputs": [
    {
     "name": "stdout",
     "output_type": "stream",
     "text": [
      "catCat\n"
     ]
    }
   ],
   "source": [
    "print(\"cat\" + \"Cat\")"
   ]
  },
  {
   "cell_type": "markdown",
   "id": "e4de6069-bef0-44a0-9f15-143b4df212db",
   "metadata": {},
   "source": [
    "- [ ] \"cat\" equals \"Cat\"\n",
    "- [ ] \"cat\" is smaller than \"Cat\"\n",
    "- [ ] \"cat\" is larger than \"Cat\""
   ]
  },
  {
   "cell_type": "raw",
   "id": "6a1ddd15-340e-41bf-bbb2-4534c2425077",
   "metadata": {},
   "source": []
  },
  {
   "cell_type": "markdown",
   "id": "05880e8e-dc0a-4aaa-bf5a-1bc778840112",
   "metadata": {},
   "source": [
    "### Comparison Operators\n",
    "In Python, we can use comparison operators to compare values. When a comparison is made, Python returns a boolean\n",
    "result, or simply a True or False.\n",
    "\n",
    "- To check if two values are the same, we can use the equality operator: '<font color = magenta>**==**</font>'\n",
    "- To check if two values are not the same, we can use the not equals operator: '<font color = yellow>**!=**</font>'\n",
    "\n",
    "We can also check if values are greater than or lesser than each other using '<font color = orange>**>**</font>' and '<font color = orange>\\<</font>'. If you try to compare data types\n",
    "that aren’t compatible, like checking if a string is greater than an integer, Python will throw a '<font color = red>**TypeError**</font>'.\n",
    "\n",
    "We can make very complex comparisons by joining statements together using logical operators with our comparison\n",
    "operators. These logical operators are '<font color = violet>**and**</font>', '<font color = violet>**or**</font>', and '<font color = violet>**not**</font>'. When using the and operator, both sides of the statement\n",
    "being evaluated must be true for the whole statement to be true. When using the or operator, if either side of the\n",
    "comparison is true, then the whole statement is true. Lastly, the not operator simply inverts the value of the\n",
    "statement immediately following it. So if a statement evaluates to '<font color = lime>**True**</font>', and we put the not operator in front of it, it would become '<font color = lime>**False**</font>'."
   ]
  }
 ],
 "metadata": {
  "kernelspec": {
   "display_name": "Python 3 (ipykernel)",
   "language": "python",
   "name": "python3"
  },
  "language_info": {
   "codemirror_mode": {
    "name": "ipython",
    "version": 3
   },
   "file_extension": ".py",
   "mimetype": "text/x-python",
   "name": "python",
   "nbconvert_exporter": "python",
   "pygments_lexer": "ipython3",
   "version": "3.9.7"
  }
 },
 "nbformat": 4,
 "nbformat_minor": 5
}
