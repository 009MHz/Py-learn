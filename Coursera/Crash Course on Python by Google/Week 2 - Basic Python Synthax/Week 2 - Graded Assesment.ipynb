{
 "cells": [
  {
   "cell_type": "markdown",
   "id": "5762e54b-7af3-465f-a5bd-8bea34e5145f",
   "metadata": {},
   "source": [
    "# Question 1\n",
    "Complete the function by filling in the missing parts. The color_translator function receives the name of a color, then prints its hexadecimal value. Currently, it only supports the three additive primary colors (red, green, blue), so it returns \"unknown\" for all other colors."
   ]
  },
  {
   "cell_type": "code",
   "execution_count": null,
   "id": "c6fdf61e-ec16-4304-abd6-b56da7d46713",
   "metadata": {},
   "outputs": [],
   "source": [
    "def color_translator(color):\n",
    "\tif color == \"red\":\n",
    "\t\thex_color = \"#ff0000\"\n",
    "\telif color == \"green\":\n",
    "\t\thex_color = \"#00ff00\"\n",
    "\telif color == \"blue\":\n",
    "\t\thex_color = \"#0000ff\"\n",
    "\telse:\n",
    "\t\thex_color = \"unknown\"\n",
    "\treturn hex_color\n",
    "\n",
    "\n",
    "print(color_translator(\"blue\")) # Should be #0000ff\n",
    "print(color_translator(\"yellow\")) # Should be unknown\n",
    "print(color_translator(\"red\")) # Should be #ff0000\n",
    "print(color_translator(\"black\")) # Should be unknown\n",
    "print(color_translator(\"green\")) # Should be #00ff00\n",
    "print(color_translator(\"\")) # Should be unknown"
   ]
  },
  {
   "cell_type": "markdown",
   "id": "95e5c969-b3b2-493e-b3d3-61f1106969c7",
   "metadata": {},
   "source": [
    "# Question 2\n",
    "What's the value of this Python expression: \"big\" > \"small\"\n",
    "\n",
    "- [ ] True\n",
    "- [ ] False\n",
    "- [ ] big\n",
    "- [ ] small"
   ]
  },
  {
   "cell_type": "raw",
   "id": "f0b84133-a94c-47d4-a04a-8d9a0c44c4d3",
   "metadata": {},
   "source": []
  },
  {
   "cell_type": "markdown",
   "id": "051ce209-9955-4744-8dde-941fa07fe7f3",
   "metadata": {},
   "source": [
    "# Question 3\n",
    "What is the elif keyword used for?\n",
    "- [ ] To mark the end of the if statement\n",
    "- [ ] To handle more than two comparison cases\n",
    "- [ ] To replace the \"or\" clause in the if statement\n",
    "- [ ] Nothing - it's a misspelling of the else-if keyword"
   ]
  },
  {
   "cell_type": "raw",
   "id": "48ded36e-72ec-4ec1-99b3-286831eac337",
   "metadata": {},
   "source": []
  },
  {
   "cell_type": "markdown",
   "id": "de93d16f-02ae-4101-ba40-5355c075cac9",
   "metadata": {},
   "source": [
    "# Question 4\n",
    "Students in a class receive their grades as Pass/Fail. Scores of 60 or more (out of 100) mean that the grade is \"Pass\". For lower scores, the grade is \"Fail\". In addition, scores above 95 (not included) are graded as \"Top Score\". Fill in this function so that it returns the proper grade."
   ]
  },
  {
   "cell_type": "code",
   "execution_count": null,
   "id": "32c399fe-7740-4a15-a989-2f7300afe317",
   "metadata": {},
   "outputs": [],
   "source": [
    "def exam_grade(score):\n",
    "\tif score >95:\n",
    "\t\tgrade = \"Top Score\"\n",
    "\telif score>= 60:\n",
    "\t\tgrade = \"Pass\"\n",
    "\telse:\n",
    "\t\tgrade = \"Fail\"\n",
    "\treturn grade\n",
    "\n",
    "\n",
    "print(exam_grade(65)) # Should be Pass\n",
    "print(exam_grade(55)) # Should be Fail\n",
    "print(exam_grade(60)) # Should be Pass\n",
    "print(exam_grade(95)) # Should be Pass\n",
    "print(exam_grade(100)) # Should be Top Score\n",
    "print(exam_grade(0)) # Should be Fail"
   ]
  },
  {
   "cell_type": "markdown",
   "id": "59369e2d-b40d-4f64-ac15-f0e3b77429ba",
   "metadata": {},
   "source": [
    "# Question 5\n",
    "What's the value of this Python expression: 11 % 5?\n",
    "\n",
    "- [ ] 2.2\n",
    "- [ ] 2\n",
    "- [ ] 1\n",
    "- [ ] 0"
   ]
  },
  {
   "cell_type": "raw",
   "id": "dfdf1d9b-6001-4ac3-ae29-011bd471095d",
   "metadata": {},
   "source": []
  },
  {
   "cell_type": "markdown",
   "id": "82094ad8-9998-4d14-85ab-91bb65e3176d",
   "metadata": {},
   "source": [
    "# Question 6\n",
    "Complete the body of the ***format_name*** function. This function receives the ***first_name*** and ***last_name*** parameters and then returns a properly formatted string.\n",
    "\n",
    "Specifically:\n",
    "\n",
    "If both the ***last_name*** and the ***first_name*** parameters are supplied, the function should return like so:"
   ]
  },
  {
   "cell_type": "code",
   "execution_count": null,
   "id": "998a6022-ffd5-4fd0-995f-7f220688ade8",
   "metadata": {},
   "outputs": [],
   "source": [
    "print(format_name(\"Ella\", \"Fitzgerald\"))\n",
    "Name: Fitzgerald, Ella"
   ]
  },
  {
   "cell_type": "markdown",
   "id": "e7f1d8bb-0098-49f7-b478-dc570fca039c",
   "metadata": {},
   "source": [
    "If only ***one*** name parameter is supplied (either the first name or the last name) , the function should return like so:"
   ]
  },
  {
   "cell_type": "code",
   "execution_count": null,
   "id": "74bd1f28-d3ba-4fe9-8de8-54087c9152e2",
   "metadata": {},
   "outputs": [],
   "source": [
    "print(format_name(\"Adele\", \"\"))\n",
    "Name: Adele"
   ]
  },
  {
   "cell_type": "markdown",
   "id": "ac804854-22e2-450a-9af0-bd2d31569add",
   "metadata": {},
   "source": [
    "or"
   ]
  },
  {
   "cell_type": "code",
   "execution_count": null,
   "id": "8bb7a5a1-b238-4117-8d32-5652cd1d47fa",
   "metadata": {},
   "outputs": [],
   "source": [
    "print(format_name(\"\", \"Einstein\"))\n",
    "Name: Einstein"
   ]
  },
  {
   "cell_type": "markdown",
   "id": "d1b32bc4-ff6c-4133-9dbe-1ed57c3132c3",
   "metadata": {},
   "source": [
    "Finally, if both names are blank, the function should return the empty string:"
   ]
  },
  {
   "cell_type": "code",
   "execution_count": null,
   "id": "922c1978-4d1b-4651-84b6-a69b1b2a1848",
   "metadata": {},
   "outputs": [],
   "source": [
    "print(format_name(\"\", \"\"))"
   ]
  },
  {
   "cell_type": "code",
   "execution_count": 1,
   "id": "d43b2561-32cf-4ed2-86fb-3d85979269ea",
   "metadata": {},
   "outputs": [
    {
     "name": "stdout",
     "output_type": "stream",
     "text": [
      "Name: Hemingway, Ernest\n",
      "Name: Madonna\n",
      "Name: Voltaire\n",
      "None\n"
     ]
    }
   ],
   "source": [
    "def format_name(first_name, last_name):\n",
    "\t# code goes here\n",
    "\tstring = ''\n",
    "\tif first_name == '' or last_name == '':\n",
    "\t\tif first_name != '':\n",
    "\t\t\treturn f'Name: {first_name}'\n",
    "\t\telif last_name != '':\n",
    "\t\t\treturn f'Name: {last_name}'\n",
    "\telif first_name != '' and last_name != '':\n",
    "\t\treturn f'Name: {last_name}, {first_name}'\n",
    "\telse:\n",
    "\t\treturn string \n",
    "\n",
    "print(format_name(\"Ernest\", \"Hemingway\"))\n",
    "# Should return the string \"Name: Hemingway, Ernest\"\n",
    "\n",
    "print(format_name(\"\", \"Madonna\"))\n",
    "# Should return the string \"Name: Madonna\"\n",
    "\n",
    "print(format_name(\"Voltaire\", \"\"))\n",
    "# Should return the string \"Name: Voltaire\"\n",
    "\n",
    "print(format_name(\"\", \"\"))\n",
    "# Should return an empty string"
   ]
  },
  {
   "cell_type": "markdown",
   "id": "dfdeb60b-dc18-4b15-96e9-bee13d0f4bb6",
   "metadata": {},
   "source": [
    "# Question 7\n",
    "The longest_word function is used to compare 3 words. It should return the word with the most number of characters (and the first in the list when they have the same length). Fill in the blank to make this happen."
   ]
  },
  {
   "cell_type": "code",
   "execution_count": null,
   "id": "287edb75-9bec-4798-bbb8-be36494e3dc7",
   "metadata": {},
   "outputs": [],
   "source": [
    "def longest_word(word1, word2, word3):\n",
    "\tif len(word1) >= len(word2) and len(word1) >= len(word3):\n",
    "\t\tword = word1\n",
    "\telif len(word2) >= len(word1) and len(word2)>= len(word3):\n",
    "\t\tword = word2\n",
    "\telse:\n",
    "\t\tword = word3\n",
    "\treturn(word)\n",
    "\n",
    "\n",
    "print(longest_word(\"chair\", \"couch\", \"table\"))\n",
    "print(longest_word(\"bed\", \"bath\", \"beyond\"))\n",
    "print(longest_word(\"laptop\", \"notebook\", \"desktop\"))"
   ]
  },
  {
   "cell_type": "markdown",
   "id": "af5f0c3b-b94b-4dba-8fa3-1aee532ffdd3",
   "metadata": {},
   "source": [
    "# Question 8\n",
    "What’s the output of this code?"
   ]
  },
  {
   "cell_type": "raw",
   "id": "36d99669-1f57-4ceb-8d2f-8230bdf40599",
   "metadata": {},
   "source": [
    "def sum(x, y):\n",
    "\t\treturn(x+y)\n",
    "print(sum(sum(1,2), sum(3,4)))"
   ]
  },
  {
   "cell_type": "raw",
   "id": "cb5570e5-7cba-42f7-a217-6c9c6e72a8f3",
   "metadata": {},
   "source": []
  },
  {
   "cell_type": "markdown",
   "id": "b447ba95-4233-4bf1-9f19-e81d728662e8",
   "metadata": {},
   "source": [
    "# Question 9\n",
    "What's the value of this Python expression?\n",
    "\n",
    "***((10 >= 5\\*2) and (10 <= 5\\*2))***\n",
    "\n",
    "- [ ] True\n",
    "- [ ] False\n",
    "- [ ] 10\n",
    "- [ ] 5*2"
   ]
  },
  {
   "cell_type": "raw",
   "id": "9b282c47-4979-49ab-bc52-c08ec3b2ee77",
   "metadata": {},
   "source": []
  },
  {
   "cell_type": "markdown",
   "id": "61bcd1cc-64a8-46d0-bfa8-9d068b397ddb",
   "metadata": {},
   "source": [
    "# Question 10\n",
    "The fractional_part function divides the numerator by the denominator, and returns just the fractional part (a number between 0 and 1). Complete the body of the function so that it returns the right number.\n",
    "\n",
    "Note: Since division by 0 produces an error, if the denominator is 0, the function should return 0 instead of attempting the division."
   ]
  },
  {
   "cell_type": "code",
   "execution_count": null,
   "id": "a8588123-4650-44c8-9baf-262ffc33f93d",
   "metadata": {},
   "outputs": [],
   "source": [
    "def fractional_part(numerator, denominator):\n",
    "\t# Operate with numerator and denominator to \n",
    "# keep just the fractional part of the quotient\n",
    "\tif denominator == 0:\n",
    "\t\treturn 0\n",
    "\telse:\n",
    "\t\treturn numerator / denominator\n",
    "\n",
    "    \n",
    "print(fractional_part(5, 5)) # Should be 0\n",
    "print(fractional_part(5, 4)) # Should be 0.25\n",
    "print(fractional_part(5, 3)) # Should be 0.66...\n",
    "print(fractional_part(5, 2)) # Should be 0.5\n",
    "print(fractional_part(5, 0)) # Should be 0\n",
    "print(fractional_part(0, 5)) # Should be 0"
   ]
  }
 ],
 "metadata": {
  "kernelspec": {
   "display_name": "Python 3 (ipykernel)",
   "language": "python",
   "name": "python3"
  },
  "language_info": {
   "codemirror_mode": {
    "name": "ipython",
    "version": 3
   },
   "file_extension": ".py",
   "mimetype": "text/x-python",
   "name": "python",
   "nbconvert_exporter": "python",
   "pygments_lexer": "ipython3",
   "version": "3.9.7"
  }
 },
 "nbformat": 4,
 "nbformat_minor": 5
}
