{
 "cells": [
  {
   "cell_type": "markdown",
   "id": "327b6a8c-5dac-4236-970c-754d31c39dbe",
   "metadata": {},
   "source": [
    "Some data types can be mixed and matched due to implicit conversion. Implicit conversion is where the interpreter helps us out and automatically converts one data type into another, without having to explicitly tell it to do so."
   ]
  },
  {
   "cell_type": "markdown",
   "id": "639d2e2e-d053-4829-84d8-64bf59be756d",
   "metadata": {},
   "source": [
    "By contrast, explicit conversion is where we manually convert from one data type to another by calling the relevant function for the data type we want to convert to. We used this in our video example when we wanted to print a number alongside some text. Before we could do that, we needed to call the <font color = cyan>**str**</font><font color = orange>( )</font> function to convert the number into a string.\n",
    "Once the number was explicitly converted to a string, we could join it with the rest of our textual string and print\n",
    "the result."
   ]
  }
 ],
 "metadata": {
  "kernelspec": {
   "display_name": "Python 3 (ipykernel)",
   "language": "python",
   "name": "python3"
  },
  "language_info": {
   "codemirror_mode": {
    "name": "ipython",
    "version": 3
   },
   "file_extension": ".py",
   "mimetype": "text/x-python",
   "name": "python",
   "nbconvert_exporter": "python",
   "pygments_lexer": "ipython3",
   "version": "3.9.7"
  }
 },
 "nbformat": 4,
 "nbformat_minor": 5
}
