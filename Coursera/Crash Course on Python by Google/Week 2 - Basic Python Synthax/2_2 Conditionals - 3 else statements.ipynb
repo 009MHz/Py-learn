{
 "cells": [
  {
   "cell_type": "markdown",
   "id": "168fbe03-0db6-4b02-ba1d-bb3e29ff33ef",
   "metadata": {},
   "source": [
    "Example"
   ]
  },
  {
   "cell_type": "raw",
   "id": "84077ae0-a0a8-4c84-967f-f81956f618a6",
   "metadata": {},
   "source": [
    "The is_positive function should return True if the number received is positive and False if it isn't. Can you fill in the gaps to make that happen?"
   ]
  },
  {
   "cell_type": "code",
   "execution_count": null,
   "id": "cc432c64-0b7a-4443-9bfe-bc63472bc765",
   "metadata": {},
   "outputs": [],
   "source": [
    "def is_positive(number):\n",
    "    if number > 0:\n",
    "        return True\n",
    "    else:\n",
    "        ___"
   ]
  },
  {
   "cell_type": "markdown",
   "id": "173fc7d8-3f01-463a-8048-b317067fb302",
   "metadata": {},
   "source": [
    "<font color = magenta>***else***</font> Statements and the Modulo Operator We just covered the if statement, which executes code if an evaluation is true and skips the code if it’s false. But what if we wanted the code to do something different if the evaluation is false? We can do this using the else statement. The else statement follows an if block, and is composed of the keyword else followed by a colon. The body of the else statement is indented to the right, and will be executed if the above if statement doesn’t execute. "
   ]
  },
  {
   "cell_type": "markdown",
   "id": "43b9b9ec-2ad5-477d-bf3e-22ee34bc7b5e",
   "metadata": {},
   "source": [
    "We also touched on the modulo operator, which is represented by the percent sign: %. This operator performs integer division, but only returns the remainder of this division operation. If we’re dividing 5 by 2, the quotient is 2, and the remainder is 1. Two 2s can go into 5, leaving 1 left over. So 5%2 would return 1. Dividing 10 by 5 would give  us a quotient of 2 with no remainder, since 5 can go into 10 twice with nothing left over. In this case, 10%2 would return 0, as there is no remainder."
   ]
  },
  {
   "cell_type": "code",
   "execution_count": null,
   "id": "f4b148c8-f80b-43b6-9525-5b2d6fbe84bf",
   "metadata": {},
   "outputs": [],
   "source": []
  }
 ],
 "metadata": {
  "kernelspec": {
   "display_name": "Python 3 (ipykernel)",
   "language": "python",
   "name": "python3"
  },
  "language_info": {
   "codemirror_mode": {
    "name": "ipython",
    "version": 3
   },
   "file_extension": ".py",
   "mimetype": "text/x-python",
   "name": "python",
   "nbconvert_exporter": "python",
   "pygments_lexer": "ipython3",
   "version": "3.9.7"
  }
 },
 "nbformat": 4,
 "nbformat_minor": 5
}
