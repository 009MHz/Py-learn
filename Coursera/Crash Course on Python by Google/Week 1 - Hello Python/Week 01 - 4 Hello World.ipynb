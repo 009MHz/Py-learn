{
 "cells": [
  {
   "cell_type": "markdown",
   "id": "5381196d-09c5-421d-961d-572c773a88c8",
   "metadata": {},
   "source": [
    "    Example 1"
   ]
  },
  {
   "cell_type": "raw",
   "id": "276ce5c2-0bb1-42fc-b0a5-375de4b1a6ee",
   "metadata": {},
   "source": [
    "Write a Python script that outputs \"I'm programming in Python!\" to the screen. Remember that you need to use the print() function and use quotation marks to delimiter the string."
   ]
  },
  {
   "cell_type": "code",
   "execution_count": null,
   "id": "e4990ccf-97a3-4707-8ded-2fe0a12d1bd3",
   "metadata": {},
   "outputs": [],
   "source": []
  },
  {
   "cell_type": "markdown",
   "id": "c4ce11a7-0006-4c76-b68a-12cdc4760a8b",
   "metadata": {},
   "source": [
    "    Example 2"
   ]
  },
  {
   "cell_type": "raw",
   "id": "7f759d9c-4295-4394-91ec-e890df892f06",
   "metadata": {},
   "source": [
    "change the values of color and thing to have the computer output a different statement than the initial one."
   ]
  },
  {
   "cell_type": "code",
   "execution_count": null,
   "id": "acd88310-366b-4e1f-b0fa-0fa57a72129a",
   "metadata": {},
   "outputs": [],
   "source": [
    "color = \"Green\"\n",
    "thing = \"Hope\"\n",
    "print(color + \" is the color of \" + thing)"
   ]
  },
  {
   "cell_type": "markdown",
   "id": "324e3acb-e126-4206-8f89-7e68d150cd20",
   "metadata": {},
   "source": [
    "    Example 3:"
   ]
  },
  {
   "cell_type": "raw",
   "id": "c174703a-e976-4a6c-a82b-fc7e402e6001",
   "metadata": {},
   "source": [
    "Use Python to calculate (((1+2)*3)/4)^5(((1+2)∗3)/4)pangkat 5"
   ]
  },
  {
   "cell_type": "code",
   "execution_count": null,
   "id": "7aa94f69-85cb-47d1-8f42-179cb9a559dc",
   "metadata": {},
   "outputs": [],
   "source": []
  }
 ],
 "metadata": {
  "kernelspec": {
   "display_name": "Python 3 (ipykernel)",
   "language": "python",
   "name": "python3"
  },
  "language_info": {
   "codemirror_mode": {
    "name": "ipython",
    "version": 3
   },
   "file_extension": ".py",
   "mimetype": "text/x-python",
   "name": "python",
   "nbconvert_exporter": "python",
   "pygments_lexer": "ipython3",
   "version": "3.9.7"
  }
 },
 "nbformat": 4,
 "nbformat_minor": 5
}
