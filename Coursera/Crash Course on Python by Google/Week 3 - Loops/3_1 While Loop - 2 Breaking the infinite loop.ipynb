{
 "cells": [
  {
   "cell_type": "markdown",
   "id": "18c9409f-5650-4d0b-b1f1-863928c7dfc1",
   "metadata": {},
   "source": [
    "# <font color = green>Infinite Loop: </font>\n",
    "A loop that keeps executing and never stops\n",
    "\n",
    "Infinite loop sample: ping -t di windows untuk mengetahui ping internet"
   ]
  },
  {
   "cell_type": "markdown",
   "id": "7d4cab2f-f636-412c-b80b-b11a9769a0aa",
   "metadata": {},
   "source": [
    "    Example 1: infinite loop"
   ]
  },
  {
   "cell_type": "code",
   "execution_count": null,
   "id": "18bc2b3d-10b9-47dd-8cfd-ca51a5a77a75",
   "metadata": {},
   "outputs": [],
   "source": [
    "x = 0\n",
    "while x - 1 < 10:  # reason: 0 - 1 akan selalu dibawah 10\n",
    "    # solutions: gimana caranya biar x bisa menyentuh angka 10\n",
    "    x += 1\n",
    "    print(x)"
   ]
  },
  {
   "cell_type": "markdown",
   "id": "5f1410e7-976b-46c4-ab73-9c2b148fb061",
   "metadata": {},
   "source": [
    "    Example 2 infinite loop"
   ]
  },
  {
   "cell_type": "code",
   "execution_count": null,
   "id": "2286a359-95ac-4598-84b4-5ec5d22039d5",
   "metadata": {},
   "outputs": [],
   "source": [
    "def print_range(start, end):\n",
    "    # Loop through the numbers from start to end\n",
    "    n = start\n",
    "    while n <= end:\n",
    "        print(n)\n",
    "        \n",
    "        \n",
    "print_range(1, 5)  # Should print 1 2 3 4 5 (each number on its own line)"
   ]
  },
  {
   "cell_type": "raw",
   "id": "77167680-cc54-4773-9f6f-4fd7e36ea233",
   "metadata": {},
   "source": [
    "Infinite loop solution: adding 'break'"
   ]
  },
  {
   "cell_type": "code",
   "execution_count": null,
   "id": "48d4513c-a0c8-4912-b679-eb7312bc6765",
   "metadata": {},
   "outputs": [],
   "source": [
    "while True:\n",
    "    do_something_cool()\n",
    "    if user_requested_to_stop():\n",
    "        break"
   ]
  },
  {
   "cell_type": "markdown",
   "id": "e9910071-5718-4009-b654-4432d8524df2",
   "metadata": {},
   "source": [
    "# Summary: Avoid the most common pitfalls on while loop\n",
    "    1.  Initiate the variable for starting\n",
    "    2. Check the loop is not creating infinite loop"
   ]
  }
 ],
 "metadata": {
  "kernelspec": {
   "display_name": "Python 3 (ipykernel)",
   "language": "python",
   "name": "python3"
  },
  "language_info": {
   "codemirror_mode": {
    "name": "ipython",
    "version": 3
   },
   "file_extension": ".py",
   "mimetype": "text/x-python",
   "name": "python",
   "nbconvert_exporter": "python",
   "pygments_lexer": "ipython3",
   "version": "3.9.7"
  }
 },
 "nbformat": 4,
 "nbformat_minor": 5
}
