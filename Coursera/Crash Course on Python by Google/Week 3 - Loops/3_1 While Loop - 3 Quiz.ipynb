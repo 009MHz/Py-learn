{
 "cells": [
  {
   "cell_type": "markdown",
   "id": "fac3d1f3-53e8-4ec9-a2c8-29423ccc025e",
   "metadata": {},
   "source": [
    "# Question 1\n",
    "What are while loops in Python?\n",
    "- [ ] While loops let the computer execute a set of instructions while a condition is true.\n",
    "- [ ] While loops instruct the computer to execute a piece of code a set number of times.\n",
    "- [ ] While loops let us branch execution on whether or not a condition is true.\n",
    "- [ ] While loops are how we initialize variables in Python."
   ]
  },
  {
   "cell_type": "markdown",
   "id": "8e91d0e6-adae-48c6-9505-871c38df3f5f",
   "metadata": {},
   "source": [
    "# Question 2 \n",
    "Fill in the blanks to make the print_prime_factors function print all the prime factors of a number. A prime factor is a number that is prime and divides another without a remainder."
   ]
  },
  {
   "cell_type": "code",
   "execution_count": 1,
   "id": "30cc0e8c-002d-4a8a-af79-cc1c32b7e8ff",
   "metadata": {},
   "outputs": [
    {
     "name": "stdout",
     "output_type": "stream",
     "text": [
      "2\n",
      "2\n",
      "5\n",
      "5\n"
     ]
    },
    {
     "data": {
      "text/plain": [
       "'Done'"
      ]
     },
     "execution_count": 1,
     "metadata": {},
     "output_type": "execute_result"
    }
   ],
   "source": [
    "def print_prime_factors(number):\n",
    "    # Start with two, which is the first prime\n",
    "    factor = 2\n",
    "    # Keep going until the factor is larger than the number\n",
    "    while factor <= number:\n",
    "        # Check if factor is a divisor of number\n",
    "        if number % factor == 0:\n",
    "            # If it is, print it and divide the original number\n",
    "            print(factor)\n",
    "            number = number / factor\n",
    "        else:\n",
    "            # If it's not, increment the factor by one\n",
    "            factor = factor + 1\n",
    "    return \"Done\"\n",
    "\n",
    "\n",
    "print_prime_factors(100)  # Should print 2,2,5,5"
   ]
  },
  {
   "cell_type": "markdown",
   "id": "827f3a7c-b7f6-4849-8dd3-7a96a2de4a89",
   "metadata": {},
   "source": [
    "# Question 3\n",
    "The following code can lead to an infinite loop. Fix the code so that it can finish successfully for all numbers.\n",
    "Note: Try running your function with the number 0 as the input, and see what you get!"
   ]
  },
  {
   "cell_type": "code",
   "execution_count": null,
   "id": "c0b20ecf-41ea-4bb5-912f-2b05dbbcf747",
   "metadata": {},
   "outputs": [],
   "source": [
    "def is_power_of_two(n):\n",
    "    # Check if the number can be divided by two without a remainder\n",
    "    while n % 2 == 0 and n != 0:\n",
    "        n = n / 2\n",
    "    # If after dividing by two the number is 1, it's a power of two\n",
    "    if n == 1:\n",
    "        return True\n",
    "    return False\n",
    "\n",
    "\n",
    "print(is_power_of_two(0))  # Should be False\n",
    "print(is_power_of_two(1))  # Should be True\n",
    "print(is_power_of_two(8))  # Should be True\n",
    "print(is_power_of_two(9))  # Should be False"
   ]
  },
  {
   "cell_type": "markdown",
   "id": "c9d8fad8-bf2a-45e0-9369-c448ec559fb5",
   "metadata": {},
   "source": [
    "# Question 4 \n",
    "Fill in the empty function so that it returns the sum of all the divisors of a number, \n",
    "without including it. A divisor is a number that divides into another without a remainder."
   ]
  },
  {
   "cell_type": "code",
   "execution_count": null,
   "id": "2ae31182-4c61-4793-b7d4-236c6bb8cfe1",
   "metadata": {},
   "outputs": [],
   "source": [
    "def sum_divisors(n):\n",
    "    sum = 0\n",
    "    # Return the sum of all divisors of n, not including n\n",
    "    while sum < n:\n",
    "        sum = sum + sum\n",
    "    return sum\n",
    "\n",
    "\n",
    "print(sum_divisors(0))\n",
    "# 0\n",
    "print(sum_divisors(3))  # Should sum of 1\n",
    "# 1\n",
    "print(sum_divisors(36))  # Should sum of 1+2+3+4+6+9+12+18\n",
    "# 55\n",
    "print(sum_divisors(102))  # Should be sum of 2+3+6+17+34+51\n",
    "# 114"
   ]
  },
  {
   "cell_type": "markdown",
   "id": "c8d734f5-f23f-4bd5-9733-3773f9e47ae6",
   "metadata": {},
   "source": [
    "# Question 5 \n",
    "The multiplication_table function prints the results of a number passed to it multiplied by 1 \n",
    "through 5. An additional requirement is that the result is not to exceed 25, which is done with the break statement. \n",
    "Fill in the blanks to complete the function to satisfy these conditions."
   ]
  },
  {
   "cell_type": "code",
   "execution_count": null,
   "id": "2e6f6821-f94f-4184-8f71-0a8bce88d77c",
   "metadata": {},
   "outputs": [],
   "source": [
    "def multiplication_table(number):\n",
    "    # Initialize the starting point of the multiplication table\n",
    "    multiplier = 1\n",
    "    # Only want to loop through 5\n",
    "    while multiplier <= 5:\n",
    "        result = number * multiplier\n",
    "        # What is the additional condition to exit out of the loop?\n",
    "        if result > 25:\n",
    "            break\n",
    "        print(str(number) + \"x\" + str(multiplier) + \"=\" + str(result))\n",
    "        # Increment the variable for the loop\n",
    "        multiplier += 1\n",
    "\n",
    "\n",
    "print(multiplication_table(3))\n",
    "# Should print: 3x1=3 3x2=6 3x3=9 3x4=12 3x5=15\n",
    "multiplication_table(5)\n",
    "# Should print: 5x1=5 5x2=10 5x3=15 5x4=20 5x5=25\n",
    "multiplication_table(8)\n",
    "# Should print: 8x1=8 8x2=16 8x3=24"
   ]
  }
 ],
 "metadata": {
  "kernelspec": {
   "display_name": "Python 3 (ipykernel)",
   "language": "python",
   "name": "python3"
  },
  "language_info": {
   "codemirror_mode": {
    "name": "ipython",
    "version": 3
   },
   "file_extension": ".py",
   "mimetype": "text/x-python",
   "name": "python",
   "nbconvert_exporter": "python",
   "pygments_lexer": "ipython3",
   "version": "3.9.7"
  }
 },
 "nbformat": 4,
 "nbformat_minor": 5
}
