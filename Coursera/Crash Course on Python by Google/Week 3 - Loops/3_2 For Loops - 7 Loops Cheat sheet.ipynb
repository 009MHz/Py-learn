{
 "cells": [
  {
   "cell_type": "markdown",
   "id": "3a04f71e-d21d-49b2-8d52-8c89d4aa9a7e",
   "metadata": {},
   "source": [
    "### <font color = violet>**While Loops**</font>\n",
    "A while loop executes the body of the loop while the condition remains True."
   ]
  },
  {
   "cell_type": "markdown",
   "id": "1872a4f9-ce73-4a57-a631-8411d5a3c6fa",
   "metadata": {},
   "source": [
    "Syntax:"
   ]
  },
  {
   "cell_type": "code",
   "execution_count": null,
   "id": "c84a614e-4641-41a0-b614-45dbcf1c06d5",
   "metadata": {},
   "outputs": [],
   "source": [
    "while condition:\n",
    "    body"
   ]
  },
  {
   "cell_type": "markdown",
   "id": "e554ba0a-8f26-498f-b72d-6414fa381c14",
   "metadata": {},
   "source": [
    "Things to watch out for!\n",
    "- **Failure to initialize variables.** Make sure all the variables used in the loop’s condition  are initialized before the loop.\n",
    "- **Unintended infinite loops.** Make sure that the body of the loop modifies the variables used in the condition, so that the loop will eventually end for all possible values of the variables."
   ]
  },
  {
   "cell_type": "markdown",
   "id": "aa01a08f-1268-408b-8073-d238a54c9baa",
   "metadata": {},
   "source": [
    "**Typical use:**\n",
    "While loops are mostly used when there’s an unknown number of operations to be performed, and a condition needs to be checked at each iteration."
   ]
  },
  {
   "cell_type": "markdown",
   "id": "2154eaf3-67eb-4f57-91b7-9f8e49dec311",
   "metadata": {},
   "source": [
    "### <font color = orange>**For Loops**</font>\n",
    "A for loop iterates over a sequence of elements, executing the body of the loop for each element in the sequence.\n",
    "\n",
    "Syntax"
   ]
  },
  {
   "cell_type": "code",
   "execution_count": null,
   "id": "30567d6c-5811-4dbc-a618-7c4da86c7882",
   "metadata": {},
   "outputs": [],
   "source": [
    "for variable in sequence:\n",
    "    body"
   ]
  },
  {
   "cell_type": "markdown",
   "id": "886a618e-0ce1-4dbd-9d2d-33bb12f9dfa9",
   "metadata": {},
   "source": [
    "#### The ***range()*** function:\n",
    "<font color = orange>**range()**</font> generates a sequence of integer numbers. It can take one, two, or three parameters:\n",
    "- <font color = magenta>**range()**</font>: 0, 1, 2, ... n-1\n",
    "- <font color = magenta>**range(x,y)**</font>: x, x+1, x+2, ... y-1\n",
    "- <font color = magenta>**range(p,q,r)**</font>: p, p+r, p+2r, p+3r, ... q-1 (if it's a valid increment)"
   ]
  },
  {
   "cell_type": "markdown",
   "id": "0c92582b-239e-4b71-ab77-1a852928d9a5",
   "metadata": {},
   "source": [
    "### Common pitfalls:\n",
    "- **Forgetting that the upper limit of a range() isn’t included.**\n",
    "- **Iterating over non-sequences.** Integer numbers aren’t iterable. Strings are iterable letter by letter, but that might not be what you want."
   ]
  },
  {
   "cell_type": "markdown",
   "id": "03311c1e-d925-444f-8cf7-2c00c585fc3d",
   "metadata": {},
   "source": [
    "**Typical use:** For loops are mostly used when there's a pre-defined sequence or range of numbers to iterate."
   ]
  },
  {
   "cell_type": "markdown",
   "id": "060740e7-4731-470e-9609-c9a4d95fd0dd",
   "metadata": {},
   "source": [
    "### Break & Continue\n",
    "You can interrupt both while and for loops using the break keyword. We normally do this to interrupt a cycle due to a separate condition.\n",
    "\n",
    "You can use the continue keyword to skip the current iteration and continue with the next one. This is typically used to jump ahead when some of the elements of the sequence aren’t relevant.\n",
    "\n",
    "If you want to learn more, check out this [wiki page on for loops.](https://wiki.python.org/moin/ForLoop)"
   ]
  }
 ],
 "metadata": {
  "kernelspec": {
   "display_name": "Python 3 (ipykernel)",
   "language": "python",
   "name": "python3"
  },
  "language_info": {
   "codemirror_mode": {
    "name": "ipython",
    "version": 3
   },
   "file_extension": ".py",
   "mimetype": "text/x-python",
   "name": "python",
   "nbconvert_exporter": "python",
   "pygments_lexer": "ipython3",
   "version": "3.9.7"
  }
 },
 "nbformat": 4,
 "nbformat_minor": 5
}
