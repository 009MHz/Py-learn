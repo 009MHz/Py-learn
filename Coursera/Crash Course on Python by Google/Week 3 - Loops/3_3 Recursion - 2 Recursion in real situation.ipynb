{
 "cells": [
  {
   "cell_type": "markdown",
   "id": "6902bd29-43a5-4eab-8f08-df8c8345d16c",
   "metadata": {},
   "source": [
    "### Real Concept situation\n",
    "- Writing a tool that goes through many directories\n",
    "- Menghitung berapa banyak files yang ada pada tiap directories\n",
    "- Ada posibility dimana dalam folder terdapat subfolder lagi"
   ]
  },
  {
   "cell_type": "markdown",
   "id": "9af95b03-66b1-4a01-aed2-ca8371ce90e8",
   "metadata": {},
   "source": [
    "#### Translating into programming word\n",
    "1. <font color = scarlet>**Base Case**</font>: directory paling ujung yg tidak memiliki subfolder lagi only returning the amount of files inside the Base Case\n",
    "2. <font color = orange>**Recursive Case**</font>: mencari semua subfolder dalam folder yang diberikan returning the function untuk menghitung jumlah file dalam subfolder + menjelajahi subfolder di dalamnya lagi hingga menemui Base Case"
   ]
  },
  {
   "cell_type": "markdown",
   "id": "0176db00-6d18-4706-904b-88d69d5bcf67",
   "metadata": {},
   "source": [
    "#### Additional Recursion Sources\n",
    "A recursive function must include a recursive case and base case. The recursive case calls the function again, with a different value. The base case returns a value without calling the same function.\n",
    "\n",
    "A recursive function will usually have this structure:"
   ]
  },
  {
   "cell_type": "code",
   "execution_count": null,
   "id": "9c1a76b9-8414-4c70-8901-7c47e65cd4a9",
   "metadata": {},
   "outputs": [],
   "source": [
    "def recursive_function(parameters):\n",
    "    if base_case_condition(parameters):\n",
    "        return base_case_value\n",
    "    recursive_function(modified_parameters)"
   ]
  },
  {
   "cell_type": "markdown",
   "id": "ae5870fb-fbc4-42ec-a57e-1e5dda89aac0",
   "metadata": {},
   "source": [
    "For more information on recursion, check out these resources:\n",
    "- [Wikipedia Recursion page](https://en.wikipedia.org/wiki/Recursion)\n",
    "- See what happens when you [Search Google for Recursion](https://www.google.com/search?q=recursion)"
   ]
  }
 ],
 "metadata": {
  "kernelspec": {
   "display_name": "Python 3 (ipykernel)",
   "language": "python",
   "name": "python3"
  },
  "language_info": {
   "codemirror_mode": {
    "name": "ipython",
    "version": 3
   },
   "file_extension": ".py",
   "mimetype": "text/x-python",
   "name": "python",
   "nbconvert_exporter": "python",
   "pygments_lexer": "ipython3",
   "version": "3.9.7"
  }
 },
 "nbformat": 4,
 "nbformat_minor": 5
}
