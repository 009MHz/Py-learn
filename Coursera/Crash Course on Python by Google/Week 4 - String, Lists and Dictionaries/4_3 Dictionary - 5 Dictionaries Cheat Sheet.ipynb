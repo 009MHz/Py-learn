{
 "cells": [
  {
   "cell_type": "markdown",
   "id": "96bc9d12-45e5-4591-a079-97bac7a5b0c7",
   "metadata": {},
   "source": [
    "# Dictionary Methods Cheat Sheet"
   ]
  },
  {
   "cell_type": "code",
   "execution_count": null,
   "id": "bac66e72-71a7-4034-977e-d8ac255f833b",
   "metadata": {},
   "outputs": [],
   "source": [
    "\"Syntax\"\n",
    "x = {key1:value1, key2:value2} "
   ]
  },
  {
   "cell_type": "markdown",
   "id": "2fd68f3f-e054-43d5-827d-21a7b53893a1",
   "metadata": {},
   "source": [
    "***Operations***"
   ]
  },
  {
   "cell_type": "markdown",
   "id": "ed2e08ff-b160-42ba-9e67-ac20391d0394",
   "metadata": {},
   "source": [
    "- <font color = orange>**len(dictionary)**</font> - Returns the number of items in the dictionary\n",
    "- <font color = orange>**for key in dictionary**</font> - Iterates over each key in the dictionary\n",
    "- <font color = orange>**for key, value in dictionary.items()**</font> - Iterates over each key,value pair in the dictionary\n",
    "- <font color = orange>**if key in dictionary**</font> - Checks whether the key is in the dictionary\n",
    "- <font color = orange>**dictionary[key]**</font> - Accesses the item with key key of the dictionary\n",
    "- <font color = orange>**dictionary[key] = value**</font> - Sets the value associated with key\n",
    "- <font color = orange>**del dictionary[key]**</font> - Removes the item with key key from the dictionary"
   ]
  },
  {
   "cell_type": "markdown",
   "id": "c1aa64b8-799c-44c0-bfa4-1b7e16fdd960",
   "metadata": {},
   "source": [
    "***Methods***"
   ]
  },
  {
   "cell_type": "markdown",
   "id": "5a0b924e-c68d-42ae-94e5-08a83122c4b9",
   "metadata": {},
   "source": [
    "- <font color = cyan>dict.get(key, default)</font> - Returns the element corresponding to key, or default if it's not present\n",
    "- <font color = cyan>dict.keys()</font> - Returns a sequence containing the keys in the dictionary\n",
    "- <font color = cyan>dict.values()</font> - Returns a sequence containing the values in the dictionary\n",
    "- <font color = cyan>dict.update(other_dictionary)</font> - Updates the dictionary with the items coming from the other dictionary. Existing entries will be replaced; new entries will be added.\n",
    "- <font color = cyan>dict.clear()</font> - Removes all the items of the dictionary"
   ]
  },
  {
   "cell_type": "markdown",
   "id": "a933c9e0-cd63-4c7c-af8a-99f3ce2cf372",
   "metadata": {},
   "source": [
    "Check out the [official documentation for dictionary operations and methods.](https://docs.python.org/3/library/stdtypes.html#mapping-types-dict)"
   ]
  }
 ],
 "metadata": {
  "kernelspec": {
   "display_name": "Python 3 (ipykernel)",
   "language": "python",
   "name": "python3"
  },
  "language_info": {
   "codemirror_mode": {
    "name": "ipython",
    "version": 3
   },
   "file_extension": ".py",
   "mimetype": "text/x-python",
   "name": "python",
   "nbconvert_exporter": "python",
   "pygments_lexer": "ipython3",
   "version": "3.9.7"
  }
 },
 "nbformat": 4,
 "nbformat_minor": 5
}
