{
 "cells": [
  {
   "cell_type": "markdown",
   "id": "c2120504-861e-485a-b101-b751185ed66f",
   "metadata": {},
   "source": [
    "Python offers different ways to format strings. In the video, we explained the format() method. In this reading,we'll highlight three different ways of formatting strings. For this course you only need to know the format() method.\n",
    "But on the internet, you might find any of the three, so it's a good idea to know that the others exist."
   ]
  },
  {
   "cell_type": "markdown",
   "id": "39fb8acb-3972-4bcc-9a60-475b0cbc94af",
   "metadata": {},
   "source": [
    "# Using the format() method"
   ]
  },
  {
   "cell_type": "markdown",
   "id": "a45b6cb6-67b2-4d7d-8732-bc018882a17b",
   "metadata": {},
   "source": [
    "The format method returns a copy of the string where the {} placeholders have been replaced with the values of the variables. These variables are converted to strings if they weren't strings already. Empty placeholders are replaced\n",
    "by the variables passed to format in the same order."
   ]
  },
  {
   "cell_type": "code",
   "execution_count": null,
   "id": "52b54164-1598-422f-926f-efb91651d5f2",
   "metadata": {},
   "outputs": [],
   "source": [
    "\"base string with {} placeholders\".format(variables)\n",
    "example = \"format() method\"\n",
    "formatted_string = \"this is an example of using the {} on a string\".format(example)\n",
    "print(formatted_string) # this is an example of using the format() method on a string"
   ]
  },
  {
   "cell_type": "markdown",
   "id": "c16475aa-beff-4cae-98a1-a5bc3a7965e3",
   "metadata": {},
   "source": [
    "If the placeholders indicate a number, they’re replaced by the variable corresponding to that order (starting at zero)."
   ]
  },
  {
   "cell_type": "code",
   "execution_count": null,
   "id": "a4622a23-ca6c-4bdc-9bb7-6ba6a7a6dd8b",
   "metadata": {},
   "outputs": [],
   "source": [
    "# \"{0} {1}\".format(first, second)\n",
    "\n",
    "first = \"apple\"\n",
    "second = \"banana\"\n",
    "third = \"carrot\"\n",
    "\n",
    "formatted_string = \"{0} {2} {1}\".format(first, second, third)\n",
    "\n",
    "print(formatted_string)\n",
    "\n",
    "\"\"\"Outputs:\n",
    "apple carrot banana\n",
    "\"\"\""
   ]
  },
  {
   "cell_type": "markdown",
   "id": "581bb65c-ffa7-4620-87de-c10ef0069d37",
   "metadata": {},
   "source": [
    "If the placeholders indicate a field name, they’re replaced by the variable corresponding to that field name. This means that parameters to format need to be passed indicating the field name."
   ]
  },
  {
   "cell_type": "code",
   "execution_count": null,
   "id": "29d0252d-d835-492f-ba21-ce5e777cf66f",
   "metadata": {},
   "outputs": [],
   "source": [
    "{var1} {var2}\".format(var1=value1, var2=value2)"
   ]
  },
  {
   "cell_type": "code",
   "execution_count": null,
   "id": "1620f34a-c8f2-49f9-859b-4dcd0d5410ef",
   "metadata": {},
   "outputs": [],
   "source": [
    "\"{:exp1} {:exp2}\".format(value1, value2)"
   ]
  },
  {
   "cell_type": "markdown",
   "id": "091f66dc-8e4b-4320-bce2-45f9b0852e53",
   "metadata": {},
   "source": [
    "If the placeholders include a colon, what comes after the colon is a formatting expression. See below for the expression reference.\n",
    "https://docs.python.org/3/library/string.html#formatstrings"
   ]
  },
  {
   "cell_type": "code",
   "execution_count": null,
   "id": "8b5f21e5-ab4a-4713-a420-0da36e0bd298",
   "metadata": {},
   "outputs": [],
   "source": [
    "# {:d} integer value\n",
    "'{:d}'.format(10.5) → '10'"
   ]
  },
  {
   "cell_type": "code",
   "execution_count": null,
   "id": "1f20d97b-ff9e-4cbb-816f-c5aea796d7f4",
   "metadata": {},
   "outputs": [],
   "source": []
  },
  {
   "cell_type": "markdown",
   "id": "19955272-8619-4ebc-9b59-7943a1080fc4",
   "metadata": {},
   "source": [
    "**Formatting expressions**"
   ]
  },
  {
   "cell_type": "code",
   "execution_count": null,
   "id": "648f7444-a03f-483d-9540-e6643fce5136",
   "metadata": {},
   "outputs": [],
   "source": [
    "Expr    |   Meaning                                     |   Example\n",
    "{:d}    |   integer value                               |   '{:d}'.format(10.5) → '10'\n",
    "{:.2f}  |   floating point with that many decimals      |   '{:.2f}'.format(0.5) → '0.50'\n",
    "{:.2s}  |   string with that many characters            |   '{:.2s}'.format('Python') → 'Py'\n",
    "{:<6s}  |   string aligned to the left that many spaces |   '{:<6s}'.format('Py') → 'Py    '\n",
    "{:>6s}  |   string aligned to the right that many spaces|   '{:>6s}'.format('Py') → '    Py'\n",
    "{:^6s}  |   string centered in that many spaces         |   '{:^6s}'.format('Py') → '  Py  '"
   ]
  },
  {
   "cell_type": "markdown",
   "id": "ddaaea9d-b4c9-4a07-a78c-2d2de4b8cf07",
   "metadata": {},
   "source": [
    "Check out the official documentation for all available expressions.\n",
    "https://docs.python.org/3/library/string.html#format-specification-mini-language"
   ]
  },
  {
   "cell_type": "markdown",
   "id": "7789f2bb-6079-4bba-8968-7a654e99a7bc",
   "metadata": {},
   "source": [
    "# Old string formatting (Optional)"
   ]
  },
  {
   "cell_type": "markdown",
   "id": "d0d6189e-1c67-49e7-97aa-7b0989ebbe1f",
   "metadata": {},
   "source": [
    "The format() method was introduced in Python 2.6. Before that, the % (modulo) operator could be used to get a similar result. While this method is no longer recommended for new code, you might come across it in someone else's code. This is what it looks like:\n",
    "\n",
    " \"base string with %s placeholder\" % variable\n",
    "\n",
    "The % (modulo) operator returns a copy of the string where the placeholders indicated by %  followed by a formatting expression are replaced by the variables after the operator.\n",
    "\n",
    " \"base string with %d and %d placeholders\" % (value1, value2)\n",
    "\n",
    "To replace more than one value, the values need to be written between parentheses. The formatting expression needs to match the value type.\n",
    "\n",
    " \n",
    "\n",
    "\"%(var1) %(var2)\" % {var1:value1, var2:value2}\n",
    "\n",
    "Variables can be replaced by name using a dictionary syntax (we’ll learn about dictionaries in an upcoming video).\n",
    "\n",
    " \n",
    "\n",
    "\"Item: %s - Amount: %d - Price: %.2f\" % (item, amount, price)\n",
    "\n",
    "The formatting expressions are mostly the same as those of the format() method. \n",
    "\n",
    "Check out the official documentation for old string formatting."
   ]
  },
  {
   "cell_type": "markdown",
   "id": "9d8989e7-f0de-4395-bd30-d3fa5a372b0d",
   "metadata": {},
   "source": [
    "# **Formatted string literals (Optional)**"
   ]
  },
  {
   "cell_type": "markdown",
   "id": "fb719929-61d1-46ea-bb6f-708356795c93",
   "metadata": {},
   "source": [
    "This feature was added in Python 3.6 and isn’t used a lot yet. Again, it's included here in case you run into it in the future, but it's not needed for this or any upcoming courses.\n",
    "\n",
    "A formatted string literal or f-string is a string that starts with 'f' or 'F' before the quotes. These strings might contain {} placeholders using expressions like the ones used for format method strings.\n",
    "\n",
    "The important difference with the format method is that it takes the value of the variables from the current context, instead of taking the values from parameters.\n",
    "\n",
    " Examples:"
   ]
  },
  {
   "cell_type": "code",
   "execution_count": 2,
   "id": "58a203c4-a7e9-4478-988e-3e3e924aa45b",
   "metadata": {},
   "outputs": [
    {
     "name": "stdout",
     "output_type": "stream",
     "text": [
      "Hello Micah\n"
     ]
    }
   ],
   "source": [
    "name = \"Micah\"\n",
    "print(f'Hello {name}')"
   ]
  },
  {
   "cell_type": "code",
   "execution_count": 3,
   "id": "1365937c-95df-4496-9285-1f51e08a4654",
   "metadata": {},
   "outputs": [
    {
     "name": "stdout",
     "output_type": "stream",
     "text": [
      "Item: Purple Cup - Amount: 5 - Price: 16.25\n"
     ]
    }
   ],
   "source": [
    "item = \"Purple Cup\"\n",
    "amount = 5\n",
    "price = amount * 3.25\n",
    "print(f'Item: {item} - Amount: {amount} - Price: {price:.2f}')"
   ]
  },
  {
   "cell_type": "markdown",
   "id": "9e7a2bd8-e42d-4805-8ee2-b8618301db6a",
   "metadata": {},
   "source": [
    "Check out the official documentation for f-strings.\n",
    "https://docs.python.org/3/reference/lexical_analysis.html#f-strings"
   ]
  }
 ],
 "metadata": {
  "kernelspec": {
   "display_name": "Python 3 (ipykernel)",
   "language": "python",
   "name": "python3"
  },
  "language_info": {
   "codemirror_mode": {
    "name": "ipython",
    "version": 3
   },
   "file_extension": ".py",
   "mimetype": "text/x-python",
   "name": "python",
   "nbconvert_exporter": "python",
   "pygments_lexer": "ipython3",
   "version": "3.9.7"
  }
 },
 "nbformat": 4,
 "nbformat_minor": 5
}
