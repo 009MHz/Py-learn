{
 "cells": [
  {
   "cell_type": "markdown",
   "id": "2ea3fe38-d19d-4f18-959e-f834bb92efd6",
   "metadata": {},
   "source": [
    "# Question 1\n",
    "The email_list function receives a dictionary, which contains domain names as keys, and a list of users as values. Fill in the blanks to generate a list that contains complete email addresses (e.g. diana.prince@gmail.com)."
   ]
  },
  {
   "cell_type": "code",
   "execution_count": 3,
   "id": "7c4e2d18-388c-48b8-83fe-a72bb4e0ea31",
   "metadata": {},
   "outputs": [
    {
     "name": "stdout",
     "output_type": "stream",
     "text": [
      "['clark.kent@gmail.com', 'diana.prince@gmail.com', 'peter.parker@gmail.com', 'barbara.gordon@yahoo.com', 'jean.grey@yahoo.com', 'bruce.wayne@hotmail.com']\n"
     ]
    }
   ],
   "source": [
    "def email_list(domains):\n",
    "    emails = []\n",
    "    for users in domains:\n",
    "        for user in domains[users]:\n",
    "            emails.append(user + '@' + users)\n",
    "    return(emails)\n",
    "\n",
    "print(email_list({\"gmail.com\": [\"clark.kent\", \"diana.prince\", \"peter.parker\"], \"yahoo.com\": [\"barbara.gordon\", \"jean.grey\"], \"hotmail.com\": [\"bruce.wayne\"]}))"
   ]
  },
  {
   "cell_type": "markdown",
   "id": "2cb4b855-ccb4-4e4f-9cbb-a5f091573a28",
   "metadata": {},
   "source": [
    "# Question 2\n",
    "The groups_per_user function receives a dictionary, which contains group names with the list of users. Users can belong to multiple groups. Fill in the blanks to return a dictionary with the users as keys and a list of their groups as values. "
   ]
  },
  {
   "cell_type": "code",
   "execution_count": null,
   "id": "4a23888d-d9c7-4c03-b035-8d43f8aebb9f",
   "metadata": {},
   "outputs": [],
   "source": [
    "def groups_per_user(group_dictionary):\n",
    "    user_groups = {}\n",
    "    # Go through group_dictionary\n",
    "    for header in group_dictionary:\n",
    "        # Now go through the users in the group\n",
    "        for x in group_dictionary[header]:\n",
    "            # Now add the group to the the list of\n",
    "            user_groups[x] = header\n",
    "# groups for this user, creating the entry\n",
    "# in the dictionary if necessary\n",
    "    return(user_groups)\n",
    "\n",
    "\n",
    "print(groups_per_user({\"local\": [\"admin\", \"userA\"],\n",
    "        \"public\":  [\"admin\", \"userB\"],\n",
    "        \"administrator\": [\"admin\"]}))"
   ]
  },
  {
   "cell_type": "markdown",
   "id": "b73b8c1d-d7db-421b-8999-3781afbf3543",
   "metadata": {},
   "source": [
    "# Question 3\n",
    "The dict.update method updates one dictionary with the items coming from the other dictionary, so that existing entries are replaced and new entries are added. What is the content of the dictionary “wardrobe“ at the end of the following code?"
   ]
  },
  {
   "cell_type": "code",
   "execution_count": 4,
   "id": "d06daae7-8ae8-4553-b4d4-e7686fd3a1a8",
   "metadata": {},
   "outputs": [],
   "source": [
    "wardrobe = {'shirt': ['red', 'blue', 'white'], 'jeans': ['blue', 'black']}\n",
    "new_items = {'jeans': ['white'], 'scarf': ['yellow'], 'socks': ['black', 'brown']}\n",
    "wardrobe.update(new_items)"
   ]
  },
  {
   "cell_type": "markdown",
   "id": "54a5a8c9-aeba-4ef9-bea5-e2955dbefdba",
   "metadata": {},
   "source": [
    "- [ ] {'jeans': ['white'], 'scarf': ['yellow'], 'socks': ['black', 'brown']}\n",
    "- [ ] {'shirt': ['red', 'blue', 'white'], 'jeans': ['white'], 'scarf': ['yellow'], 'socks': ['black', 'brown']}\n",
    "- [ ] {'shirt': ['red', 'blue', 'white'], 'jeans': ['blue', 'black', 'white'], 'scarf': ['yellow'], 'socks': ['black', 'brown']}\n",
    "- [ ] {'shirt': ['red', 'blue', 'white'], 'jeans': ['blue', 'black'], 'jeans': ['white'], 'scarf': ['yellow'], 'socks': ['black', 'brown']}"
   ]
  },
  {
   "cell_type": "markdown",
   "id": "35cb213c-22e2-4cf1-9779-51dc71c629e1",
   "metadata": {},
   "source": [
    "# Question 4\n",
    "What’s a major advantage of using dictionaries over lists?\n",
    "\n",
    "- [ ] Dictionaries are ordered sets\n",
    "- [ ] Dictionaries can be accessed by the index number of the element\n",
    "- [ ] Elements can be removed and inserted into dictionaries\n",
    "- [ ] It’s quicker and easier to find a specific element in a dictionary"
   ]
  },
  {
   "cell_type": "markdown",
   "id": "c90008a7-f7b0-45a2-af51-0e4bdc7d7439",
   "metadata": {},
   "source": [
    "# Question 5\n",
    "The add_prices function returns the total price of all of the groceries in the  dictionary. Fill in the blanks to complete this function."
   ]
  },
  {
   "cell_type": "code",
   "execution_count": null,
   "id": "4693b095-7bab-4f17-93b8-2180ef5b5d26",
   "metadata": {},
   "outputs": [],
   "source": [
    "def add_prices(basket):\n",
    "    # Initialize the variable that will be used for the calculation\n",
    "    total = 0\n",
    "    # Iterate through the dictionary items\n",
    "    for price in basket.values():\n",
    "        # Add each price to the total calculation\n",
    "        # Hint: how do you access the values of\n",
    "        # dictionary items?\n",
    "        total += price\n",
    "    # Limit the return value to 2 decimal places\n",
    "    return round(total, 2)\n",
    "\n",
    "\n",
    "groceries = {\n",
    "    \"bananas\": 1.56, \n",
    "    \"apples\": 2.50, \n",
    "    \"oranges\": 0.99, \n",
    "    \"bread\": 4.59, \n",
    "    \"coffee\": 6.99, \n",
    "    \"milk\": 3.39, \n",
    "    \"eggs\": 2.98, \n",
    "    \"cheese\": 5.44\n",
    "}\n",
    "\n",
    "print(add_prices(groceries))  # Should print 28.44"
   ]
  }
 ],
 "metadata": {
  "kernelspec": {
   "display_name": "Python 3 (ipykernel)",
   "language": "python",
   "name": "python3"
  },
  "language_info": {
   "codemirror_mode": {
    "name": "ipython",
    "version": 3
   },
   "file_extension": ".py",
   "mimetype": "text/x-python",
   "name": "python",
   "nbconvert_exporter": "python",
   "pygments_lexer": "ipython3",
   "version": "3.9.7"
  }
 },
 "nbformat": 4,
 "nbformat_minor": 5
}
