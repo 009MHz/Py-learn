{
 "cells": [
  {
   "cell_type": "markdown",
   "id": "29071d3c-148b-4b62-ab8b-406e3d3c263c",
   "metadata": {},
   "source": [
    "# Question 1\n",
    "The format_address function separates out parts of the address string into new strings: house_number and street_name, and returns: \"house number X on street named Y\". The format of the input string is: numeric house number, followed by the street name which may contain numbers, but never by themselves, and could be several words long. For example, \"123 Main Street\", \"1001 1st Ave\", or \"55 North Center Drive\". Fill in the gaps to complete this function."
   ]
  },
  {
   "cell_type": "code",
   "execution_count": null,
   "id": "7792efe3-1f75-4d95-8ea8-d6da83fe3072",
   "metadata": {},
   "outputs": [],
   "source": [
    "def format_address(address_string):\n",
    "    # Declare variables\n",
    "    number = ''\n",
    "    street = ''\n",
    "    # Separate the address string into parts\n",
    "    address = address_string.split()\n",
    "    # Traverse through the address parts\n",
    "    for x in address:\n",
    "        # Determine if the address part is the\n",
    "        # house number or part of the street name\n",
    "        if x.isnumeric():\n",
    "            number += x\n",
    "        # Does anything else need to be done\n",
    "        # before returning the result?\n",
    "        else:\n",
    "            street = street + ' ' + x\n",
    "\n",
    "    # Return the formatted string\n",
    "    return f'house number {number} on street named{street}'\n",
    "\n",
    "\n",
    "print(format_address(\"123 Main Street\"))\n",
    "# Should print: \"house number 123 on street named Main Street\"\n",
    "\n",
    "print(format_address(\"1001 1st Ave\"))\n",
    "# Should print: \"house number 1001 on street named 1st Ave\"\n",
    "\n",
    "print(format_address(\"55 North Center Drive\"))\n",
    "# Should print \"house number 55 on street named North Center Drive\""
   ]
  },
  {
   "cell_type": "markdown",
   "id": "926bf5ce-0d5a-4c5d-8e7f-2670bae99b43",
   "metadata": {},
   "source": [
    "# Question 2\n",
    "The highlight_word function changes the given word in a sentence to its upper-case version. For example, highlight_word(\"Have a nice day\", \"nice\") returns \"Have a NICE day\". Can you write this function in just one line?"
   ]
  },
  {
   "cell_type": "code",
   "execution_count": null,
   "id": "9eb9dfa8-7a65-45de-a446-88c6b2c6861f",
   "metadata": {},
   "outputs": [],
   "source": [
    "def highlight_word(sentence, word):\n",
    "\treturn(sentence.replace(word,word.upper()))\n",
    "\n",
    "print(highlight_word(\"Have a nice day\", \"nice\"))\n",
    "print(highlight_word(\"Shhh, don't be so loud!\", \"loud\"))\n",
    "print(highlight_word(\"Automating with Python is fun\", \"fun\"))"
   ]
  },
  {
   "cell_type": "markdown",
   "id": "699534c4-d664-4989-82ba-16d2a0c644dd",
   "metadata": {},
   "source": [
    "# Question 3\n",
    "A professor with two assistants, Jamie and Drew, wants an attendance list of the students, in the order that they arrived in the classroom. Drew was the first one to note which students arrived, and then Jamie took over. After the class, they each entered their lists into the computer and emailed them to the professor, who needs to combine them into one, in the order of each student's arrival. Jamie emailed a follow-up, saying that her list is in reverse order. Complete the steps to combine them into one list as follows: **the contents of Drew's list, followed by Jamie's list in reverse order**, to get an accurate list of the students as they arrived."
   ]
  },
  {
   "cell_type": "code",
   "execution_count": null,
   "id": "6cad3c68-7524-49e4-9d3c-b56e98e3d10d",
   "metadata": {},
   "outputs": [],
   "source": [
    "def combine_lists(list1, list2):\n",
    "    # Generate a new list containing the elements of list2\n",
    "    # Followed by the elements of list1 in reverse order\n",
    "    invert = list1[::-1]\n",
    "    combined = list2 + invert\n",
    "    return combined\n",
    "\n",
    "\n",
    "Jamies_list = [\"Alice\", \"Cindy\", \"Bobby\", \"Jan\", \"Peter\"]\n",
    "Drews_list = [\"Mike\", \"Carol\", \"Greg\", \"Marcia\"]\n",
    "\n",
    "print(combine_lists(Jamies_list, Drews_list))"
   ]
  },
  {
   "cell_type": "markdown",
   "id": "7a0ec63c-0640-4916-9a14-cc0f3dcbc57e",
   "metadata": {},
   "source": [
    "# Question 4\n",
    "Use a list comprehension to create a list of squared numbers (n\\*n). The function receives the variables start and end, and returns a list of squares of consecutive numbers between start and end *inclusively*.\n",
    "For example, squares(2, 3) should return [4, 9]."
   ]
  },
  {
   "cell_type": "code",
   "execution_count": null,
   "id": "c634d302-82cb-4247-a175-d89fb57f9a4b",
   "metadata": {},
   "outputs": [],
   "source": [
    "def squares(start, end):\n",
    "\treturn [x ** 2 for x in range(start, end+1)]\n",
    "\n",
    "print(squares(2, 3)) # Should be [4, 9]\n",
    "print(squares(1, 5)) # Should be [1, 4, 9, 16, 25]\n",
    "print(squares(0, 10)) # Should be [0, 1, 4, 9, 16, 25, 36, 49, 64, 81, 100]"
   ]
  },
  {
   "cell_type": "markdown",
   "id": "3d1b6332-3515-4122-a9e0-22b456a3b602",
   "metadata": {},
   "source": [
    "# Question 5\n",
    "Complete the code to iterate through the keys and values of the car_prices dictionary, printing out some information about each one."
   ]
  },
  {
   "cell_type": "code",
   "execution_count": null,
   "id": "f8f05d22-21c9-4b2d-aa58-7a1f484c3839",
   "metadata": {},
   "outputs": [],
   "source": [
    "def car_listing(car_prices):\n",
    "    result = \"\"\n",
    "    for item in car_prices:\n",
    "        result += \"{} costs {} dollars\".format(item, car_prices[item]) + \"\\n\"\n",
    "    return result\n",
    "\n",
    "\n",
    "print(car_listing(\n",
    "    {\n",
    "        \"Kia Soul\": 19000, \n",
    "        \"Lamborghini Diablo\": 55000, \n",
    "        \"Ford Fiesta\": 13000, \n",
    "        \"Toyota Prius\": 24000\n",
    "    }\n",
    "))"
   ]
  },
  {
   "cell_type": "markdown",
   "id": "d89c1fc7-baff-43ea-8fc1-70023aec669b",
   "metadata": {},
   "source": [
    "# Question 6 \n",
    "Taylor and Rory are hosting a party. They sent out invitations, and each one collected responses into dictionaries, with names of their friends and how many guests each friend is bringing. Each dictionary is a partial list, but Rory's list has more current information about the number of guests. Fill in the blanks to combine both dictionaries into one, with each friend listed only once, and the number of guests from Rory's dictionary taking precedence, if a name is included in both dictionaries. Then print the resulting dictionary."
   ]
  },
  {
   "cell_type": "code",
   "execution_count": null,
   "id": "4dc93123-202c-4f22-96fa-0e680456cf40",
   "metadata": {},
   "outputs": [],
   "source": [
    "def combine_guests(guests1, guests2):\n",
    "    # Combine both dictionaries into one, with each key listed\n",
    "    # only once, and the value from guests1 taking precedence\n",
    "    guests2.update(guests1)\n",
    "    return guests2\n",
    "\n",
    "\n",
    "Rorys_guests = {\"Adam\": 2, \"Brenda\": 3, \"David\": 1, \"Jose\": 3, \"Charlotte\": 2, \"Terry\": 1, \"Robert\": 4}\n",
    "Taylors_guests = {\"David\": 4, \"Nancy\": 1, \"Robert\": 2, \"Adam\": 1, \"Samantha\": 3, \"Chris\": 5}\n",
    "\n",
    "print(combine_guests(Rorys_guests, Taylors_guests))"
   ]
  },
  {
   "cell_type": "markdown",
   "id": "f5e7599d-6228-4795-8c08-a3cbfa93bc72",
   "metadata": {},
   "source": [
    "# Question 7\n",
    "Use a dictionary to count the frequency of letters in the input string. Only letters should be counted, not blank spaces, numbers, or punctuation. Upper case should be considered the same as lower case. For example, count_letters(\"This is a sentence.\") should return {'t': 2, 'h': 1, 'i': 2, 's': 3, 'a': 1, 'e': 3, 'n': 2, 'c': 1}."
   ]
  },
  {
   "cell_type": "code",
   "execution_count": null,
   "id": "7bb5bd5b-edc0-4b9a-8702-accda268ec35",
   "metadata": {},
   "outputs": [],
   "source": [
    "def count_letters(text):\n",
    "    result = {}\n",
    "    # Go through each letter in the text\n",
    "    for letter in text:\n",
    "        # Check if the letter needs to be counted or not\n",
    "        if not letter.isalpha():\n",
    "            pass\n",
    "        else:\n",
    "            low = letter.lower()\n",
    "            if low not in result:\n",
    "                result[low] = 0\n",
    "            # Add or increment the value in the dictionary\n",
    "            result[low] += 1\n",
    "    return result\n",
    "\n",
    "\n",
    "print(count_letters(\"AaBbCc\"))\n",
    "# Should be {'a': 2, 'b': 2, 'c': 2}\n",
    "\n",
    "print(count_letters(\"Math is fun! 2+2=4\"))\n",
    "# Should be {'m': 1, 'a': 1, 't': 1, 'h': 1, 'i': 1, 's': 1, 'f': 1, 'u': 1, 'n': 1}\n",
    "\n",
    "print(count_letters(\"This is a sentence.\"))\n",
    "# Should be {'t': 2, 'h': 1, 'i': 2, 's': 3, 'a': 1, 'e': 3, 'n': 2, 'c': 1}"
   ]
  },
  {
   "cell_type": "markdown",
   "id": "1bdddbd9-9779-4beb-9f85-a2cd3b63cc48",
   "metadata": {},
   "source": [
    "# Question 8\n",
    "What do the following commands return when animal = \"Hippopotamus\"?"
   ]
  },
  {
   "cell_type": "raw",
   "id": "2a68a37c-78b2-4498-8952-675dce9b7838",
   "metadata": {},
   "source": [
    "print(animal[3:6])\n",
    "print(animal[-5])\n",
    "print(animal[10:])"
   ]
  },
  {
   "cell_type": "markdown",
   "id": "56459028-fc6c-448b-9cce-45024168c0ec",
   "metadata": {},
   "source": [
    "- [ ] ppo, t, mus\n",
    "- [ ] ppop, o, s\n",
    "- [ ] pop, t, us\n",
    "- [ ] popo, t, mus"
   ]
  },
  {
   "cell_type": "markdown",
   "id": "48a35ca9-9270-42ba-b997-a4cbb254ea63",
   "metadata": {},
   "source": [
    "# Question 9\n",
    "What does the list \"colors\" contain after these commands are executed?"
   ]
  },
  {
   "cell_type": "markdown",
   "id": "db9bb81c-6f0e-4244-94f1-a47f4444f6d8",
   "metadata": {},
   "source": [
    "colors = [\"red\", \"white\", \"blue\"]\n",
    "colors.insert(2, \"yellow\")"
   ]
  },
  {
   "cell_type": "markdown",
   "id": "c7101ceb-0dcc-4976-b30c-abf1664a2cca",
   "metadata": {},
   "source": [
    "- [ ] ['red', 'white', 'yellow', 'blue']\n",
    "- [ ] ['red', 'yellow', 'white', 'blue']\n",
    "- [ ] ['red', 'yellow', 'blue']\n",
    "- [ ] ['red', 'white', 'yellow']"
   ]
  },
  {
   "cell_type": "markdown",
   "id": "a3bb9094-cbf5-4f18-bc60-098fe0f6f7d3",
   "metadata": {},
   "source": [
    "# Question 10\n",
    "What do the following commands return?"
   ]
  },
  {
   "cell_type": "raw",
   "id": "42bab5b8-ed09-4ef9-aab1-d519319fe07e",
   "metadata": {},
   "source": [
    "host_addresses = {\"router\": \"192.168.1.1\", \"localhost\": \"127.0.0.1\", \"google\": \"8.8.8.8\"}\n",
    "host_addresses.keys()"
   ]
  },
  {
   "cell_type": "markdown",
   "id": "e83f50e0-fcfb-49b4-9e23-14cb0b01bb90",
   "metadata": {},
   "source": [
    "- [ ] {\"router\": \"192.168.1.1\", \"localhost\": \"127.0.0.1\", \"google\": \"8.8.8.8\"}\n",
    "- [ ] [\"router\", \"192.168.1.1\", \"localhost\", \"127.0.0.1\", \"google\", \"8.8.8.8\"]\n",
    "- [ ] ['192.168.1.1', '127.0.0.1', '8.8.8.8']\n",
    "- [ ] ['router', 'localhost', 'google']"
   ]
  },
  {
   "cell_type": "code",
   "execution_count": null,
   "id": "4d3f1b00-22cb-4e16-bc90-6ba9d72ef921",
   "metadata": {},
   "outputs": [],
   "source": []
  }
 ],
 "metadata": {
  "kernelspec": {
   "display_name": "Python 3 (ipykernel)",
   "language": "python",
   "name": "python3"
  },
  "language_info": {
   "codemirror_mode": {
    "name": "ipython",
    "version": 3
   },
   "file_extension": ".py",
   "mimetype": "text/x-python",
   "name": "python",
   "nbconvert_exporter": "python",
   "pygments_lexer": "ipython3",
   "version": "3.9.7"
  }
 },
 "nbformat": 4,
 "nbformat_minor": 5
}
