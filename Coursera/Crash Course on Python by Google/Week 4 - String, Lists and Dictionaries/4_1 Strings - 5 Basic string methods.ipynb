{
 "cells": [
  {
   "cell_type": "markdown",
   "id": "9930e258-8741-4d6a-adda-046596fbb569",
   "metadata": {},
   "source": [
    "In Python, strings are immutable. This means that they can't be modified. So if we wanted to fix a typo in a string, we can't simply modify the wrong character. We would have to create a new string with the typo corrected. We can also assign a new value to the variable holding our string."
   ]
  },
  {
   "cell_type": "markdown",
   "id": "f84f419b-f352-48ff-a93b-f7fac17560a4",
   "metadata": {},
   "source": [
    "If we aren't sure what the index of our typo is, we can use the string method index to locate it and return the index. Let's imagine we have the string \"lions tigers and bears\" in the variable animals. We can locate the index that\n",
    "contains the letter g using animals.index(\"g\"), which will return the index; in this case 8. We can also use substrings to locate the index where the substring begins. animals.index(\"bears\") would return 17, since that’s the start of the substring. If there’s more than one match for a substring, the index method will return the first match. If we try to locate a substring that doesn't exist in the string, we’ll receive a ValueError explaining that the substring was not found."
   ]
  },
  {
   "cell_type": "markdown",
   "id": "62dda86f-ad2f-4780-af23-f3d76d94d45d",
   "metadata": {},
   "source": [
    "We can avoid a ValueError by first checking if the substring exists in the string. This can be done using the in keyword. We saw this keyword earlier when we covered for loops. In this case, it's a conditional that will be either True or False. If the substring is found in the string, it will be True. If the substring is not found in the string, it will be False. Using our previous variable animals, we can do \"horses\" in animals to check if the substring \"horses\" is found in our variable. In this case, it would evaluate to False, since horses aren’t included in our example string. If we did \"tigers\" in animals, we'd get True, since this substring is contained in our string."
   ]
  }
 ],
 "metadata": {
  "kernelspec": {
   "display_name": "Python 3 (ipykernel)",
   "language": "python",
   "name": "python3"
  },
  "language_info": {
   "codemirror_mode": {
    "name": "ipython",
    "version": 3
   },
   "file_extension": ".py",
   "mimetype": "text/x-python",
   "name": "python",
   "nbconvert_exporter": "python",
   "pygments_lexer": "ipython3",
   "version": "3.9.7"
  }
 },
 "nbformat": 4,
 "nbformat_minor": 5
}
