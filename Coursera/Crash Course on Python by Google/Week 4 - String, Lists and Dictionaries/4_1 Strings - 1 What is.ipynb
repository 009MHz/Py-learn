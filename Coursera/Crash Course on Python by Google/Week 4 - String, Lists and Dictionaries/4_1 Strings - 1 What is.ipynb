{
 "cells": [
  {
   "cell_type": "markdown",
   "id": "e3356d86-6a9e-45ad-9a91-e5bf16f49d02",
   "metadata": {},
   "source": [
    "# String"
   ]
  },
  {
   "cell_type": "markdown",
   "id": "d7236f1d-9bbb-48a9-937f-0eb01d9dcb5b",
   "metadata": {},
   "source": [
    "1. String is data type in python that's used to represent a piece of text\n",
    "2. It's written either in single quotes or double quotes as long as they match\n",
    "3. Unmatched quotes will resulted an error\n",
    "    SyntaxError: unterminated string literal\n",
    "4. Concatenation is a method to combine strings using the '+' sign\n",
    "5. String can be multiplied (less common operation) using '*' sign\n",
    "6. len() can be used to count the number of the characters contained in the string\n",
    "7. The text contents under .txt files is also string"
   ]
  },
  {
   "cell_type": "markdown",
   "id": "0a05eabe-3f6d-4c57-ad2a-9ed49dee8d98",
   "metadata": {},
   "source": [
    "Example 1"
   ]
  },
  {
   "cell_type": "raw",
   "id": "a72d502f-bef4-400c-a72a-2158116cf9a4",
   "metadata": {},
   "source": [
    "Modify the double_word function so that it returns the same word repeated twice, followed by the length of the new doubled word. \n",
    "For example, double_word(\"hello\") should return hellohello10"
   ]
  },
  {
   "cell_type": "code",
   "execution_count": null,
   "id": "b839c1dd-c25e-4f65-ab28-bdead2b403fe",
   "metadata": {},
   "outputs": [],
   "source": [
    "def double_word(word):\n",
    "    new = word*2\n",
    "    return new + str(len(new))\n",
    "\n",
    "\n",
    "print(double_word(\"hello\")) # Should return hellohello10\n",
    "print(double_word(\"abc\"))   # Should return abcabc6\n",
    "print(double_word(\"\"))      # Should return 0"
   ]
  }
 ],
 "metadata": {
  "kernelspec": {
   "display_name": "Python 3 (ipykernel)",
   "language": "python",
   "name": "python3"
  },
  "language_info": {
   "codemirror_mode": {
    "name": "ipython",
    "version": 3
   },
   "file_extension": ".py",
   "mimetype": "text/x-python",
   "name": "python",
   "nbconvert_exporter": "python",
   "pygments_lexer": "ipython3",
   "version": "3.9.7"
  }
 },
 "nbformat": 4,
 "nbformat_minor": 5
}
