{
 "cells": [
  {
   "cell_type": "markdown",
   "id": "43b3f490-c668-4767-8989-e9f80db782d1",
   "metadata": {},
   "source": [
    "## Real World Concept\n",
    "- your manager wants to create a daily report that tracks the use of machines. \n",
    "- Specifically, she wants to know which users are currently connected to which machines\n",
    "- In your company, there's a system that collects every event that happens on the machines on the network. \n",
    "- Among the many events collected it records each time a user logs in or out of a computer. "
   ]
  },
  {
   "cell_type": "markdown",
   "id": "70b357d4-b98d-4b60-9ea5-969444953241",
   "metadata": {},
   "source": [
    "With those information we want to write a script that generates a report of which users are logged in to which machines at that time\n",
    "\n",
    "Before we jump into solving that problem, we need to know what information we'll use as input and what information we'll have as output.\n",
    "\n",
    "We can work this out by looking at the rest of the system where our script will live\n",
    "\n",
    "In our report scenario, the input is a list of events, each event is an instance of the event class. An event class contains the date when the event happened, the name of the machine where it happened, the user involved, and the event type. In this scenario, we care about the login and logout event type"
   ]
  },
  {
   "cell_type": "markdown",
   "id": "3306c076-f851-4f77-a7e0-6fdaab9b1dc4",
   "metadata": {},
   "source": [
    "## Todo 1: getting the class information\n",
    "- Define the attributes as date, user, machine, and type.\n",
    "- Event types are string that hold login and logout"
   ]
  },
  {
   "cell_type": "markdown",
   "id": "f91d70c2-b2f1-4850-8bcd-deb3414ece1f",
   "metadata": {},
   "source": [
    "## Todo 2: flow & mechanism\n",
    "- receive a list of event objects and we'll access the events attributes\n",
    "- use that information to know if a user is currently logged into a machine or not"
   ]
  },
  {
   "cell_type": "markdown",
   "id": "6ac20187-6cdf-43d0-a46f-47678c203322",
   "metadata": {},
   "source": [
    "## Todo 3: generating the output\n",
    "- generate a report that lists all the machine names and for each machine\n",
    "- generate lists of the users that are currently logged in\n",
    "- printing the information into the screen\n",
    "- sorting out the report that will be generated"
   ]
  },
  {
   "cell_type": "markdown",
   "id": "dd7a3be9-edca-44bd-82f6-e303135a2899",
   "metadata": {},
   "source": [
    "## Todo 4: Output details\n",
    "-  print the name of the machine at the beginning of the line and then list the current users on separate lines and indent it to the right\n",
    "or\n",
    "- print the machine name followed by a colon and then the usernames separated by commas all in the same line\n",
    "or\n",
    "- printing the machine name followed by all the current users separated by commas"
   ]
  }
 ],
 "metadata": {
  "kernelspec": {
   "display_name": "Python 3 (ipykernel)",
   "language": "python",
   "name": "python3"
  },
  "language_info": {
   "codemirror_mode": {
    "name": "ipython",
    "version": 3
   },
   "file_extension": ".py",
   "mimetype": "text/x-python",
   "name": "python",
   "nbconvert_exporter": "python",
   "pygments_lexer": "ipython3",
   "version": "3.9.7"
  }
 },
 "nbformat": 4,
 "nbformat_minor": 5
}
