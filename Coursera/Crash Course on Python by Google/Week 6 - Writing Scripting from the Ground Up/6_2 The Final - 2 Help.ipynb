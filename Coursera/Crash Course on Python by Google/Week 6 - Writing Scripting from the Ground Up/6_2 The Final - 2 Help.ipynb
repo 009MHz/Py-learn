{
 "cells": [
  {
   "cell_type": "markdown",
   "id": "13407aa4-f42a-476f-abbf-22fa85226637",
   "metadata": {},
   "source": [
    "# Final Project Help"
   ]
  },
  {
   "cell_type": "markdown",
   "id": "725c76cb-74f4-4f84-ac37-16dc6fcbc2b0",
   "metadata": {},
   "source": [
    "## Project goal \n",
    "Create a dictionary with words and word frequencies that can be passed to the generate_from_frequencies function of the WordCloud class.\n",
    "\n",
    "Once you have the dictionary, use this code to generate the word cloud image:"
   ]
  },
  {
   "cell_type": "code",
   "execution_count": null,
   "id": "9d7ce624-c125-4d22-9d0a-2be5b284e405",
   "metadata": {},
   "outputs": [],
   "source": [
    "cloud = wordcloud.WordCloud()\n",
    "cloud.generate_from_frequencies(frequencies)\n",
    "cloud.to_file(\"myfile.jpg\")"
   ]
  },
  {
   "cell_type": "markdown",
   "id": "459c8348-5a5b-43cb-9051-14bfba67e23a",
   "metadata": {},
   "source": [
    "## Things to remember \n",
    "- Before processing any text, you need to remove all the punctuation marks. To do this, you can go through each line of text, character-by-character, using the <font color = magenta>**isalpha()**</font> method. This will check whether or not the character is a letter.\n",
    "- To split a line of text into words, you can use the <font color = magenta>**split()**</font> method.\n",
    "- Before storing words in the frequency dictionary, check if they’re part of the *\"uninteresting\"* set of words (for example: \"a\", \"the\", \"to\", \"if\"). Make this set a parameter to your function so that you can change it if necessary."
   ]
  },
  {
   "cell_type": "markdown",
   "id": "138ce473-2786-472a-a0cf-7c7e42592d32",
   "metadata": {},
   "source": [
    "## Input file\n",
    "For the input file, you need to provide a file that contains text only. For the text itself, you can copy and paste the contents of a website you like. Or you can use a site like [Project Gutenberg](https://www.gutenberg.org/) to find books that are available online. You could see what word clouds you can get from famous books, like a Shakespeare play or a novel by Jane Austen.\n"
   ]
  }
 ],
 "metadata": {
  "kernelspec": {
   "display_name": "Python 3 (ipykernel)",
   "language": "python",
   "name": "python3"
  },
  "language_info": {
   "codemirror_mode": {
    "name": "ipython",
    "version": 3
   },
   "file_extension": ".py",
   "mimetype": "text/x-python",
   "name": "python",
   "nbconvert_exporter": "python",
   "pygments_lexer": "ipython3",
   "version": "3.9.7"
  }
 },
 "nbformat": 4,
 "nbformat_minor": 5
}
