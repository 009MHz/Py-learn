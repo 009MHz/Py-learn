{
 "cells": [
  {
   "cell_type": "markdown",
   "id": "ba88f172-ff3d-43f2-80e2-6cc37ba29baf",
   "metadata": {},
   "source": [
    "# Planning\n",
    "We know that our input will be a list of events and we'll sort them by time. Each event in that list will include a machine name, a username, and tell us whether the event is a login or a logout\n",
    "\n",
    "We want our script to keep track of users as they log in and out of machines"
   ]
  },
  {
   "cell_type": "markdown",
   "id": "49154d88-aa1d-4858-94b4-9401d41e674f",
   "metadata": {},
   "source": [
    "#### Logic\n",
    "1. When we process an event, we'll see that someone interacted with a machine.\n",
    "    - Event type ***login***: add it to the group of users logged into that machine.\n",
    "    - Event type ***logout***: remove it from the group of users logged into the machine.\n",
    "2. In this scenario, it makes sense to use a <font color = orange>set</font> to store the current users. Adding new users at login time and removing them at logout time before storing it under <font color = lime>dictionary</font>\n",
    "    - We'll use the *name of the machine* as the **key** and the *current users* of that machine as the **value**\n",
    "3. For each event we process, we'll first check in the dictionary to see if the machine is already there or not\n",
    "    - If Exist: we'll update the existing entry with the action corresponding to the event.\n",
    "     - If not exist: create a new entry.\n",
    "4. Print a report of the information we generated\n",
    "    - Define new function to receive the dictionary regenerated and print the report\n",
    "        - Functions to proccessing the data\n",
    "        - Functions to print the report"
   ]
  },
  {
   "cell_type": "code",
   "execution_count": null,
   "id": "c5fc2b34-e534-4e6d-a0ff-01a0d30911b4",
   "metadata": {},
   "outputs": [],
   "source": []
  }
 ],
 "metadata": {
  "kernelspec": {
   "display_name": "Python 3 (ipykernel)",
   "language": "python",
   "name": "python3"
  },
  "language_info": {
   "codemirror_mode": {
    "name": "ipython",
    "version": 3
   },
   "file_extension": ".py",
   "mimetype": "text/x-python",
   "name": "python",
   "nbconvert_exporter": "python",
   "pygments_lexer": "ipython3",
   "version": "3.9.7"
  }
 },
 "nbformat": 4,
 "nbformat_minor": 5
}
