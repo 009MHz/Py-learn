{
 "cells": [
  {
   "cell_type": "markdown",
   "id": "4073e0fc-96fa-414f-b415-48b991c23de8",
   "metadata": {},
   "source": [
    "# DEFINITION\n",
    "- Constructor: a special method that we use to define multiple argument inside the class function\n",
    "- Special Method: a function that starts & ends with double underscore (e.g:\\__init__\\)"
   ]
  },
  {
   "cell_type": "markdown",
   "id": "4fee0f94-07c0-4ade-8469-f24aef2e589c",
   "metadata": {},
   "source": [
    "Example 1"
   ]
  },
  {
   "cell_type": "code",
   "execution_count": null,
   "id": "17187316-f239-4c07-805d-329ae76b25ac",
   "metadata": {},
   "outputs": [],
   "source": [
    "class Apple:\n",
    "    # the constructor is called when we call the Class' name\n",
    "    def __init__(self, color, flavor):\n",
    "        # constructor __init__ allows us passing 2 arguments on the function with above format\n",
    "        # self: allow you to access attributes of the instance using dot notation\n",
    "        # color & flavor: argument yg akan digunakan untuk mendefinisikan fungsinya\n",
    "        self.color = color\n",
    "        self.flavor = flavor\n",
    "\n",
    "\n",
    "# Assigning instance variables on the Constructor\n",
    "malang = Apple(\"red\", \"juicy\")  # instant variables = Class(\"first argument\", \"second argument\")\n",
    "# when using constructor, we can pass directly the instant attributes after the class is called\n",
    "# \"red\" will be assigned to color since the __init__ first argument is color\n",
    "# 'juicy' will be assigned to color since the __init__ second argument is flavor\n",
    "\n",
    "print(malang.color)  # red\n",
    "print(malang.flavor)  # juicy"
   ]
  },
  {
   "cell_type": "markdown",
   "id": "537aeb93-161d-4cec-9a87-091da7c10456",
   "metadata": {},
   "source": [
    "Example 2: What will happen when we don't specify the object of the class"
   ]
  },
  {
   "cell_type": "code",
   "execution_count": null,
   "id": "9e7b6973-7ae1-4eb1-bd70-a8d10fb3ff75",
   "metadata": {},
   "outputs": [],
   "source": [
    "print(malang)  # <__main__.Apple object at 0x1026d3fd0>\n",
    "# python will be using a default method that prints the position stored in the computer's memory\n",
    "# workaround: using STR special methods to return it as proper text\n",
    "class Mango:\n",
    "    def __init__(self, color, flavor):\n",
    "        self.color = color\n",
    "        self.flavor = flavor\n",
    "\n",
    "    def __str__(self):\n",
    "        return f\"This mango has {self.color} & {self.flavor} flavor\"\n",
    "        # must be using self.color meskipun diatas sudah didefinisikan\n",
    "        # karena return ini mengambil variable dari methods lain meskipun dalam kelas yg sama\n",
    "\n",
    "manalagi = Mango(\"orange\", 'sour')\n",
    "print(manalagi)\n",
    "# This mango has orange & sour flavor\n",
    "# tanpa menggunakan __str__ line diatas akan memberikan output: <__main__.Mango object at 0x1012e3c70>\n",
    "print(manalagi.flavor)  # sour\n",
    "print(manalagi.color)  # orange"
   ]
  },
  {
   "cell_type": "markdown",
   "id": "b00a9dc2-0409-4035-921f-9650f3ad4a74",
   "metadata": {},
   "source": [
    "Example 3"
   ]
  },
  {
   "cell_type": "code",
   "execution_count": null,
   "id": "c2dc21e7-91a6-4d03-8fdb-ecc1317ee7d4",
   "metadata": {},
   "outputs": [],
   "source": [
    "class Person:\n",
    "    def __init__(self, name):\n",
    "        self.name = name\n",
    "\n",
    "    def greeting(self):\n",
    "        # Should return \"hi, my name is \" followed by the name of the Person.\n",
    "        return f'hi, my name is {self.name}'\n",
    "\n",
    "\n",
    "# Create a new instance with a name of your choice\n",
    "me = Person('Hazeya')\n",
    "# Call the greeting method\n",
    "print(me.greeting())"
   ]
  }
 ],
 "metadata": {
  "kernelspec": {
   "display_name": "Python 3 (ipykernel)",
   "language": "python",
   "name": "python3"
  },
  "language_info": {
   "codemirror_mode": {
    "name": "ipython",
    "version": 3
   },
   "file_extension": ".py",
   "mimetype": "text/x-python",
   "name": "python",
   "nbconvert_exporter": "python",
   "pygments_lexer": "ipython3",
   "version": "3.9.7"
  }
 },
 "nbformat": 4,
 "nbformat_minor": 5
}
