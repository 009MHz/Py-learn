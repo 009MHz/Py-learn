{
 "cells": [
  {
   "cell_type": "markdown",
   "id": "e75b61be-e410-4bfe-96f1-a9cb577ed716",
   "metadata": {},
   "source": [
    "We can create and define our classes in Python similar to how we define functions. We start with the class keyword,\n",
    "followed by the name of our class and a colon. Python style guidelines recommend class names to start with a capital l\n",
    "etter. After the class definition line is the class body, indented to the right. Inside the class body, we can define\n",
    "attributes for the class."
   ]
  },
  {
   "cell_type": "markdown",
   "id": "ccee0cdf-e7c0-4951-8349-9c585eb91ca7",
   "metadata": {},
   "source": [
    "Let's take our Apple class example:"
   ]
  },
  {
   "cell_type": "code",
   "execution_count": 1,
   "id": "e6d88ec7-b3af-49d3-a711-6fd6dbcd0dc1",
   "metadata": {},
   "outputs": [],
   "source": [
    "class Apple:\n",
    "    color = ''\n",
    "    flavor = ''"
   ]
  },
  {
   "cell_type": "markdown",
   "id": "b7cba55f-9cf7-446f-8261-c1ffcbb89e06",
   "metadata": {},
   "source": [
    "We can create a new instance of our new class by assigning it to a variable. This is done by calling the class name as\n",
    "if it were a function. We can set the attributes of our class instance by accessing them using dot notation.\n",
    "Dot notation can be used to set or retrieve object attributes, as well as call methods associated with the class.\n"
   ]
  },
  {
   "cell_type": "code",
   "execution_count": 3,
   "id": "13e4c824-55ef-4cd2-b467-8c3c3d9c23bc",
   "metadata": {},
   "outputs": [],
   "source": [
    "jonagold = Apple()\n",
    "jonagold.color = \"red\"\n",
    "jonagold.flavor = \"sweet\""
   ]
  },
  {
   "cell_type": "markdown",
   "id": "c3377b73-9fac-4b37-8dc6-d118bb699180",
   "metadata": {},
   "source": [
    "We created an Apple instance called jonagold, and set the color and flavor attributes for this Apple object. We can\n",
    "create another instance of an Apple and set different attributes to differentiate between two different varieties\n",
    "of apples."
   ]
  },
  {
   "cell_type": "code",
   "execution_count": null,
   "id": "e3d8cdb7-014a-47d7-a7d6-875706d6523b",
   "metadata": {},
   "outputs": [],
   "source": [
    "golden = Apple()\n",
    "golden.color = \"Yellow\"\n",
    "golden.flavor = \"Soft\""
   ]
  }
 ],
 "metadata": {
  "kernelspec": {
   "display_name": "Python 3 (ipykernel)",
   "language": "python",
   "name": "python3"
  },
  "language_info": {
   "codemirror_mode": {
    "name": "ipython",
    "version": 3
   },
   "file_extension": ".py",
   "mimetype": "text/x-python",
   "name": "python",
   "nbconvert_exporter": "python",
   "pygments_lexer": "ipython3",
   "version": "3.9.7"
  }
 },
 "nbformat": 4,
 "nbformat_minor": 5
}
