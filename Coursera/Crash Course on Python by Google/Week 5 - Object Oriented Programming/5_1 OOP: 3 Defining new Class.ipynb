{
 "cells": [
  {
   "cell_type": "markdown",
   "id": "074aa107-a98a-49dc-840f-ba7d70eafdf3",
   "metadata": {},
   "source": [
    "# Representing a concept in Python Code"
   ]
  },
  {
   "cell_type": "code",
   "execution_count": 1,
   "id": "2f106d1d-1fd0-4e01-a39c-3a0750f72465",
   "metadata": {},
   "outputs": [],
   "source": [
    "class Apple:\n",
    "    pass"
   ]
  },
  {
   "cell_type": "markdown",
   "id": "f4156fea-1280-4284-8573-125be033050d",
   "metadata": {},
   "source": [
    "- Writing a class will storing a keyword to a computer that we'll add a new class\n",
    "- we follow this with the name and a colon\n",
    "- on python the class name will always using a Titlecase\n",
    "- After the colon, the class body will be indented to the right\n",
    "- the pass function is represent a placeholder that, the class will not do anything"
   ]
  },
  {
   "cell_type": "markdown",
   "id": "be749b0f-9e73-4eee-b298-23b0b7773f9a",
   "metadata": {},
   "source": [
    "Example 1: Adding information to the created Class"
   ]
  },
  {
   "cell_type": "code",
   "execution_count": 3,
   "id": "4e7c4dba-9c9f-4625-9708-201cf7792f65",
   "metadata": {},
   "outputs": [],
   "source": [
    "class Apple:\n",
    "    color = \"\"\n",
    "    flavor = \"\""
   ]
  },
  {
   "cell_type": "markdown",
   "id": "c0fbb081-d0e3-4356-a06d-048146759844",
   "metadata": {},
   "source": [
    "- We give 2 variable under the Apple class\n",
    "- from now on Apple will having 2 attributes, which is 'color' & 'flavor'\n",
    "- later on we'll use the attributes to give this Apple a content"
   ]
  },
  {
   "cell_type": "markdown",
   "id": "9619c8ba-f47b-4be9-b9a5-b68de573432c",
   "metadata": {},
   "source": [
    "Example 2: Adding information to the created Class\n",
    "  "
   ]
  },
  {
   "cell_type": "markdown",
   "id": "8befcd8d-4b37-49b7-ad42-6686536047a8",
   "metadata": {},
   "source": [
    "- Now we're creating new instance of the Apple class\n",
    "- Assigning it into fuji variable that means Apple Fuji"
   ]
  },
  {
   "cell_type": "code",
   "execution_count": 4,
   "id": "d254be34-1ff8-46d7-bb2f-6ae1cb678d5d",
   "metadata": {},
   "outputs": [],
   "source": [
    "fuji = Apple()"
   ]
  },
  {
   "cell_type": "markdown",
   "id": "a2eacb7f-b8c4-4cd1-aa8f-c828c226f7ec",
   "metadata": {},
   "source": [
    "- After assign it, this apple will converted into a object (Apple Fuji) then we'll give the details about what Apple Fuji is, using the dot notation"
   ]
  },
  {
   "cell_type": "code",
   "execution_count": 5,
   "id": "527a5c62-4dd4-4eb9-993a-f68f0fb410af",
   "metadata": {},
   "outputs": [],
   "source": [
    "fuji.color = 'red'\n",
    "fuji.flavor = 'sweet'"
   ]
  },
  {
   "cell_type": "code",
   "execution_count": 6,
   "id": "807a1c07-ff14-433e-82de-bbfc920f99ea",
   "metadata": {},
   "outputs": [
    {
     "name": "stdout",
     "output_type": "stream",
     "text": [
      "<__main__.Apple object at 0x7ff661e796a0>\n",
      "red\n",
      "sweet\n"
     ]
    }
   ],
   "source": [
    "print(fuji)  # <__main__.Apple object at 0x1008a7c10>\n",
    "print(fuji.color)  # red\n",
    "print(fuji.flavor)  # sweet"
   ]
  },
  {
   "cell_type": "markdown",
   "id": "e528e319-4282-44df-928b-facc19bffcb3",
   "metadata": {},
   "source": [
    "# DOT NOTATION\n",
    "- Lets you access any of the abilities / function of the object might have (called methods) or information / value it might store (called attributes)\n",
    "- The attributes and methods of some objects can be other objects and can have attributes and methods of their own"
   ]
  },
  {
   "cell_type": "markdown",
   "id": "156a3f68-d52a-48db-963a-da6b0cac663a",
   "metadata": {},
   "source": [
    "Example 3"
   ]
  },
  {
   "cell_type": "code",
   "execution_count": 8,
   "id": "08307674-f7ac-4ffa-aea7-051210c69d20",
   "metadata": {},
   "outputs": [
    {
     "name": "stdout",
     "output_type": "stream",
     "text": [
      "Roses are red,\n",
      "violets are blue,\n",
      "<__main__.Flower object at 0x7ff65006f370>\n"
     ]
    }
   ],
   "source": [
    "class Flower:\n",
    "    color = 'unknown'\n",
    "\n",
    "\n",
    "rose = Flower()\n",
    "rose.color = 'red'\n",
    "\n",
    "violet = Flower()\n",
    "violet.color = 'blue'\n",
    "\n",
    "this_pun_is_for_you = Flower()\n",
    "\n",
    "print(\"Roses are {},\".format(rose.color))\n",
    "print(\"violets are {},\".format(violet.color))\n",
    "print(this_pun_is_for_you)"
   ]
  }
 ],
 "metadata": {
  "kernelspec": {
   "display_name": "Python 3 (ipykernel)",
   "language": "python",
   "name": "python3"
  },
  "language_info": {
   "codemirror_mode": {
    "name": "ipython",
    "version": 3
   },
   "file_extension": ".py",
   "mimetype": "text/x-python",
   "name": "python",
   "nbconvert_exporter": "python",
   "pygments_lexer": "ipython3",
   "version": "3.9.7"
  }
 },
 "nbformat": 4,
 "nbformat_minor": 5
}
